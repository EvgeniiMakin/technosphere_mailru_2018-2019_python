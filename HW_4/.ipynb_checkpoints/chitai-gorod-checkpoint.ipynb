{
 "cells": [
  {
   "cell_type": "markdown",
   "metadata": {},
   "source": [
    "### Этап 1. Получение ссылок на книги автора\n",
    "\n",
    "Для поиска всех книг автора мы будем пользоваться поисковой строкой сайта. Обратите внимание на формат URL-ов запросов:\n",
    "```\n",
    "https://www.chitai-gorod.ru/search/result.php?q={author}&type=author\n",
    "```\n",
    "где вместо `{author}` подставляется имя автора.\n",
    "\n",
    "Рекомендуемые варианты значения для `{author}`: `Фрай М.`, `Хантер Э.`, `Емец Д.`.\n",
    "\n",
    "**Замечание:** URL [не позволяет](https://ru.wikipedia.org/wiki/URL#%D0%9A%D0%BE%D0%B4%D0%B8%D1%80%D0%BE%D0%B2%D0%B0%D0%BD%D0%B8%D0%B5_URL) использовать кириллические символы, поэтому для кодирования части URL-а, содержащей кириллицу, стоит воспользоваться функцией `urllib.parse.quote` с использованием, в данном случае, кодировки `windows-1251`.\n",
    "\n",
    "Попробуйте пролистать [страничку](https://www.chitai-gorod.ru/search/result.php?q=%D4%F0%E0%E9%20%CC.&type=author) вниз, и вы увидите, что новые книги подгружаются динамически. В некоторый момент появляется кнопка \"Показать ещё\", нажав на которую можно дополнительно подгрузить выдачу.\n",
    "\n",
    "Чтобы получить все ссылки на карточки с книгами, нужно подгрузить полную выдачу по запросу.\n",
    "\n",
    "Существует несколько способов получить ссылку на карточку:\n",
    "1. получить атрибут `data-product` одного из тегов с классом `product-card` и использовать знание о формате URL-ов страничек с книгами;\n",
    "2. непосредственно найти ссылку."
   ]
  },
  {
   "cell_type": "code",
   "execution_count": 1,
   "metadata": {},
   "outputs": [],
   "source": [
    "import re\n",
    "import requests\n",
    "from tqdm import tqdm\n",
    "from multiprocessing.dummy import Pool as ThreadPool\n",
    "import urllib\n",
    "import pandas as pd\n",
    "from bs4 import BeautifulSoup"
   ]
  },
  {
   "cell_type": "markdown",
   "metadata": {},
   "source": [
    "## Don't work"
   ]
  },
  {
   "cell_type": "code",
   "execution_count": 2,
   "metadata": {},
   "outputs": [
    {
     "name": "stdout",
     "output_type": "stream",
     "text": [
      "CPU times: user 126 ms, sys: 19.9 ms, total: 146 ms\n",
      "Wall time: 717 ms\n"
     ]
    }
   ],
   "source": [
    "%%time\n",
    "headers = {'User-Agent': 'Mozilla/5.0 (X11; Linux x86_64) ' +\n",
    "                         'AppleWebKit/537.36 (KHTML, like Gecko) ' +\n",
    "                         'Chrome/42.0.2311.90 Safari/537.36'}\n",
    "\n",
    "names_authors = [\"Фрай М.\", \"Хантер Э.\", \"Емец Д.\"]\n",
    "names_url = ['https://www.chitai-gorod.ru/search/result.php?q={}&type=author'.format(urllib.parse.quote(name, encoding=\"CP1251\")) for name in names_authors]\n",
    "t = ThreadPool(16)\n",
    "r = t.map(lambda name_url: requests.get(name_url, headers=headers), names_url)\n",
    "t.close()\n",
    "t.join()"
   ]
  },
  {
   "cell_type": "code",
   "execution_count": 3,
   "metadata": {},
   "outputs": [],
   "source": [
    "one = r[0].content\n",
    "soup = BeautifulSoup(one, \"html.parser\")\n",
    "# print(soup.prettify()"
   ]
  },
  {
   "cell_type": "markdown",
   "metadata": {},
   "source": [
    "## Selenium\n",
    "http://selenium-python.readthedocs.io/\n",
    "\n",
    "https://kreisfahrer.gitbooks.io/selenium-webdriver/"
   ]
  },
  {
   "cell_type": "code",
   "execution_count": 4,
   "metadata": {},
   "outputs": [],
   "source": [
    "from selenium import webdriver\n",
    "import html\n",
    "from time import sleep"
   ]
  },
  {
   "cell_type": "code",
   "execution_count": 5,
   "metadata": {},
   "outputs": [],
   "source": [
    "with webdriver.Firefox() as driver:\n",
    "    driver.get(\"https://mail.ru/\")\n",
    "    sleep(3)"
   ]
  },
  {
   "cell_type": "code",
   "execution_count": 6,
   "metadata": {},
   "outputs": [
    {
     "data": {
      "text/plain": [
       "'https://www.chitai-gorod.ru/search/result.php?q=%D4%F0%E0%E9%20%CC.&type=author'"
      ]
     },
     "execution_count": 6,
     "metadata": {},
     "output_type": "execute_result"
    }
   ],
   "source": [
    "url_current = names_url[0]\n",
    "url_current"
   ]
  },
  {
   "cell_type": "code",
   "execution_count": 20,
   "metadata": {},
   "outputs": [],
   "source": [
    "import random\n",
    "\n",
    "def random_sleep(offset=1.5, length=4):\n",
    "    sleep(random.random() * length + offset)\n",
    "    \n",
    "def hasclass(driver, path):\n",
    "    try:\n",
    "        driver.find_element_by_class_name(path)\n",
    "        return True\n",
    "    except:\n",
    "        return False\n",
    "    \n",
    "def get_books_info(driver, urls, t_sleep=1):\n",
    "    result = []\n",
    "    for url in urls:\n",
    "        driver.get(url)\n",
    "        random_sleep()\n",
    "        # driver.execute_script(\"window.scrollTo(0, document.body.scrollHeight);\")\n",
    "        SCROLL_PAUSE_TIME = 3\n",
    "\n",
    "        # Get scroll height\n",
    "        last_height = driver.execute_script(\"return document.body.scrollHeight\")\n",
    "\n",
    "        while True:\n",
    "            # Scroll down to bottom\n",
    "            driver.execute_script(\"window.scrollTo(0, document.body.scrollHeight);\")\n",
    "\n",
    "            # Wait to load page\n",
    "            sleep(SCROLL_PAUSE_TIME)\n",
    "\n",
    "            # Calculate new scroll height and compare with last scroll height\n",
    "            new_height = driver.execute_script(\"return document.body.scrollHeight\")\n",
    "            if new_height == last_height:\n",
    "                # [ Show more ]\n",
    "                try: \n",
    "                    more = driver.find_element_by_class_name('js__show-more-cards')\n",
    "                    print(\"Press 'Show_more' = \", haspath(driver,'js__show-more-cards'))\n",
    "                    more.click()\n",
    "                except:\n",
    "                    break\n",
    "                random_sleep(1, 1)\n",
    "            last_height = new_height\n",
    "\n",
    "        items = driver.find_elements_by_class_name(\"product-card\")\n",
    "        for item in items:\n",
    "            book_url_info = {\n",
    "                'id': item.get_attribute(\"data-product\")}\n",
    "        \n",
    "            if book_url_info['id'] is None:\n",
    "                continue\n",
    "            book_url_info['id'] = html.unescape(book_url_info['id'])\n",
    "            result.append(book_url_info)\n",
    "        \n",
    "    return result\n",
    "\n",
    "\n",
    "with webdriver.Firefox() as driver:\n",
    "    result = get_books_info(driver, names_url)"
   ]
  },
  {
   "cell_type": "code",
   "execution_count": 22,
   "metadata": {},
   "outputs": [
    {
     "data": {
      "text/html": [
       "<div>\n",
       "<style scoped>\n",
       "    .dataframe tbody tr th:only-of-type {\n",
       "        vertical-align: middle;\n",
       "    }\n",
       "\n",
       "    .dataframe tbody tr th {\n",
       "        vertical-align: top;\n",
       "    }\n",
       "\n",
       "    .dataframe thead th {\n",
       "        text-align: right;\n",
       "    }\n",
       "</style>\n",
       "<table border=\"1\" class=\"dataframe\">\n",
       "  <thead>\n",
       "    <tr style=\"text-align: right;\">\n",
       "      <th></th>\n",
       "      <th>id</th>\n",
       "    </tr>\n",
       "  </thead>\n",
       "  <tbody>\n",
       "    <tr>\n",
       "      <th>0</th>\n",
       "      <td>1085970</td>\n",
       "    </tr>\n",
       "    <tr>\n",
       "      <th>1</th>\n",
       "      <td>1068930</td>\n",
       "    </tr>\n",
       "    <tr>\n",
       "      <th>2</th>\n",
       "      <td>1059170</td>\n",
       "    </tr>\n",
       "    <tr>\n",
       "      <th>3</th>\n",
       "      <td>1051063</td>\n",
       "    </tr>\n",
       "    <tr>\n",
       "      <th>4</th>\n",
       "      <td>1021715</td>\n",
       "    </tr>\n",
       "  </tbody>\n",
       "</table>\n",
       "</div>"
      ],
      "text/plain": [
       "        id\n",
       "0  1085970\n",
       "1  1068930\n",
       "2  1059170\n",
       "3  1051063\n",
       "4  1021715"
      ]
     },
     "execution_count": 22,
     "metadata": {},
     "output_type": "execute_result"
    }
   ],
   "source": [
    "result = pd.DataFrame(result)\n",
    "result.head()"
   ]
  },
  {
   "cell_type": "markdown",
   "metadata": {},
   "source": [
    "### Этап 2. Получение информации о книгах\n",
    "\n",
    "Рассмотрим в качестве примера [карточку](https://www.chitai-gorod.ru/catalog/book/1059170/) книги Макса Фрая \"Мертвый ноль\".\n",
    "<img width = '1080px' src=\"images/1059170.png\">\n",
    "\n",
    "\n",
    "На скриншоте выделены 4 области, из каждой области требуется извлечь следующие элементы:\n",
    "1. поле \"ID карточки\";\n",
    "2. поля \"Название\", \"Автор\", \"Рейтинг\", \"Голоса\";\n",
    "3. поле \"Цена\";\n",
    "4. вся таблица.\n",
    "\n",
    "Дополнительно требуется создать поле \"Обложка\", которое будет хранить ссылку на обложку книги (расположена слева на скриншоте).\n",
    "\n",
    "Таким образом карточка представима в виде следующего словаря:\n",
    "```json\n",
    "{\n",
    "    \"ID карточки\": 1059170,\n",
    "    \"Название\": \"Мертвый ноль\",\n",
    "    \"Автор\": \"Фрай М.\",\n",
    "    \"Рейтинг\": 4.0,\n",
    "    \"Голоса\": 16,\n",
    "    \"Цена\": 375,\n",
    "    \"Серия\": \"Сновидения Ехо\",\n",
    "    \"Издательство\": \"АСТ\",\n",
    "    \"Год издания\": 2018,\n",
    "    \"Кол-во страниц\": 448,\n",
    "    \"ISBN\": \"9785171089733\",\n",
    "    \"Тираж\": 30000,\n",
    "    \"Формат\": \"20.5 x 13 x 2.5\",\n",
    "    \"Тип обложки\": \"Твердая бумажная\",\n",
    "    \"Возраст\": \"16+\",\n",
    "    \"ID товара\": 2659485,\n",
    "    \"Обложка\": \"https://img-gorod.ru/upload/iblock/aec/aec2cfaece8a6190f319f1853cad7cf5.jpg\"\n",
    "}\n",
    "```\n",
    "\n",
    "Предположим, что у нас есть функция `extract_book_info(card_id)`, которая для карточки с номером `card_id` возвращает описанный выше словарь. Тогда требуемую таблицу можно получить следующим образом:\n",
    "```python\n",
    "import pandas as pd\n",
    "\n",
    "result = list(map(extract_book_info, card_ids))\n",
    "\n",
    "df = pd.DataFrame(result)\n",
    "df.sort_values(by='ID карточки', inplace=True)\n",
    "\n",
    "with open('data/hw_4.csv', mode='w', encoding='utf-8') as f_csv:\n",
    "    df.to_csv(f_csv, index=False)\n",
    "```\n",
    "\n",
    "Пример результата работы программы можно найти [здесь](hw_4_sample.csv)."
   ]
  },
  {
   "cell_type": "markdown",
   "metadata": {},
   "source": [
    "## Beautiful Soup\n",
    "https://www.crummy.com/software/BeautifulSoup/bs4/doc/"
   ]
  },
  {
   "cell_type": "markdown",
   "metadata": {},
   "source": [
    "<img width = '330px' src=\"images/bsoup.jpg\">"
   ]
  },
  {
   "cell_type": "code",
   "execution_count": 23,
   "metadata": {},
   "outputs": [],
   "source": [
    "from bs4 import BeautifulSoup"
   ]
  },
  {
   "cell_type": "code",
   "execution_count": 24,
   "metadata": {},
   "outputs": [],
   "source": [
    "list_of_url = [\"https://www.chitai-gorod.ru/catalog/book/{}/?watch_fromlist=search_result\".\n",
    "               format(id) for id in list(result.id.values)]"
   ]
  },
  {
   "cell_type": "code",
   "execution_count": 25,
   "metadata": {},
   "outputs": [
    {
     "name": "stdout",
     "output_type": "stream",
     "text": [
      "CPU times: user 33.5 ms, sys: 10.3 ms, total: 43.8 ms\n",
      "Wall time: 887 ms\n"
     ]
    }
   ],
   "source": [
    "%%time\n",
    "url = \"https://www.chitai-gorod.ru/catalog/book/{}/?watch_fromlist=search_result\".format(result.id[0])\n",
    "headers = {'User-Agent': 'Mozilla/5.0 (X11; Linux x86_64) ' +\n",
    "                         'AppleWebKit/537.36 (KHTML, like Gecko) ' +\n",
    "                         'Chrome/42.0.2311.90 Safari/537.36'}\n",
    "\n",
    "r = requests.get(url, headers=headers)"
   ]
  },
  {
   "cell_type": "code",
   "execution_count": 26,
   "metadata": {},
   "outputs": [],
   "source": [
    "book_html = r.text\n",
    "soup = BeautifulSoup(book_html, 'html.parser')"
   ]
  },
  {
   "cell_type": "code",
   "execution_count": 27,
   "metadata": {},
   "outputs": [],
   "source": [
    "def re_sub(string):\n",
    "    return re.sub(\"\\s+\", ' ', string.strip())\n",
    "def re_sub_one(string):\n",
    "    return re.sub(\"\\s\", ' ', string.strip()).split()[0]\n",
    "def re_sub_two(string):\n",
    "    string = re.sub(\"\\s\", ' ', string.strip()).split()[1]\n",
    "    return re.sub(\"\\D\", '', string.strip())\n",
    "def re_sub_n(string):\n",
    "     return re.sub(\"\\D\", '', string.strip())\n"
   ]
  },
  {
   "cell_type": "code",
   "execution_count": 28,
   "metadata": {},
   "outputs": [],
   "source": [
    "film_info = {\n",
    "    \"ID карточки\": '',\n",
    "    \"Название\": '',\n",
    "    \"Автор\": '',\n",
    "    \"Рейтинг\": '',\n",
    "    \"Голоса\": '',\n",
    "    \"Цена\": '',\n",
    "    \"Серия\": '',\n",
    "    \"Издательство\": '',\n",
    "    \"Год издания\": '',\n",
    "    \"Кол-во страниц\": '',\n",
    "    \"ISBN\": '',\n",
    "    \"Тираж\": '',\n",
    "    \"Формат\": '',\n",
    "    \"Тип обложки\": '',\n",
    "    \"Возраст\": '',\n",
    "    \"ID товара\": '',\n",
    "    \"Обложка\": '',\n",
    "    \"Переводчик\": '',\n",
    "    \"Редактор\": '',\n",
    "    \"Художник\": ''\n",
    "}"
   ]
  },
  {
   "cell_type": "code",
   "execution_count": 29,
   "metadata": {},
   "outputs": [
    {
     "data": {
      "text/plain": [
       "{'ID карточки': '1085970',\n",
       " 'Название': 'Тяжелый свет Куртейна. Синий',\n",
       " 'Автор': 'Фрай М.',\n",
       " 'Рейтинг': '5',\n",
       " 'Голоса': '1',\n",
       " 'Цена': '374',\n",
       " 'Серия': '',\n",
       " 'Издательство': '',\n",
       " 'Год издания': '',\n",
       " 'Кол-во страниц': '',\n",
       " 'ISBN': '',\n",
       " 'Тираж': '',\n",
       " 'Формат': '',\n",
       " 'Тип обложки': '',\n",
       " 'Возраст': '',\n",
       " 'ID товара': '',\n",
       " 'Обложка': 'https://img-gorod.ru/upload/iblock/8fc/8fcf29a06449b8bca50f8ca6ee3932cf.jpg',\n",
       " 'Переводчик': '',\n",
       " 'Редактор': '',\n",
       " 'Художник': ''}"
      ]
     },
     "execution_count": 29,
     "metadata": {},
     "output_type": "execute_result"
    }
   ],
   "source": [
    "film_info['ID карточки'] = result.id[0]\n",
    "film_info['Название'] = re_sub(soup.find('h1', class_=\"product__title js-analytic-product-title\").text)\n",
    "film_info['Автор'] = re_sub(soup.find('a', class_= \"link product__author\").text)\n",
    "film_info['Рейтинг'] = re_sub_one(soup.find('div',class_=\"rating\").text)\n",
    "film_info['Голоса'] = re_sub_two(soup.find('div',class_=\"rating\").text)\n",
    "film_info['Цена'] = re_sub_n(soup.find('div', class_='price').text)\n",
    "film_info['Обложка'] = soup.find('div', class_='product__image').find(\"img\").attrs['src']\n",
    "\n",
    "film_info"
   ]
  },
  {
   "cell_type": "code",
   "execution_count": 30,
   "metadata": {},
   "outputs": [],
   "source": [
    "table = soup.find('div', class_='product__props')\n",
    "rows = table.find_all('div', class_=\"product-prop\")"
   ]
  },
  {
   "cell_type": "code",
   "execution_count": 31,
   "metadata": {},
   "outputs": [
    {
     "name": "stdout",
     "output_type": "stream",
     "text": [
      "[['Серия', 'Другая сторона'], ['Издательство', 'АСТ'], ['Год издания', '2018'], ['Кол-во страниц', '352'], ['ISBN', '9785171121945'], ['ID товара:', '2689500']]\n"
     ]
    },
    {
     "data": {
      "text/plain": [
       "{'ID карточки': '1085970',\n",
       " 'Название': 'Тяжелый свет Куртейна. Синий',\n",
       " 'Автор': 'Фрай М.',\n",
       " 'Рейтинг': '5',\n",
       " 'Голоса': '1',\n",
       " 'Цена': '374',\n",
       " 'Серия': 'Другая сторона',\n",
       " 'Издательство': 'АСТ',\n",
       " 'Год издания': '2018',\n",
       " 'Кол-во страниц': '352',\n",
       " 'ISBN': '9785171121945',\n",
       " 'Тираж': '',\n",
       " 'Формат': '',\n",
       " 'Тип обложки': '',\n",
       " 'Возраст': '',\n",
       " 'ID товара': '2689500',\n",
       " 'Обложка': 'https://img-gorod.ru/upload/iblock/8fc/8fcf29a06449b8bca50f8ca6ee3932cf.jpg',\n",
       " 'Переводчик': '',\n",
       " 'Редактор': '',\n",
       " 'Художник': ''}"
      ]
     },
     "execution_count": 31,
     "metadata": {},
     "output_type": "execute_result"
    }
   ],
   "source": [
    "data = [list(map(lambda x: re.sub(\"\\s+\", ' ', x.text.strip()), row.find_all('div'))) for row in rows]\n",
    "print(data)\n",
    "for property_book in data:\n",
    "    if property_book[0] == \"ID товара:\":\n",
    "        film_info[\"ID товара\"] = property_book[1]\n",
    "    else:\n",
    "        film_info[property_book[0]] = property_book[1]\n",
    "film_info"
   ]
  },
  {
   "cell_type": "code",
   "execution_count": 35,
   "metadata": {},
   "outputs": [
    {
     "name": "stdout",
     "output_type": "stream",
     "text": [
      "CPU times: user 11.8 s, sys: 750 ms, total: 12.6 s\n",
      "Wall time: 28.8 s\n"
     ]
    }
   ],
   "source": [
    "%%time\n",
    "headers = {'User-Agent': 'Mozilla/5.0 (X11; Linux x86_64) ' +\n",
    "                         'AppleWebKit/537.36 (KHTML, like Gecko) ' +\n",
    "                         'Chrome/42.0.2311.90 Safari/537.36'}\n",
    "t = ThreadPool(16)\n",
    "r = t.map(lambda id: (id, requests.get(\"https://www.chitai-gorod.ru/catalog/book/{}/?watch_fromlist=search_result\".format(id), headers=headers)), list(result.id.values))\n",
    "t.close()\n",
    "t.join()"
   ]
  },
  {
   "cell_type": "code",
   "execution_count": 39,
   "metadata": {},
   "outputs": [],
   "source": [
    "# create def extract_book_info\n",
    "def extract_book_info(book):\n",
    "    book_html = book[1].text\n",
    "    soup = BeautifulSoup(book_html, 'html.parser')\n",
    "    film_info = {\n",
    "    \"ID карточки\": '',\n",
    "    \"Название\": '',\n",
    "    \"Автор\": '',\n",
    "    \"Рейтинг\": '',\n",
    "    \"Голоса\": '',\n",
    "    \"Цена\": '',\n",
    "    \"Серия\": '',\n",
    "    \"Издательство\": '',\n",
    "    \"Год издания\": '',\n",
    "    \"Кол-во страниц\": '',\n",
    "    \"ISBN\": '',\n",
    "    \"Тираж\": '',\n",
    "    \"Формат\": '',\n",
    "    \"Тип обложки\": '',\n",
    "    \"Возраст\": '',\n",
    "    \"ID товара\": '',\n",
    "    \"Обложка\": '',\n",
    "    \"Переводчик\": '',\n",
    "    \"Редактор\": '',\n",
    "    \"Художник\": ''\n",
    "    }\n",
    "    film_info['ID карточки'] = book[0]\n",
    "    film_info['Название'] = re_sub(soup.find('h1', class_=\"product__title js-analytic-product-title\").text)\n",
    "    film_info['Автор'] = re_sub(soup.find('a', class_= \"link product__author\").text)\n",
    "    film_info['Рейтинг'] = re_sub_one(soup.find('div',class_=\"rating\").text)\n",
    "    film_info['Голоса'] = re_sub_two(soup.find('div',class_=\"rating\").text)\n",
    "    try:\n",
    "        film_info['Цена'] = re_sub_n(soup.find('div', class_='price').text)\n",
    "    except:\n",
    "        film_info['Цена'] = ''\n",
    "    table = soup.find('div', class_='product__props')\n",
    "    rows = table.find_all('div', class_=\"product-prop\")\n",
    "    data = [list(map(lambda x: re.sub(\"\\s+\", ' ', x.text.strip()), row.find_all('div'))) for row in rows]\n",
    "    for property_book in data:\n",
    "        if property_book[0] == \"ID товара:\":\n",
    "            film_info[\"ID товара\"] = property_book[1]\n",
    "        else:\n",
    "            film_info[property_book[0]] = property_book[1]\n",
    "    film_info['Обложка'] = soup.find('div', class_='product__image').find(\"img\").attrs['src']\n",
    "    return film_info"
   ]
  },
  {
   "cell_type": "code",
   "execution_count": 40,
   "metadata": {},
   "outputs": [],
   "source": [
    "card = r\n",
    "result = list(map(extract_book_info, card))\n",
    "df = pd.DataFrame(result)\n",
    "df.sort_values(by='ID карточки', inplace=True)"
   ]
  },
  {
   "cell_type": "code",
   "execution_count": 41,
   "metadata": {},
   "outputs": [],
   "source": [
    "with open('hw_4.csv', mode='w', encoding='utf-8') as f_csv:\n",
    "    df.to_csv(f_csv, index=False)"
   ]
  },
  {
   "cell_type": "code",
   "execution_count": 45,
   "metadata": {},
   "outputs": [
    {
     "data": {
      "text/html": [
       "<div>\n",
       "<style scoped>\n",
       "    .dataframe tbody tr th:only-of-type {\n",
       "        vertical-align: middle;\n",
       "    }\n",
       "\n",
       "    .dataframe tbody tr th {\n",
       "        vertical-align: top;\n",
       "    }\n",
       "\n",
       "    .dataframe thead th {\n",
       "        text-align: right;\n",
       "    }\n",
       "</style>\n",
       "<table border=\"1\" class=\"dataframe\">\n",
       "  <thead>\n",
       "    <tr style=\"text-align: right;\">\n",
       "      <th></th>\n",
       "      <th>ID карточки</th>\n",
       "      <th>ID товара</th>\n",
       "      <th>ISBN</th>\n",
       "      <th>Автор</th>\n",
       "      <th>Возраст</th>\n",
       "      <th>Год издания</th>\n",
       "      <th>Голоса</th>\n",
       "      <th>Издательство</th>\n",
       "      <th>Кол-во страниц</th>\n",
       "      <th>Название</th>\n",
       "      <th>Обложка</th>\n",
       "      <th>Переводчик</th>\n",
       "      <th>Редактор</th>\n",
       "      <th>Рейтинг</th>\n",
       "      <th>Серия</th>\n",
       "      <th>Тип обложки</th>\n",
       "      <th>Тираж</th>\n",
       "      <th>Формат</th>\n",
       "      <th>Художник</th>\n",
       "      <th>Цена</th>\n",
       "    </tr>\n",
       "  </thead>\n",
       "  <tbody>\n",
       "    <tr>\n",
       "      <th>258</th>\n",
       "      <td>1002042</td>\n",
       "      <td>2607833</td>\n",
       "      <td>9785699973705</td>\n",
       "      <td>Емец Д.</td>\n",
       "      <td>12+</td>\n",
       "      <td>2017</td>\n",
       "      <td>0</td>\n",
       "      <td>Эксмо</td>\n",
       "      <td>416</td>\n",
       "      <td>Лед и пламя Тартара</td>\n",
       "      <td>https://img-gorod.ru/upload/iblock/2da/2dacc68...</td>\n",
       "      <td></td>\n",
       "      <td>Суворова Т.</td>\n",
       "      <td>0</td>\n",
       "      <td>Мефодий Буслаев. Легендарное детское фэнтези</td>\n",
       "      <td>Твердая бумажная</td>\n",
       "      <td>4000</td>\n",
       "      <td>21.8 x 14.5 x 2.5</td>\n",
       "      <td></td>\n",
       "      <td>342</td>\n",
       "    </tr>\n",
       "    <tr>\n",
       "      <th>10</th>\n",
       "      <td>1004167</td>\n",
       "      <td>2608544</td>\n",
       "      <td>9785171053802</td>\n",
       "      <td>Фрай М.</td>\n",
       "      <td>18+</td>\n",
       "      <td>2017</td>\n",
       "      <td>4</td>\n",
       "      <td>АСТ</td>\n",
       "      <td>288</td>\n",
       "      <td>Новая чайная книга</td>\n",
       "      <td>https://img-gorod.ru/upload/iblock/f22/f22f1a0...</td>\n",
       "      <td></td>\n",
       "      <td></td>\n",
       "      <td>5</td>\n",
       "      <td>Миры Макса Фрая</td>\n",
       "      <td>Твердая бумажная</td>\n",
       "      <td>7000</td>\n",
       "      <td>20.6 x 13.2 x 2.3</td>\n",
       "      <td></td>\n",
       "      <td>332</td>\n",
       "    </tr>\n",
       "    <tr>\n",
       "      <th>172</th>\n",
       "      <td>1004240</td>\n",
       "      <td>2608971</td>\n",
       "      <td>9785001111900</td>\n",
       "      <td>Хантер Э.</td>\n",
       "      <td>6+</td>\n",
       "      <td>2017</td>\n",
       "      <td>1</td>\n",
       "      <td>Абрис</td>\n",
       "      <td>350</td>\n",
       "      <td>Расколотый прайд</td>\n",
       "      <td>https://img-gorod.ru/upload/iblock/b32/b32d2f0...</td>\n",
       "      <td>Голосовская А.Ю.</td>\n",
       "      <td></td>\n",
       "      <td>5</td>\n",
       "      <td>Земля Отважных</td>\n",
       "      <td>Твердая бумажная</td>\n",
       "      <td>7000</td>\n",
       "      <td>20.6 x 13 x 1.7</td>\n",
       "      <td>Насыров Л.Х.</td>\n",
       "      <td>285</td>\n",
       "    </tr>\n",
       "    <tr>\n",
       "      <th>257</th>\n",
       "      <td>1006687</td>\n",
       "      <td>2611099</td>\n",
       "      <td>9785699973712</td>\n",
       "      <td>Емец Д.</td>\n",
       "      <td>12+</td>\n",
       "      <td>2017</td>\n",
       "      <td>0</td>\n",
       "      <td>Эксмо</td>\n",
       "      <td>416</td>\n",
       "      <td>Первый эйдос</td>\n",
       "      <td>https://img-gorod.ru/upload/iblock/dc4/dc4ba54...</td>\n",
       "      <td></td>\n",
       "      <td></td>\n",
       "      <td>0</td>\n",
       "      <td>Мефодий Буслаев. Легендарное детское фэнтези</td>\n",
       "      <td>Твердая бумажная</td>\n",
       "      <td>4000</td>\n",
       "      <td>21.2 x 13.5 x 2.3</td>\n",
       "      <td></td>\n",
       "      <td>342</td>\n",
       "    </tr>\n",
       "    <tr>\n",
       "      <th>9</th>\n",
       "      <td>1007486</td>\n",
       "      <td>2611890</td>\n",
       "      <td>9785179827924</td>\n",
       "      <td>Фрай М.</td>\n",
       "      <td>16+</td>\n",
       "      <td>2017</td>\n",
       "      <td>14</td>\n",
       "      <td>АСТ</td>\n",
       "      <td>416</td>\n",
       "      <td>Отдай мое сердце</td>\n",
       "      <td>https://img-gorod.ru/upload/iblock/8a9/8a929aa...</td>\n",
       "      <td></td>\n",
       "      <td>Кравченко Е.</td>\n",
       "      <td>4</td>\n",
       "      <td>Сновидения Ехо</td>\n",
       "      <td>Твердая бумажная</td>\n",
       "      <td>27000</td>\n",
       "      <td>20.7 x 13.3 x 2</td>\n",
       "      <td></td>\n",
       "      <td>423</td>\n",
       "    </tr>\n",
       "  </tbody>\n",
       "</table>\n",
       "</div>"
      ],
      "text/plain": [
       "    ID карточки ID товара           ISBN      Автор Возраст Год издания  \\\n",
       "258     1002042   2607833  9785699973705    Емец Д.     12+        2017   \n",
       "10      1004167   2608544  9785171053802    Фрай М.     18+        2017   \n",
       "172     1004240   2608971  9785001111900  Хантер Э.      6+        2017   \n",
       "257     1006687   2611099  9785699973712    Емец Д.     12+        2017   \n",
       "9       1007486   2611890  9785179827924    Фрай М.     16+        2017   \n",
       "\n",
       "    Голоса Издательство Кол-во страниц             Название  \\\n",
       "258      0        Эксмо            416  Лед и пламя Тартара   \n",
       "10       4          АСТ            288   Новая чайная книга   \n",
       "172      1        Абрис            350     Расколотый прайд   \n",
       "257      0        Эксмо            416         Первый эйдос   \n",
       "9       14          АСТ            416     Отдай мое сердце   \n",
       "\n",
       "                                               Обложка        Переводчик  \\\n",
       "258  https://img-gorod.ru/upload/iblock/2da/2dacc68...                     \n",
       "10   https://img-gorod.ru/upload/iblock/f22/f22f1a0...                     \n",
       "172  https://img-gorod.ru/upload/iblock/b32/b32d2f0...  Голосовская А.Ю.   \n",
       "257  https://img-gorod.ru/upload/iblock/dc4/dc4ba54...                     \n",
       "9    https://img-gorod.ru/upload/iblock/8a9/8a929aa...                     \n",
       "\n",
       "         Редактор Рейтинг                                         Серия  \\\n",
       "258   Суворова Т.       0  Мефодий Буслаев. Легендарное детское фэнтези   \n",
       "10                      5                               Миры Макса Фрая   \n",
       "172                     5                                Земля Отважных   \n",
       "257                     0  Мефодий Буслаев. Легендарное детское фэнтези   \n",
       "9    Кравченко Е.       4                                Сновидения Ехо   \n",
       "\n",
       "          Тип обложки  Тираж             Формат      Художник Цена  \n",
       "258  Твердая бумажная   4000  21.8 x 14.5 x 2.5                342  \n",
       "10   Твердая бумажная   7000  20.6 x 13.2 x 2.3                332  \n",
       "172  Твердая бумажная   7000    20.6 x 13 x 1.7  Насыров Л.Х.  285  \n",
       "257  Твердая бумажная   4000  21.2 x 13.5 x 2.3                342  \n",
       "9    Твердая бумажная  27000    20.7 x 13.3 x 2                423  "
      ]
     },
     "execution_count": 45,
     "metadata": {},
     "output_type": "execute_result"
    }
   ],
   "source": [
    "df.head()"
   ]
  },
  {
   "cell_type": "code",
   "execution_count": null,
   "metadata": {},
   "outputs": [],
   "source": [
    "for i in range(df.shape[0]):\n",
    "    img = df['Обложка'][i]\n",
    "    p = requests.get(img)\n",
    "    path = \"book_img/{}_{}.jpg\".format(i, df['Название'][i])\n",
    "    out = open(path, \"wb\")\n",
    "    out.write(p.content)\n",
    "    out.close()"
   ]
  }
 ],
 "metadata": {
  "kernelspec": {
   "display_name": "Python 3",
   "language": "python",
   "name": "python3"
  },
  "language_info": {
   "codemirror_mode": {
    "name": "ipython",
    "version": 3
   },
   "file_extension": ".py",
   "mimetype": "text/x-python",
   "name": "python",
   "nbconvert_exporter": "python",
   "pygments_lexer": "ipython3",
   "version": "3.6.6"
  }
 },
 "nbformat": 4,
 "nbformat_minor": 2
}

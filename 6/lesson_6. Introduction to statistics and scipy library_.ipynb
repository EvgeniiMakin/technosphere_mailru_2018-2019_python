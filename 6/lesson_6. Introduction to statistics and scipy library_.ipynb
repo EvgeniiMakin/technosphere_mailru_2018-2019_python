{
 "cells": [
  {
   "cell_type": "markdown",
   "metadata": {},
   "source": [
    "# Введение в статистику и библиотека Scipy"
   ]
  },
  {
   "cell_type": "markdown",
   "metadata": {},
   "source": [
    "Схема доставки заказа клиенту DC."
   ]
  },
  {
   "cell_type": "markdown",
   "metadata": {},
   "source": [
    "<img width = '750px' src=\"images/lesson_6/zone.png\">"
   ]
  },
  {
   "cell_type": "code",
   "execution_count": 2,
   "metadata": {},
   "outputs": [],
   "source": [
    "import pandas as pd\n",
    "import matplotlib.pyplot as plt\n",
    "%matplotlib inline\n",
    "import seaborn as sns\n",
    "import numpy as np\n",
    "import itertools\n",
    "\n",
    "import random\n",
    "\n",
    "from IPython.display import *\n",
    "\n",
    "from scipy import stats"
   ]
  },
  {
   "cell_type": "markdown",
   "metadata": {},
   "source": [
    "### Выборка и генеральная совокупность"
   ]
  },
  {
   "cell_type": "markdown",
   "metadata": {},
   "source": [
    "**Генеральная совокупность** – это совокупность всех мысленно возможных объектов данного вида, над которыми проводятся наблюдения с целью получения конкретных значений определенной случайной величины."
   ]
  },
  {
   "cell_type": "markdown",
   "metadata": {},
   "source": [
    "**Выборкой** (выборочной совокупностью) называется совокупность случайно отобранных объектов из генеральной совокупности."
   ]
  },
  {
   "cell_type": "markdown",
   "metadata": {},
   "source": [
    "### 1. Описательная статистика"
   ]
  },
  {
   "cell_type": "markdown",
   "metadata": {},
   "source": [
    "Допустим, у нас есть не случайная выборка данных, а вся **генеральная совокупность** заказов в зоне под номером 13 за всю историю работы платформы DC. Попробуем ее теоретически построить."
   ]
  },
  {
   "cell_type": "code",
   "execution_count": 5,
   "metadata": {},
   "outputs": [
    {
     "data": {
      "image/png": "[encoded data removed]",
      "text/plain": [
       "<Figure size 1008x504 with 1 Axes>"
      ]
     },
     "metadata": {
      "needs_background": "light"
     },
     "output_type": "display_data"
    }
   ],
   "source": [
    "norm_rv1 = stats.norm(loc=35, scale = 10)\n",
    "\n",
    "#генерирует случайные значения из распредления norm_rv1\n",
    "gen_pop = norm_rv1.rvs(size=10000)\n",
    "\n",
    "fig = plt.figure(figsize=(14, 7))\n",
    "ax1 = plt.subplot(111)\n",
    "plt.hist(gen_pop, 50, alpha=0.8)\n",
    "plt.show()"
   ]
  },
  {
   "cell_type": "markdown",
   "metadata": {},
   "source": [
    "Основные меры концентрации:\n",
    "- медиана;\n",
    "- мода;\n",
    "- среднее арифметическое;\n",
    "- перцентили."
   ]
  },
  {
   "cell_type": "code",
   "execution_count": 4,
   "metadata": {},
   "outputs": [
    {
     "data": {
      "image/png": "[encoded data removed]",
      "text/plain": [
       "<Figure size 1728x432 with 2 Axes>"
      ]
     },
     "metadata": {
      "needs_background": "light"
     },
     "output_type": "display_data"
    }
   ],
   "source": [
    "fig = plt.figure(figsize=(24, 6))\n",
    "\n",
    "ax1 = plt.subplot(121)\n",
    "plt.hist(gen_pop, 50, alpha=0.8)\n",
    "line1 = plt.axvline(np.mean(gen_pop), label=('Ср. арифм. = '+str(round(np.mean(gen_pop), 2))), color='c', linestyle='dashed', linewidth=2.5)\n",
    "ax1.legend(handles=[line1])\n",
    "\n",
    "ax2 = plt.subplot(122)\n",
    "plt.hist(gen_pop, 50, alpha=0.8)\n",
    "line2 = plt.axvline(np.median(gen_pop), label=('Медиана = '+str(round(np.median(gen_pop), 2))), color='c', linestyle='dashed', linewidth=2.5)\n",
    "ax2.legend(handles=[line2])\n",
    "\n",
    "plt.show()"
   ]
  },
  {
   "cell_type": "markdown",
   "metadata": {},
   "source": [
    "Основные меры распределения:\n",
    "- среднеквадратическое отклонение;\n",
    "- дисперсия."
   ]
  },
  {
   "cell_type": "markdown",
   "metadata": {},
   "source": [
    "Для генеральной совокупности данных:\n",
    "\n",
    "среднее  - $ \\mu =  \\frac{1} {N} \\sum_{i=1}^N (x_i) $\n",
    "\n",
    "дисперсия - $ \\sigma^2 = { \\frac{1} {N} \\sum_{i=1}^N (x_i - \\mu)^2}$\n",
    "\n",
    "среднеквадратическое отклонение - $ \\sigma = \\sqrt{ \\frac{1} {N} \\sum_{i=1}^N (x_i - \\mu)^2}$"
   ]
  },
  {
   "cell_type": "code",
   "execution_count": 5,
   "metadata": {},
   "outputs": [],
   "source": [
    "mean_ = np.mean(gen_pop)\n",
    "var_ = np.var(gen_pop)\n",
    "std_ = np.std(gen_pop)\n",
    "percentile_10 = np.percentile(gen_pop,10)"
   ]
  },
  {
   "cell_type": "markdown",
   "metadata": {},
   "source": [
    "Распределение генеральной совокупности имеет вид колокола, называется **нормальным** или **гауссовским** и описывается формулой:\n",
    "\n",
    "$ pdf(x,\\mu,\\sigma) = \\frac{1}{ \\sigma\\sqrt{2 \\pi}} e^{\\left(-\\frac{{\\left(\\mu - x\\right)}^{2}}{2 \\, \\sigma^{2}}\\right)}$"
   ]
  },
  {
   "cell_type": "markdown",
   "metadata": {},
   "source": [
    "<img width = '500px' src=\"images/lesson_6/d0ff538d59154901b18a98469de07fde.png\">"
   ]
  },
  {
   "cell_type": "markdown",
   "metadata": {},
   "source": [
    "### Выборочные оценки"
   ]
  },
  {
   "cell_type": "markdown",
   "metadata": {},
   "source": [
    "Зачастую у нас нет возможности работы с генеральной совокупностью, мы имеем дело только с выборкой, то есть мы не можем точно знать значения дисперсии и стандартного отклонения, поэтому данные показатели мы можем лишь оценить."
   ]
  },
  {
   "cell_type": "markdown",
   "metadata": {},
   "source": [
    "Среднее генеральной совокупности через **выборочное среднее**:\n",
    "\n",
    "$ \\overline{X} =  \\frac{1} {n} \\sum_{i=1}^n (x_i) $, здесь n - объем выборки.\n",
    "\n",
    "Стандартное отклонение через **выборочное стандартное отклонение**:\n",
    "\n",
    "$ S = \\sqrt{ \\frac{1} {n-1} \\sum_{i=1}^n (x_i - \\overline{X})^2}$.\n",
    "\n",
    "Разброс значений в пределах выборки никогда не бывает столь большим, как во всей совокупности, и деление не на n, а на n – 1 компенсирует возникающее занижение оценки стандартного отклонения.\n"
   ]
  },
  {
   "cell_type": "code",
   "execution_count": 12,
   "metadata": {},
   "outputs": [],
   "source": [
    "#выборка\n",
    "zone_orders_sample = random.sample(list(gen_pop), 1000) "
   ]
  },
  {
   "cell_type": "code",
   "execution_count": 13,
   "metadata": {},
   "outputs": [],
   "source": [
    "sample_std = np.std(zone_orders_sample, ddof = 1)\n",
    "# ddof задает делитель как (N - ddof)"
   ]
  },
  {
   "cell_type": "markdown",
   "metadata": {},
   "source": [
    "Разные выборки из генеральной совокупности могут отличаться от самой генеральной совокупности, то есть при оценке генеральной совокупности через выборку мы можем ошибаться. Такая ошибка называется **стандартная ошибка**. Рассчитывается для любого показателя, чаще всего используется **стандартная ошибка среднего** (т.е. оценивает точность, с которой выборочное среднее оценивает среднее генеральной совокупности)."
   ]
  },
  {
   "cell_type": "markdown",
   "metadata": {},
   "source": [
    "истинная стандартная ошибка - $ {\\sigma }_{\\bar {x}}\\ ={\\frac {\\sigma }{\\sqrt {N}}} $\n",
    "\n",
    "оценка стандратной ошибки по выборке - $ {S }_{\\bar {x}}\\ ={\\frac {S }{\\sqrt {n}}} $"
   ]
  },
  {
   "cell_type": "markdown",
   "metadata": {},
   "source": [
    "Чем больше выборка, тем точнее оценка среднего и тем меньше\n",
    "его стандартная ошибка. Чем больше изменчивость исходной\n",
    "совокупности, тем больше изменчивость выборочных средних,\n",
    "поэтому стандартная ошибка среднего возрастает с увеличением\n",
    "стандартного отклонения совокупности."
   ]
  },
  {
   "cell_type": "markdown",
   "metadata": {},
   "source": [
    "**В отличие от стандартного\n",
    "отклонения стандартная ошибка среднего ничего не\n",
    "говорит о разбросе данных, — она лишь показывает точность\n",
    "выборочной оценки среднего.**"
   ]
  },
  {
   "cell_type": "markdown",
   "metadata": {},
   "source": [
    "### 2. Проверка гипотез"
   ]
  },
  {
   "cell_type": "markdown",
   "metadata": {},
   "source": [
    "Пайплайн оценки статистической значимости:\n",
    "- Формулирование нулевой гипотезы (H0);\n",
    "- Оценка вероятности получить наблюдаемые (или более сильные) различия при условии справедливости нулевой гипотезы;\n",
    "- Принятие либо отвержение нулевой гипотезы."
   ]
  },
  {
   "cell_type": "markdown",
   "metadata": {},
   "source": [
    "### 2.1 Однофакторный дисперсионный анализ"
   ]
  },
  {
   "cell_type": "markdown",
   "metadata": {},
   "source": [
    "**Задача**. Курьерам выдали электроскутеры, велосипеды, электровелосипеды и самокаты. \n",
    "Понять, отличается ли как-то скорость доставки заказов клиентам в этих группах/все ли выборки взяты из одного (схожего) распредления /какова вероятность получить такие различия в группах, которые будут найдены извлекая случайные выборки из генеральной совокупности?"
   ]
  },
  {
   "cell_type": "markdown",
   "metadata": {},
   "source": [
    "В теории, если курьерам выдали электроскутеры, то среднее в распредлении будет смещено влево - то есть среднее время доставки заказов в теории должно уменьшиться.\n",
    "Представим другую ситуацию - курьерам сложно овладевать новой техникой, они тратят много времени на то, чтобы пристегнуть/запустить ее, то есть среднее время доставки не поменялось, данные по среднему времени доставки заказов пришли из **одного распределения**. "
   ]
  },
  {
   "cell_type": "markdown",
   "metadata": {},
   "source": [
    "Представим, Извлечем из нашей совокупности 4 случайные подгруппы по 10 заказов в каждой."
   ]
  },
  {
   "cell_type": "code",
   "execution_count": 19,
   "metadata": {},
   "outputs": [
    {
     "data": {
      "text/plain": [
       "[array([38.82953218, 41.79532957, 60.4926435 , 26.2602927 , 54.25717333,\n",
       "        31.52534401, 43.03224513, 41.69291863, 36.68622714, 36.09158098]),\n",
       " array([31.09349064, 41.21160931, 43.12768489, 41.0797972 , 32.00674267,\n",
       "        40.85414363, 36.57601987, 22.38654108, 39.41388921, 52.54005598]),\n",
       " array([44.17711833, 14.95121406, 23.84807622, 52.85472403, 19.35635189,\n",
       "        38.98914547, 44.59100549, 17.2130824 , 37.53593445, 41.92121485]),\n",
       " array([33.1631451 , 43.49948183, 31.51929426, 33.91216325, 20.28331237,\n",
       "        32.10517991, 17.62283827, 30.76800326, 24.26824409, 25.53388247]),\n",
       " array([35.78931928, 42.56470054,  8.28114745, 28.90262249, 39.78987473,\n",
       "        38.21792712, 31.12052152, 34.16232726, 34.91722802, 31.96305385]),\n",
       " array([16.49761697, 28.31222574,  6.47178311, 48.8699922 , 23.25258461,\n",
       "        28.32577919, 29.14993222, 42.1260632 , 50.72459976, 41.26753891]),\n",
       " array([32.60965053, 14.95121406, 33.23566398, 33.34625297, 16.46087726,\n",
       "        37.78110577, 41.48337965, 28.04491529, 30.72630726, 30.82924657]),\n",
       " array([39.56706075, 27.16609991, 43.909492  , 45.60259266, 33.07474984,\n",
       "        44.55071006, 38.58438495, 30.77425381, 47.94724675, 36.25274934]),\n",
       " array([80.38521794, 25.89166256, 44.53982535, 28.57467093, 26.32239877,\n",
       "        36.36990244, 24.0513027 , 27.81154045, 28.34076821, 27.1838231 ]),\n",
       " array([32.63749557, 24.17186493, 35.03910236, 35.58957631, 26.45256472,\n",
       "        35.67444849, 42.82242719, 26.91770155, 42.48927727, 24.89606566]),\n",
       " array([22.98923713, 46.64876558, 34.58699682, 33.21568658, 33.07245681,\n",
       "        41.63242511, 48.55063501, 30.73245903, 37.18012709, 52.44123218]),\n",
       " array([40.82563732, 38.21945342, 23.46619646, 33.71952011, 41.47375859,\n",
       "        27.49644018, 47.86279469, 38.97246503, 43.89357574, 21.07697408]),\n",
       " array([22.46530874, 10.8693732 , 34.1268348 , 41.06052645, 37.00324027,\n",
       "        45.7998555 , 25.86436223, 44.59572178, 26.02089897, 17.79120573]),\n",
       " array([37.83594088, 45.00671167, 27.38974387, 34.16921497, 40.84587584,\n",
       "        15.37651041, 37.74602181, 22.18699156, 29.55244773, 35.27041923]),\n",
       " array([29.27716834, 31.28176693, 42.50063791, 29.42582014, 49.598351  ,\n",
       "        40.48762901, 26.73434193, 37.55444713, 24.95898552, 40.26108266]),\n",
       " array([25.08885355, 34.36782562, 33.30130704, 13.15137448, 43.43515744,\n",
       "        52.55085201, 31.61739588, 41.90106908, 40.21254748, 42.30901084]),\n",
       " array([11.48743566, 43.32370245, 24.20702755, 23.02932365, 36.18488202,\n",
       "        20.24613421, 32.42188454, 33.08368626, 28.23895972, 23.17865955]),\n",
       " array([27.79009382, 38.34864572, 57.00515932, 41.14845071, 59.2545793 ,\n",
       "        41.10680382, 49.22867083, 31.56009609, 37.00324027, 26.79712266]),\n",
       " array([34.2232563 , 37.11909976, 40.87577763, 48.24480432, 19.1025601 ,\n",
       "        45.92859068, 28.86180711, 21.52716753, 40.93994272, 31.72008731]),\n",
       " array([25.77933216, 29.02454932, 16.51209783, 42.94558061, 42.98433795,\n",
       "        25.29829369, 11.97382868, 33.22532115, 41.62829009, 24.26824409]),\n",
       " array([44.40585916, 32.83025649, 32.40227824, 43.45490993, 34.01321049,\n",
       "        23.37221855, 36.35211216, 21.13020884, 32.13856065, 39.38279289]),\n",
       " array([40.06147759, 34.64464481, 45.2565967 , 44.31286569,  1.56945617,\n",
       "        39.79780423, 31.86970677, 49.80448949, 32.75728345, 48.83766848]),\n",
       " array([35.95523346, 21.48849544, 49.11298955, 37.40325689, 24.50616639,\n",
       "        49.42457783, 40.48423721, 35.85879648, 29.51892257, 34.953707  ]),\n",
       " array([21.4593589 , 33.92959964, 28.00136202, 40.67150978, 30.29884811,\n",
       "        35.87273888, 44.11767422, 35.94615577, 33.70141108, 32.62736565]),\n",
       " array([51.72340519, 34.63866257, 30.99058295, 48.04761559, 31.94661361,\n",
       "        50.79523844, 29.26469542, 14.79943608, 50.21378613, 53.4819007 ]),\n",
       " array([27.49644018, 36.81713665, 36.60131973, 30.60400785, 48.94265463,\n",
       "        31.78572754, 41.62829009, 24.48887741, 31.21624053, 41.04404168]),\n",
       " array([35.04174926, 30.49006011, 51.80466555, 45.68030147, 25.42312772,\n",
       "        36.4192978 , 37.48595522, 36.24998831, 38.03031412, 36.72321472]),\n",
       " array([49.9101256 , 31.53772303, 36.09348863, 29.35279745, 46.30579389,\n",
       "        35.24551931, 50.21850635, 36.16681295, 28.23390552, 36.89977631]),\n",
       " array([19.23255307, 25.80662885, 22.41505565, 42.56772346, 26.38559115,\n",
       "        19.70872232, 32.74116805, 28.54879366, 37.55122492, 14.43239775]),\n",
       " array([44.54145096, 27.07793262, 38.05570384, 40.46740978, 28.23848257,\n",
       "        39.60337671, 48.08608063, 25.43542722, 38.9786678 , 29.40601207]),\n",
       " array([31.58992327, 31.81865099, 13.15137448, 35.37491406, 31.55388377,\n",
       "        20.98503367, 32.38398021, 41.60189595, 41.95906523, 33.41055556]),\n",
       " array([32.38631213, 46.33085085, 32.15081272, 38.49564835, 26.91624991,\n",
       "        25.46576733, 30.76919384, 26.29339237, 30.21037672, 29.2365763 ]),\n",
       " array([34.31571778, 34.42150214, 46.45422569, 28.13578116, 37.42244345,\n",
       "        22.68403896, 15.76976666, 57.49605544, 43.65510561, 17.80980142]),\n",
       " array([34.45624049, 25.0956036 , 35.37164775, 30.77425381, 28.33308991,\n",
       "        28.70886204, 23.58033807, 41.09235141, 31.50771681, 27.43400856]),\n",
       " array([17.26176062, 46.04932084, 49.23312649, 26.09848648, 32.80671936,\n",
       "        32.98147446, 42.94493878, 28.07366167, 28.71159679, 40.49984918]),\n",
       " array([45.54015032, 45.21907257, 45.42925029, 14.15460788, 19.89171471,\n",
       "        42.46127292, 32.4736823 , 33.18514612, 51.60250158, 41.45436986]),\n",
       " array([35.16314881, 55.67269154, 31.33563323, 30.53728599, 41.55039352,\n",
       "        42.9708244 , 28.56587831, 36.03422139, 49.9101256 , 42.99901077]),\n",
       " array([49.54317647, 39.58706386, 31.18592251, 43.97699541, 23.74271453,\n",
       "        28.4746734 , 30.96859514, 45.16150797, 36.10439654, 14.83399156]),\n",
       " array([44.3626171 , 31.68528411, 36.57540142, 43.97400691, 27.1838231 ,\n",
       "        20.84492276, 37.16785022, 31.12052152, 41.72488951, 38.07552791]),\n",
       " array([37.08335855, 45.13303964, 15.4071586 , 32.7538055 , 42.99901077,\n",
       "        37.85874693, 37.66633152, 41.34766587, 28.2061943 , 26.67615237]),\n",
       " array([43.87256728, 36.50137836, 36.20294816, 39.48112729, 38.21843918,\n",
       "        42.94695549, 24.65366862, 49.44208699, 35.55532313, 40.00932531]),\n",
       " array([17.6993253 , 32.30705025, 36.89977631, 30.04340007, 47.29403593,\n",
       "        33.31589519, 29.49737854, 29.08717047, 23.93792302, 34.8120643 ]),\n",
       " array([32.36329299, 16.49761697, 21.16618713, 40.93994272, 52.94836708,\n",
       "        31.44200492, 26.14211969, 27.00369392, 35.33725056, 36.22535801]),\n",
       " array([46.23328955, 29.0733827 , 34.31571778, 44.04803029, 24.31123493,\n",
       "        25.24017662, 43.90902365, 25.75122575, 40.46641681, 37.03429722]),\n",
       " array([21.24268075, 29.85203939, 28.72079409, 40.02678289, 12.26879409,\n",
       "        57.77997656, 36.3280682 , 35.51966784, 26.39619253, 37.39625984]),\n",
       " array([40.26108266, 55.4192611 , 31.22892994, 23.61562863, 24.46372582,\n",
       "        49.78432567, 22.54709642, 46.26225887, 34.68175042, 35.13619666]),\n",
       " array([42.70214543, 29.21063569, 37.14639268, 31.85754789, 36.00587803,\n",
       "        37.00267896, 49.06439306, 31.41548382, 53.5743427 , 39.21615656]),\n",
       " array([17.03030932, 34.19095593, 19.56428343, 35.03067627, 35.32146544,\n",
       "        28.82902446, 44.50096597, 23.25064665, 22.57091391, 45.42098897]),\n",
       " array([47.07307082, 22.13487721, 53.95179564, 29.53341476, 34.17872345,\n",
       "        39.02523997, 32.74136246, 29.65282508, 40.11681097, 33.45182286]),\n",
       " array([26.77925601, 40.98936703, 20.56418847, 27.33344903, 19.74014288,\n",
       "        38.40546681, 32.42153423, 41.36553912, 35.4281278 , 31.34523109]),\n",
       " array([31.86481059, 22.22315807, 46.97801204, 23.02932365, 24.37782291,\n",
       "        30.61756838, 40.34549916, 30.48746204, 19.55095841, 31.26215625]),\n",
       " array([33.64998371, 25.27361505, 44.07273129, 27.64962361, 29.02454932,\n",
       "        35.82717883, 32.51229767, 37.86174827, 24.74231097, 34.46590969]),\n",
       " array([30.93057154, 24.29732652, 54.25438869, 37.66319793, 23.32946837,\n",
       "        39.34981237, 27.69106704, 36.78298093, 28.52147212, 27.25819047]),\n",
       " array([34.628318  , 26.34623095, 26.68355005, 25.16572579, 48.76203334,\n",
       "        33.19990889, 37.59717281, 30.23589393, 26.70316482, 34.12428777]),\n",
       " array([34.2442845 , 26.69201203, 39.15729522, 34.42555212, 17.51137816,\n",
       "        35.8654982 , 28.77078044, 35.23692827, 39.9218672 , 26.73625138]),\n",
       " array([35.93059466, 33.80282597, 31.74262394, 27.1838231 , 27.86117294,\n",
       "        37.94212921, 40.01232533, 43.80174077, 33.90498431, 16.76749699]),\n",
       " array([29.24267323, 43.24825181, 20.45005897, 20.50703584, 26.30459547,\n",
       "        28.46225587, 30.9647399 , 27.43301422, 41.71648167, 25.77216269]),\n",
       " array([37.42670711, 36.88646052, 30.20849514, 16.12172154, 38.11571605,\n",
       "        36.25309156, 20.63601686, 28.02396943, 25.85313203, 30.76895204]),\n",
       " array([12.26879409, 14.83399156, 23.17811248, 24.6417028 ,  8.055921  ,\n",
       "        40.62766521, 44.50096597, 24.73322833, 36.01919879, 32.59570366]),\n",
       " array([41.39531142, 47.26008762, 21.18440413, 42.87375989, 38.2583461 ,\n",
       "        34.80370098, 25.51035385, 51.20477799, 36.0330206 , 45.90084885]),\n",
       " array([35.79454649, 16.51209783, 38.84898279, 40.2220049 , 46.71490071,\n",
       "        39.68138306, 36.19270364, 34.65570661, 30.9275481 , 46.83423725]),\n",
       " array([12.29720969, 22.75329844, 35.69415664, 36.67675428, 22.98923713,\n",
       "        45.23087987, 39.3261304 , 37.5430361 , 33.4284916 , 34.39372162]),\n",
       " array([24.61528487, 35.47026168, 53.12774663, 31.14556855, 44.95484996,\n",
       "        39.87363514, 48.58301676, 26.81459514, 50.29974734, 47.61131919]),\n",
       " array([45.26495568, 25.12350665, 36.79963022, 17.95507278, 37.1754493 ,\n",
       "        27.97609122, 30.57520656, 22.65212531, 38.49077693, 48.31349854]),\n",
       " array([39.46911422, 28.05738692, 37.43661533, 21.05684044, 16.58161907,\n",
       "        33.48885912, 24.94908035, 16.81876177, 22.55909955, 31.33833935]),\n",
       " array([53.90402997, 38.8264321 , 29.39738874, 30.48197699, 37.29063745,\n",
       "        33.98644868, 16.67706228, 31.50058582, 26.55255974, 38.83840732]),\n",
       " array([25.63364175, 40.66161624, 33.39288498, 24.98528503, 26.04236136,\n",
       "        48.77332589, 32.09003895, 51.1129738 , 34.07319592, 41.9821767 ]),\n",
       " array([39.65064449, 47.56874259, 52.6568099 , 39.8609849 , 36.58366552,\n",
       "        56.12177074, 40.77417471, 43.67550959, 50.50251807, 33.13110946]),\n",
       " array([16.66652095, 31.56202334, 27.62309036, 68.56950614, 35.20264198,\n",
       "        36.20091096, 47.11836982, 42.04925535, 46.37722697, 43.26712555]),\n",
       " array([57.41348095, 41.03616043, 34.04317848, 23.84807622, 20.56055459,\n",
       "        31.95420812, 41.59758749, 28.52147212, 24.90186725, 54.56358158]),\n",
       " array([31.15340892, 34.13911165, 51.45323808, 21.04940861, 21.81528957,\n",
       "        38.23050325, 41.54106378, 23.7031836 , 30.94874544, 32.83179409]),\n",
       " array([35.32507646, 51.1129738 , 33.95540602, 28.65079159, 32.92251803,\n",
       "        35.81483176, 54.6055033 , 26.0773647 , 23.72609625, 31.54347012]),\n",
       " array([35.80260052, 30.20388111, 33.10868766, 30.95101903, 34.47422983,\n",
       "        40.11916424, 12.56446912, 36.16619291, 36.51216234, 17.7227538 ]),\n",
       " array([25.64033317, 49.87200834, 39.83786815, 28.50998159, 23.24686376,\n",
       "        53.39530457, 24.76919888, 40.43938222, 28.52593916, 40.78407055]),\n",
       " array([46.30785337, 39.45833154, 33.36828594, 35.47051218, 34.71079698,\n",
       "        36.26541339, 34.37041618, 50.27363633, 35.68255717, 34.96229273]),\n",
       " array([38.07904405, 30.69654212, 21.84821465, 43.68870127, 21.28014526,\n",
       "        33.95450244, 32.17024572, 36.90005109, 39.14188745, 45.00671167]),\n",
       " array([23.6344835 , 32.0561036 , 33.13794034, 43.52222885, 55.98785977,\n",
       "        34.80775862, 33.29248052, 35.47129526, 29.26469542, 24.08337542]),\n",
       " array([26.64754103, 37.85946999, 43.39237075, 22.05634035, 27.25819047,\n",
       "        34.95949148, 28.53716355, 28.57480178, 30.30228445, 34.80370098]),\n",
       " array([46.99077319, 42.87254935, 21.95011008, 14.21271717, 24.26399698,\n",
       "        46.72360401, 32.36245927, 28.3259184 , 30.24131544, 42.2357299 ]),\n",
       " array([28.92943302, 18.79019663, 33.56729093, 26.52336325, 45.60259266,\n",
       "        28.55855813, 55.69216459, 40.49984918, 43.62806557, 38.21843918]),\n",
       " array([32.80475301, 26.42492857, 27.29503432, 33.84938102, 36.79882868,\n",
       "        49.20547424, 39.28570245, 29.27797204, 37.83396917, 37.94681321]),\n",
       " array([23.37221855, 49.22867083, 26.70923646, 35.32160852, 32.19400945,\n",
       "        33.50008552, 42.07853992, 29.20982978, 31.94545068, 22.48904045]),\n",
       " array([43.24878489, 32.37154572, 44.17711833, 14.91353178, 29.34864733,\n",
       "        21.61586519, 33.08830162, 26.23509727, 38.64949605, 39.68354735]),\n",
       " array([17.40583509, 31.94878684, 31.43433999, 29.16271243, 22.10635146,\n",
       "        29.99533671, 25.05515367, 26.39906433, 36.48487676, 28.17729005]),\n",
       " array([29.03273333, 23.29656872, 32.7538055 , 44.73194365, 54.8814793 ,\n",
       "        47.26502112, 37.00588728, 39.46579376, 45.36783459, 41.2017483 ]),\n",
       " array([28.80497726, 28.38382005, 32.65575415, 58.21083634, 33.73386875,\n",
       "        29.43044661, 25.01264737, 30.40563454, 31.48976963, 29.6373685 ]),\n",
       " array([46.92582122, 41.773639  , 24.77569704, 32.463286  , 42.79353246,\n",
       "        36.72060042, 33.44919328, 49.12738381, 29.51890481, 37.2943711 ]),\n",
       " array([36.7066266 , 21.28014526, 26.66960456, 46.5400893 , 33.4926246 ,\n",
       "        46.63382867, 28.72845275, 68.56950614, 27.14609025, 40.78704193]),\n",
       " array([40.20764124, 27.51448595, 17.14147307, 15.56495853, 37.66412746,\n",
       "        39.07376704, 55.25358846, 43.65456635, 30.95101903, 25.96260025]),\n",
       " array([37.36093505, 37.01040705, 24.2157883 , 36.36110802,  9.21198273,\n",
       "        31.55832435, 25.43289112, 39.55718175, 32.66836981, 19.1025601 ]),\n",
       " array([35.65464045, 40.96167875,  8.99232137, 36.43541113, 40.43327824,\n",
       "        48.8968968 , 51.62836176, 40.21620893, 42.77026425, 49.18804193]),\n",
       " array([34.10252879, 46.57617913, 52.22009788, 27.10550491, 26.14211969,\n",
       "        40.27439886, 42.34670741, 37.49809882, 39.93049446, 38.16709158]),\n",
       " array([40.7779819 , 15.43639489, 40.24461549, 33.21020137, 43.12133182,\n",
       "        46.62285864, 23.46805833, 39.6442994 , 25.59798749, 35.56343575]),\n",
       " array([33.03050482, 21.41795617, 37.37270863, 52.62818785, 41.55039352,\n",
       "        21.84543648, 27.27421901, 26.58327317, 41.80238266, 36.51454644]),\n",
       " array([23.31803954, 23.14580389, 46.1640926 , 23.72590626, 32.64042338,\n",
       "        28.05588303, 48.55063501, 42.58071624, 24.17974961, 19.03895237]),\n",
       " array([39.52720964, 49.91775365, 44.64590839, 31.55506894, 44.84239466,\n",
       "        29.53479687, 28.71159679, 36.88812482, 36.30077235, 33.5548161 ]),\n",
       " array([49.09793406, 41.95200909, 43.83023425, 36.76994717, 32.16009057,\n",
       "        43.45967054, 37.77160519, 23.29772531, 46.97438815, 42.7009168 ]),\n",
       " array([30.8393388 , 49.04659494, 40.39738101, 29.6900486 , 22.43779307,\n",
       "        34.90071843, 36.2963474 , 32.57700762, 49.87675474, 36.70887136]),\n",
       " array([20.40630414, 34.36021014, 32.13676186, 23.82467301, 22.91984664,\n",
       "        22.91133333, 52.24593037, 48.20170612, 46.73957946, 33.71952011]),\n",
       " array([32.47466284, 43.77658514, 29.90692748, 48.9325845 , 50.29062887,\n",
       "        25.03288649, 28.6691687 , 43.24043868, 32.46511973, 23.46805833])]"
      ]
     },
     "execution_count": 19,
     "metadata": {},
     "output_type": "execute_result"
    }
   ],
   "source": [
    "sample_groups = []\n",
    "[sample_groups.append(np.random.choice(gen_pop, size = 10)) for x in range(100)]\n",
    "sample_groups"
   ]
  },
  {
   "cell_type": "code",
   "execution_count": 20,
   "metadata": {},
   "outputs": [
    {
     "data": {
      "image/png": "[encoded data removed]",
      "text/plain": [
       "<Figure size 432x288 with 1 Axes>"
      ]
     },
     "metadata": {
      "needs_background": "light"
     },
     "output_type": "display_data"
    }
   ],
   "source": [
    "#Средние каждой выборки, их стандартное отклонение, а также стандартное отклонение средних и среднее средних\n",
    "x = np.mean(sample_groups,axis = 1)\n",
    "y = np.arange(len(sample_groups))\n",
    "e = np.std(sample_groups,axis = 1)\n",
    "\n",
    "plt.errorbar(x, y, xerr = e, linestyle='None', marker='o')\n",
    "\n",
    "plt.errorbar( np.mean(x), len(y) ,xerr =  np.std(x), linestyle='None', marker='o')\n",
    "\n",
    "plt.show()"
   ]
  },
  {
   "cell_type": "code",
   "execution_count": 21,
   "metadata": {},
   "outputs": [
    {
     "data": {
      "image/png": "[encoded data removed]",
      "text/plain": [
       "<Figure size 432x288 with 1 Axes>"
      ]
     },
     "metadata": {
      "needs_background": "light"
     },
     "output_type": "display_data"
    }
   ],
   "source": [
    "plt.hist(np.mean(sample_groups, axis =1 ), 50, alpha=0.8)\n",
    "plt.show()"
   ]
  },
  {
   "cell_type": "markdown",
   "metadata": {},
   "source": [
    "Также, дисперсия правильно характеризует разброс только в том случае, если совокупность имеет нормальное распределение. Анализ применим **только** для нормально распределенных совокупностей."
   ]
  },
  {
   "cell_type": "markdown",
   "metadata": {},
   "source": [
    "Проверим следующие гипотезы:\n",
    "\n",
    "H0 - выборки взяты из одной совокупности \n",
    "\n",
    "H1 - выборки взяты из разных совокупностей"
   ]
  },
  {
   "cell_type": "markdown",
   "metadata": {},
   "source": [
    "Просто дисперсонный анализ проверяет что чем больше разброс средних и чем меньше разброс значений внутри групп, тем меньше вероятность\n",
    "того, что наши группы — это случайные выборки из одной совокупности."
   ]
  },
  {
   "cell_type": "markdown",
   "metadata": {},
   "source": [
    "**F** = $ \\frac{\\text{Дисперсия совокупности,оцененная по выборочным средним}} {\\text{Дисперсия совокупности, оцененная по выборочным дисперсиям}} =  \\frac{Sмеж.^2} {Sвнутр.^2} = SST = \\frac{\\frac{SSB} {m-1}} {\\frac{SSW} {N - m}} $"
   ]
  },
  {
   "cell_type": "markdown",
   "metadata": {},
   "source": [
    "$ SST - \\text{общая изменчивость}, $ \n",
    "$ SSB - \\text{межгрупповая изменчивость}, $ \n",
    "$ SSW - \\text{внутригрупповая изменчивость}$ "
   ]
  },
  {
   "cell_type": "markdown",
   "metadata": {},
   "source": [
    "***"
   ]
  },
  {
   "cell_type": "code",
   "execution_count": 21,
   "metadata": {},
   "outputs": [],
   "source": [
    "F, p = stats.f_oneway(sample_groups[0],sample_groups[1],sample_groups[2],sample_groups[3])"
   ]
  },
  {
   "cell_type": "code",
   "execution_count": 22,
   "metadata": {},
   "outputs": [
    {
     "data": {
      "text/plain": [
       "0.023512557120968128"
      ]
     },
     "execution_count": 22,
     "metadata": {},
     "output_type": "execute_result"
    }
   ],
   "source": [
    "F"
   ]
  },
  {
   "cell_type": "markdown",
   "metadata": {},
   "source": [
    "p - вероятность ошибочно отвергнуть верную нулевую гипотезу, то есть найти различия там, где их нет."
   ]
  },
  {
   "cell_type": "code",
   "execution_count": 23,
   "metadata": {},
   "outputs": [
    {
     "data": {
      "text/plain": [
       "0.9950294236847245"
      ]
     },
     "execution_count": 23,
     "metadata": {},
     "output_type": "execute_result"
    }
   ],
   "source": [
    "p"
   ]
  },
  {
   "cell_type": "markdown",
   "metadata": {},
   "source": [
    "Мы не можем отвергнуть гипотезу H0, p >0.05."
   ]
  },
  {
   "cell_type": "markdown",
   "metadata": {},
   "source": [
    "Сверимся с таблицей - http://gym42.ru/stat/Book/Data/page_7.htm."
   ]
  },
  {
   "cell_type": "markdown",
   "metadata": {},
   "source": [
    "Посмотрим, что такое F, будем из нашей выборки извлекать выборки и считать F."
   ]
  },
  {
   "cell_type": "code",
   "execution_count": 24,
   "metadata": {},
   "outputs": [],
   "source": [
    "def calculate_random_sample_group(sz = 10):\n",
    "    sample_groups = []\n",
    "    for i in range(4):\n",
    "        sample_groups.append(np.random.choice(gen_pop, size = sz))\n",
    "    F, p = stats.f_oneway(sample_groups[0],sample_groups[1],sample_groups[2],sample_groups[3])    \n",
    "    return sample_groups, F\n",
    "\n",
    "Fs = []\n",
    "sgs = []\n",
    "for i in range(100000):\n",
    "    sg,F = calculate_random_sample_group()\n",
    "    Fs.append(F)\n",
    "    sgs.append(sg)"
   ]
  },
  {
   "cell_type": "markdown",
   "metadata": {},
   "source": [
    "Распределение приняло опредленную форму, такое распредление называется распредление Фишера."
   ]
  },
  {
   "cell_type": "code",
   "execution_count": 25,
   "metadata": {},
   "outputs": [
    {
     "data": {
      "image/png": "[encoded data removed]",
      "text/plain": [
       "<Figure size 720x432 with 1 Axes>"
      ]
     },
     "metadata": {
      "needs_background": "light"
     },
     "output_type": "display_data"
    }
   ],
   "source": [
    "fig, ax = plt.subplots(figsize=(10, 6))\n",
    "plt.hist(Fs,bins = 100)\n",
    "plt.show()"
   ]
  },
  {
   "cell_type": "code",
   "execution_count": 27,
   "metadata": {},
   "outputs": [
    {
     "data": {
      "image/png": "[encoded data removed]",
      "text/plain": [
       "<Figure size 432x288 with 1 Axes>"
      ]
     },
     "metadata": {
      "needs_background": "light"
     },
     "output_type": "display_data"
    }
   ],
   "source": [
    "sample_groups_ = sgs[Fs.index(max(Fs))]\n",
    "\n",
    "\n",
    "x = np.mean(sample_groups_,axis = 1)\n",
    "y = np.arange(len(sample_groups_))\n",
    "e = np.std(sample_groups_,axis = 1)\n",
    "\n",
    "plt.errorbar(x, y, xerr = e, linestyle='None', marker='o')\n",
    "\n",
    "plt.errorbar( np.mean(x), len(y) ,xerr =  np.std(x), linestyle='None', marker='o')\n",
    "\n",
    "plt.show()"
   ]
  },
  {
   "cell_type": "markdown",
   "metadata": {},
   "source": [
    "Совсем не похоже, что выборки взяты из одного распредлеения, хотя это на самом деле так. Выбирая F-критическое, мы сами задаем , с какой веротяностью мы допускаем ошибочное отвержение нулевой гипотезы."
   ]
  },
  {
   "cell_type": "markdown",
   "metadata": {},
   "source": [
    "### Классификация критериев"
   ]
  },
  {
   "cell_type": "markdown",
   "metadata": {},
   "source": [
    "1. **Одновыборочные** - проверяют гипотезы относительно ОДНОЙ выборки.\n",
    "2. **Двувыборочные со связанными выборками** - элементы выборок являются парными результатами повторных измерений, выполненных в одном и том же множестве элементов. \n",
    "3. **Двувыборочные с несвязанными выборками** - элементы выборок НЕ являются парными результатами повторных измерений, выполненных в одном и том же множестве элементов. "
   ]
  },
  {
   "cell_type": "markdown",
   "metadata": {},
   "source": [
    "### 2.2 Критерий Стьюдента"
   ]
  },
  {
   "cell_type": "markdown",
   "metadata": {},
   "source": [
    "### Критерий Стьюдента для несвязанных выборок"
   ]
  },
  {
   "cell_type": "markdown",
   "metadata": {},
   "source": [
    "Частный случай дисперсионного анализа - применение критерия Стьюдента, позволяет проверять значимость различий двух групп."
   ]
  },
  {
   "cell_type": "markdown",
   "metadata": {},
   "source": [
    "**Задача**. Курьерам выдали электроскутеры, велосипеды, электровелосипеды и самокаты. \n",
    "Понять, отличается ли как-то скорость доставки заказов клиентам на электросамокатах от скорости доставки на велосипедах."
   ]
  },
  {
   "cell_type": "code",
   "execution_count": 28,
   "metadata": {},
   "outputs": [],
   "source": [
    "# Построим две новые теоретические генеральные совокупности:\n",
    "# курьеры, которые доставляли на велосипедах:\n",
    "norm_vel = stats.norm(loc=37, scale = 10)\n",
    "# курьеры, которые доставляли на электросамокатах:\n",
    "norm_sam = stats.norm(loc=30, scale = 13)"
   ]
  },
  {
   "cell_type": "code",
   "execution_count": 29,
   "metadata": {},
   "outputs": [],
   "source": [
    "norm_vel_sample = norm_vel.rvs(size=50)\n",
    "norm_sam_sample = norm_sam.rvs(size=50)"
   ]
  },
  {
   "cell_type": "code",
   "execution_count": 30,
   "metadata": {},
   "outputs": [
    {
     "data": {
      "image/png": "[encoded data removed]",
      "text/plain": [
       "<Figure size 1728x432 with 2 Axes>"
      ]
     },
     "metadata": {
      "needs_background": "light"
     },
     "output_type": "display_data"
    }
   ],
   "source": [
    "fig = plt.figure(figsize=(24, 6))\n",
    "\n",
    "ax1 = plt.subplot(121)\n",
    "plt.hist(norm_vel_sample, 15)\n",
    "\n",
    "ax2 = plt.subplot(122)\n",
    "plt.hist(norm_sam_sample, 15)\n",
    "\n",
    "plt.show()"
   ]
  },
  {
   "cell_type": "markdown",
   "metadata": {},
   "source": [
    "t-критерий Стьюдента:"
   ]
  },
  {
   "cell_type": "markdown",
   "metadata": {},
   "source": [
    "**t** = $ \\frac{\\text{Разность выборочных средних}} {\\text{Стандартная ошибка разности выборочных средних} } = \\frac{\\overline{X_1}-\\overline{X_2}} {{S_{\\overline{X_1} - \\overline{X_2}}}}  = \\frac{\\overline{X_1}-\\overline{X_2}} { \\sqrt{ S_{\\overline{X_1}}^2 +  S_{\\overline{X_2}}^2 } } = \\frac{\\overline{X_1}-\\overline{X_2}} { \\sqrt{ \\frac{S_1^2} {n_1} +  \\frac{S_2^2} {n_2} } } $"
   ]
  },
  {
   "cell_type": "code",
   "execution_count": 31,
   "metadata": {},
   "outputs": [
    {
     "data": {
      "text/plain": [
       "Ttest_indResult(statistic=3.944158219441717, pvalue=0.00015049821283688532)"
      ]
     },
     "execution_count": 31,
     "metadata": {},
     "output_type": "execute_result"
    }
   ],
   "source": [
    "stats.ttest_ind(norm_vel_sample, norm_sam_sample)"
   ]
  },
  {
   "cell_type": "markdown",
   "metadata": {},
   "source": [
    "Нулевая гипотеза отвергается при 5-% уровне значимости, действительно, выборки взяты из разных распределений."
   ]
  },
  {
   "cell_type": "markdown",
   "metadata": {},
   "source": [
    "Еще раз посмотрим, что будет, если много раз делать выборки из одной и той же совокупности и считать статистики."
   ]
  },
  {
   "cell_type": "code",
   "execution_count": 32,
   "metadata": {},
   "outputs": [],
   "source": [
    "def calculate_random_sample_group(sz = 50):\n",
    "    sample_groups = []\n",
    "    for i in range(2):\n",
    "        sample_groups.append(np.random.choice(gen_pop, size = sz))\n",
    "    t, p = stats.ttest_ind(sample_groups[0], sample_groups[1] )    \n",
    "    return sample_groups, t\n",
    "\n",
    "ts = []\n",
    "sgs = []\n",
    "for i in range(10000):\n",
    "    sg,t = calculate_random_sample_group()\n",
    "    ts.append(t)\n",
    "    sgs.append(sg)"
   ]
  },
  {
   "cell_type": "code",
   "execution_count": 33,
   "metadata": {},
   "outputs": [
    {
     "data": {
      "image/png": "[encoded data removed]",
      "text/plain": [
       "<Figure size 720x432 with 1 Axes>"
      ]
     },
     "metadata": {
      "needs_background": "light"
     },
     "output_type": "display_data"
    }
   ],
   "source": [
    "fig, ax = plt.subplots(figsize=(10, 6))\n",
    "plt.hist(ts,bins = 40)\n",
    "plt.show()"
   ]
  },
  {
   "cell_type": "markdown",
   "metadata": {},
   "source": [
    "Распределение Стьюдента, имеет более тяжелые хвосты, чем нормальное."
   ]
  },
  {
   "cell_type": "markdown",
   "metadata": {},
   "source": [
    "### Критерий Стьюдента для связанных выборок"
   ]
  },
  {
   "cell_type": "markdown",
   "metadata": {},
   "source": [
    "**Задача**. А что, если хотим сравнить, как изменилась скорость курьеров у одних и тех же курьеров? Тогда имеем дело с парным критерием Стьюдента или двувыборочным критерием Стьюдента для связанных выборок."
   ]
  },
  {
   "cell_type": "markdown",
   "metadata": {},
   "source": [
    "<img width = '400px' src=\"images/lesson_6/pp.png\">"
   ]
  },
  {
   "cell_type": "markdown",
   "metadata": {},
   "source": [
    "t = $\\frac{\\overline{d}} {S_{\\overline{d}}} $, где $\\overline{d} $ - среднее изменений, $S_{\\overline{d}}$ - стандартная ошибка."
   ]
  },
  {
   "cell_type": "markdown",
   "metadata": {},
   "source": [
    "Если обычный критерий Стьюдента требует нормального распределения самих данных, то парный критерий Стьюдента требует нормального распределения их изменений."
   ]
  },
  {
   "cell_type": "code",
   "execution_count": 34,
   "metadata": {},
   "outputs": [
    {
     "data": {
      "text/html": [
       "<div>\n",
       "<style scoped>\n",
       "    .dataframe tbody tr th:only-of-type {\n",
       "        vertical-align: middle;\n",
       "    }\n",
       "\n",
       "    .dataframe tbody tr th {\n",
       "        vertical-align: top;\n",
       "    }\n",
       "\n",
       "    .dataframe thead th {\n",
       "        text-align: right;\n",
       "    }\n",
       "</style>\n",
       "<table border=\"1\" class=\"dataframe\">\n",
       "  <thead>\n",
       "    <tr style=\"text-align: right;\">\n",
       "      <th></th>\n",
       "      <th>courier_id</th>\n",
       "      <th>couriers_without_bike_time</th>\n",
       "      <th>couriers_with_bike_time</th>\n",
       "    </tr>\n",
       "  </thead>\n",
       "  <tbody>\n",
       "    <tr>\n",
       "      <th>0</th>\n",
       "      <td>1</td>\n",
       "      <td>39</td>\n",
       "      <td>29</td>\n",
       "    </tr>\n",
       "    <tr>\n",
       "      <th>1</th>\n",
       "      <td>2</td>\n",
       "      <td>49</td>\n",
       "      <td>53</td>\n",
       "    </tr>\n",
       "    <tr>\n",
       "      <th>2</th>\n",
       "      <td>3</td>\n",
       "      <td>47</td>\n",
       "      <td>43</td>\n",
       "    </tr>\n",
       "    <tr>\n",
       "      <th>3</th>\n",
       "      <td>4</td>\n",
       "      <td>39</td>\n",
       "      <td>39</td>\n",
       "    </tr>\n",
       "    <tr>\n",
       "      <th>4</th>\n",
       "      <td>5</td>\n",
       "      <td>28</td>\n",
       "      <td>33</td>\n",
       "    </tr>\n",
       "  </tbody>\n",
       "</table>\n",
       "</div>"
      ],
      "text/plain": [
       "   courier_id  couriers_without_bike_time  couriers_with_bike_time\n",
       "0           1                          39                       29\n",
       "1           2                          49                       53\n",
       "2           3                          47                       43\n",
       "3           4                          39                       39\n",
       "4           5                          28                       33"
      ]
     },
     "execution_count": 34,
     "metadata": {},
     "output_type": "execute_result"
    }
   ],
   "source": [
    "df_ = pd.DataFrame()\n",
    "df_['courier_id'] = np.array([1, 2, 3, 4, 5, 6])\n",
    "df_['couriers_without_bike_time'] = np.array([39, 49, 47, 39, 28, 26])\n",
    "df_['couriers_with_bike_time'] = np.array([29, 53, 43, 39, 33, 30])\n",
    "df_.head()"
   ]
  },
  {
   "cell_type": "markdown",
   "metadata": {},
   "source": [
    "H0: среднее время доставки курьеров на велосипеде и без велосипеда равны\n",
    "\n",
    "H1: среднее время доставки курьеров на велосипеде не равны"
   ]
  },
  {
   "cell_type": "code",
   "execution_count": 35,
   "metadata": {},
   "outputs": [
    {
     "data": {
      "text/plain": [
       "Ttest_relResult(statistic=0.06943774745378857, pvalue=0.9473327114146763)"
      ]
     },
     "execution_count": 35,
     "metadata": {},
     "output_type": "execute_result"
    }
   ],
   "source": [
    "#Корректно только в случае, если два распредления - одни и те же курьеры\n",
    "stats.ttest_rel(df_.couriers_without_bike_time, df_.couriers_with_bike_time)"
   ]
  },
  {
   "cell_type": "markdown",
   "metadata": {},
   "source": [
    "### Множественные сравнения"
   ]
  },
  {
   "cell_type": "markdown",
   "metadata": {},
   "source": [
    "Если исследуемых групп больше двух, то следует воспользоваться дисперсионным анализом. Однако дисперсионный анализ позволяет проверить лишь гипотезу о равенстве всех средних.\n",
    "Но если гипотеза не подтверждается, нельзя узнать какая именно группа отличается от других."
   ]
  },
  {
   "cell_type": "markdown",
   "metadata": {},
   "source": [
    "Эффект множественных сравнений состоит в том, что при многократном применении критерия вероятность ошибочно найти различия там, где их нет возрастает и составляет P = $ 1 - (1 - \\alpha) ^ k $, k - число сравнений, $ \\alpha $ - установленный уровень значимости."
   ]
  },
  {
   "cell_type": "markdown",
   "metadata": {},
   "source": [
    "**Поправка Бонферонни** заключается в том, что достигаемые уровни значимости гипотез сравниваются с уровнем значимости $ \\frac{\\alpha} {k}$."
   ]
  },
  {
   "cell_type": "markdown",
   "metadata": {},
   "source": [
    "Поправка Бонферонни - один из самых консервативных методов. Также часто используют метод Холма, метод Бенджамини-Хохберга, которые не столь консервативны. "
   ]
  },
  {
   "cell_type": "markdown",
   "metadata": {},
   "source": [
    "### Одновыборочный критерий Стьюдента"
   ]
  },
  {
   "cell_type": "markdown",
   "metadata": {},
   "source": [
    "$ t = \\frac{\\overline{X} - \\mu} {\\frac{S}{\\sqrt{n}}} $"
   ]
  },
  {
   "cell_type": "markdown",
   "metadata": {},
   "source": [
    "Задача: оценить эффективность доставки курьерами заказов.\n",
    "\n",
    "H0 - среднее время доставки на велосипеде равно 37 минутам\n",
    "\n",
    "H1 - среднее время доставки на велосипеде не равно 37 минутам"
   ]
  },
  {
   "cell_type": "code",
   "execution_count": 38,
   "metadata": {},
   "outputs": [
    {
     "data": {
      "text/plain": [
       "Ttest_1sampResult(statistic=-0.4701550736755136, pvalue=0.6403301452570858)"
      ]
     },
     "execution_count": 38,
     "metadata": {},
     "output_type": "execute_result"
    }
   ],
   "source": [
    "stats.ttest_1samp(a = norm_vel_sample , popmean = 37)"
   ]
  },
  {
   "cell_type": "markdown",
   "metadata": {},
   "source": [
    "### 2.3 Проверка распределений на нормальность"
   ]
  },
  {
   "cell_type": "code",
   "execution_count": 39,
   "metadata": {},
   "outputs": [
    {
     "data": {
      "image/png": "[encoded data removed]",
      "text/plain": [
       "<Figure size 432x288 with 1 Axes>"
      ]
     },
     "metadata": {
      "needs_background": "light"
     },
     "output_type": "display_data"
    }
   ],
   "source": [
    "#c помощью Q-Q графика\n",
    "stats.probplot(norm_vel_sample, dist = \"norm\", plot = plt)\n",
    "plt.show()"
   ]
  },
  {
   "cell_type": "markdown",
   "metadata": {},
   "source": [
    "Как строится:\n",
    "\n",
    "1. берём 0.01-квантиль теоретического (с которым сравниваем) распределения, например нормального -- это x1(≈-2.33 для нормального). \n",
    "2. берём 0.01-квантиль нашей выборки -- это y1. Рисуем на графике точку (x1,y1). \n",
    "3. берём 0.02-квантиль теоретического распределения -- это x2, и 0.02-квантиль выборки -- это y2. Опять рисуем на графике точку (x2,y2).\n",
    "\n",
    "\n",
    "И так далее. Естественно, рисовать точки можно с любым шагом, не только 0.01.\n",
    "Распределения одинаковые, если все эти точки попадут на прямую y=x. Если на другую прямую, то это значит, что распределения одинаковы с точностью до нормализации."
   ]
  },
  {
   "cell_type": "markdown",
   "metadata": {},
   "source": [
    "Критерий Шапиро-Уилка:\n",
    "\n",
    "$H_0\\colon$ попарные разности распределены нормально.\n",
    "\n",
    "$H_1\\colon$ не нормально."
   ]
  },
  {
   "cell_type": "code",
   "execution_count": 40,
   "metadata": {},
   "outputs": [
    {
     "data": {
      "text/plain": [
       "(0.9755513072013855, 0.38296523690223694)"
      ]
     },
     "execution_count": 40,
     "metadata": {},
     "output_type": "execute_result"
    }
   ],
   "source": [
    "#c помощью критерия Шапиро- Уилка\n",
    "stats.shapiro(norm_vel_sample)"
   ]
  },
  {
   "cell_type": "markdown",
   "metadata": {},
   "source": [
    "### Анализ качественных признаков"
   ]
  },
  {
   "cell_type": "markdown",
   "metadata": {},
   "source": [
    "**Качественные признаки** - признаки не связаны между собой никакими арифметическими соотношениями, упорядочить их также нельзя.\n",
    "Единственный способ описания качественных признаков состоит в том, чтобы подсчитать число объектов, имеющих одно и то же значение. Кроме того, можно подсчитать, какая доля от\n",
    "общего числа объектов приходится на то или иное значение."
   ]
  },
  {
   "cell_type": "markdown",
   "metadata": {},
   "source": [
    "### 2.4 Критерий для доли"
   ]
  },
  {
   "cell_type": "markdown",
   "metadata": {},
   "source": [
    "### Z-критерий для несвязанных выборок"
   ]
  },
  {
   "cell_type": "markdown",
   "metadata": {},
   "source": [
    "Для проверки гипотезы о равентсве долей используется критерий аналогично критерию Стьюдента t.\n",
    "\n",
    "**z** = $ \\frac{\\text{Разность выборочных долей}} {\\text{Стандартная ошибка разности выборочных долей}}  = \\frac{\\hat{p_1}-\\hat{p_2}} {{S_{\\hat{p_1} - \\hat{p_2}}}}  = \\frac{\\hat{p_1}-\\hat{p_2}} { \\sqrt{ S_{\\hat{p_1}}^2 +  S_{\\hat{p_2}}^2 } } = \\frac{\\hat{p_1}-\\hat{p_2}} { \\sqrt{ \\frac{\\hat{p_1}(1-\\hat{p_1})} {n_1} +  \\frac{\\hat{p_2}(1-\\hat{p_2})} {n_2} } } $\n",
    "\n",
    "\n",
    "**z**  $= \\frac{|\\hat{p_1}-\\hat{p_2}| - \\frac{1} {2} (\\frac{1} {n_1} + \\frac{1} {n_2} ) } { \\sqrt{ \\frac{\\hat{p_1}(1-\\hat{p_1})} {n_1} +  \\frac{\\hat{p_2}(1-\\hat{p_2})} {n_2} } }$"
   ]
  },
  {
   "cell_type": "markdown",
   "metadata": {},
   "source": [
    "Корректно использовать в том случае, когда n*p и n*(1 − p) превосходят 5 для всех групп."
   ]
  },
  {
   "cell_type": "markdown",
   "metadata": {},
   "source": [
    "**Задача.** DC работает над новым баннером, который хочет разместить на одной из своих рекламных площадок. Было придумано 2 варианта баннеров (A и B). На первый баннер за первые сутки кликнуло 100 человек из 300 посетителей, на второй баннер 400 человек из 800 посетителей. Решить,какой баннер оставлять."
   ]
  },
  {
   "cell_type": "markdown",
   "metadata": {},
   "source": [
    "H0: доля кликов по двум баннерам одинакова\n",
    "\n",
    "H1: доля кликов по баннеру B больше, чем по баннеру А ('smaller')"
   ]
  },
  {
   "cell_type": "code",
   "execution_count": null,
   "metadata": {},
   "outputs": [],
   "source": [
    "from statsmodels.stats.proportion import proportions_ztest\n",
    "count = np.array([100, 300])\n",
    "nobs = np.array([300, 800])\n",
    "proportions_ztest(count, nobs, alternative='smaller')"
   ]
  },
  {
   "cell_type": "markdown",
   "metadata": {},
   "source": [
    "В итоге, исходная гипотеза подтвердилась."
   ]
  },
  {
   "cell_type": "markdown",
   "metadata": {},
   "source": [
    "Нулевое распредление для данной статистики будет нормальное распределение с парамтерами (0,1)."
   ]
  },
  {
   "cell_type": "markdown",
   "metadata": {},
   "source": [
    "### Z-критерий для связанных выборок"
   ]
  },
  {
   "cell_type": "markdown",
   "metadata": {},
   "source": [
    "<img width = '400px' src=\"images/lesson_6/two_prop.png\">"
   ]
  },
  {
   "cell_type": "markdown",
   "metadata": {},
   "source": [
    "**z** = $\\frac{f - g}{\\sqrt{f + g - \\frac{(f-g)^2}{n}}}$"
   ]
  },
  {
   "cell_type": "markdown",
   "metadata": {},
   "source": [
    "**Задача.** DC решило поменять один из существующих баннеров на площадке VK. Изменило цвет баннера с зеленого на светло-зеленый. Проверить гипотезу о том, что на новый баннер стали кликать чаще."
   ]
  },
  {
   "cell_type": "code",
   "execution_count": 70,
   "metadata": {},
   "outputs": [],
   "source": [
    "#Клики на старый баннер\n",
    "banner_clicks_dark_green = [0,0,1,1,0,1,0,1,0,0,0,0,0,0,0,0,0,0,0,0,1,1,1,1]\n",
    "banner_clicks_light_green = [1,1,0,1,1,1,0,1,0,0,1,1,1,0,0,0,0,0,0,0,1,1,1,1]"
   ]
  },
  {
   "cell_type": "code",
   "execution_count": 76,
   "metadata": {},
   "outputs": [],
   "source": [
    "def proportions_diff_z_stat_rel(sample1, sample2):\n",
    "    sample = zip(sample1, sample2)\n",
    "    n = len(sample1)\n",
    "    \n",
    "    f = sum([1 if (x[0] == 1 and x[1] == 0) else 0 for x in sample])\n",
    "    g = sum([1 if (x[0] == 0 and x[1] == 1) else 0 for x in sample])\n",
    "    \n",
    "    return float(f - g) / np.sqrt(f + g - float((f - g)**2) / n )"
   ]
  },
  {
   "cell_type": "code",
   "execution_count": 85,
   "metadata": {},
   "outputs": [],
   "source": [
    "def proportions_diff_z_test(z_stat, alternative = 'two-sided'):\n",
    "    if alternative not in ('two-sided', 'less', 'greater'):\n",
    "        raise ValueError(\"alternative not recognized\\n\"\n",
    "                         \"should be 'two-sided', 'less' or 'greater'\")\n",
    "    \n",
    "    if alternative == 'two-sided':\n",
    "        return z_stat,2 * (1 - scipy.stats.norm.cdf(np.abs(z_stat)))\n",
    "    \n",
    "    if alternative == 'less':\n",
    "        return z_stat,scipy.stats.norm.cdf(z_stat)\n",
    "\n",
    "    if alternative == 'greater':\n",
    "        return z_stat, 1 - scipy.stats.norm.cdf(z_stat)"
   ]
  },
  {
   "cell_type": "code",
   "execution_count": 86,
   "metadata": {},
   "outputs": [
    {
     "data": {
      "text/plain": [
       "(1.0215078369104984, 0.8464930509830875)"
      ]
     },
     "execution_count": 86,
     "metadata": {},
     "output_type": "execute_result"
    }
   ],
   "source": [
    "import scipy\n",
    "proportions_diff_z_test(proportions_diff_z_stat_rel(banner_clicks_dark_green,banner_clicks_light_green),'less' )"
   ]
  },
  {
   "cell_type": "markdown",
   "metadata": {},
   "source": [
    "### Одновыборочный критерий для доли"
   ]
  },
  {
   "cell_type": "markdown",
   "metadata": {},
   "source": [
    "**Задача**. Также могли решать задачу одновыборочного критерия для доли: хотим проверить гипотезу о том, что на баннер A кликают в 50% случаев. "
   ]
  },
  {
   "cell_type": "markdown",
   "metadata": {},
   "source": [
    "**z** = $ \\frac{\\hat{p}-p_0 } {\\sqrt{ \\frac{p_0 * (1 - p_0)} {n} }} $"
   ]
  },
  {
   "cell_type": "code",
   "execution_count": 87,
   "metadata": {},
   "outputs": [
    {
     "data": {
      "text/plain": [
       "(-6.123724356957946, 9.141298408246598e-10)"
      ]
     },
     "execution_count": 87,
     "metadata": {},
     "output_type": "execute_result"
    }
   ],
   "source": [
    "count = np.array(100)\n",
    "nobs = np.array(300)\n",
    "value = 0.5\n",
    "proportions_ztest(count, nobs, value = value)"
   ]
  },
  {
   "cell_type": "markdown",
   "metadata": {},
   "source": [
    "Нулевая гипотеза отвергается."
   ]
  },
  {
   "cell_type": "markdown",
   "metadata": {},
   "source": [
    "### 2.5 Критерий Хи-квадрат"
   ]
  },
  {
   "cell_type": "markdown",
   "metadata": {},
   "source": [
    "Применим, когда число значений признака и число выборок может оказаться большим двух."
   ]
  },
  {
   "cell_type": "markdown",
   "metadata": {},
   "source": [
    "Рассмотрим задачу про размещение баннеров, но теперь будем рассматривать уже не доли, а числа."
   ]
  },
  {
   "cell_type": "code",
   "execution_count": 90,
   "metadata": {},
   "outputs": [],
   "source": [
    "from scipy.stats import chi2_contingency"
   ]
  },
  {
   "cell_type": "code",
   "execution_count": 91,
   "metadata": {},
   "outputs": [
    {
     "data": {
      "text/html": [
       "<div>\n",
       "<style scoped>\n",
       "    .dataframe tbody tr th:only-of-type {\n",
       "        vertical-align: middle;\n",
       "    }\n",
       "\n",
       "    .dataframe tbody tr th {\n",
       "        vertical-align: top;\n",
       "    }\n",
       "\n",
       "    .dataframe thead th {\n",
       "        text-align: right;\n",
       "    }\n",
       "</style>\n",
       "<table border=\"1\" class=\"dataframe\">\n",
       "  <thead>\n",
       "    <tr style=\"text-align: right;\">\n",
       "      <th></th>\n",
       "      <th>clicked</th>\n",
       "      <th>non_clicked</th>\n",
       "      <th>Total</th>\n",
       "    </tr>\n",
       "  </thead>\n",
       "  <tbody>\n",
       "    <tr>\n",
       "      <th>Баннер_A</th>\n",
       "      <td>100</td>\n",
       "      <td>200</td>\n",
       "      <td>300</td>\n",
       "    </tr>\n",
       "    <tr>\n",
       "      <th>Баннер_B</th>\n",
       "      <td>400</td>\n",
       "      <td>400</td>\n",
       "      <td>800</td>\n",
       "    </tr>\n",
       "    <tr>\n",
       "      <th>Итого</th>\n",
       "      <td>500</td>\n",
       "      <td>600</td>\n",
       "      <td>1100</td>\n",
       "    </tr>\n",
       "  </tbody>\n",
       "</table>\n",
       "</div>"
      ],
      "text/plain": [
       "          clicked  non_clicked  Total\n",
       "Баннер_A      100          200    300\n",
       "Баннер_B      400          400    800\n",
       "Итого         500          600   1100"
      ]
     },
     "execution_count": 91,
     "metadata": {},
     "output_type": "execute_result"
    }
   ],
   "source": [
    "banner_data = pd.DataFrame()\n",
    "banner_data['clicked'] = [100,400,500]\n",
    "banner_data['non_clicked'] = [200, 400,600]\n",
    "banner_data.index = ['Баннер_A', 'Баннер_B','Итого']\n",
    "banner_data['Total'] = banner_data['clicked'] + banner_data['non_clicked']\n",
    "#Аналогичную таблицу с агрегациями можно получить с помощью функции pd.crosstab, установив парамет margins = True\n",
    "banner_data"
   ]
  },
  {
   "cell_type": "markdown",
   "metadata": {},
   "source": [
    "При работе с критерием хи-квадрат встречается понятие, как таблица ожидаемых значений."
   ]
  },
  {
   "cell_type": "markdown",
   "metadata": {},
   "source": [
    "Примем нулевую гипотезу H0, что кликабельность по баннерам A и B одинакова, тогда:"
   ]
  },
  {
   "cell_type": "code",
   "execution_count": 92,
   "metadata": {},
   "outputs": [],
   "source": [
    "clicked_total = 500/1100\n",
    "non_clicked_total = 600/1100"
   ]
  },
  {
   "cell_type": "markdown",
   "metadata": {},
   "source": [
    "Если баннера не влияют на кликабельность, то есть поведение клиентов при посещении сайта должно быть схожим с общим."
   ]
  },
  {
   "cell_type": "code",
   "execution_count": 93,
   "metadata": {},
   "outputs": [],
   "source": [
    "banner_A_clicked = clicked_total* 300\n",
    "banner_B_clicked = clicked_total* 800\n",
    "\n",
    "banner_A_non_clicked = non_clicked_total* 300\n",
    "banner_B_non_clicked = non_clicked_total* 800"
   ]
  },
  {
   "cell_type": "code",
   "execution_count": 94,
   "metadata": {},
   "outputs": [
    {
     "data": {
      "text/html": [
       "<div>\n",
       "<style scoped>\n",
       "    .dataframe tbody tr th:only-of-type {\n",
       "        vertical-align: middle;\n",
       "    }\n",
       "\n",
       "    .dataframe tbody tr th {\n",
       "        vertical-align: top;\n",
       "    }\n",
       "\n",
       "    .dataframe thead th {\n",
       "        text-align: right;\n",
       "    }\n",
       "</style>\n",
       "<table border=\"1\" class=\"dataframe\">\n",
       "  <thead>\n",
       "    <tr style=\"text-align: right;\">\n",
       "      <th></th>\n",
       "      <th>clicked</th>\n",
       "      <th>non_clicked</th>\n",
       "      <th>Total</th>\n",
       "    </tr>\n",
       "  </thead>\n",
       "  <tbody>\n",
       "    <tr>\n",
       "      <th>Баннер_A</th>\n",
       "      <td>136.363636</td>\n",
       "      <td>163.636364</td>\n",
       "      <td>300.0</td>\n",
       "    </tr>\n",
       "    <tr>\n",
       "      <th>Баннер_B</th>\n",
       "      <td>363.636364</td>\n",
       "      <td>436.363636</td>\n",
       "      <td>800.0</td>\n",
       "    </tr>\n",
       "    <tr>\n",
       "      <th>Итого</th>\n",
       "      <td>500.000000</td>\n",
       "      <td>600.000000</td>\n",
       "      <td>1100.0</td>\n",
       "    </tr>\n",
       "  </tbody>\n",
       "</table>\n",
       "</div>"
      ],
      "text/plain": [
       "             clicked  non_clicked   Total\n",
       "Баннер_A  136.363636   163.636364   300.0\n",
       "Баннер_B  363.636364   436.363636   800.0\n",
       "Итого     500.000000   600.000000  1100.0"
      ]
     },
     "execution_count": 94,
     "metadata": {},
     "output_type": "execute_result"
    }
   ],
   "source": [
    "banner_data_E = pd.DataFrame()\n",
    "banner_data_E['clicked'] = [banner_A_clicked,banner_B_clicked,500]\n",
    "banner_data_E['non_clicked'] = [banner_A_non_clicked, banner_B_non_clicked,600]\n",
    "banner_data_E.index = ['Баннер_A', 'Баннер_B','Итого']\n",
    "banner_data_E['Total'] = banner_data_E['clicked'] + banner_data_E['non_clicked']\n",
    "banner_data_E"
   ]
  },
  {
   "cell_type": "markdown",
   "metadata": {},
   "source": [
    "Реальная картина отличается от той, что была бы, если бы баннеры не отличались по своей кликабельности."
   ]
  },
  {
   "cell_type": "markdown",
   "metadata": {},
   "source": [
    "$\\chi^2  = \\sum {   \\frac{(O - E)^2} {E}  } $, O  - наблюдаемое значение, E - ожидаемое значение.\n",
    "\n",
    "$\\chi^2  = \\sum {   \\frac{|O - E| - \\frac{1} {2}} {E}  } $ (с поправкой Йеитса - только для таблиц 2х2)"
   ]
  },
  {
   "cell_type": "code",
   "execution_count": 95,
   "metadata": {},
   "outputs": [],
   "source": [
    "chi2, p, dof, ex = chi2_contingency(banner_data.iloc[:2,:2])"
   ]
  },
  {
   "cell_type": "code",
   "execution_count": 96,
   "metadata": {},
   "outputs": [
    {
     "data": {
      "text/plain": [
       "(23.776843750000012,\n",
       " 1.0817608500977008e-06,\n",
       " 1,\n",
       " array([[136.36363636, 163.63636364],\n",
       "        [363.63636364, 436.36363636]]))"
      ]
     },
     "execution_count": 96,
     "metadata": {},
     "output_type": "execute_result"
    }
   ],
   "source": [
    "chi2,p,dof,ex"
   ]
  },
  {
   "cell_type": "markdown",
   "metadata": {},
   "source": [
    "Нулевая гипотеза отвергается."
   ]
  },
  {
   "cell_type": "markdown",
   "metadata": {},
   "source": [
    "Аналогичное применение критерия мы можем использовать для любого количества объектов и наблюдений. \n",
    "\n",
    "С помощью критерия хи-квадрат мы также можем проверять любое из распредлений на нормальность или схожесть с любым другим теоретическим распредлением, самостоятельно задавая ожидаемые значения."
   ]
  },
  {
   "cell_type": "markdown",
   "metadata": {},
   "source": [
    "Для таблиц сопряженности размером 2×2 критерий χ2 применим только в случае, когда все ожидаемые числа больше 5. \n",
    "В этом случае критерии χ2 применим, если все ожидаемые числа не меньше 1 и доля клеток с ожидаемыми числами меньше\n",
    "5 не превышает 20%. При невыполнении этих условии критерии χ2 может дать ложные результаты. "
   ]
  },
  {
   "cell_type": "markdown",
   "metadata": {},
   "source": [
    "### 2.6 Точный критерий Фишера"
   ]
  },
  {
   "cell_type": "markdown",
   "metadata": {},
   "source": [
    "Используется для таблиц сопряженности 2х2, когда критерий χ2 неприменим - используется для очень малых выборок."
   ]
  },
  {
   "cell_type": "markdown",
   "metadata": {},
   "source": [
    "<img width = '500px' src=\"images/lesson_6/fisher_crit.png\">"
   ]
  },
  {
   "cell_type": "markdown",
   "metadata": {},
   "source": [
    "Просто перебор всех сочетаний."
   ]
  },
  {
   "cell_type": "code",
   "execution_count": 103,
   "metadata": {},
   "outputs": [
    {
     "data": {
      "text/html": [
       "<div>\n",
       "<style scoped>\n",
       "    .dataframe tbody tr th:only-of-type {\n",
       "        vertical-align: middle;\n",
       "    }\n",
       "\n",
       "    .dataframe tbody tr th {\n",
       "        vertical-align: top;\n",
       "    }\n",
       "\n",
       "    .dataframe thead th {\n",
       "        text-align: right;\n",
       "    }\n",
       "</style>\n",
       "<table border=\"1\" class=\"dataframe\">\n",
       "  <thead>\n",
       "    <tr style=\"text-align: right;\">\n",
       "      <th></th>\n",
       "      <th>clicked</th>\n",
       "      <th>non_clicked</th>\n",
       "    </tr>\n",
       "  </thead>\n",
       "  <tbody>\n",
       "    <tr>\n",
       "      <th>Баннер_A</th>\n",
       "      <td>8</td>\n",
       "      <td>2</td>\n",
       "    </tr>\n",
       "    <tr>\n",
       "      <th>Баннер_B</th>\n",
       "      <td>1</td>\n",
       "      <td>5</td>\n",
       "    </tr>\n",
       "  </tbody>\n",
       "</table>\n",
       "</div>"
      ],
      "text/plain": [
       "          clicked  non_clicked\n",
       "Баннер_A        8            2\n",
       "Баннер_B        1            5"
      ]
     },
     "execution_count": 103,
     "metadata": {},
     "output_type": "execute_result"
    }
   ],
   "source": [
    "banner_data = pd.DataFrame()\n",
    "banner_data['clicked'] = [8,1]\n",
    "banner_data['non_clicked'] = [2, 5]\n",
    "banner_data.index = ['Баннер_A', 'Баннер_B']\n",
    "banner_data"
   ]
  },
  {
   "cell_type": "code",
   "execution_count": 104,
   "metadata": {},
   "outputs": [
    {
     "data": {
      "text/plain": [
       "(20.0, 0.03496503496503495)"
      ]
     },
     "execution_count": 104,
     "metadata": {},
     "output_type": "execute_result"
    }
   ],
   "source": [
    "stats.fisher_exact(banner_data)"
   ]
  },
  {
   "cell_type": "markdown",
   "metadata": {},
   "source": [
    "Достоинством метода является соответствие полученного критерия точному значению уровня значимости p."
   ]
  },
  {
   "cell_type": "markdown",
   "metadata": {},
   "source": [
    "### 2.7 Ошибки первого и второго рода"
   ]
  },
  {
   "cell_type": "markdown",
   "metadata": {},
   "source": [
    "<img width = '700px' src=\"images/lesson_6/errors.jpg\">"
   ]
  },
  {
   "cell_type": "markdown",
   "metadata": {},
   "source": [
    "<img width = '500px' src=\"images/lesson_6/stat26.jpg\">"
   ]
  },
  {
   "cell_type": "markdown",
   "metadata": {},
   "source": [
    "<img width = '500px' src=\"images/lesson_6/errors.png\">"
   ]
  },
  {
   "cell_type": "markdown",
   "metadata": {},
   "source": [
    "### 2.8 Доверительные интервалы"
   ]
  },
  {
   "cell_type": "markdown",
   "metadata": {},
   "source": [
    "Проверка гипотез - качественная оценка, с помощью доверительных интервалов можем получить количественную оценку."
   ]
  },
  {
   "cell_type": "markdown",
   "metadata": {},
   "source": [
    "**ДИ для разности средних**"
   ]
  },
  {
   "cell_type": "markdown",
   "metadata": {},
   "source": [
    "Видоизменим формулу для t так, чтобы распределение были центрировано относительно 0, просто вычтя разность истинных средних распредления."
   ]
  },
  {
   "cell_type": "markdown",
   "metadata": {},
   "source": [
    "**t** = $ \\frac{Разность выборочных средних - Разность истинных средних} {Стандартная ошибка разности выборочных средних} $"
   ]
  },
  {
   "cell_type": "markdown",
   "metadata": {},
   "source": [
    "**t** = $ \\frac{\\overline{X_1}-\\overline{X_2}} {{S_{\\overline{X_1} - \\overline{X_2}}}} = \\frac{(\\overline{X_1}-\\overline{X_2}) - (\\mu_1 - \\mu_2)} {{S_{\\overline{X_1} - \\overline{X_2}}}} $, также справедливо\n",
    "\n",
    "$- t_{\\alpha} < \\frac{(\\overline{X_1}-\\overline{X_2}) - (\\mu_1 - \\mu_2)} {{S_{\\overline{X_1} - \\overline{X_2}}}} < + t_{\\alpha}$,\n",
    "\n",
    "$ (\\overline{X_1}-\\overline{X_2}) - t_{\\alpha} S_{\\overline{X_1} - \\overline{X_2}} < \\mu_1 - \\mu_2 <  (\\overline{X_1}-\\overline{X_2}) + t_{\\alpha} S_{\\overline{X_1} - \\overline{X_2}} $"
   ]
  },
  {
   "cell_type": "markdown",
   "metadata": {},
   "source": [
    "Полученное неравенство задает доверительный интервал для разности средних."
   ]
  },
  {
   "cell_type": "code",
   "execution_count": 108,
   "metadata": {},
   "outputs": [
    {
     "name": "stdout",
     "output_type": "stream",
     "text": [
      "(7.386887047175775, 16.3829572939944)\n"
     ]
    }
   ],
   "source": [
    "#Расчет для задачи про курьеров на разных транспортных средствах\n",
    "import statsmodels.stats.api as sms\n",
    "cm = sms.CompareMeans(sms.DescrStatsW(norm_vel_sample), sms.DescrStatsW(norm_sam_sample))\n",
    "print (cm.tconfint_diff())"
   ]
  },
  {
   "cell_type": "markdown",
   "metadata": {},
   "source": [
    "То есть, с 95% вероятностью можно утверждать, что с новыми самокатами курьеры уменьшили время доставки от 7 до 16 минуты."
   ]
  },
  {
   "cell_type": "markdown",
   "metadata": {},
   "source": [
    "**Если 100(1 – α)-процентный доверительный интервал разности средних не содержит нуля, то различия статистически значимы (Р < α); напротив, если этот интервал содержит ноль, то различия статистически не значимы (Р > α).**"
   ]
  },
  {
   "cell_type": "markdown",
   "metadata": {},
   "source": [
    "С помощью доверительных интервалов мы точно также можем проверять статистические гипотезы."
   ]
  },
  {
   "cell_type": "code",
   "execution_count": 109,
   "metadata": {},
   "outputs": [
    {
     "name": "stdout",
     "output_type": "stream",
     "text": [
      "(5.9278993838947045, 17.841944957275473)\n"
     ]
    }
   ],
   "source": [
    "cm = sms.CompareMeans(sms.DescrStatsW(norm_vel_sample), sms.DescrStatsW(norm_sam_sample))\n",
    "print (cm.tconfint_diff(usevar='unequal',alpha=0.01))"
   ]
  },
  {
   "cell_type": "markdown",
   "metadata": {},
   "source": [
    "Здесь уже утверждаем с вероятностью 99%."
   ]
  },
  {
   "cell_type": "markdown",
   "metadata": {},
   "source": [
    "**ДИ для среднего**"
   ]
  },
  {
   "cell_type": "markdown",
   "metadata": {},
   "source": [
    "$ \\overline{X} - t_{\\alpha} S_{\\overline{X}} < \\mu <  \\overline{X} + t_{\\alpha} S_{\\overline{X}} $"
   ]
  },
  {
   "cell_type": "code",
   "execution_count": 110,
   "metadata": {},
   "outputs": [
    {
     "data": {
      "text/plain": [
       "(34.86174671132335, 40.78984720224861)"
      ]
     },
     "execution_count": 110,
     "metadata": {},
     "output_type": "execute_result"
    }
   ],
   "source": [
    "t = sms.DescrStatsW(norm_vel_sample)\n",
    "t.tconfint_mean()"
   ]
  },
  {
   "cell_type": "markdown",
   "metadata": {},
   "source": [
    "То есть истинное среднее с 95% вероятностью лежит в интервале от 35 до 41 минуты."
   ]
  },
  {
   "cell_type": "markdown",
   "metadata": {},
   "source": [
    "**ДИ для разности долей**"
   ]
  },
  {
   "cell_type": "markdown",
   "metadata": {},
   "source": [
    "$ (\\hat{p_1}-\\hat{p_2}) - z_{\\alpha} S_{\\hat{p_1} - \\hat{p_2}} < p1 - p2 <  (\\hat{p_1}-\\hat{p_2}) + z_{\\alpha} S_{\\hat{p_1} - \\hat{p_2}} $"
   ]
  },
  {
   "cell_type": "code",
   "execution_count": null,
   "metadata": {},
   "outputs": [],
   "source": [
    "def proportions_diff_confint_ind(sample1, sample2, alpha = 0.05):    \n",
    "    z = scipy.stats.norm.ppf(1 - alpha / 2.)\n",
    "    \n",
    "    p1 = float(sum(sample1)) / len(sample1)\n",
    "    p2 = float(sum(sample2)) / len(sample2)\n",
    "    \n",
    "    left_boundary = (p1 - p2) - z * np.sqrt(p1 * (1 - p1)/ len(sample1) + p2 * (1 - p2)/ len(sample2))\n",
    "    right_boundary = (p1 - p2) + z * np.sqrt(p1 * (1 - p1)/ len(sample1) + p2 * (1 - p2)/ len(sample2))\n",
    "    \n",
    "    return (left_boundary, right_boundary)"
   ]
  },
  {
   "cell_type": "markdown",
   "metadata": {},
   "source": [
    "**ДИ для разности долей (связанные выборки)**"
   ]
  },
  {
   "cell_type": "markdown",
   "metadata": {},
   "source": [
    "$$ \\frac{f - g}{n} - z_{\\alpha}\\sqrt{\\frac{f + g}{n^2} - \\frac{(f - g)^2}{n^3}} <p_1 - p_2 <  \\frac{f - g}{n} + z_{\\alpha}\\sqrt{\\frac{f + g}{n^2} - \\frac{(f - g)^2}{n^3}}$$"
   ]
  },
  {
   "cell_type": "code",
   "execution_count": null,
   "metadata": {},
   "outputs": [],
   "source": [
    "def proportions_confint_diff_rel(sample1, sample2, alpha = 0.05):\n",
    "    z = scipy.stats.norm.ppf(1 - alpha / 2.)\n",
    "    sample = zip(sample1, sample2)\n",
    "    n = len(sample)\n",
    "        \n",
    "    f = sum([1 if (x[0] == 1 and x[1] == 0) else 0 for x in sample])\n",
    "    g = sum([1 if (x[0] == 0 and x[1] == 1) else 0 for x in sample])\n",
    "    \n",
    "    left_boundary = float(f - g) / n  - z * np.sqrt(float((f + g)) / n**2 - float((f - g)**2) / n**3)\n",
    "    right_boundary = float(f - g) / n  + z * np.sqrt(float((f + g)) / n**2 - float((f - g)**2) / n**3)\n",
    "    return (left_boundary, right_boundary)"
   ]
  },
  {
   "cell_type": "markdown",
   "metadata": {},
   "source": [
    "**ДИ для доли**"
   ]
  },
  {
   "cell_type": "markdown",
   "metadata": {},
   "source": [
    "$ \\hat{p} - z_{\\alpha} S_{\\hat{p}}< p  < \\hat{p} + z_{\\alpha} S_{\\hat{p}} $"
   ]
  },
  {
   "cell_type": "code",
   "execution_count": 111,
   "metadata": {},
   "outputs": [
    {
     "data": {
      "text/plain": [
       "<function statsmodels.stats.proportion.proportion_confint(count, nobs, alpha=0.05, method='normal')>"
      ]
     },
     "execution_count": 111,
     "metadata": {},
     "output_type": "execute_result"
    }
   ],
   "source": [
    "import statsmodels\n",
    "statsmodels.stats.proportion.proportion_confint"
   ]
  },
  {
   "cell_type": "markdown",
   "metadata": {},
   "source": [
    "### Непараметрические критерии"
   ]
  },
  {
   "cell_type": "markdown",
   "metadata": {},
   "source": [
    "Непараметрические критерии не требуют соответствия какому-либо из распределений. Непараметрические критерии заменяют реальные значения признака рангами. "
   ]
  },
  {
   "cell_type": "markdown",
   "metadata": {},
   "source": [
    "По сравнению с парамтерическими критериями, непараметрические - менее чувствительны."
   ]
  },
  {
   "cell_type": "markdown",
   "metadata": {},
   "source": [
    "<img width = '800px' src=\"images/lesson_6/non_param.png\">"
   ]
  },
  {
   "cell_type": "markdown",
   "metadata": {},
   "source": [
    "### 2.9 Критерий знаков "
   ]
  },
  {
   "cell_type": "markdown",
   "metadata": {},
   "source": [
    "### Одновыборочный критерий"
   ]
  },
  {
   "cell_type": "markdown",
   "metadata": {},
   "source": [
    "Очень простой критерий, не требует от выборки практически ничего. Его мощность составляет примерно 2/3 мощности критерия Стьюдента."
   ]
  },
  {
   "cell_type": "markdown",
   "metadata": {},
   "source": [
    "Проверим гипотезу о том, что курьеры на велосипедах доставляют заказ за 40 минут."
   ]
  },
  {
   "cell_type": "markdown",
   "metadata": {},
   "source": [
    "H0: med X = 40\n",
    "\n",
    "H1: med X > 40"
   ]
  },
  {
   "cell_type": "markdown",
   "metadata": {},
   "source": [
    "M = $ \\frac {N(+) - N(-)} {2} $, где N(+) - кол-во значений больше проверяемого значения, N(-) - меньше."
   ]
  },
  {
   "cell_type": "markdown",
   "metadata": {},
   "source": [
    "Статистика данного критерия будет иметь биноминальное распределение."
   ]
  },
  {
   "cell_type": "code",
   "execution_count": 112,
   "metadata": {},
   "outputs": [],
   "source": [
    "N_plus = len([x for x in norm_vel_sample if x>40])\n",
    "N_minus = len([x for x in norm_vel_sample if x<40])"
   ]
  },
  {
   "cell_type": "code",
   "execution_count": 113,
   "metadata": {},
   "outputs": [
    {
     "data": {
      "text/plain": [
       "-5.0"
      ]
     },
     "execution_count": 113,
     "metadata": {},
     "output_type": "execute_result"
    }
   ],
   "source": [
    "M = (N_plus - N_minus)/2\n",
    "M"
   ]
  },
  {
   "cell_type": "markdown",
   "metadata": {},
   "source": [
    "Статистика критерия имеет биноминальное распределение."
   ]
  },
  {
   "cell_type": "code",
   "execution_count": 118,
   "metadata": {},
   "outputs": [
    {
     "data": {
      "text/plain": [
       "(-5.0, 0.20263875106454063)"
      ]
     },
     "execution_count": 118,
     "metadata": {},
     "output_type": "execute_result"
    }
   ],
   "source": [
    "from statsmodels.stats.descriptivestats import sign_test\n",
    "sign_test(norm_vel_sample, 40)"
   ]
  },
  {
   "cell_type": "markdown",
   "metadata": {},
   "source": [
    "Гипотеза H0 принимается."
   ]
  },
  {
   "cell_type": "markdown",
   "metadata": {},
   "source": [
    "### Двувыборочный критерий для связанных выборок"
   ]
  },
  {
   "cell_type": "markdown",
   "metadata": {},
   "source": [
    "Аналогично можно посчитать критерий для связанных выборок."
   ]
  },
  {
   "cell_type": "markdown",
   "metadata": {},
   "source": [
    "$ H0: P(X_1 > X_2) = \\frac{1} {2}$\n",
    "\n",
    "$ H1: P(X_1 > X_2) <> \\frac{1} {2}$"
   ]
  },
  {
   "cell_type": "markdown",
   "metadata": {},
   "source": [
    "Курьерам выдали велосипеды и записали среднее время, с которым они доставляли заказы до и после выдачи. "
   ]
  },
  {
   "cell_type": "code",
   "execution_count": 126,
   "metadata": {},
   "outputs": [
    {
     "data": {
      "text/html": [
       "<div>\n",
       "<style scoped>\n",
       "    .dataframe tbody tr th:only-of-type {\n",
       "        vertical-align: middle;\n",
       "    }\n",
       "\n",
       "    .dataframe tbody tr th {\n",
       "        vertical-align: top;\n",
       "    }\n",
       "\n",
       "    .dataframe thead th {\n",
       "        text-align: right;\n",
       "    }\n",
       "</style>\n",
       "<table border=\"1\" class=\"dataframe\">\n",
       "  <thead>\n",
       "    <tr style=\"text-align: right;\">\n",
       "      <th></th>\n",
       "      <th>courier_id</th>\n",
       "      <th>time_before</th>\n",
       "      <th>time_after</th>\n",
       "      <th>stat_M</th>\n",
       "    </tr>\n",
       "  </thead>\n",
       "  <tbody>\n",
       "    <tr>\n",
       "      <th>0</th>\n",
       "      <td>0</td>\n",
       "      <td>14.958413</td>\n",
       "      <td>32.637648</td>\n",
       "      <td>0</td>\n",
       "    </tr>\n",
       "    <tr>\n",
       "      <th>1</th>\n",
       "      <td>1</td>\n",
       "      <td>45.472276</td>\n",
       "      <td>37.078157</td>\n",
       "      <td>1</td>\n",
       "    </tr>\n",
       "    <tr>\n",
       "      <th>2</th>\n",
       "      <td>2</td>\n",
       "      <td>30.318652</td>\n",
       "      <td>37.143199</td>\n",
       "      <td>0</td>\n",
       "    </tr>\n",
       "    <tr>\n",
       "      <th>3</th>\n",
       "      <td>3</td>\n",
       "      <td>25.775910</td>\n",
       "      <td>47.052992</td>\n",
       "      <td>0</td>\n",
       "    </tr>\n",
       "    <tr>\n",
       "      <th>4</th>\n",
       "      <td>4</td>\n",
       "      <td>27.991204</td>\n",
       "      <td>33.508611</td>\n",
       "      <td>0</td>\n",
       "    </tr>\n",
       "  </tbody>\n",
       "</table>\n",
       "</div>"
      ],
      "text/plain": [
       "   courier_id  time_before  time_after  stat_M\n",
       "0           0    14.958413   32.637648       0\n",
       "1           1    45.472276   37.078157       1\n",
       "2           2    30.318652   37.143199       0\n",
       "3           3    25.775910   47.052992       0\n",
       "4           4    27.991204   33.508611       0"
      ]
     },
     "execution_count": 126,
     "metadata": {},
     "output_type": "execute_result"
    }
   ],
   "source": [
    "df = pd.DataFrame()\n",
    "df['courier_id'] = np.arange(0,100)\n",
    "df['time_before'] = norm_rv1.rvs(size=100)\n",
    "df['time_after'] = norm_rv1.rvs(size=100)\n",
    "df['stat_M'] = np.where(df.time_before > df.time_after,1,0)\n",
    "df.head()"
   ]
  },
  {
   "cell_type": "markdown",
   "metadata": {},
   "source": [
    "Аналогично одновыборочному критерию:"
   ]
  },
  {
   "cell_type": "code",
   "execution_count": 129,
   "metadata": {},
   "outputs": [],
   "source": [
    "N_plus = df.stat_M.sum()\n",
    "N_minus = df.shape[0] - N_plus"
   ]
  },
  {
   "cell_type": "code",
   "execution_count": 131,
   "metadata": {},
   "outputs": [
    {
     "data": {
      "text/plain": [
       "-2.0"
      ]
     },
     "execution_count": 131,
     "metadata": {},
     "output_type": "execute_result"
    }
   ],
   "source": [
    "M = (N_plus - N_minus)/2\n",
    "M"
   ]
  },
  {
   "cell_type": "code",
   "execution_count": 128,
   "metadata": {},
   "outputs": [
    {
     "data": {
      "text/plain": [
       "(-2.0, 0.7643534344026666)"
      ]
     },
     "execution_count": 128,
     "metadata": {},
     "output_type": "execute_result"
    }
   ],
   "source": [
    "sign_test(df.time_before - df.time_after)"
   ]
  },
  {
   "cell_type": "markdown",
   "metadata": {},
   "source": [
    "### Ранговые критерии"
   ]
  },
  {
   "cell_type": "markdown",
   "metadata": {},
   "source": [
    "Ранговые критерии выбрасывают большую часть информации, вместо значений используют лишь бинарный вектор, ранговые критерии сохрнаяют больше информации. Ранг - позиция элемента в вариационном ряду. "
   ]
  },
  {
   "cell_type": "markdown",
   "metadata": {},
   "source": [
    "### 2.10 Критерий знаков рангов Уилкоксона"
   ]
  },
  {
   "cell_type": "markdown",
   "metadata": {},
   "source": [
    "### Одновыборочный критерий"
   ]
  },
  {
   "cell_type": "markdown",
   "metadata": {},
   "source": [
    "$H0: medX = m0$\n",
    "\n",
    "$H1: medX <> m0$\n",
    "    \n",
    "$ статистика: W = \\sum_{i=1}^N rank(|Xi −m0|)·sign(Xi −m0)$"
   ]
  },
  {
   "cell_type": "markdown",
   "metadata": {},
   "source": [
    "Нулевое распределение данного критерия - табличное."
   ]
  },
  {
   "cell_type": "markdown",
   "metadata": {},
   "source": [
    "При справедливости нулевой гипотезы каждый из рангов в выборке мог с одинаковой вероятностью реализоваться с любым знаком (sign(Xi −m0)): и с «+», и с «−». Таким образом, получается $2^n$ вариантов распределения знаков по рангам."
   ]
  },
  {
   "cell_type": "markdown",
   "metadata": {},
   "source": [
    "<img width = '200px' src=\"images/lesson_6/ranks_.png\">"
   ]
  },
  {
   "cell_type": "markdown",
   "metadata": {},
   "source": [
    "Перебирая все эти варианты, для каждого из них можно вычислить значение статистики."
   ]
  },
  {
   "cell_type": "markdown",
   "metadata": {},
   "source": [
    "<img width = '500px' src=\"images/lesson_6/distr.png\">"
   ]
  },
  {
   "cell_type": "markdown",
   "metadata": {},
   "source": [
    "Ограничения: число измерений - от 5 до 50."
   ]
  },
  {
   "cell_type": "markdown",
   "metadata": {},
   "source": [
    "**Задача** - проверить, среднее время доставки заказа курьеров на велосипеде равно 40 минутам."
   ]
  },
  {
   "cell_type": "code",
   "execution_count": 133,
   "metadata": {},
   "outputs": [],
   "source": [
    "m0 = 40"
   ]
  },
  {
   "cell_type": "code",
   "execution_count": 134,
   "metadata": {},
   "outputs": [
    {
     "data": {
      "text/plain": [
       "WilcoxonResult(statistic=0.0, pvalue=7.556929455863566e-10)"
      ]
     },
     "execution_count": 134,
     "metadata": {},
     "output_type": "execute_result"
    }
   ],
   "source": [
    "stats.wilcoxon(norm_vel_sample)"
   ]
  },
  {
   "cell_type": "markdown",
   "metadata": {},
   "source": [
    "### Двувыборочный критерий со связанными выборками"
   ]
  },
  {
   "cell_type": "markdown",
   "metadata": {},
   "source": [
    "$H0: med(X_1 - X_2) = 0 $\n",
    "\n",
    "$H1: med(X_1 - X_2) <> 0 $\n",
    "    \n",
    "$ статистика: W = \\sum_{i=1}^N rank(|X_{1i} − X_{2i}|)·sign(X_{1i} − X_{2i})$"
   ]
  },
  {
   "cell_type": "markdown",
   "metadata": {},
   "source": [
    "Аналогично одновыборочному критерию."
   ]
  },
  {
   "cell_type": "markdown",
   "metadata": {},
   "source": [
    "**Задача** - проверить, значимо ли изменилось время доставки курьеров после выдачи им велосипедов."
   ]
  },
  {
   "cell_type": "code",
   "execution_count": 184,
   "metadata": {},
   "outputs": [
    {
     "data": {
      "text/plain": [
       "WilcoxonResult(statistic=497.0, pvalue=0.175008298276776)"
      ]
     },
     "execution_count": 184,
     "metadata": {},
     "output_type": "execute_result"
    }
   ],
   "source": [
    "stats.wilcoxon(df.time_before.iloc[:50],df.time_after.iloc[:50])"
   ]
  },
  {
   "cell_type": "markdown",
   "metadata": {},
   "source": [
    "### 2.11 Критерий Манна-Уитни"
   ]
  },
  {
   "cell_type": "markdown",
   "metadata": {},
   "source": [
    "### Двувыборочный критерий с несвязанными выборками"
   ]
  },
  {
   "cell_type": "markdown",
   "metadata": {},
   "source": [
    "$ H_0: F_{X_{1}} (x) =  F_{X_{2}} (x) $\n",
    "    \n",
    "$ H1: F_{X_{1}} (x) =  F_{X_{2}} (x + ∆),∆ <> 0 $"
   ]
  },
  {
   "cell_type": "markdown",
   "metadata": {},
   "source": [
    "$статистика: R = \\sum_{i = 1} ^ N rank(X_{1i}) $"
   ]
  },
  {
   "cell_type": "markdown",
   "metadata": {},
   "source": [
    "Нулевое распределение - табличное (https://statpsy.ru/mana-uitni/tablica-manna-uitni/)."
   ]
  },
  {
   "cell_type": "markdown",
   "metadata": {},
   "source": [
    "Критерий подходит для сравнения малых выборок: в каждой из выборок должно быть не менее 3 значений признака. Допускается, чтобы в одной выборке было 2 значения, но во второй тогда должно быть не менее пяти."
   ]
  },
  {
   "cell_type": "markdown",
   "metadata": {},
   "source": [
    "**Задача** - сравнить, "
   ]
  },
  {
   "cell_type": "code",
   "execution_count": 146,
   "metadata": {},
   "outputs": [
    {
     "data": {
      "text/plain": [
       "MannwhitneyuResult(statistic=569.0, pvalue=1.3577416352606376e-06)"
      ]
     },
     "execution_count": 146,
     "metadata": {},
     "output_type": "execute_result"
    }
   ],
   "source": [
    "stats.mannwhitneyu(norm_vel_sample, norm_sam_sample)"
   ]
  },
  {
   "cell_type": "markdown",
   "metadata": {},
   "source": [
    "### 2.12 Перестановочные критерии"
   ]
  },
  {
   "cell_type": "markdown",
   "metadata": {},
   "source": [
    "При использовании ранговых критериев выборки превращают в ранги, затем делается какое-то дополнительное предположение, и на основании этого предположения получается, что разные конфигурации этих рангов при справедливости нулевой гипотезы могут реализоваться с равной вероятностью. Далее необходимо перебрать все конфигурации, и на каждой посчитать значение статистики — таким образом оценивается ее нулевое распределение.\n",
    "\n",
    "Если в этом алгоритме пропустить первый пункт(не превращать наблюдения в ранги),а остальное делать точно так же, то получится алгоритм работы перестановочных критериев."
   ]
  },
  {
   "cell_type": "markdown",
   "metadata": {},
   "source": [
    "### Одновыборочный критерий"
   ]
  },
  {
   "cell_type": "markdown",
   "metadata": {},
   "source": [
    "$ H0: EX = m0 $\n",
    "    \n",
    "$ H1: EX <> m0 $"
   ]
  },
  {
   "cell_type": "markdown",
   "metadata": {},
   "source": [
    " Одновыборочный перестановочный критерий проверяет нулевую гипотезу о значении математического ожидания случайной величины, из которой взята выборка. "
   ]
  },
  {
   "cell_type": "markdown",
   "metadata": {},
   "source": [
    "$ T = \\sum_{i = 1} ^ N (X_{i} - m_0)$"
   ]
  },
  {
   "cell_type": "markdown",
   "metadata": {},
   "source": [
    "Нулевое распределение порождается путем перебора $2^n$ знаков перед слагаемыми $ X_{i} - m_0 $."
   ]
  },
  {
   "cell_type": "markdown",
   "metadata": {},
   "source": [
    "**Задача** - проверить, среднее время доставки заказа курьеров на велосипеде равно 40 минутам."
   ]
  },
  {
   "cell_type": "code",
   "execution_count": 151,
   "metadata": {},
   "outputs": [],
   "source": [
    "def permutation_t_stat_1sample(sample, mean):\n",
    "    t_stat = sum(map(lambda x: x - mean, sample))\n",
    "    return t_stat"
   ]
  },
  {
   "cell_type": "code",
   "execution_count": 163,
   "metadata": {},
   "outputs": [
    {
     "data": {
      "text/plain": [
       "-108.71015216070111"
      ]
     },
     "execution_count": 163,
     "metadata": {},
     "output_type": "execute_result"
    }
   ],
   "source": [
    "permutation_t_stat_1sample(norm_vel_sample, 40)"
   ]
  },
  {
   "cell_type": "markdown",
   "metadata": {},
   "source": [
    "Статистика критерия посчитана, теперь необходимо получить нулевую статистику при верности нулевой гипотезы."
   ]
  },
  {
   "cell_type": "code",
   "execution_count": 173,
   "metadata": {},
   "outputs": [],
   "source": [
    "def permutation_zero_distr_1sample(sample, mean, max_permutations = None):\n",
    "    centered_sample = list(map(lambda x: x - mean, sample))\n",
    "\n",
    "    if max_permutations:\n",
    "        signs_array = set([tuple(x) for x in 2 * np.random.randint(2, size = (max_permutations, \n",
    "                                                                              len(sample))) - 1 ])\n",
    "    else:\n",
    "        #перебор всех возможных позиций элементов массива \n",
    "        signs_array =  itertools.product([-1, 1], repeat = len(sample))  \n",
    "    distr = [sum(centered_sample * np.array(signs)) for signs in signs_array]\n",
    "    return distr"
   ]
  },
  {
   "cell_type": "code",
   "execution_count": 174,
   "metadata": {},
   "outputs": [
    {
     "data": {
      "image/png": "[encoded data removed]",
      "text/plain": [
       "<Figure size 432x288 with 1 Axes>"
      ]
     },
     "metadata": {
      "needs_background": "light"
     },
     "output_type": "display_data"
    }
   ],
   "source": [
    "plt.hist(permutation_zero_distr_1sample(norm_vel_sample,40,10000), bins = 50)\n",
    "plt.show()"
   ]
  },
  {
   "cell_type": "code",
   "execution_count": 176,
   "metadata": {},
   "outputs": [],
   "source": [
    "def permutation_test(sample, mean, max_permutations = None, alternative = 'two-sided'):\n",
    "    if alternative not in ('two-sided', 'less', 'greater'):\n",
    "        raise ValueError(\"alternative not recognized\\n\"\n",
    "                         \"should be 'two-sided', 'less' or 'greater'\")\n",
    "    \n",
    "    t_stat = permutation_t_stat_1sample(sample, mean)\n",
    "    \n",
    "    zero_distr = permutation_zero_distr_1sample(sample, mean, max_permutations)\n",
    "    \n",
    "    if alternative == 'two-sided':\n",
    "        return sum([1. if abs(x) >= abs(t_stat) else 0. for x in zero_distr]) / len(zero_distr)\n",
    "    \n",
    "    if alternative == 'less':\n",
    "        return sum([1. if x <= t_stat else 0. for x in zero_distr]) / len(zero_distr)\n",
    "\n",
    "    if alternative == 'greater':\n",
    "        return sum([1. if x >= t_stat else 0. for x in zero_distr]) / len(zero_distr)"
   ]
  },
  {
   "cell_type": "code",
   "execution_count": 177,
   "metadata": {},
   "outputs": [
    {
     "data": {
      "text/plain": [
       "0.1495"
      ]
     },
     "execution_count": 177,
     "metadata": {},
     "output_type": "execute_result"
    }
   ],
   "source": [
    "permutation_test(norm_vel_sample, 40,10000)"
   ]
  },
  {
   "cell_type": "markdown",
   "metadata": {},
   "source": [
    "### Двувыборочный критерий для зависимых выборок"
   ]
  },
  {
   "cell_type": "markdown",
   "metadata": {},
   "source": [
    "$ H0: E(X_1 - X_2) = 0 $\n",
    "    \n",
    "$ H1: E(X_1 - X_2) <> 0$"
   ]
  },
  {
   "cell_type": "markdown",
   "metadata": {},
   "source": [
    "Двухвыборочная задача со связанными выборками решается с использованием абсолютно такого же критерия: от двух связанных выборок происходит переход к одной выборке соответствующих попарных разностей."
   ]
  },
  {
   "cell_type": "markdown",
   "metadata": {},
   "source": [
    "$ T = \\sum_{i = 1} ^ N (D_i)$"
   ]
  },
  {
   "cell_type": "markdown",
   "metadata": {},
   "source": [
    "Нулевое распределение порождается путем перебора $2^n$ знаков перед слагаемыми $ D_{i}$."
   ]
  },
  {
   "cell_type": "markdown",
   "metadata": {},
   "source": [
    "**Задача** - проверить, значимо ли изменилось время доставки курьеров после выдачи им велосипедов."
   ]
  },
  {
   "cell_type": "markdown",
   "metadata": {},
   "source": [
    "По аналогии с одновыборочным критерием, только теперь среднее 0 и в качестве данных - разница выборок."
   ]
  },
  {
   "cell_type": "code",
   "execution_count": 186,
   "metadata": {},
   "outputs": [
    {
     "data": {
      "text/plain": [
       "0.16893"
      ]
     },
     "execution_count": 186,
     "metadata": {},
     "output_type": "execute_result"
    }
   ],
   "source": [
    "permutation_test(df.time_after.iloc[:50] - df.time_before.iloc[:50],0,100000)"
   ]
  },
  {
   "cell_type": "markdown",
   "metadata": {},
   "source": [
    "### Двувыборочный критерий для независимых выборок."
   ]
  },
  {
   "cell_type": "markdown",
   "metadata": {},
   "source": [
    "Перестановочный критерий для независимых выборок выглядит абсолютно так же, как критерий МаннаУитни за исключением того, что не производятся ранговые преобразования. "
   ]
  },
  {
   "cell_type": "markdown",
   "metadata": {},
   "source": [
    "$ H_0: F_{X_{1}} (x) =  F_{X_{2}} (x) $\n",
    "    \n",
    "$ H1: F_{X_{1}} (x) =  F_{X_{2}} (x + ∆),∆ <> 0 $"
   ]
  },
  {
   "cell_type": "markdown",
   "metadata": {},
   "source": [
    "$ T = \\frac{1} {n_1} \\sum_{i = 1} ^ {N_1} X_{1i} - \\frac{1} {n_2}  \\sum_{i = 1} ^ {N_2} X_{2i}  $"
   ]
  },
  {
   "cell_type": "markdown",
   "metadata": {},
   "source": [
    "Нулевая статистика получается по аналогии с критерием Манна-Уитни путем перебора размещений объединенной выборки."
   ]
  },
  {
   "cell_type": "markdown",
   "metadata": {},
   "source": [
    "**Задача** - понять, отличается ли как-то скорость доставки заказов клиентам на электросамокатах от скорости доставки на велосипедах."
   ]
  },
  {
   "cell_type": "code",
   "execution_count": 205,
   "metadata": {},
   "outputs": [],
   "source": [
    "def permutation_t_stat_ind(sample1, sample2):\n",
    "    return np.mean(sample1) - np.mean(sample2)"
   ]
  },
  {
   "cell_type": "code",
   "execution_count": 196,
   "metadata": {},
   "outputs": [],
   "source": [
    "def get_random_combinations(n1, n2, max_combinations):\n",
    "    index = np.arange(n1 + n2)\n",
    "    indices = set([tuple(index)])\n",
    "    for i in range(max_combinations - 1):\n",
    "        np.random.shuffle(index)\n",
    "        indices.add(tuple(index))\n",
    "    return [(index[:n1], index[n1:]) for index in indices]"
   ]
  },
  {
   "cell_type": "code",
   "execution_count": 197,
   "metadata": {},
   "outputs": [],
   "source": [
    "def permutation_zero_dist_ind(sample1, sample2, max_combinations = None):\n",
    "    joined_sample = np.hstack((sample1, sample2))\n",
    "    n1 = len(sample1)\n",
    "    n = len(joined_sample)\n",
    "    \n",
    "    if max_combinations:\n",
    "        indices = get_random_combinations(n1, len(sample2), max_combinations)\n",
    "    else:\n",
    "        indices = [(list(index), filter(lambda i: i not in index, range(n))) \\\n",
    "                    for index in itertools.combinations(range(n), n1)]\n",
    "    \n",
    "    distr = [joined_sample[list(i[0])].mean() - joined_sample[list(i[1])].mean() \\\n",
    "             for i in indices]\n",
    "    return distr"
   ]
  },
  {
   "cell_type": "code",
   "execution_count": 200,
   "metadata": {},
   "outputs": [
    {
     "data": {
      "image/png": "[encoded data removed]",
      "text/plain": [
       "<Figure size 432x288 with 1 Axes>"
      ]
     },
     "metadata": {
      "needs_background": "light"
     },
     "output_type": "display_data"
    }
   ],
   "source": [
    "plt.hist(permutation_zero_dist_ind(norm_vel_sample, norm_sam_sample, max_combinations = 10000), bins = 100)\n",
    "plt.show()"
   ]
  },
  {
   "cell_type": "code",
   "execution_count": 206,
   "metadata": {},
   "outputs": [],
   "source": [
    "def permutation_test(sample, mean, max_permutations = None, alternative = 'two-sided'):\n",
    "    if alternative not in ('two-sided', 'less', 'greater'):\n",
    "        raise ValueError(\"alternative not recognized\\n\"\n",
    "                         \"should be 'two-sided', 'less' or 'greater'\")\n",
    "    \n",
    "    t_stat = permutation_t_stat_ind(sample, mean)\n",
    "    \n",
    "    zero_distr = permutation_zero_dist_ind(sample, mean, max_permutations)\n",
    "    \n",
    "    if alternative == 'two-sided':\n",
    "        return sum([1. if abs(x) >= abs(t_stat) else 0. for x in zero_distr]) / len(zero_distr)\n",
    "    \n",
    "    if alternative == 'less':\n",
    "        return sum([1. if x <= t_stat else 0. for x in zero_distr]) / len(zero_distr)\n",
    "\n",
    "    if alternative == 'greater':\n",
    "        return sum([1. if x >= t_stat else 0. for x in zero_distr]) / len(zero_distr)"
   ]
  },
  {
   "cell_type": "code",
   "execution_count": 213,
   "metadata": {},
   "outputs": [
    {
     "data": {
      "text/plain": [
       "0.01"
      ]
     },
     "execution_count": 213,
     "metadata": {},
     "output_type": "execute_result"
    }
   ],
   "source": [
    "permutation_test(norm_vel_sample, norm_sam_sample, max_permutations = 100)"
   ]
  }
 ],
 "metadata": {
  "kernelspec": {
   "display_name": "Python 3",
   "language": "python",
   "name": "python3"
  },
  "language_info": {
   "codemirror_mode": {
    "name": "ipython",
    "version": 3
   },
   "file_extension": ".py",
   "mimetype": "text/x-python",
   "name": "python",
   "nbconvert_exporter": "python",
   "pygments_lexer": "ipython3",
   "version": "3.6.6"
  }
 },
 "nbformat": 4,
 "nbformat_minor": 2
}

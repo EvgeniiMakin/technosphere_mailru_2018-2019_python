{
 "cells": [
  {
   "cell_type": "markdown",
   "metadata": {},
   "source": [
    "# Введение в статистику и библиотека Scipy"
   ]
  },
  {
   "cell_type": "markdown",
   "metadata": {},
   "source": [
    "Схема доставки заказа клиенту DC."
   ]
  },
  {
   "cell_type": "markdown",
   "metadata": {},
   "source": [
    "<img width = '750px' src=\"images/lesson_6/zone.png\">"
   ]
  },
  {
   "cell_type": "code",
   "execution_count": 3,
   "metadata": {},
   "outputs": [],
   "source": [
    "import pandas as pd\n",
    "import matplotlib.pyplot as plt\n",
    "%matplotlib inline\n",
    "import seaborn as sns\n",
    "import numpy as np\n",
    "import itertools\n",
    "\n",
    "import random\n",
    "\n",
    "from IPython.display import *\n",
    "\n",
    "from scipy import stats"
   ]
  },
  {
   "cell_type": "markdown",
   "metadata": {},
   "source": [
    "### Выборка и генеральная совокупность"
   ]
  },
  {
   "cell_type": "markdown",
   "metadata": {},
   "source": [
    "**Генеральная совокупность** – это совокупность всех мысленно возможных объектов данного вида, над которыми проводятся наблюдения с целью получения конкретных значений определенной случайной величины."
   ]
  },
  {
   "cell_type": "markdown",
   "metadata": {},
   "source": [
    "**Выборкой** (выборочной совокупностью) называется совокупность случайно отобранных объектов из генеральной совокупности."
   ]
  },
  {
   "cell_type": "markdown",
   "metadata": {},
   "source": [
    "### 1. Описательная статистика"
   ]
  },
  {
   "cell_type": "markdown",
   "metadata": {},
   "source": [
    "Допустим, у нас есть не случайная выборка данных, а вся **генеральная совокупность** заказов в зоне под номером 13 за всю историю работы платформы DC. Попробуем ее теоретически построить."
   ]
  },
  {
   "cell_type": "code",
   "execution_count": 4,
   "metadata": {},
   "outputs": [
    {
     "data": {
      "image/png": "[encoded data removed]",
      "text/plain": [
       "<Figure size 1008x504 with 1 Axes>"
      ]
     },
     "metadata": {
      "needs_background": "light"
     },
     "output_type": "display_data"
    }
   ],
   "source": [
    "norm_rv1 = stats.norm(loc=35, scale = 10)\n",
    "\n",
    "#генерирует случайные значения из распредления norm_rv1\n",
    "gen_pop = norm_rv1.rvs(size=10000)\n",
    "\n",
    "fig = plt.figure(figsize=(14, 7))\n",
    "ax1 = plt.subplot(111)\n",
    "plt.hist(gen_pop, 50, alpha=0.8)\n",
    "plt.show()"
   ]
  },
  {
   "cell_type": "markdown",
   "metadata": {},
   "source": [
    "Основные меры концентрации:\n",
    "- медиана;\n",
    "- мода;\n",
    "- среднее арифметическое;\n",
    "- перцентили."
   ]
  },
  {
   "cell_type": "code",
   "execution_count": 5,
   "metadata": {},
   "outputs": [
    {
     "data": {
      "image/png": "[encoded data removed]",
      "text/plain": [
       "<Figure size 1728x432 with 2 Axes>"
      ]
     },
     "metadata": {
      "needs_background": "light"
     },
     "output_type": "display_data"
    }
   ],
   "source": [
    "fig = plt.figure(figsize=(24, 6))\n",
    "\n",
    "ax1 = plt.subplot(121)\n",
    "plt.hist(gen_pop, 50, alpha=0.8)\n",
    "line1 = plt.axvline(np.mean(gen_pop), label=('Ср. арифм. = '+str(round(np.mean(gen_pop), 2))), color='c', linestyle='dashed', linewidth=2.5)\n",
    "ax1.legend(handles=[line1])\n",
    "\n",
    "ax2 = plt.subplot(122)\n",
    "plt.hist(gen_pop, 50, alpha=0.8)\n",
    "line2 = plt.axvline(np.median(gen_pop), label=('Медиана = '+str(round(np.median(gen_pop), 2))), color='c', linestyle='dashed', linewidth=2.5)\n",
    "ax2.legend(handles=[line2])\n",
    "\n",
    "plt.show()"
   ]
  },
  {
   "cell_type": "markdown",
   "metadata": {},
   "source": [
    "Основные меры распределения:\n",
    "- среднеквадратическое отклонение;\n",
    "- дисперсия."
   ]
  },
  {
   "cell_type": "markdown",
   "metadata": {},
   "source": [
    "Для генеральной совокупности данных:\n",
    "\n",
    "среднее  - $ \\mu =  \\frac{1} {N} \\sum_{i=1}^N (x_i) $\n",
    "\n",
    "дисперсия - $ \\sigma^2 = { \\frac{1} {N} \\sum_{i=1}^N (x_i - \\mu)^2}$\n",
    "\n",
    "среднеквадратическое отклонение - $ \\sigma = \\sqrt{ \\frac{1} {N} \\sum_{i=1}^N (x_i - \\mu)^2}$"
   ]
  },
  {
   "cell_type": "code",
   "execution_count": 6,
   "metadata": {},
   "outputs": [],
   "source": [
    "mean_ = np.mean(gen_pop)\n",
    "var_ = np.var(gen_pop)\n",
    "std_ = np.std(gen_pop)\n",
    "percentile_10 = np.percentile(gen_pop,10)"
   ]
  },
  {
   "cell_type": "markdown",
   "metadata": {},
   "source": [
    "Распределение генеральной совокупности имеет вид колокола, называется **нормальным** или **гауссовским** и описывается формулой:\n",
    "\n",
    "$ pdf(x,\\mu,\\sigma) = \\frac{1}{ \\sigma\\sqrt{2 \\pi}} e^{\\left(-\\frac{{\\left(\\mu - x\\right)}^{2}}{2 \\, \\sigma^{2}}\\right)}$"
   ]
  },
  {
   "cell_type": "markdown",
   "metadata": {},
   "source": [
    "<img width = '500px' src=\"images/lesson_6/d0ff538d59154901b18a98469de07fde.png\">"
   ]
  },
  {
   "cell_type": "markdown",
   "metadata": {},
   "source": [
    "### Выборочные оценки"
   ]
  },
  {
   "cell_type": "markdown",
   "metadata": {},
   "source": [
    "Зачастую у нас нет возможности работы с генеральной совокупностью, мы имеем дело только с выборкой, то есть мы не можем точно знать значения дисперсии и стандартного отклонения, поэтому данные показатели мы можем лишь оценить."
   ]
  },
  {
   "cell_type": "markdown",
   "metadata": {},
   "source": [
    "Среднее генеральной совокупности через **выборочное среднее**:\n",
    "\n",
    "$ \\overline{X} =  \\frac{1} {n} \\sum_{i=1}^n (x_i) $, здесь n - объем выборки.\n",
    "\n",
    "Стандартное отклонение через **выборочное стандартное отклонение**:\n",
    "\n",
    "$ S = \\sqrt{ \\frac{1} {n-1} \\sum_{i=1}^n (x_i - \\overline{X})^2}$.\n",
    "\n",
    "Разброс значений в пределах выборки никогда не бывает столь большим, как во всей совокупности, и деление не на n, а на n – 1 компенсирует возникающее занижение оценки стандартного отклонения.\n"
   ]
  },
  {
   "cell_type": "code",
   "execution_count": 7,
   "metadata": {},
   "outputs": [],
   "source": [
    "#выборка\n",
    "zone_orders_sample = random.sample(list(gen_pop), 1000) "
   ]
  },
  {
   "cell_type": "code",
   "execution_count": 8,
   "metadata": {},
   "outputs": [],
   "source": [
    "sample_std = np.std(zone_orders_sample, ddof = 1)\n",
    "# ddof задает делитель как (N - ddof)"
   ]
  },
  {
   "cell_type": "markdown",
   "metadata": {},
   "source": [
    "Разные выборки из генеральной совокупности могут отличаться от самой генеральной совокупности, то есть при оценке генеральной совокупности через выборку мы можем ошибаться. Такая ошибка называется **стандартная ошибка**. Рассчитывается для любого показателя, чаще всего используется **стандартная ошибка среднего** (т.е. оценивает точность, с которой выборочное среднее оценивает среднее генеральной совокупности)."
   ]
  },
  {
   "cell_type": "markdown",
   "metadata": {},
   "source": [
    "истинная стандартная ошибка - $ {\\sigma }_{\\bar {x}}\\ ={\\frac {\\sigma }{\\sqrt {N}}} $\n",
    "\n",
    "оценка стандратной ошибки по выборке - $ {S }_{\\bar {x}}\\ ={\\frac {S }{\\sqrt {n}}} $"
   ]
  },
  {
   "cell_type": "markdown",
   "metadata": {},
   "source": [
    "Чем больше выборка, тем точнее оценка среднего и тем меньше\n",
    "его стандартная ошибка. Чем больше изменчивость исходной\n",
    "совокупности, тем больше изменчивость выборочных средних,\n",
    "поэтому стандартная ошибка среднего возрастает с увеличением\n",
    "стандартного отклонения совокупности."
   ]
  },
  {
   "cell_type": "markdown",
   "metadata": {},
   "source": [
    "**В отличие от стандартного\n",
    "отклонения стандартная ошибка среднего ничего не\n",
    "говорит о разбросе данных, — она лишь показывает точность\n",
    "выборочной оценки среднего.**"
   ]
  },
  {
   "cell_type": "markdown",
   "metadata": {},
   "source": [
    "### 2. Проверка гипотез"
   ]
  },
  {
   "cell_type": "markdown",
   "metadata": {},
   "source": [
    "Пайплайн оценки статистической значимости:\n",
    "- Формулирование нулевой гипотезы (H0);\n",
    "- Оценка вероятности получить наблюдаемые (или более сильные) различия при условии справедливости нулевой гипотезы;\n",
    "- Принятие либо отвержение нулевой гипотезы."
   ]
  },
  {
   "cell_type": "markdown",
   "metadata": {},
   "source": [
    "### 2.1 Однофакторный дисперсионный анализ"
   ]
  },
  {
   "cell_type": "markdown",
   "metadata": {},
   "source": [
    "**Задача**. Курьерам выдали электроскутеры, велосипеды, электровелосипеды и самокаты. \n",
    "Понять, отличается ли как-то скорость доставки заказов клиентам в этих группах/все ли выборки взяты из одного (схожего) распредления /какова вероятность получить такие различия в группах, которые будут найдены извлекая случайные выборки из генеральной совокупности?"
   ]
  },
  {
   "cell_type": "markdown",
   "metadata": {},
   "source": [
    "В теории, если курьерам выдали электроскутеры, то среднее в распредлении будет смещено влево - то есть среднее время доставки заказов в теории должно уменьшиться.\n",
    "Представим другую ситуацию - курьерам сложно овладевать новой техникой, они тратят много времени на то, чтобы пристегнуть/запустить ее, то есть среднее время доставки не поменялось, данные по среднему времени доставки заказов пришли из **одного распределения**. "
   ]
  },
  {
   "cell_type": "markdown",
   "metadata": {},
   "source": [
    "Представим, Извлечем из нашей совокупности 4 случайные подгруппы по 10 заказов в каждой."
   ]
  },
  {
   "cell_type": "code",
   "execution_count": 9,
   "metadata": {},
   "outputs": [
    {
     "data": {
      "text/plain": [
       "[array([14.20760055, 34.63302896, 47.34162291, 47.46480331, 42.99062878,\n",
       "        39.2751526 , 48.75124714, 35.87185847, 22.27708556, 14.84465437]),\n",
       " array([34.03994602, 46.79975274, 29.51126291, 24.43783833, 46.19745442,\n",
       "        36.09981265, 31.21312795, 22.4853837 , 32.35581028, 34.95932895]),\n",
       " array([30.68953014, 36.57511863, 37.82525816, 55.24514013, 31.42166413,\n",
       "        47.61868012, 30.0211683 , 35.72616501, 31.06683424, 20.46295223]),\n",
       " array([ 1.10794376, 35.76316738, 37.68253952, 23.8932144 , 18.49745224,\n",
       "        25.70867958, 36.87129755, 36.51139937, 26.57973074, 28.3544857 ]),\n",
       " array([37.30552306, 47.01778518,  4.50648825, 55.40934931, 49.7832732 ,\n",
       "        40.7501675 , 32.96549952, 16.2625721 , 25.08024665, 33.40433188]),\n",
       " array([31.67105197, 35.27222034, 39.94158624, 34.55687626, 31.47502889,\n",
       "        29.2389885 , 58.65362191, 18.14515463, 40.39006853, 30.05310544]),\n",
       " array([33.82560019, 51.47683411, 41.73926306, 17.26484459, 39.26692605,\n",
       "        24.53630677, 37.53754434, 30.18007573, 23.45279652, 29.71167361]),\n",
       " array([44.77697194, 39.56621589, 28.75843904, 54.69204189, 38.27170495,\n",
       "        26.47969266, 17.26779739, 55.40934931, 46.57176494, 31.0614131 ]),\n",
       " array([31.35179755, 48.25527663,  6.83399653, 28.77481302, 19.07815041,\n",
       "        37.15240916, 17.04531611, 40.7170366 , 36.35003201, 43.15472166]),\n",
       " array([46.36764428, 34.08058978, 39.63025304, 31.80438886, 31.53828751,\n",
       "        27.00240307, 43.05337298, 31.30360742, 50.94981456, 47.46480331]),\n",
       " array([47.92033439,  9.58871665, 52.17899348, 26.30140923, 38.65759784,\n",
       "        37.85559456, 39.96112227, 41.25593895, 23.93794285, 56.89234893]),\n",
       " array([38.32988537, 54.58878865, 38.25244231, 22.14397338, 48.38652109,\n",
       "        34.30820038, 51.84271451, 24.0950497 , 25.91106889, 36.80954677]),\n",
       " array([18.75964064, 23.65067911, 31.27130949, 33.07918387, 38.47784432,\n",
       "        37.74011053, 39.46953086, 39.53364457, 38.30362071, 27.49038662]),\n",
       " array([ 5.88227998, 26.0176522 , 29.93743066, 45.70419583, 37.17396899,\n",
       "        52.58454644, 40.37860806, 36.27123582, 46.13802127, 43.65085073]),\n",
       " array([24.01116179, 29.89443958, 43.45763108, 31.2240396 , 22.12891493,\n",
       "        53.79775698, 34.96869014, 34.36391903, 33.50674739, 51.12228764]),\n",
       " array([25.14503555, 25.84380644, 38.34267571, 41.96206811, 32.58714254,\n",
       "        22.06911638, 27.9923594 , 24.97904348, 47.71323162, 33.03610235]),\n",
       " array([45.39663087, 59.29864155, 31.99264293, 25.02497001, 39.55096104,\n",
       "        34.54855484, 31.64262483, 37.78313735, 45.89668345, 54.64762956]),\n",
       " array([49.42424485, 31.10315571, 41.03737714, 30.61656667, 16.88074763,\n",
       "        38.95621261, 43.17031761, 15.3037605 , 26.23194159, 27.27539824]),\n",
       " array([42.79772031, 30.50778277, 42.71495847, 31.02030678, 29.93683426,\n",
       "        39.22725146, 26.202419  , 34.48575026, 38.06396648, 39.20620952]),\n",
       " array([40.37116382, 34.17925202, 35.40306804, 22.32283785, 15.7965456 ,\n",
       "        30.22046164, 35.71117869, 32.75724308, 40.07612134, 27.55864399]),\n",
       " array([21.80970873, 32.04164576, 44.33739335, 22.213035  , 57.84449973,\n",
       "        22.6337173 , 27.43784159, 24.23227997, 18.49745224, 30.70310774]),\n",
       " array([39.2498942 , 15.63895183, 26.53916386, 27.33205187, 40.55131144,\n",
       "        48.75124714, 52.76799821, 40.58410643, 27.13360408, 30.83108017]),\n",
       " array([23.83804675, 30.15726683, 56.70272304, 15.79998137, 23.1913038 ,\n",
       "        33.17211505, 49.15774664, 29.28684346, 52.11805479, 24.17267746]),\n",
       " array([34.67947845, 53.79775698, 25.70867958, 32.97234302, 35.36019467,\n",
       "        41.98343269, 41.09774341, 20.13541001, 31.23823511, 39.39921239]),\n",
       " array([33.17419073, 43.98857564, 25.25924297, 22.45977852, 48.63871871,\n",
       "        50.78360007, 48.86112218, 17.56000576, 41.30090341, 39.12104833]),\n",
       " array([13.97938971, 37.60672222, 19.41532073, 22.39526837, 48.93263522,\n",
       "        26.86004123, 51.00983921, 40.71996812, 27.38155892, 30.73473986]),\n",
       " array([37.54652739, 33.14366913, 23.21158334, 17.42157133, 29.25510831,\n",
       "        37.15240916, 38.39729356, 49.08723043, 33.30211684, 12.39897912]),\n",
       " array([22.37938666, 36.80606602, 14.76645485, 36.88483791, 37.54652739,\n",
       "        29.08515526, 45.9074458 , 43.27977464, 36.57090695, 22.21388248]),\n",
       " array([35.04704134, 41.96206811, 32.70990878, 21.43613998, 53.81628901,\n",
       "        34.08340413, 32.27269416, 19.97050749, 31.31032211, 44.79733612]),\n",
       " array([42.5150207 , 49.82626293, 49.67917057, 42.12165821, 32.04856465,\n",
       "        29.46381186, 31.54873416, 35.66610845, 37.07588424, 30.99401688]),\n",
       " array([29.58012014, 43.61672913, 41.31857049, 36.30497494,  6.48377767,\n",
       "        23.8515622 , 21.3374403 , 25.8661786 , 18.75964064, 38.74209413]),\n",
       " array([35.83823484, 23.63380958, 26.33777597, 14.96732872, 34.09197375,\n",
       "        35.68822863, 41.05900054, 49.84196787, 29.97619217, 46.37480026]),\n",
       " array([36.86941332, 15.42211269, 52.11805479, 35.5664376 , 35.40306804,\n",
       "        42.89650125, 44.4026347 , 29.70760743, 40.50511681, 25.40124192]),\n",
       " array([27.55864399, 21.23004511, 30.26732387, 49.43569411, 15.08456653,\n",
       "        29.52255216, 37.13841613, 36.95283487, 19.50501543, 52.43148707]),\n",
       " array([20.31057776, 27.76173181, 28.57823731, 18.33319667, 27.83059449,\n",
       "        37.22743339, 45.90922861, 18.64620187, 28.75468141, 17.76175033]),\n",
       " array([20.86782609, 52.06858474, 17.08543836, 34.81963197, 25.48941995,\n",
       "        26.79486241, 29.22352333, 39.31748497, 46.18349838, 27.46998417]),\n",
       " array([38.33068508, 48.28065957, 26.9117767 , 16.72718417, 23.25648843,\n",
       "        27.22651872, 39.63997151, 23.93656527, 31.12087076,  5.62492637]),\n",
       " array([47.39866036, 32.20185778, 37.99272635, 39.13370682, 38.58580578,\n",
       "        40.79890965, 17.20921549, 32.20518683, 25.48941995, 14.37675124]),\n",
       " array([38.94224725, 38.51855809, 48.86317202, 19.16791041, 39.86831085,\n",
       "        42.84601252, 45.3928329 , 38.65759784, 26.92010293, 37.17396899]),\n",
       " array([30.29480155, 22.213035  , 27.33554364, 43.48621004, 40.4195212 ,\n",
       "        27.97181427, 20.8257171 , 16.20258157, 44.54212195, 43.98857564]),\n",
       " array([12.84254173, 30.553055  , 31.14410152, 41.16039648, 34.33849472,\n",
       "        29.52191485, 43.98857564, 17.57002405, 46.72016121, 31.241119  ]),\n",
       " array([23.79430511, 47.52906074, 55.6428498 , 32.43665395, 35.66610845,\n",
       "        20.57477397, 25.15389964, 35.80310875, 41.82121874, 54.26371885]),\n",
       " array([51.13956651, 52.07043979, 37.23127975, 22.53515583, 33.7808923 ,\n",
       "        31.03034471, 28.5470723 , 19.82870717, 48.66547491, 36.27032989]),\n",
       " array([20.60791916, 44.54212195, 31.68693248, 18.53256304, 45.2137785 ,\n",
       "        31.69081626, 31.66319227, 38.2840841 , 36.51899878, 46.29044337]),\n",
       " array([13.39587585, 25.14593278, 28.57286422, 40.2452206 , 58.65362191,\n",
       "        25.5706025 , 14.20350435, 42.15205547, 48.23207188, 30.90035083]),\n",
       " array([32.93481348, 29.80630402, 53.70234682, 52.17899348, 36.0000719 ,\n",
       "        20.46914372, 47.0848707 , 55.74198601, 43.869497  , 29.97729224]),\n",
       " array([43.10434305, 44.21383764, 31.29898108, 40.30488538, 29.73972909,\n",
       "        38.52607297, 33.95856228, 26.16287485, 27.92949851, 39.55002375]),\n",
       " array([30.39602091, 43.869497  , 24.82223392, 28.61073266, 29.67261175,\n",
       "        40.31826914, 32.7717099 , 23.38676471, 31.49427098, 23.99293581]),\n",
       " array([50.33135407, 41.8807546 , 36.63593907, 32.06440116, 26.145935  ,\n",
       "        45.91786619, 34.11021912, 39.48441743, 29.74625334, 29.86881016]),\n",
       " array([33.11252272, 16.13914072, 29.28218896, 17.68747436, 24.27293481,\n",
       "        26.00843517, 31.83245821, 38.24121525, 42.56675252, 39.9453223 ]),\n",
       " array([36.48029603, 26.1286823 , 47.98694877, 39.04627786, 41.36079132,\n",
       "        32.20185778, 53.29038594, 18.06898983, 48.99108846, 26.27757521]),\n",
       " array([24.9285376 , 32.36023195, 35.05678858, 37.90648688, 34.6771911 ,\n",
       "        34.8968737 , 27.59033372, 28.34178691, 47.15228213, 37.62182633]),\n",
       " array([36.51139937, 46.18198179, 29.00367792, 25.88959882, 32.61093617,\n",
       "        27.73237738, 50.14639987, 60.20957216, 46.43327024, 31.277398  ]),\n",
       " array([27.46998417, 38.2880117 , 44.57982642, 32.40427079, 23.20826277,\n",
       "        36.31335686, 43.49059348, 53.72721775, 36.77347308, 38.37231738]),\n",
       " array([28.87158902, 42.31660955, 45.06065743, 39.60883097, 27.03222213,\n",
       "        37.7923    , 28.16383269, 29.82592282, 35.82709728, 32.98606293]),\n",
       " array([24.27838038, 35.32921114, 31.58730497, 43.49517044, 30.93969748,\n",
       "        25.4278933 , 29.8407428 , 35.13823807, 21.38390598, 22.40809371]),\n",
       " array([31.67522084, 51.93553843, 41.93729381, 26.22888344, 23.47464371,\n",
       "        43.57759231, 11.85104918, 27.25708805, 36.47191208, 32.28698885]),\n",
       " array([54.86607321, 43.06425896, 35.85258922, 30.74873855, 44.92962263,\n",
       "        18.21418131, 38.03919027, 20.46295223, 43.69626265, 47.61852183]),\n",
       " array([27.96619324, 40.58274298, 17.68832099, 13.03035165, 32.99634066,\n",
       "        33.5559403 , 34.48395447, 36.07423853, 39.42224318, 26.52303993]),\n",
       " array([37.18302398, 38.74377439, 36.25905505, 43.85520066, 21.25126845,\n",
       "        38.30472168, 43.12041052, 56.52163263, 23.41482636, 24.26892892]),\n",
       " array([35.09794914, 39.05829997, 23.20848305, 35.63605923, 26.27757521,\n",
       "        16.66333297, 37.94316085, 53.21754723, 27.03836795, 24.53630677]),\n",
       " array([23.48333741, 24.9128837 , 48.72110458, 27.95795027, 36.00221626,\n",
       "        27.69517039, 37.9207554 , 31.12169277, 27.20231397, 21.85186458]),\n",
       " array([20.00693707, 18.39947747, 21.28096683, 36.28680321, 24.99211069,\n",
       "        15.37527053, 39.13756274, 30.89826298, 31.06361568, 39.12919919]),\n",
       " array([43.56853748, 39.17286908, 27.35751806, 42.62771098, 23.97319586,\n",
       "        28.52675214, 11.66516375, 42.68757499, 28.86991288, 26.9031403 ]),\n",
       " array([40.70632702, 56.52551183, 25.48908239, 44.2002615 , 46.0591703 ,\n",
       "        26.3346594 , 29.40723881, 53.58129409, 41.02701297, 35.53019518]),\n",
       " array([52.38451912, 56.67135267, 23.36190591, 29.69210183, 28.18615817,\n",
       "        33.98585768, 19.66360984, 40.10911927, 26.59839976, 36.90875993]),\n",
       " array([28.9402462 , 21.48091401, 36.1985774 , 48.53234033, 43.05271174,\n",
       "        39.16546012, 25.23099189, 30.81059805, 36.08424973, 27.43841122]),\n",
       " array([23.46819737, 26.0913069 , 28.59586327, 25.10095957, 32.86491465,\n",
       "        17.68747436, 24.5896033 , 26.4073848 , 55.98818711, 48.04775382]),\n",
       " array([44.23413469, 29.57602434, 37.86490891, 33.20842907,  9.51426052,\n",
       "        37.77292844, 55.84373266, 49.82626293, 43.64529644, 59.0028021 ]),\n",
       " array([24.29040971, 40.6657528 , 17.87182642, 44.54212195, 31.27130949,\n",
       "        29.05863552, 41.42491206, 33.47515836, 24.39887306, 19.04452734]),\n",
       " array([44.66237574, 50.93010474, 29.2969388 ,  4.50572178, 15.37911456,\n",
       "        47.57745915, 48.20978066, 18.22751872, 38.88846427, 42.94452631]),\n",
       " array([41.69462905, 36.19691575, 16.80599174, 43.48094566, 14.18903174,\n",
       "        20.86782609, 32.85539289, 29.28684346, 18.02481529, 11.6004515 ]),\n",
       " array([21.41963957, 38.34267571, 47.06661674, 36.63593907, 36.02922892,\n",
       "        39.15347887, 23.46617987, 31.93604574, 36.86359663, 40.67171726]),\n",
       " array([48.12949428, 21.47746302, 38.08790434, 25.70772702, 31.03034471,\n",
       "        34.48939049, 28.96241313, 34.33099614, 30.3743863 , 49.17981019]),\n",
       " array([39.43389601, 11.68893078, 34.37661907, 34.8470623 , 27.77769672,\n",
       "        41.30090341, 34.01409716, 23.33133238, 18.8747146 , 41.77224362]),\n",
       " array([21.89899196, 29.24801228, 19.44271261, 50.6920675 , 48.04775382,\n",
       "        42.42029024, 30.48342328, 27.08694646, 41.57622468, 67.52238594]),\n",
       " array([37.05650499, 29.19010792, 39.15923883, 38.02013408, 25.13848439,\n",
       "        24.18356424, 36.0000719 , 27.22411063, 50.10328898, 35.70104869]),\n",
       " array([40.68308993, 23.06957113, 29.91959966, 39.9415366 , 36.39119042,\n",
       "        47.95811814, 30.25795476, 26.55867761, 23.37400945, 35.5070733 ]),\n",
       " array([29.61301999, 27.54640321, 22.81671188, 30.82483734, 35.62593394,\n",
       "        37.00487314, 36.31335686, 38.10218386, 16.2866897 , 33.95856228]),\n",
       " array([25.25606195, 48.26324075, 51.0508834 , 17.87182642, 55.64789209,\n",
       "        58.2251099 , 34.39201443, 33.18634626, 26.9031403 , 32.47716713]),\n",
       " array([22.28617893, 25.52940443, 33.32139247, 25.17281033, 35.92683567,\n",
       "        19.15682051, 45.33575641, 25.66927008, 33.91409576, 44.00285132]),\n",
       " array([31.92912103, 44.48318816, 39.69352345, 40.07318818, 66.97047238,\n",
       "        60.87268614, 26.87448519, 30.61566106, 33.64385775, 44.47952856]),\n",
       " array([26.4301641 , 34.71169851, 42.37180334, 40.67729136, 19.05656745,\n",
       "        32.39497632, 26.53549938, 47.81680476, 44.12644559, 35.71766843]),\n",
       " array([39.78340107, 40.563361  , 43.89357374, 49.98605835, 37.02771546,\n",
       "        24.18356424, 37.76244562, 37.12386749, 35.18944595, 10.14584586]),\n",
       " array([37.31978445, 26.57973074, 25.96069757, 37.86490891, 21.38390598,\n",
       "        28.06065884, 31.776001  , 33.23304326, 44.95180534, 47.16065403]),\n",
       " array([41.67791787, 33.86210358, 48.0572374 , 22.92446101, 53.24550232,\n",
       "        37.63971497, 41.39591692, 26.00307496, 48.47997717, 49.50135237]),\n",
       " array([50.02708764, 24.16566171, 44.14207132, 34.37246155, 19.40263282,\n",
       "        43.03204622, 41.85046613, 45.3867182 , 41.21114642, 12.3658291 ]),\n",
       " array([39.55819463, 44.65432823, 21.33731558, 48.78759256, 39.72401448,\n",
       "        35.84900892, 34.52450664, 34.8049843 , 36.73341327, 28.28733119]),\n",
       " array([25.73349384, 39.8264797 , 30.0950036 ,  9.86467827, 38.13354347,\n",
       "        23.66246805, 36.3251589 , 18.11184021, 30.65629577, 25.28610004]),\n",
       " array([57.22710092, 37.94331972, 35.30995377, 33.14366913, 44.1907047 ,\n",
       "        37.07033986, 51.27232499, 23.24717834, 31.88198024, 37.02771546]),\n",
       " array([40.68308993, 17.44927514, 33.10777935, 49.78176281, 49.50135237,\n",
       "        59.47165592, 29.74082925, 27.04560959, 34.29661513, 48.91524305]),\n",
       " array([36.28140845, 38.8469709 , 23.48117903, 48.57796293, 36.67673328,\n",
       "        49.78176281, 35.46770698, 45.25317005, 29.90462642, 40.03532233]),\n",
       " array([34.60164327, 35.43788127, 31.44419668, 28.91544753, 39.09125541,\n",
       "        38.74786696, 31.50780445, 42.66712788, 39.70317203, 36.81417875]),\n",
       " array([25.72304041, 26.91222975, 33.48594691, 41.32923475, 12.68659385,\n",
       "        27.26228092, 16.97479662, 42.56675252, 31.58032459, 34.8511918 ]),\n",
       " array([36.27212103, 37.76382529, 48.31632363, 48.33531837, 28.97777192,\n",
       "        40.92523386, 24.25148845, 31.68334924, 39.93630574, 17.03971331]),\n",
       " array([22.24260721, 38.80536254, 38.2638056 , 42.88526123, 42.4455472 ,\n",
       "        19.41532073, 31.88808236, 24.1099044 , 40.47755092, 25.42150776]),\n",
       " array([47.77992167, 36.81417875, 27.02062345, 36.36407646, 39.15100959,\n",
       "        27.40001091, 44.74143385, 50.25916103, 38.34936089, 26.73650196]),\n",
       " array([33.35139455, 25.97878026, 35.24025823, 24.53185068, 36.71138897,\n",
       "        36.71123707, 39.9687923 , 29.42844571, 31.776001  , 22.546357  ]),\n",
       " array([35.66181224, 28.16230222, 32.72857236, 18.9324135 , 35.00866692,\n",
       "        48.12022837, 29.54310577, 28.42255516, 36.51690836, 31.22540038]),\n",
       " array([55.77377639, 31.88011499, 31.23823511, 19.15015501, 30.47364786,\n",
       "        20.38865582, 40.68338527, 44.5797037 , 20.25869264, 25.21455997])]"
      ]
     },
     "execution_count": 9,
     "metadata": {},
     "output_type": "execute_result"
    }
   ],
   "source": [
    "sample_groups = []\n",
    "[sample_groups.append(np.random.choice(gen_pop, size = 10)) for x in range(100)]\n",
    "sample_groups"
   ]
  },
  {
   "cell_type": "code",
   "execution_count": 10,
   "metadata": {},
   "outputs": [
    {
     "data": {
      "image/png": "[encoded data removed]",
      "text/plain": [
       "<Figure size 432x288 with 1 Axes>"
      ]
     },
     "metadata": {
      "needs_background": "light"
     },
     "output_type": "display_data"
    }
   ],
   "source": [
    "#Средние каждой выборки, их стандартное отклонение, а также стандартное отклонение средних и среднее средних\n",
    "x = np.mean(sample_groups,axis = 1)\n",
    "y = np.arange(len(sample_groups))\n",
    "e = np.std(sample_groups,axis = 1)\n",
    "\n",
    "plt.errorbar(x, y, xerr = e, linestyle='None', marker='o')\n",
    "\n",
    "plt.errorbar( np.mean(x), len(y) ,xerr =  np.std(x), linestyle='None', marker='o')\n",
    "\n",
    "plt.show()"
   ]
  },
  {
   "cell_type": "code",
   "execution_count": 11,
   "metadata": {},
   "outputs": [
    {
     "data": {
      "image/png": "[encoded data removed]",
      "text/plain": [
       "<Figure size 432x288 with 1 Axes>"
      ]
     },
     "metadata": {
      "needs_background": "light"
     },
     "output_type": "display_data"
    }
   ],
   "source": [
    "plt.hist(np.mean(sample_groups, axis =1 ), 50, alpha=0.8)\n",
    "plt.show()"
   ]
  },
  {
   "cell_type": "markdown",
   "metadata": {},
   "source": [
    "Также, дисперсия правильно характеризует разброс только в том случае, если совокупность имеет нормальное распределение. Анализ применим **только** для нормально распределенных совокупностей."
   ]
  },
  {
   "cell_type": "markdown",
   "metadata": {},
   "source": [
    "Проверим следующие гипотезы:\n",
    "\n",
    "H0 - выборки взяты из одной совокупности \n",
    "\n",
    "H1 - выборки взяты из разных совокупностей"
   ]
  },
  {
   "cell_type": "markdown",
   "metadata": {},
   "source": [
    "Просто дисперсонный анализ проверяет что чем больше разброс средних и чем меньше разброс значений внутри групп, тем меньше вероятность\n",
    "того, что наши группы — это случайные выборки из одной совокупности."
   ]
  },
  {
   "cell_type": "markdown",
   "metadata": {},
   "source": [
    "**F** = $ \\frac{\\text{Дисперсия совокупности,оцененная по выборочным средним}} {\\text{Дисперсия совокупности, оцененная по выборочным дисперсиям}} =  \\frac{Sмеж.^2} {Sвнутр.^2} = SST = \\frac{\\frac{SSB} {m-1}} {\\frac{SSW} {N - m}} $"
   ]
  },
  {
   "cell_type": "markdown",
   "metadata": {},
   "source": [
    "$ SST - \\text{общая изменчивость}, $ \n",
    "$ SSB - \\text{межгрупповая изменчивость}, $ \n",
    "$ SSW - \\text{внутригрупповая изменчивость}$ "
   ]
  },
  {
   "cell_type": "markdown",
   "metadata": {},
   "source": [
    "***"
   ]
  },
  {
   "cell_type": "code",
   "execution_count": 12,
   "metadata": {},
   "outputs": [],
   "source": [
    "F, p = stats.f_oneway(sample_groups[0],sample_groups[1],sample_groups[2],sample_groups[3])"
   ]
  },
  {
   "cell_type": "code",
   "execution_count": 13,
   "metadata": {},
   "outputs": [
    {
     "data": {
      "text/plain": [
       "1.320442882258983"
      ]
     },
     "execution_count": 13,
     "metadata": {},
     "output_type": "execute_result"
    }
   ],
   "source": [
    "F"
   ]
  },
  {
   "cell_type": "markdown",
   "metadata": {},
   "source": [
    "p - вероятность ошибочно отвергнуть верную нулевую гипотезу, то есть найти различия там, где их нет."
   ]
  },
  {
   "cell_type": "code",
   "execution_count": 14,
   "metadata": {},
   "outputs": [
    {
     "data": {
      "text/plain": [
       "0.28280571235378604"
      ]
     },
     "execution_count": 14,
     "metadata": {},
     "output_type": "execute_result"
    }
   ],
   "source": [
    "p"
   ]
  },
  {
   "cell_type": "markdown",
   "metadata": {},
   "source": [
    "Мы не можем отвергнуть гипотезу H0, p >0.05."
   ]
  },
  {
   "cell_type": "markdown",
   "metadata": {},
   "source": [
    "Сверимся с таблицей - http://gym42.ru/stat/Book/Data/page_7.htm."
   ]
  },
  {
   "cell_type": "markdown",
   "metadata": {},
   "source": [
    "Посмотрим, что такое F, будем из нашей выборки извлекать выборки и считать F."
   ]
  },
  {
   "cell_type": "code",
   "execution_count": 15,
   "metadata": {},
   "outputs": [],
   "source": [
    "def calculate_random_sample_group(sz = 10):\n",
    "    sample_groups = []\n",
    "    for i in range(4):\n",
    "        sample_groups.append(np.random.choice(gen_pop, size = sz))\n",
    "    F, p = stats.f_oneway(sample_groups[0],sample_groups[1],sample_groups[2],sample_groups[3])    \n",
    "    return sample_groups, F\n",
    "\n",
    "Fs = []\n",
    "sgs = []\n",
    "for i in range(100000):\n",
    "    sg,F = calculate_random_sample_group()\n",
    "    Fs.append(F)\n",
    "    sgs.append(sg)"
   ]
  },
  {
   "cell_type": "markdown",
   "metadata": {},
   "source": [
    "Распределение приняло опредленную форму, такое распредление называется распредление Фишера."
   ]
  },
  {
   "cell_type": "code",
   "execution_count": 16,
   "metadata": {},
   "outputs": [
    {
     "data": {
      "image/png": "[encoded data removed]",
      "text/plain": [
       "<Figure size 720x432 with 1 Axes>"
      ]
     },
     "metadata": {
      "needs_background": "light"
     },
     "output_type": "display_data"
    }
   ],
   "source": [
    "fig, ax = plt.subplots(figsize=(10, 6))\n",
    "plt.hist(Fs,bins = 100)\n",
    "plt.show()"
   ]
  },
  {
   "cell_type": "code",
   "execution_count": 17,
   "metadata": {},
   "outputs": [
    {
     "data": {
      "image/png": "[encoded data removed]",
      "text/plain": [
       "<Figure size 432x288 with 1 Axes>"
      ]
     },
     "metadata": {
      "needs_background": "light"
     },
     "output_type": "display_data"
    }
   ],
   "source": [
    "sample_groups_ = sgs[Fs.index(max(Fs))]\n",
    "\n",
    "\n",
    "x = np.mean(sample_groups_,axis = 1)\n",
    "y = np.arange(len(sample_groups_))\n",
    "e = np.std(sample_groups_,axis = 1)\n",
    "\n",
    "plt.errorbar(x, y, xerr = e, linestyle='None', marker='o')\n",
    "\n",
    "plt.errorbar( np.mean(x), len(y) ,xerr =  np.std(x), linestyle='None', marker='o')\n",
    "\n",
    "plt.show()"
   ]
  },
  {
   "cell_type": "markdown",
   "metadata": {},
   "source": [
    "Совсем не похоже, что выборки взяты из одного распредлеения, хотя это на самом деле так. Выбирая F-критическое, мы сами задаем , с какой веротяностью мы допускаем ошибочное отвержение нулевой гипотезы."
   ]
  },
  {
   "cell_type": "markdown",
   "metadata": {},
   "source": [
    "### Классификация критериев"
   ]
  },
  {
   "cell_type": "markdown",
   "metadata": {},
   "source": [
    "1. **Одновыборочные** - проверяют гипотезы относительно ОДНОЙ выборки.\n",
    "2. **Двувыборочные со связанными выборками** - элементы выборок являются парными результатами повторных измерений, выполненных в одном и том же множестве элементов. \n",
    "3. **Двувыборочные с несвязанными выборками** - элементы выборок НЕ являются парными результатами повторных измерений, выполненных в одном и том же множестве элементов. "
   ]
  },
  {
   "cell_type": "markdown",
   "metadata": {},
   "source": [
    "### 2.2 Критерий Стьюдента"
   ]
  },
  {
   "cell_type": "markdown",
   "metadata": {},
   "source": [
    "### Критерий Стьюдента для несвязанных выборок"
   ]
  },
  {
   "cell_type": "markdown",
   "metadata": {},
   "source": [
    "Частный случай дисперсионного анализа - применение критерия Стьюдента, позволяет проверять значимость различий двух групп."
   ]
  },
  {
   "cell_type": "markdown",
   "metadata": {},
   "source": [
    "**Задача**. Курьерам выдали электроскутеры, велосипеды, электровелосипеды и самокаты. \n",
    "Понять, отличается ли как-то скорость доставки заказов клиентам на электросамокатах от скорости доставки на велосипедах."
   ]
  },
  {
   "cell_type": "code",
   "execution_count": 18,
   "metadata": {},
   "outputs": [],
   "source": [
    "# Построим две новые теоретические генеральные совокупности:\n",
    "# курьеры, которые доставляли на велосипедах:\n",
    "norm_vel = stats.norm(loc=37, scale = 10)\n",
    "# курьеры, которые доставляли на электросамокатах:\n",
    "norm_sam = stats.norm(loc=30, scale = 13)"
   ]
  },
  {
   "cell_type": "code",
   "execution_count": 19,
   "metadata": {},
   "outputs": [],
   "source": [
    "norm_vel_sample = norm_vel.rvs(size=50)\n",
    "norm_sam_sample = norm_sam.rvs(size=50)"
   ]
  },
  {
   "cell_type": "code",
   "execution_count": 20,
   "metadata": {},
   "outputs": [
    {
     "data": {
      "image/png": "[encoded data removed]",
      "text/plain": [
       "<Figure size 1728x432 with 2 Axes>"
      ]
     },
     "metadata": {
      "needs_background": "light"
     },
     "output_type": "display_data"
    }
   ],
   "source": [
    "fig = plt.figure(figsize=(24, 6))\n",
    "\n",
    "ax1 = plt.subplot(121)\n",
    "plt.hist(norm_vel_sample, 15)\n",
    "\n",
    "ax2 = plt.subplot(122)\n",
    "plt.hist(norm_sam_sample, 15)\n",
    "\n",
    "plt.show()"
   ]
  },
  {
   "cell_type": "markdown",
   "metadata": {},
   "source": [
    "t-критерий Стьюдента:"
   ]
  },
  {
   "cell_type": "markdown",
   "metadata": {},
   "source": [
    "**t** = $ \\frac{\\text{Разность выборочных средних}} {\\text{Стандартная ошибка разности выборочных средних} } = \\frac{\\overline{X_1}-\\overline{X_2}} {{S_{\\overline{X_1} - \\overline{X_2}}}}  = \\frac{\\overline{X_1}-\\overline{X_2}} { \\sqrt{ S_{\\overline{X_1}}^2 +  S_{\\overline{X_2}}^2 } } = \\frac{\\overline{X_1}-\\overline{X_2}} { \\sqrt{ \\frac{S_1^2} {n_1} +  \\frac{S_2^2} {n_2} } } $"
   ]
  },
  {
   "cell_type": "code",
   "execution_count": 21,
   "metadata": {},
   "outputs": [
    {
     "data": {
      "text/plain": [
       "Ttest_indResult(statistic=2.5964104866133138, pvalue=0.010869060643648789)"
      ]
     },
     "execution_count": 21,
     "metadata": {},
     "output_type": "execute_result"
    }
   ],
   "source": [
    "stats.ttest_ind(norm_vel_sample, norm_sam_sample)"
   ]
  },
  {
   "cell_type": "markdown",
   "metadata": {},
   "source": [
    "Нулевая гипотеза отвергается при 5-% уровне значимости, действительно, выборки взяты из разных распределений."
   ]
  },
  {
   "cell_type": "markdown",
   "metadata": {},
   "source": [
    "Еще раз посмотрим, что будет, если много раз делать выборки из одной и той же совокупности и считать статистики."
   ]
  },
  {
   "cell_type": "code",
   "execution_count": 22,
   "metadata": {},
   "outputs": [],
   "source": [
    "def calculate_random_sample_group(sz = 50):\n",
    "    sample_groups = []\n",
    "    for i in range(2):\n",
    "        sample_groups.append(np.random.choice(gen_pop, size = sz))\n",
    "    t, p = stats.ttest_ind(sample_groups[0], sample_groups[1] )    \n",
    "    return sample_groups, t\n",
    "\n",
    "ts = []\n",
    "sgs = []\n",
    "for i in range(10000):\n",
    "    sg,t = calculate_random_sample_group()\n",
    "    ts.append(t)\n",
    "    sgs.append(sg)"
   ]
  },
  {
   "cell_type": "code",
   "execution_count": 23,
   "metadata": {},
   "outputs": [
    {
     "data": {
      "image/png": "[encoded data removed]",
      "text/plain": [
       "<Figure size 720x432 with 1 Axes>"
      ]
     },
     "metadata": {
      "needs_background": "light"
     },
     "output_type": "display_data"
    }
   ],
   "source": [
    "fig, ax = plt.subplots(figsize=(10, 6))\n",
    "plt.hist(ts,bins = 40)\n",
    "plt.show()"
   ]
  },
  {
   "cell_type": "markdown",
   "metadata": {},
   "source": [
    "Распределение Стьюдента, имеет более тяжелые хвосты, чем нормальное."
   ]
  },
  {
   "cell_type": "markdown",
   "metadata": {},
   "source": [
    "### Критерий Стьюдента для связанных выборок"
   ]
  },
  {
   "cell_type": "markdown",
   "metadata": {},
   "source": [
    "**Задача**. А что, если хотим сравнить, как изменилась скорость курьеров у одних и тех же курьеров? Тогда имеем дело с парным критерием Стьюдента или двувыборочным критерием Стьюдента для связанных выборок."
   ]
  },
  {
   "cell_type": "markdown",
   "metadata": {},
   "source": [
    "<img width = '400px' src=\"images/lesson_6/pp.png\">"
   ]
  },
  {
   "cell_type": "markdown",
   "metadata": {},
   "source": [
    "t = $\\frac{\\overline{d}} {S_{\\overline{d}}} $, где $\\overline{d} $ - среднее изменений, $S_{\\overline{d}}$ - стандартная ошибка."
   ]
  },
  {
   "cell_type": "markdown",
   "metadata": {},
   "source": [
    "Если обычный критерий Стьюдента требует нормального распределения самих данных, то парный критерий Стьюдента требует нормального распределения их изменений."
   ]
  },
  {
   "cell_type": "code",
   "execution_count": 24,
   "metadata": {},
   "outputs": [
    {
     "data": {
      "text/html": [
       "<div>\n",
       "<style scoped>\n",
       "    .dataframe tbody tr th:only-of-type {\n",
       "        vertical-align: middle;\n",
       "    }\n",
       "\n",
       "    .dataframe tbody tr th {\n",
       "        vertical-align: top;\n",
       "    }\n",
       "\n",
       "    .dataframe thead th {\n",
       "        text-align: right;\n",
       "    }\n",
       "</style>\n",
       "<table border=\"1\" class=\"dataframe\">\n",
       "  <thead>\n",
       "    <tr style=\"text-align: right;\">\n",
       "      <th></th>\n",
       "      <th>courier_id</th>\n",
       "      <th>couriers_without_bike_time</th>\n",
       "      <th>couriers_with_bike_time</th>\n",
       "    </tr>\n",
       "  </thead>\n",
       "  <tbody>\n",
       "    <tr>\n",
       "      <th>0</th>\n",
       "      <td>1</td>\n",
       "      <td>39</td>\n",
       "      <td>29</td>\n",
       "    </tr>\n",
       "    <tr>\n",
       "      <th>1</th>\n",
       "      <td>2</td>\n",
       "      <td>49</td>\n",
       "      <td>53</td>\n",
       "    </tr>\n",
       "    <tr>\n",
       "      <th>2</th>\n",
       "      <td>3</td>\n",
       "      <td>47</td>\n",
       "      <td>43</td>\n",
       "    </tr>\n",
       "    <tr>\n",
       "      <th>3</th>\n",
       "      <td>4</td>\n",
       "      <td>39</td>\n",
       "      <td>39</td>\n",
       "    </tr>\n",
       "    <tr>\n",
       "      <th>4</th>\n",
       "      <td>5</td>\n",
       "      <td>28</td>\n",
       "      <td>33</td>\n",
       "    </tr>\n",
       "  </tbody>\n",
       "</table>\n",
       "</div>"
      ],
      "text/plain": [
       "   courier_id  couriers_without_bike_time  couriers_with_bike_time\n",
       "0           1                          39                       29\n",
       "1           2                          49                       53\n",
       "2           3                          47                       43\n",
       "3           4                          39                       39\n",
       "4           5                          28                       33"
      ]
     },
     "execution_count": 24,
     "metadata": {},
     "output_type": "execute_result"
    }
   ],
   "source": [
    "df_ = pd.DataFrame()\n",
    "df_['courier_id'] = np.array([1, 2, 3, 4, 5, 6])\n",
    "df_['couriers_without_bike_time'] = np.array([39, 49, 47, 39, 28, 26])\n",
    "df_['couriers_with_bike_time'] = np.array([29, 53, 43, 39, 33, 30])\n",
    "df_.head()"
   ]
  },
  {
   "cell_type": "markdown",
   "metadata": {},
   "source": [
    "H0: среднее время доставки курьеров на велосипеде и без велосипеда равны\n",
    "\n",
    "H1: среднее время доставки курьеров на велосипеде не равны"
   ]
  },
  {
   "cell_type": "code",
   "execution_count": 25,
   "metadata": {},
   "outputs": [
    {
     "data": {
      "text/plain": [
       "Ttest_relResult(statistic=0.06943774745378857, pvalue=0.9473327114146763)"
      ]
     },
     "execution_count": 25,
     "metadata": {},
     "output_type": "execute_result"
    }
   ],
   "source": [
    "#Корректно только в случае, если два распредления - одни и те же курьеры\n",
    "stats.ttest_rel(df_.couriers_without_bike_time, df_.couriers_with_bike_time)"
   ]
  },
  {
   "cell_type": "markdown",
   "metadata": {},
   "source": [
    "### Множественные сравнения"
   ]
  },
  {
   "cell_type": "markdown",
   "metadata": {},
   "source": [
    "Если исследуемых групп больше двух, то следует воспользоваться дисперсионным анализом. Однако дисперсионный анализ позволяет проверить лишь гипотезу о равенстве всех средних.\n",
    "Но если гипотеза не подтверждается, нельзя узнать какая именно группа отличается от других."
   ]
  },
  {
   "cell_type": "markdown",
   "metadata": {},
   "source": [
    "Эффект множественных сравнений состоит в том, что при многократном применении критерия вероятность ошибочно найти различия там, где их нет возрастает и составляет P = $ 1 - (1 - \\alpha) ^ k $, k - число сравнений, $ \\alpha $ - установленный уровень значимости."
   ]
  },
  {
   "cell_type": "markdown",
   "metadata": {},
   "source": [
    "**Поправка Бонферонни** заключается в том, что достигаемые уровни значимости гипотез сравниваются с уровнем значимости $ \\frac{\\alpha} {k}$."
   ]
  },
  {
   "cell_type": "markdown",
   "metadata": {},
   "source": [
    "Поправка Бонферонни - один из самых консервативных методов. Также часто используют метод Холма, метод Бенджамини-Хохберга, которые не столь консервативны. "
   ]
  },
  {
   "cell_type": "markdown",
   "metadata": {},
   "source": [
    "### Одновыборочный критерий Стьюдента"
   ]
  },
  {
   "cell_type": "markdown",
   "metadata": {},
   "source": [
    "$ t = \\frac{\\overline{X} - \\mu} {\\frac{S}{\\sqrt{n}}} $"
   ]
  },
  {
   "cell_type": "markdown",
   "metadata": {},
   "source": [
    "Задача: оценить эффективность доставки курьерами заказов.\n",
    "\n",
    "H0 - среднее время доставки на велосипеде равно 37 минутам\n",
    "\n",
    "H1 - среднее время доставки на велосипеде не равно 37 минутам"
   ]
  },
  {
   "cell_type": "code",
   "execution_count": 26,
   "metadata": {},
   "outputs": [
    {
     "data": {
      "text/plain": [
       "Ttest_1sampResult(statistic=0.15070708509235137, pvalue=0.8808254903442152)"
      ]
     },
     "execution_count": 26,
     "metadata": {},
     "output_type": "execute_result"
    }
   ],
   "source": [
    "stats.ttest_1samp(a = norm_vel_sample , popmean = 37)"
   ]
  },
  {
   "cell_type": "markdown",
   "metadata": {},
   "source": [
    "### 2.3 Проверка распределений на нормальность"
   ]
  },
  {
   "cell_type": "code",
   "execution_count": 27,
   "metadata": {},
   "outputs": [
    {
     "data": {
      "image/png": "[encoded data removed]",
      "text/plain": [
       "<Figure size 432x288 with 1 Axes>"
      ]
     },
     "metadata": {
      "needs_background": "light"
     },
     "output_type": "display_data"
    }
   ],
   "source": [
    "#c помощью Q-Q графика\n",
    "stats.probplot(norm_vel_sample, dist = \"norm\", plot = plt)\n",
    "plt.show()"
   ]
  },
  {
   "cell_type": "markdown",
   "metadata": {},
   "source": [
    "Как строится:\n",
    "\n",
    "1. берём 0.01-квантиль теоретического (с которым сравниваем) распределения, например нормального -- это x1(≈-2.33 для нормального). \n",
    "2. берём 0.01-квантиль нашей выборки -- это y1. Рисуем на графике точку (x1,y1). \n",
    "3. берём 0.02-квантиль теоретического распределения -- это x2, и 0.02-квантиль выборки -- это y2. Опять рисуем на графике точку (x2,y2).\n",
    "\n",
    "\n",
    "И так далее. Естественно, рисовать точки можно с любым шагом, не только 0.01.\n",
    "Распределения одинаковые, если все эти точки попадут на прямую y=x. Если на другую прямую, то это значит, что распределения одинаковы с точностью до нормализации."
   ]
  },
  {
   "cell_type": "markdown",
   "metadata": {},
   "source": [
    "Критерий Шапиро-Уилка:\n",
    "\n",
    "$H_0\\colon$ попарные разности распределены нормально.\n",
    "\n",
    "$H_1\\colon$ не нормально."
   ]
  },
  {
   "cell_type": "code",
   "execution_count": 28,
   "metadata": {},
   "outputs": [
    {
     "data": {
      "text/plain": [
       "(0.9633824825286865, 0.12319130450487137)"
      ]
     },
     "execution_count": 28,
     "metadata": {},
     "output_type": "execute_result"
    }
   ],
   "source": [
    "#c помощью критерия Шапиро- Уилка\n",
    "stats.shapiro(norm_vel_sample)"
   ]
  },
  {
   "cell_type": "markdown",
   "metadata": {},
   "source": [
    "### Анализ качественных признаков"
   ]
  },
  {
   "cell_type": "markdown",
   "metadata": {},
   "source": [
    "**Качественные признаки** - признаки не связаны между собой никакими арифметическими соотношениями, упорядочить их также нельзя.\n",
    "Единственный способ описания качественных признаков состоит в том, чтобы подсчитать число объектов, имеющих одно и то же значение. Кроме того, можно подсчитать, какая доля от\n",
    "общего числа объектов приходится на то или иное значение."
   ]
  },
  {
   "cell_type": "markdown",
   "metadata": {},
   "source": [
    "### 2.4 Критерий для доли"
   ]
  },
  {
   "cell_type": "markdown",
   "metadata": {},
   "source": [
    "### Z-критерий для несвязанных выборок"
   ]
  },
  {
   "cell_type": "markdown",
   "metadata": {},
   "source": [
    "Для проверки гипотезы о равентсве долей используется критерий аналогично критерию Стьюдента t.\n",
    "\n",
    "**z** = $ \\frac{\\text{Разность выборочных долей}} {\\text{Стандартная ошибка разности выборочных долей}}  = \\frac{\\hat{p_1}-\\hat{p_2}} {{S_{\\hat{p_1} - \\hat{p_2}}}}  = \\frac{\\hat{p_1}-\\hat{p_2}} { \\sqrt{ S_{\\hat{p_1}}^2 +  S_{\\hat{p_2}}^2 } } = \\frac{\\hat{p_1}-\\hat{p_2}} { \\sqrt{ \\frac{\\hat{p_1}(1-\\hat{p_1})} {n_1} +  \\frac{\\hat{p_2}(1-\\hat{p_2})} {n_2} } } $\n",
    "\n",
    "\n",
    "**z**  $= \\frac{|\\hat{p_1}-\\hat{p_2}| - \\frac{1} {2} (\\frac{1} {n_1} + \\frac{1} {n_2} ) } { \\sqrt{ \\frac{\\hat{p_1}(1-\\hat{p_1})} {n_1} +  \\frac{\\hat{p_2}(1-\\hat{p_2})} {n_2} } }$"
   ]
  },
  {
   "cell_type": "markdown",
   "metadata": {},
   "source": [
    "Корректно использовать в том случае, когда n*p и n*(1 − p) превосходят 5 для всех групп."
   ]
  },
  {
   "cell_type": "markdown",
   "metadata": {},
   "source": [
    "**Задача.** DC работает над новым баннером, который хочет разместить на одной из своих рекламных площадок. Было придумано 2 варианта баннеров (A и B). На первый баннер за первые сутки кликнуло 100 человек из 300 посетителей, на второй баннер 400 человек из 800 посетителей. Решить,какой баннер оставлять."
   ]
  },
  {
   "cell_type": "markdown",
   "metadata": {},
   "source": [
    "H0: доля кликов по двум баннерам одинакова\n",
    "\n",
    "H1: доля кликов по баннеру B больше, чем по баннеру А ('smaller')"
   ]
  },
  {
   "cell_type": "code",
   "execution_count": 29,
   "metadata": {},
   "outputs": [
    {
     "data": {
      "text/plain": [
       "(-1.279415789297898, 0.10037533831983553)"
      ]
     },
     "execution_count": 29,
     "metadata": {},
     "output_type": "execute_result"
    }
   ],
   "source": [
    "from statsmodels.stats.proportion import proportions_ztest\n",
    "count = np.array([100, 300])\n",
    "nobs = np.array([300, 800])\n",
    "proportions_ztest(count, nobs, alternative='smaller')"
   ]
  },
  {
   "cell_type": "markdown",
   "metadata": {},
   "source": [
    "В итоге, исходная гипотеза подтвердилась."
   ]
  },
  {
   "cell_type": "markdown",
   "metadata": {},
   "source": [
    "Нулевое распредление для данной статистики будет нормальное распределение с парамтерами (0,1)."
   ]
  },
  {
   "cell_type": "markdown",
   "metadata": {},
   "source": [
    "### Z-критерий для связанных выборок"
   ]
  },
  {
   "cell_type": "markdown",
   "metadata": {},
   "source": [
    "<img width = '400px' src=\"images/lesson_6/two_prop.png\">"
   ]
  },
  {
   "cell_type": "markdown",
   "metadata": {},
   "source": [
    "**z** = $\\frac{f - g}{\\sqrt{f + g - \\frac{(f-g)^2}{n}}}$"
   ]
  },
  {
   "cell_type": "markdown",
   "metadata": {},
   "source": [
    "**Задача.** DC решило поменять один из существующих баннеров на площадке VK. Изменило цвет баннера с зеленого на светло-зеленый. Проверить гипотезу о том, что на новый баннер стали кликать чаще."
   ]
  },
  {
   "cell_type": "code",
   "execution_count": 30,
   "metadata": {},
   "outputs": [],
   "source": [
    "#Клики на старый баннер\n",
    "banner_clicks_dark_green = [0,0,1,1,0,1,0,1,0,0,0,0,0,0,0,0,0,0,0,0,1,1,1,1]\n",
    "banner_clicks_light_green = [1,1,0,1,1,1,0,1,0,0,1,1,1,0,0,0,0,0,0,0,1,1,1,1]"
   ]
  },
  {
   "cell_type": "code",
   "execution_count": 31,
   "metadata": {},
   "outputs": [],
   "source": [
    "def proportions_diff_z_stat_rel(sample1, sample2):\n",
    "    sample = zip(sample1, sample2)\n",
    "    n = len(sample1)\n",
    "    \n",
    "    f = sum([1 if (x[0] == 1 and x[1] == 0) else 0 for x in sample])\n",
    "    g = sum([1 if (x[0] == 0 and x[1] == 1) else 0 for x in sample])\n",
    "    \n",
    "    return float(f - g) / np.sqrt(f + g - float((f - g)**2) / n )"
   ]
  },
  {
   "cell_type": "code",
   "execution_count": 32,
   "metadata": {},
   "outputs": [],
   "source": [
    "def proportions_diff_z_test(z_stat, alternative = 'two-sided'):\n",
    "    if alternative not in ('two-sided', 'less', 'greater'):\n",
    "        raise ValueError(\"alternative not recognized\\n\"\n",
    "                         \"should be 'two-sided', 'less' or 'greater'\")\n",
    "    \n",
    "    if alternative == 'two-sided':\n",
    "        return z_stat,2 * (1 - scipy.stats.norm.cdf(np.abs(z_stat)))\n",
    "    \n",
    "    if alternative == 'less':\n",
    "        return z_stat,scipy.stats.norm.cdf(z_stat)\n",
    "\n",
    "    if alternative == 'greater':\n",
    "        return z_stat, 1 - scipy.stats.norm.cdf(z_stat)"
   ]
  },
  {
   "cell_type": "code",
   "execution_count": 33,
   "metadata": {},
   "outputs": [
    {
     "data": {
      "text/plain": [
       "(1.0215078369104984, 0.8464930509830875)"
      ]
     },
     "execution_count": 33,
     "metadata": {},
     "output_type": "execute_result"
    }
   ],
   "source": [
    "import scipy\n",
    "proportions_diff_z_test(proportions_diff_z_stat_rel(banner_clicks_dark_green,banner_clicks_light_green),'less' )"
   ]
  },
  {
   "cell_type": "markdown",
   "metadata": {},
   "source": [
    "### Одновыборочный критерий для доли"
   ]
  },
  {
   "cell_type": "markdown",
   "metadata": {},
   "source": [
    "**Задача**. Также могли решать задачу одновыборочного критерия для доли: хотим проверить гипотезу о том, что на баннер A кликают в 50% случаев. "
   ]
  },
  {
   "cell_type": "markdown",
   "metadata": {},
   "source": [
    "**z** = $ \\frac{\\hat{p}-p_0 } {\\sqrt{ \\frac{p_0 * (1 - p_0)} {n} }} $"
   ]
  },
  {
   "cell_type": "code",
   "execution_count": 34,
   "metadata": {},
   "outputs": [
    {
     "data": {
      "text/plain": [
       "(-6.123724356957946, 9.141298408246598e-10)"
      ]
     },
     "execution_count": 34,
     "metadata": {},
     "output_type": "execute_result"
    }
   ],
   "source": [
    "count = np.array(100)\n",
    "nobs = np.array(300)\n",
    "value = 0.5\n",
    "proportions_ztest(count, nobs, value = value)"
   ]
  },
  {
   "cell_type": "markdown",
   "metadata": {},
   "source": [
    "Нулевая гипотеза отвергается."
   ]
  },
  {
   "cell_type": "markdown",
   "metadata": {},
   "source": [
    "### 2.5 Критерий Хи-квадрат"
   ]
  },
  {
   "cell_type": "markdown",
   "metadata": {},
   "source": [
    "Применим, когда число значений признака и число выборок может оказаться большим двух."
   ]
  },
  {
   "cell_type": "markdown",
   "metadata": {},
   "source": [
    "Рассмотрим задачу про размещение баннеров, но теперь будем рассматривать уже не доли, а числа."
   ]
  },
  {
   "cell_type": "code",
   "execution_count": 35,
   "metadata": {},
   "outputs": [],
   "source": [
    "from scipy.stats import chi2_contingency"
   ]
  },
  {
   "cell_type": "code",
   "execution_count": 36,
   "metadata": {},
   "outputs": [
    {
     "data": {
      "text/html": [
       "<div>\n",
       "<style scoped>\n",
       "    .dataframe tbody tr th:only-of-type {\n",
       "        vertical-align: middle;\n",
       "    }\n",
       "\n",
       "    .dataframe tbody tr th {\n",
       "        vertical-align: top;\n",
       "    }\n",
       "\n",
       "    .dataframe thead th {\n",
       "        text-align: right;\n",
       "    }\n",
       "</style>\n",
       "<table border=\"1\" class=\"dataframe\">\n",
       "  <thead>\n",
       "    <tr style=\"text-align: right;\">\n",
       "      <th></th>\n",
       "      <th>clicked</th>\n",
       "      <th>non_clicked</th>\n",
       "      <th>Total</th>\n",
       "    </tr>\n",
       "  </thead>\n",
       "  <tbody>\n",
       "    <tr>\n",
       "      <th>Баннер_A</th>\n",
       "      <td>100</td>\n",
       "      <td>200</td>\n",
       "      <td>300</td>\n",
       "    </tr>\n",
       "    <tr>\n",
       "      <th>Баннер_B</th>\n",
       "      <td>400</td>\n",
       "      <td>400</td>\n",
       "      <td>800</td>\n",
       "    </tr>\n",
       "    <tr>\n",
       "      <th>Итого</th>\n",
       "      <td>500</td>\n",
       "      <td>600</td>\n",
       "      <td>1100</td>\n",
       "    </tr>\n",
       "  </tbody>\n",
       "</table>\n",
       "</div>"
      ],
      "text/plain": [
       "          clicked  non_clicked  Total\n",
       "Баннер_A      100          200    300\n",
       "Баннер_B      400          400    800\n",
       "Итого         500          600   1100"
      ]
     },
     "execution_count": 36,
     "metadata": {},
     "output_type": "execute_result"
    }
   ],
   "source": [
    "banner_data = pd.DataFrame()\n",
    "banner_data['clicked'] = [100,400,500]\n",
    "banner_data['non_clicked'] = [200, 400,600]\n",
    "banner_data.index = ['Баннер_A', 'Баннер_B','Итого']\n",
    "banner_data['Total'] = banner_data['clicked'] + banner_data['non_clicked']\n",
    "#Аналогичную таблицу с агрегациями можно получить с помощью функции pd.crosstab, установив парамет margins = True\n",
    "banner_data"
   ]
  },
  {
   "cell_type": "markdown",
   "metadata": {},
   "source": [
    "При работе с критерием хи-квадрат встречается понятие, как таблица ожидаемых значений."
   ]
  },
  {
   "cell_type": "markdown",
   "metadata": {},
   "source": [
    "Примем нулевую гипотезу H0, что кликабельность по баннерам A и B одинакова, тогда:"
   ]
  },
  {
   "cell_type": "code",
   "execution_count": 37,
   "metadata": {},
   "outputs": [],
   "source": [
    "clicked_total = 500/1100\n",
    "non_clicked_total = 600/1100"
   ]
  },
  {
   "cell_type": "markdown",
   "metadata": {},
   "source": [
    "Если баннера не влияют на кликабельность, то есть поведение клиентов при посещении сайта должно быть схожим с общим."
   ]
  },
  {
   "cell_type": "code",
   "execution_count": 38,
   "metadata": {},
   "outputs": [],
   "source": [
    "banner_A_clicked = clicked_total* 300\n",
    "banner_B_clicked = clicked_total* 800\n",
    "\n",
    "banner_A_non_clicked = non_clicked_total* 300\n",
    "banner_B_non_clicked = non_clicked_total* 800"
   ]
  },
  {
   "cell_type": "code",
   "execution_count": 39,
   "metadata": {},
   "outputs": [
    {
     "data": {
      "text/html": [
       "<div>\n",
       "<style scoped>\n",
       "    .dataframe tbody tr th:only-of-type {\n",
       "        vertical-align: middle;\n",
       "    }\n",
       "\n",
       "    .dataframe tbody tr th {\n",
       "        vertical-align: top;\n",
       "    }\n",
       "\n",
       "    .dataframe thead th {\n",
       "        text-align: right;\n",
       "    }\n",
       "</style>\n",
       "<table border=\"1\" class=\"dataframe\">\n",
       "  <thead>\n",
       "    <tr style=\"text-align: right;\">\n",
       "      <th></th>\n",
       "      <th>clicked</th>\n",
       "      <th>non_clicked</th>\n",
       "      <th>Total</th>\n",
       "    </tr>\n",
       "  </thead>\n",
       "  <tbody>\n",
       "    <tr>\n",
       "      <th>Баннер_A</th>\n",
       "      <td>136.363636</td>\n",
       "      <td>163.636364</td>\n",
       "      <td>300.0</td>\n",
       "    </tr>\n",
       "    <tr>\n",
       "      <th>Баннер_B</th>\n",
       "      <td>363.636364</td>\n",
       "      <td>436.363636</td>\n",
       "      <td>800.0</td>\n",
       "    </tr>\n",
       "    <tr>\n",
       "      <th>Итого</th>\n",
       "      <td>500.000000</td>\n",
       "      <td>600.000000</td>\n",
       "      <td>1100.0</td>\n",
       "    </tr>\n",
       "  </tbody>\n",
       "</table>\n",
       "</div>"
      ],
      "text/plain": [
       "             clicked  non_clicked   Total\n",
       "Баннер_A  136.363636   163.636364   300.0\n",
       "Баннер_B  363.636364   436.363636   800.0\n",
       "Итого     500.000000   600.000000  1100.0"
      ]
     },
     "execution_count": 39,
     "metadata": {},
     "output_type": "execute_result"
    }
   ],
   "source": [
    "banner_data_E = pd.DataFrame()\n",
    "banner_data_E['clicked'] = [banner_A_clicked,banner_B_clicked,500]\n",
    "banner_data_E['non_clicked'] = [banner_A_non_clicked, banner_B_non_clicked,600]\n",
    "banner_data_E.index = ['Баннер_A', 'Баннер_B','Итого']\n",
    "banner_data_E['Total'] = banner_data_E['clicked'] + banner_data_E['non_clicked']\n",
    "banner_data_E"
   ]
  },
  {
   "cell_type": "markdown",
   "metadata": {},
   "source": [
    "Реальная картина отличается от той, что была бы, если бы баннеры не отличались по своей кликабельности."
   ]
  },
  {
   "cell_type": "markdown",
   "metadata": {},
   "source": [
    "$\\chi^2  = \\sum {   \\frac{(O - E)^2} {E}  } $, O  - наблюдаемое значение, E - ожидаемое значение.\n",
    "\n",
    "$\\chi^2  = \\sum {   \\frac{|O - E| - \\frac{1} {2}} {E}  } $ (с поправкой Йеитса - только для таблиц 2х2)"
   ]
  },
  {
   "cell_type": "code",
   "execution_count": 40,
   "metadata": {},
   "outputs": [],
   "source": [
    "chi2, p, dof, ex = chi2_contingency(banner_data.iloc[:2,:2])"
   ]
  },
  {
   "cell_type": "code",
   "execution_count": 41,
   "metadata": {},
   "outputs": [
    {
     "data": {
      "text/plain": [
       "(23.776843750000012,\n",
       " 1.0817608500977008e-06,\n",
       " 1,\n",
       " array([[136.36363636, 163.63636364],\n",
       "        [363.63636364, 436.36363636]]))"
      ]
     },
     "execution_count": 41,
     "metadata": {},
     "output_type": "execute_result"
    }
   ],
   "source": [
    "chi2,p,dof,ex"
   ]
  },
  {
   "cell_type": "markdown",
   "metadata": {},
   "source": [
    "Нулевая гипотеза отвергается."
   ]
  },
  {
   "cell_type": "markdown",
   "metadata": {},
   "source": [
    "Аналогичное применение критерия мы можем использовать для любого количества объектов и наблюдений. \n",
    "\n",
    "С помощью критерия хи-квадрат мы также можем проверять любое из распредлений на нормальность или схожесть с любым другим теоретическим распредлением, самостоятельно задавая ожидаемые значения."
   ]
  },
  {
   "cell_type": "markdown",
   "metadata": {},
   "source": [
    "Для таблиц сопряженности размером 2×2 критерий χ2 применим только в случае, когда все ожидаемые числа больше 5. \n",
    "В этом случае критерии χ2 применим, если все ожидаемые числа не меньше 1 и доля клеток с ожидаемыми числами меньше\n",
    "5 не превышает 20%. При невыполнении этих условии критерии χ2 может дать ложные результаты. "
   ]
  },
  {
   "cell_type": "markdown",
   "metadata": {},
   "source": [
    "### 2.6 Точный критерий Фишера"
   ]
  },
  {
   "cell_type": "markdown",
   "metadata": {},
   "source": [
    "Используется для таблиц сопряженности 2х2, когда критерий χ2 неприменим - используется для очень малых выборок."
   ]
  },
  {
   "cell_type": "markdown",
   "metadata": {},
   "source": [
    "<img width = '500px' src=\"images/lesson_6/fisher_crit.png\">"
   ]
  },
  {
   "cell_type": "markdown",
   "metadata": {},
   "source": [
    "Просто перебор всех сочетаний."
   ]
  },
  {
   "cell_type": "code",
   "execution_count": 42,
   "metadata": {},
   "outputs": [
    {
     "data": {
      "text/html": [
       "<div>\n",
       "<style scoped>\n",
       "    .dataframe tbody tr th:only-of-type {\n",
       "        vertical-align: middle;\n",
       "    }\n",
       "\n",
       "    .dataframe tbody tr th {\n",
       "        vertical-align: top;\n",
       "    }\n",
       "\n",
       "    .dataframe thead th {\n",
       "        text-align: right;\n",
       "    }\n",
       "</style>\n",
       "<table border=\"1\" class=\"dataframe\">\n",
       "  <thead>\n",
       "    <tr style=\"text-align: right;\">\n",
       "      <th></th>\n",
       "      <th>clicked</th>\n",
       "      <th>non_clicked</th>\n",
       "    </tr>\n",
       "  </thead>\n",
       "  <tbody>\n",
       "    <tr>\n",
       "      <th>Баннер_A</th>\n",
       "      <td>8</td>\n",
       "      <td>2</td>\n",
       "    </tr>\n",
       "    <tr>\n",
       "      <th>Баннер_B</th>\n",
       "      <td>1</td>\n",
       "      <td>5</td>\n",
       "    </tr>\n",
       "  </tbody>\n",
       "</table>\n",
       "</div>"
      ],
      "text/plain": [
       "          clicked  non_clicked\n",
       "Баннер_A        8            2\n",
       "Баннер_B        1            5"
      ]
     },
     "execution_count": 42,
     "metadata": {},
     "output_type": "execute_result"
    }
   ],
   "source": [
    "banner_data = pd.DataFrame()\n",
    "banner_data['clicked'] = [8,1]\n",
    "banner_data['non_clicked'] = [2, 5]\n",
    "banner_data.index = ['Баннер_A', 'Баннер_B']\n",
    "banner_data"
   ]
  },
  {
   "cell_type": "code",
   "execution_count": 43,
   "metadata": {},
   "outputs": [
    {
     "data": {
      "text/plain": [
       "(20.0, 0.03496503496503495)"
      ]
     },
     "execution_count": 43,
     "metadata": {},
     "output_type": "execute_result"
    }
   ],
   "source": [
    "stats.fisher_exact(banner_data)"
   ]
  },
  {
   "cell_type": "markdown",
   "metadata": {},
   "source": [
    "Достоинством метода является соответствие полученного критерия точному значению уровня значимости p."
   ]
  },
  {
   "cell_type": "markdown",
   "metadata": {},
   "source": [
    "### 2.7 Ошибки первого и второго рода"
   ]
  },
  {
   "cell_type": "markdown",
   "metadata": {},
   "source": [
    "<img width = '700px' src=\"images/lesson_6/errors.jpg\">"
   ]
  },
  {
   "cell_type": "markdown",
   "metadata": {},
   "source": [
    "<img width = '500px' src=\"images/lesson_6/stat26.jpg\">"
   ]
  },
  {
   "cell_type": "markdown",
   "metadata": {},
   "source": [
    "<img width = '500px' src=\"images/lesson_6/errors.png\">"
   ]
  },
  {
   "cell_type": "markdown",
   "metadata": {},
   "source": [
    "### 2.8 Доверительные интервалы"
   ]
  },
  {
   "cell_type": "markdown",
   "metadata": {},
   "source": [
    "Проверка гипотез - качественная оценка, с помощью доверительных интервалов можем получить количественную оценку."
   ]
  },
  {
   "cell_type": "markdown",
   "metadata": {},
   "source": [
    "**ДИ для разности средних**"
   ]
  },
  {
   "cell_type": "markdown",
   "metadata": {},
   "source": [
    "Видоизменим формулу для t так, чтобы распределение были центрировано относительно 0, просто вычтя разность истинных средних распредления."
   ]
  },
  {
   "cell_type": "markdown",
   "metadata": {},
   "source": [
    "**t** = $ \\frac{Разность выборочных средних - Разность истинных средних} {Стандартная ошибка разности выборочных средних} $"
   ]
  },
  {
   "cell_type": "markdown",
   "metadata": {},
   "source": [
    "**t** = $ \\frac{\\overline{X_1}-\\overline{X_2}} {{S_{\\overline{X_1} - \\overline{X_2}}}} = \\frac{(\\overline{X_1}-\\overline{X_2}) - (\\mu_1 - \\mu_2)} {{S_{\\overline{X_1} - \\overline{X_2}}}} $, также справедливо\n",
    "\n",
    "$- t_{\\alpha} < \\frac{(\\overline{X_1}-\\overline{X_2}) - (\\mu_1 - \\mu_2)} {{S_{\\overline{X_1} - \\overline{X_2}}}} < + t_{\\alpha}$,\n",
    "\n",
    "$ (\\overline{X_1}-\\overline{X_2}) - t_{\\alpha} S_{\\overline{X_1} - \\overline{X_2}} < \\mu_1 - \\mu_2 <  (\\overline{X_1}-\\overline{X_2}) + t_{\\alpha} S_{\\overline{X_1} - \\overline{X_2}} $"
   ]
  },
  {
   "cell_type": "markdown",
   "metadata": {},
   "source": [
    "Полученное неравенство задает доверительный интервал для разности средних."
   ]
  },
  {
   "cell_type": "code",
   "execution_count": 44,
   "metadata": {},
   "outputs": [
    {
     "name": "stdout",
     "output_type": "stream",
     "text": [
      "(1.4390701461933402, 10.77257904996603)\n"
     ]
    }
   ],
   "source": [
    "#Расчет для задачи про курьеров на разных транспортных средствах\n",
    "import statsmodels.stats.api as sms\n",
    "cm = sms.CompareMeans(sms.DescrStatsW(norm_vel_sample), sms.DescrStatsW(norm_sam_sample))\n",
    "print (cm.tconfint_diff())"
   ]
  },
  {
   "cell_type": "markdown",
   "metadata": {},
   "source": [
    "То есть, с 95% вероятностью можно утверждать, что с новыми самокатами курьеры уменьшили время доставки от 7 до 16 минуты."
   ]
  },
  {
   "cell_type": "markdown",
   "metadata": {},
   "source": [
    "**Если 100(1 – α)-процентный доверительный интервал разности средних не содержит нуля, то различия статистически значимы (Р < α); напротив, если этот интервал содержит ноль, то различия статистически не значимы (Р > α).**"
   ]
  },
  {
   "cell_type": "markdown",
   "metadata": {},
   "source": [
    "С помощью доверительных интервалов мы точно также можем проверять статистические гипотезы."
   ]
  },
  {
   "cell_type": "code",
   "execution_count": 109,
   "metadata": {},
   "outputs": [
    {
     "name": "stdout",
     "output_type": "stream",
     "text": [
      "(5.9278993838947045, 17.841944957275473)\n"
     ]
    }
   ],
   "source": [
    "cm = sms.CompareMeans(sms.DescrStatsW(norm_vel_sample), sms.DescrStatsW(norm_sam_sample))\n",
    "print (cm.tconfint_diff(usevar='unequal',alpha=0.01))"
   ]
  },
  {
   "cell_type": "markdown",
   "metadata": {},
   "source": [
    "Здесь уже утверждаем с вероятностью 99%."
   ]
  },
  {
   "cell_type": "markdown",
   "metadata": {},
   "source": [
    "**ДИ для среднего**"
   ]
  },
  {
   "cell_type": "markdown",
   "metadata": {},
   "source": [
    "$ \\overline{X} - t_{\\alpha} S_{\\overline{X}} < \\mu <  \\overline{X} + t_{\\alpha} S_{\\overline{X}} $"
   ]
  },
  {
   "cell_type": "code",
   "execution_count": 110,
   "metadata": {},
   "outputs": [
    {
     "data": {
      "text/plain": [
       "(34.86174671132335, 40.78984720224861)"
      ]
     },
     "execution_count": 110,
     "metadata": {},
     "output_type": "execute_result"
    }
   ],
   "source": [
    "t = sms.DescrStatsW(norm_vel_sample)\n",
    "t.tconfint_mean()"
   ]
  },
  {
   "cell_type": "markdown",
   "metadata": {},
   "source": [
    "То есть истинное среднее с 95% вероятностью лежит в интервале от 35 до 41 минуты."
   ]
  },
  {
   "cell_type": "markdown",
   "metadata": {},
   "source": [
    "**ДИ для разности долей**"
   ]
  },
  {
   "cell_type": "markdown",
   "metadata": {},
   "source": [
    "$ (\\hat{p_1}-\\hat{p_2}) - z_{\\alpha} S_{\\hat{p_1} - \\hat{p_2}} < p1 - p2 <  (\\hat{p_1}-\\hat{p_2}) + z_{\\alpha} S_{\\hat{p_1} - \\hat{p_2}} $"
   ]
  },
  {
   "cell_type": "code",
   "execution_count": null,
   "metadata": {},
   "outputs": [],
   "source": [
    "def proportions_diff_confint_ind(sample1, sample2, alpha = 0.05):    \n",
    "    z = scipy.stats.norm.ppf(1 - alpha / 2.)\n",
    "    \n",
    "    p1 = float(sum(sample1)) / len(sample1)\n",
    "    p2 = float(sum(sample2)) / len(sample2)\n",
    "    \n",
    "    left_boundary = (p1 - p2) - z * np.sqrt(p1 * (1 - p1)/ len(sample1) + p2 * (1 - p2)/ len(sample2))\n",
    "    right_boundary = (p1 - p2) + z * np.sqrt(p1 * (1 - p1)/ len(sample1) + p2 * (1 - p2)/ len(sample2))\n",
    "    \n",
    "    return (left_boundary, right_boundary)"
   ]
  },
  {
   "cell_type": "markdown",
   "metadata": {},
   "source": [
    "**ДИ для разности долей (связанные выборки)**"
   ]
  },
  {
   "cell_type": "markdown",
   "metadata": {},
   "source": [
    "$$ \\frac{f - g}{n} - z_{\\alpha}\\sqrt{\\frac{f + g}{n^2} - \\frac{(f - g)^2}{n^3}} <p_1 - p_2 <  \\frac{f - g}{n} + z_{\\alpha}\\sqrt{\\frac{f + g}{n^2} - \\frac{(f - g)^2}{n^3}}$$"
   ]
  },
  {
   "cell_type": "code",
   "execution_count": null,
   "metadata": {},
   "outputs": [],
   "source": [
    "def proportions_confint_diff_rel(sample1, sample2, alpha = 0.05):\n",
    "    z = scipy.stats.norm.ppf(1 - alpha / 2.)\n",
    "    sample = zip(sample1, sample2)\n",
    "    n = len(sample)\n",
    "        \n",
    "    f = sum([1 if (x[0] == 1 and x[1] == 0) else 0 for x in sample])\n",
    "    g = sum([1 if (x[0] == 0 and x[1] == 1) else 0 for x in sample])\n",
    "    \n",
    "    left_boundary = float(f - g) / n  - z * np.sqrt(float((f + g)) / n**2 - float((f - g)**2) / n**3)\n",
    "    right_boundary = float(f - g) / n  + z * np.sqrt(float((f + g)) / n**2 - float((f - g)**2) / n**3)\n",
    "    return (left_boundary, right_boundary)"
   ]
  },
  {
   "cell_type": "markdown",
   "metadata": {},
   "source": [
    "**ДИ для доли**"
   ]
  },
  {
   "cell_type": "markdown",
   "metadata": {},
   "source": [
    "$ \\hat{p} - z_{\\alpha} S_{\\hat{p}}< p  < \\hat{p} + z_{\\alpha} S_{\\hat{p}} $"
   ]
  },
  {
   "cell_type": "code",
   "execution_count": 111,
   "metadata": {},
   "outputs": [
    {
     "data": {
      "text/plain": [
       "<function statsmodels.stats.proportion.proportion_confint(count, nobs, alpha=0.05, method='normal')>"
      ]
     },
     "execution_count": 111,
     "metadata": {},
     "output_type": "execute_result"
    }
   ],
   "source": [
    "import statsmodels\n",
    "statsmodels.stats.proportion.proportion_confint"
   ]
  },
  {
   "cell_type": "markdown",
   "metadata": {},
   "source": [
    "### Непараметрические критерии"
   ]
  },
  {
   "cell_type": "markdown",
   "metadata": {},
   "source": [
    "Непараметрические критерии не требуют соответствия какому-либо из распределений. Непараметрические критерии заменяют реальные значения признака рангами. "
   ]
  },
  {
   "cell_type": "markdown",
   "metadata": {},
   "source": [
    "По сравнению с парамтерическими критериями, непараметрические - менее чувствительны."
   ]
  },
  {
   "cell_type": "markdown",
   "metadata": {},
   "source": [
    "<img width = '800px' src=\"images/lesson_6/non_param.png\">"
   ]
  },
  {
   "cell_type": "markdown",
   "metadata": {},
   "source": [
    "### 2.9 Критерий знаков "
   ]
  },
  {
   "cell_type": "markdown",
   "metadata": {},
   "source": [
    "### Одновыборочный критерий"
   ]
  },
  {
   "cell_type": "markdown",
   "metadata": {},
   "source": [
    "Очень простой критерий, не требует от выборки практически ничего. Его мощность составляет примерно 2/3 мощности критерия Стьюдента."
   ]
  },
  {
   "cell_type": "markdown",
   "metadata": {},
   "source": [
    "Проверим гипотезу о том, что курьеры на велосипедах доставляют заказ за 40 минут."
   ]
  },
  {
   "cell_type": "markdown",
   "metadata": {},
   "source": [
    "H0: med X = 40\n",
    "\n",
    "H1: med X > 40"
   ]
  },
  {
   "cell_type": "markdown",
   "metadata": {},
   "source": [
    "M = $ \\frac {N(+) - N(-)} {2} $, где N(+) - кол-во значений больше проверяемого значения, N(-) - меньше."
   ]
  },
  {
   "cell_type": "markdown",
   "metadata": {},
   "source": [
    "Статистика данного критерия будет иметь биноминальное распределение."
   ]
  },
  {
   "cell_type": "code",
   "execution_count": 112,
   "metadata": {},
   "outputs": [],
   "source": [
    "N_plus = len([x for x in norm_vel_sample if x>40])\n",
    "N_minus = len([x for x in norm_vel_sample if x<40])"
   ]
  },
  {
   "cell_type": "code",
   "execution_count": 113,
   "metadata": {},
   "outputs": [
    {
     "data": {
      "text/plain": [
       "-5.0"
      ]
     },
     "execution_count": 113,
     "metadata": {},
     "output_type": "execute_result"
    }
   ],
   "source": [
    "M = (N_plus - N_minus)/2\n",
    "M"
   ]
  },
  {
   "cell_type": "markdown",
   "metadata": {},
   "source": [
    "Статистика критерия имеет биноминальное распределение."
   ]
  },
  {
   "cell_type": "code",
   "execution_count": 118,
   "metadata": {},
   "outputs": [
    {
     "data": {
      "text/plain": [
       "(-5.0, 0.20263875106454063)"
      ]
     },
     "execution_count": 118,
     "metadata": {},
     "output_type": "execute_result"
    }
   ],
   "source": [
    "from statsmodels.stats.descriptivestats import sign_test\n",
    "sign_test(norm_vel_sample, 40)"
   ]
  },
  {
   "cell_type": "markdown",
   "metadata": {},
   "source": [
    "Гипотеза H0 принимается."
   ]
  },
  {
   "cell_type": "markdown",
   "metadata": {},
   "source": [
    "### Двувыборочный критерий для связанных выборок"
   ]
  },
  {
   "cell_type": "markdown",
   "metadata": {},
   "source": [
    "Аналогично можно посчитать критерий для связанных выборок."
   ]
  },
  {
   "cell_type": "markdown",
   "metadata": {},
   "source": [
    "$ H0: P(X_1 > X_2) = \\frac{1} {2}$\n",
    "\n",
    "$ H1: P(X_1 > X_2) <> \\frac{1} {2}$"
   ]
  },
  {
   "cell_type": "markdown",
   "metadata": {},
   "source": [
    "Курьерам выдали велосипеды и записали среднее время, с которым они доставляли заказы до и после выдачи. "
   ]
  },
  {
   "cell_type": "code",
   "execution_count": 126,
   "metadata": {},
   "outputs": [
    {
     "data": {
      "text/html": [
       "<div>\n",
       "<style scoped>\n",
       "    .dataframe tbody tr th:only-of-type {\n",
       "        vertical-align: middle;\n",
       "    }\n",
       "\n",
       "    .dataframe tbody tr th {\n",
       "        vertical-align: top;\n",
       "    }\n",
       "\n",
       "    .dataframe thead th {\n",
       "        text-align: right;\n",
       "    }\n",
       "</style>\n",
       "<table border=\"1\" class=\"dataframe\">\n",
       "  <thead>\n",
       "    <tr style=\"text-align: right;\">\n",
       "      <th></th>\n",
       "      <th>courier_id</th>\n",
       "      <th>time_before</th>\n",
       "      <th>time_after</th>\n",
       "      <th>stat_M</th>\n",
       "    </tr>\n",
       "  </thead>\n",
       "  <tbody>\n",
       "    <tr>\n",
       "      <th>0</th>\n",
       "      <td>0</td>\n",
       "      <td>14.958413</td>\n",
       "      <td>32.637648</td>\n",
       "      <td>0</td>\n",
       "    </tr>\n",
       "    <tr>\n",
       "      <th>1</th>\n",
       "      <td>1</td>\n",
       "      <td>45.472276</td>\n",
       "      <td>37.078157</td>\n",
       "      <td>1</td>\n",
       "    </tr>\n",
       "    <tr>\n",
       "      <th>2</th>\n",
       "      <td>2</td>\n",
       "      <td>30.318652</td>\n",
       "      <td>37.143199</td>\n",
       "      <td>0</td>\n",
       "    </tr>\n",
       "    <tr>\n",
       "      <th>3</th>\n",
       "      <td>3</td>\n",
       "      <td>25.775910</td>\n",
       "      <td>47.052992</td>\n",
       "      <td>0</td>\n",
       "    </tr>\n",
       "    <tr>\n",
       "      <th>4</th>\n",
       "      <td>4</td>\n",
       "      <td>27.991204</td>\n",
       "      <td>33.508611</td>\n",
       "      <td>0</td>\n",
       "    </tr>\n",
       "  </tbody>\n",
       "</table>\n",
       "</div>"
      ],
      "text/plain": [
       "   courier_id  time_before  time_after  stat_M\n",
       "0           0    14.958413   32.637648       0\n",
       "1           1    45.472276   37.078157       1\n",
       "2           2    30.318652   37.143199       0\n",
       "3           3    25.775910   47.052992       0\n",
       "4           4    27.991204   33.508611       0"
      ]
     },
     "execution_count": 126,
     "metadata": {},
     "output_type": "execute_result"
    }
   ],
   "source": [
    "df = pd.DataFrame()\n",
    "df['courier_id'] = np.arange(0,100)\n",
    "df['time_before'] = norm_rv1.rvs(size=100)\n",
    "df['time_after'] = norm_rv1.rvs(size=100)\n",
    "df['stat_M'] = np.where(df.time_before > df.time_after,1,0)\n",
    "df.head()"
   ]
  },
  {
   "cell_type": "markdown",
   "metadata": {},
   "source": [
    "Аналогично одновыборочному критерию:"
   ]
  },
  {
   "cell_type": "code",
   "execution_count": 129,
   "metadata": {},
   "outputs": [],
   "source": [
    "N_plus = df.stat_M.sum()\n",
    "N_minus = df.shape[0] - N_plus"
   ]
  },
  {
   "cell_type": "code",
   "execution_count": 131,
   "metadata": {},
   "outputs": [
    {
     "data": {
      "text/plain": [
       "-2.0"
      ]
     },
     "execution_count": 131,
     "metadata": {},
     "output_type": "execute_result"
    }
   ],
   "source": [
    "M = (N_plus - N_minus)/2\n",
    "M"
   ]
  },
  {
   "cell_type": "code",
   "execution_count": 128,
   "metadata": {},
   "outputs": [
    {
     "data": {
      "text/plain": [
       "(-2.0, 0.7643534344026666)"
      ]
     },
     "execution_count": 128,
     "metadata": {},
     "output_type": "execute_result"
    }
   ],
   "source": [
    "sign_test(df.time_before - df.time_after)"
   ]
  },
  {
   "cell_type": "markdown",
   "metadata": {},
   "source": [
    "### Ранговые критерии"
   ]
  },
  {
   "cell_type": "markdown",
   "metadata": {},
   "source": [
    "Ранговые критерии выбрасывают большую часть информации, вместо значений используют лишь бинарный вектор, ранговые критерии сохрнаяют больше информации. Ранг - позиция элемента в вариационном ряду. "
   ]
  },
  {
   "cell_type": "markdown",
   "metadata": {},
   "source": [
    "### 2.10 Критерий знаков рангов Уилкоксона"
   ]
  },
  {
   "cell_type": "markdown",
   "metadata": {},
   "source": [
    "### Одновыборочный критерий"
   ]
  },
  {
   "cell_type": "markdown",
   "metadata": {},
   "source": [
    "$H0: medX = m0$\n",
    "\n",
    "$H1: medX <> m0$\n",
    "    \n",
    "$ статистика: W = \\sum_{i=1}^N rank(|Xi −m0|)·sign(Xi −m0)$"
   ]
  },
  {
   "cell_type": "markdown",
   "metadata": {},
   "source": [
    "Нулевое распределение данного критерия - табличное."
   ]
  },
  {
   "cell_type": "markdown",
   "metadata": {},
   "source": [
    "При справедливости нулевой гипотезы каждый из рангов в выборке мог с одинаковой вероятностью реализоваться с любым знаком (sign(Xi −m0)): и с «+», и с «−». Таким образом, получается $2^n$ вариантов распределения знаков по рангам."
   ]
  },
  {
   "cell_type": "markdown",
   "metadata": {},
   "source": [
    "<img width = '200px' src=\"images/lesson_6/ranks_.png\">"
   ]
  },
  {
   "cell_type": "markdown",
   "metadata": {},
   "source": [
    "Перебирая все эти варианты, для каждого из них можно вычислить значение статистики."
   ]
  },
  {
   "cell_type": "markdown",
   "metadata": {},
   "source": [
    "<img width = '500px' src=\"images/lesson_6/distr.png\">"
   ]
  },
  {
   "cell_type": "markdown",
   "metadata": {},
   "source": [
    "Ограничения: число измерений - от 5 до 50."
   ]
  },
  {
   "cell_type": "markdown",
   "metadata": {},
   "source": [
    "**Задача** - проверить, среднее время доставки заказа курьеров на велосипеде равно 40 минутам."
   ]
  },
  {
   "cell_type": "code",
   "execution_count": 133,
   "metadata": {},
   "outputs": [],
   "source": [
    "m0 = 40"
   ]
  },
  {
   "cell_type": "code",
   "execution_count": 134,
   "metadata": {},
   "outputs": [
    {
     "data": {
      "text/plain": [
       "WilcoxonResult(statistic=0.0, pvalue=7.556929455863566e-10)"
      ]
     },
     "execution_count": 134,
     "metadata": {},
     "output_type": "execute_result"
    }
   ],
   "source": [
    "stats.wilcoxon(norm_vel_sample)"
   ]
  },
  {
   "cell_type": "markdown",
   "metadata": {},
   "source": [
    "### Двувыборочный критерий со связанными выборками"
   ]
  },
  {
   "cell_type": "markdown",
   "metadata": {},
   "source": [
    "$H0: med(X_1 - X_2) = 0 $\n",
    "\n",
    "$H1: med(X_1 - X_2) <> 0 $\n",
    "    \n",
    "$ статистика: W = \\sum_{i=1}^N rank(|X_{1i} − X_{2i}|)·sign(X_{1i} − X_{2i})$"
   ]
  },
  {
   "cell_type": "markdown",
   "metadata": {},
   "source": [
    "Аналогично одновыборочному критерию."
   ]
  },
  {
   "cell_type": "markdown",
   "metadata": {},
   "source": [
    "**Задача** - проверить, значимо ли изменилось время доставки курьеров после выдачи им велосипедов."
   ]
  },
  {
   "cell_type": "code",
   "execution_count": 184,
   "metadata": {},
   "outputs": [
    {
     "data": {
      "text/plain": [
       "WilcoxonResult(statistic=497.0, pvalue=0.175008298276776)"
      ]
     },
     "execution_count": 184,
     "metadata": {},
     "output_type": "execute_result"
    }
   ],
   "source": [
    "stats.wilcoxon(df.time_before.iloc[:50],df.time_after.iloc[:50])"
   ]
  },
  {
   "cell_type": "markdown",
   "metadata": {},
   "source": [
    "### 2.11 Критерий Манна-Уитни"
   ]
  },
  {
   "cell_type": "markdown",
   "metadata": {},
   "source": [
    "### Двувыборочный критерий с несвязанными выборками"
   ]
  },
  {
   "cell_type": "markdown",
   "metadata": {},
   "source": [
    "$ H_0: F_{X_{1}} (x) =  F_{X_{2}} (x) $\n",
    "    \n",
    "$ H1: F_{X_{1}} (x) =  F_{X_{2}} (x + ∆),∆ <> 0 $"
   ]
  },
  {
   "cell_type": "markdown",
   "metadata": {},
   "source": [
    "$статистика: R = \\sum_{i = 1} ^ N rank(X_{1i}) $"
   ]
  },
  {
   "cell_type": "markdown",
   "metadata": {},
   "source": [
    "Нулевое распределение - табличное (https://statpsy.ru/mana-uitni/tablica-manna-uitni/)."
   ]
  },
  {
   "cell_type": "markdown",
   "metadata": {},
   "source": [
    "Критерий подходит для сравнения малых выборок: в каждой из выборок должно быть не менее 3 значений признака. Допускается, чтобы в одной выборке было 2 значения, но во второй тогда должно быть не менее пяти."
   ]
  },
  {
   "cell_type": "markdown",
   "metadata": {},
   "source": [
    "**Задача** - сравнить, "
   ]
  },
  {
   "cell_type": "code",
   "execution_count": 146,
   "metadata": {},
   "outputs": [
    {
     "data": {
      "text/plain": [
       "MannwhitneyuResult(statistic=569.0, pvalue=1.3577416352606376e-06)"
      ]
     },
     "execution_count": 146,
     "metadata": {},
     "output_type": "execute_result"
    }
   ],
   "source": [
    "stats.mannwhitneyu(norm_vel_sample, norm_sam_sample)"
   ]
  },
  {
   "cell_type": "markdown",
   "metadata": {},
   "source": [
    "### 2.12 Перестановочные критерии"
   ]
  },
  {
   "cell_type": "markdown",
   "metadata": {},
   "source": [
    "При использовании ранговых критериев выборки превращают в ранги, затем делается какое-то дополнительное предположение, и на основании этого предположения получается, что разные конфигурации этих рангов при справедливости нулевой гипотезы могут реализоваться с равной вероятностью. Далее необходимо перебрать все конфигурации, и на каждой посчитать значение статистики — таким образом оценивается ее нулевое распределение.\n",
    "\n",
    "Если в этом алгоритме пропустить первый пункт(не превращать наблюдения в ранги),а остальное делать точно так же, то получится алгоритм работы перестановочных критериев."
   ]
  },
  {
   "cell_type": "markdown",
   "metadata": {},
   "source": [
    "### Одновыборочный критерий"
   ]
  },
  {
   "cell_type": "markdown",
   "metadata": {},
   "source": [
    "$ H0: EX = m0 $\n",
    "    \n",
    "$ H1: EX <> m0 $"
   ]
  },
  {
   "cell_type": "markdown",
   "metadata": {},
   "source": [
    " Одновыборочный перестановочный критерий проверяет нулевую гипотезу о значении математического ожидания случайной величины, из которой взята выборка. "
   ]
  },
  {
   "cell_type": "markdown",
   "metadata": {},
   "source": [
    "$ T = \\sum_{i = 1} ^ N (X_{i} - m_0)$"
   ]
  },
  {
   "cell_type": "markdown",
   "metadata": {},
   "source": [
    "Нулевое распределение порождается путем перебора $2^n$ знаков перед слагаемыми $ X_{i} - m_0 $."
   ]
  },
  {
   "cell_type": "markdown",
   "metadata": {},
   "source": [
    "**Задача** - проверить, среднее время доставки заказа курьеров на велосипеде равно 40 минутам."
   ]
  },
  {
   "cell_type": "code",
   "execution_count": 151,
   "metadata": {},
   "outputs": [],
   "source": [
    "def permutation_t_stat_1sample(sample, mean):\n",
    "    t_stat = sum(map(lambda x: x - mean, sample))\n",
    "    return t_stat"
   ]
  },
  {
   "cell_type": "code",
   "execution_count": 163,
   "metadata": {},
   "outputs": [
    {
     "data": {
      "text/plain": [
       "-108.71015216070111"
      ]
     },
     "execution_count": 163,
     "metadata": {},
     "output_type": "execute_result"
    }
   ],
   "source": [
    "permutation_t_stat_1sample(norm_vel_sample, 40)"
   ]
  },
  {
   "cell_type": "markdown",
   "metadata": {},
   "source": [
    "Статистика критерия посчитана, теперь необходимо получить нулевую статистику при верности нулевой гипотезы."
   ]
  },
  {
   "cell_type": "code",
   "execution_count": 173,
   "metadata": {},
   "outputs": [],
   "source": [
    "def permutation_zero_distr_1sample(sample, mean, max_permutations = None):\n",
    "    centered_sample = list(map(lambda x: x - mean, sample))\n",
    "\n",
    "    if max_permutations:\n",
    "        signs_array = set([tuple(x) for x in 2 * np.random.randint(2, size = (max_permutations, \n",
    "                                                                              len(sample))) - 1 ])\n",
    "    else:\n",
    "        #перебор всех возможных позиций элементов массива \n",
    "        signs_array =  itertools.product([-1, 1], repeat = len(sample))  \n",
    "    distr = [sum(centered_sample * np.array(signs)) for signs in signs_array]\n",
    "    return distr"
   ]
  },
  {
   "cell_type": "code",
   "execution_count": 174,
   "metadata": {},
   "outputs": [
    {
     "data": {
      "image/png": "[encoded data removed]",
      "text/plain": [
       "<Figure size 432x288 with 1 Axes>"
      ]
     },
     "metadata": {
      "needs_background": "light"
     },
     "output_type": "display_data"
    }
   ],
   "source": [
    "plt.hist(permutation_zero_distr_1sample(norm_vel_sample,40,10000), bins = 50)\n",
    "plt.show()"
   ]
  },
  {
   "cell_type": "code",
   "execution_count": 176,
   "metadata": {},
   "outputs": [],
   "source": [
    "def permutation_test(sample, mean, max_permutations = None, alternative = 'two-sided'):\n",
    "    if alternative not in ('two-sided', 'less', 'greater'):\n",
    "        raise ValueError(\"alternative not recognized\\n\"\n",
    "                         \"should be 'two-sided', 'less' or 'greater'\")\n",
    "    \n",
    "    t_stat = permutation_t_stat_1sample(sample, mean)\n",
    "    \n",
    "    zero_distr = permutation_zero_distr_1sample(sample, mean, max_permutations)\n",
    "    \n",
    "    if alternative == 'two-sided':\n",
    "        return sum([1. if abs(x) >= abs(t_stat) else 0. for x in zero_distr]) / len(zero_distr)\n",
    "    \n",
    "    if alternative == 'less':\n",
    "        return sum([1. if x <= t_stat else 0. for x in zero_distr]) / len(zero_distr)\n",
    "\n",
    "    if alternative == 'greater':\n",
    "        return sum([1. if x >= t_stat else 0. for x in zero_distr]) / len(zero_distr)"
   ]
  },
  {
   "cell_type": "code",
   "execution_count": 177,
   "metadata": {},
   "outputs": [
    {
     "data": {
      "text/plain": [
       "0.1495"
      ]
     },
     "execution_count": 177,
     "metadata": {},
     "output_type": "execute_result"
    }
   ],
   "source": [
    "permutation_test(norm_vel_sample, 40,10000)"
   ]
  },
  {
   "cell_type": "markdown",
   "metadata": {},
   "source": [
    "### Двувыборочный критерий для зависимых выборок"
   ]
  },
  {
   "cell_type": "markdown",
   "metadata": {},
   "source": [
    "$ H0: E(X_1 - X_2) = 0 $\n",
    "    \n",
    "$ H1: E(X_1 - X_2) <> 0$"
   ]
  },
  {
   "cell_type": "markdown",
   "metadata": {},
   "source": [
    "Двухвыборочная задача со связанными выборками решается с использованием абсолютно такого же критерия: от двух связанных выборок происходит переход к одной выборке соответствующих попарных разностей."
   ]
  },
  {
   "cell_type": "markdown",
   "metadata": {},
   "source": [
    "$ T = \\sum_{i = 1} ^ N (D_i)$"
   ]
  },
  {
   "cell_type": "markdown",
   "metadata": {},
   "source": [
    "Нулевое распределение порождается путем перебора $2^n$ знаков перед слагаемыми $ D_{i}$."
   ]
  },
  {
   "cell_type": "markdown",
   "metadata": {},
   "source": [
    "**Задача** - проверить, значимо ли изменилось время доставки курьеров после выдачи им велосипедов."
   ]
  },
  {
   "cell_type": "markdown",
   "metadata": {},
   "source": [
    "По аналогии с одновыборочным критерием, только теперь среднее 0 и в качестве данных - разница выборок."
   ]
  },
  {
   "cell_type": "code",
   "execution_count": 186,
   "metadata": {},
   "outputs": [
    {
     "data": {
      "text/plain": [
       "0.16893"
      ]
     },
     "execution_count": 186,
     "metadata": {},
     "output_type": "execute_result"
    }
   ],
   "source": [
    "permutation_test(df.time_after.iloc[:50] - df.time_before.iloc[:50],0,100000)"
   ]
  },
  {
   "cell_type": "markdown",
   "metadata": {},
   "source": [
    "### Двувыборочный критерий для независимых выборок."
   ]
  },
  {
   "cell_type": "markdown",
   "metadata": {},
   "source": [
    "Перестановочный критерий для независимых выборок выглядит абсолютно так же, как критерий МаннаУитни за исключением того, что не производятся ранговые преобразования. "
   ]
  },
  {
   "cell_type": "markdown",
   "metadata": {},
   "source": [
    "$ H_0: F_{X_{1}} (x) =  F_{X_{2}} (x) $\n",
    "    \n",
    "$ H1: F_{X_{1}} (x) =  F_{X_{2}} (x + ∆),∆ <> 0 $"
   ]
  },
  {
   "cell_type": "markdown",
   "metadata": {},
   "source": [
    "$ T = \\frac{1} {n_1} \\sum_{i = 1} ^ {N_1} X_{1i} - \\frac{1} {n_2}  \\sum_{i = 1} ^ {N_2} X_{2i}  $"
   ]
  },
  {
   "cell_type": "markdown",
   "metadata": {},
   "source": [
    "Нулевая статистика получается по аналогии с критерием Манна-Уитни путем перебора размещений объединенной выборки."
   ]
  },
  {
   "cell_type": "markdown",
   "metadata": {},
   "source": [
    "**Задача** - понять, отличается ли как-то скорость доставки заказов клиентам на электросамокатах от скорости доставки на велосипедах."
   ]
  },
  {
   "cell_type": "code",
   "execution_count": 205,
   "metadata": {},
   "outputs": [],
   "source": [
    "def permutation_t_stat_ind(sample1, sample2):\n",
    "    return np.mean(sample1) - np.mean(sample2)"
   ]
  },
  {
   "cell_type": "code",
   "execution_count": 196,
   "metadata": {},
   "outputs": [],
   "source": [
    "def get_random_combinations(n1, n2, max_combinations):\n",
    "    index = np.arange(n1 + n2)\n",
    "    indices = set([tuple(index)])\n",
    "    for i in range(max_combinations - 1):\n",
    "        np.random.shuffle(index)\n",
    "        indices.add(tuple(index))\n",
    "    return [(index[:n1], index[n1:]) for index in indices]"
   ]
  },
  {
   "cell_type": "code",
   "execution_count": 197,
   "metadata": {},
   "outputs": [],
   "source": [
    "def permutation_zero_dist_ind(sample1, sample2, max_combinations = None):\n",
    "    joined_sample = np.hstack((sample1, sample2))\n",
    "    n1 = len(sample1)\n",
    "    n = len(joined_sample)\n",
    "    \n",
    "    if max_combinations:\n",
    "        indices = get_random_combinations(n1, len(sample2), max_combinations)\n",
    "    else:\n",
    "        indices = [(list(index), filter(lambda i: i not in index, range(n))) \\\n",
    "                    for index in itertools.combinations(range(n), n1)]\n",
    "    \n",
    "    distr = [joined_sample[list(i[0])].mean() - joined_sample[list(i[1])].mean() \\\n",
    "             for i in indices]\n",
    "    return distr"
   ]
  },
  {
   "cell_type": "code",
   "execution_count": 200,
   "metadata": {},
   "outputs": [
    {
     "data": {
      "image/png": "[encoded data removed]",
      "text/plain": [
       "<Figure size 432x288 with 1 Axes>"
      ]
     },
     "metadata": {
      "needs_background": "light"
     },
     "output_type": "display_data"
    }
   ],
   "source": [
    "plt.hist(permutation_zero_dist_ind(norm_vel_sample, norm_sam_sample, max_combinations = 10000), bins = 100)\n",
    "plt.show()"
   ]
  },
  {
   "cell_type": "code",
   "execution_count": 206,
   "metadata": {},
   "outputs": [],
   "source": [
    "def permutation_test(sample, mean, max_permutations = None, alternative = 'two-sided'):\n",
    "    if alternative not in ('two-sided', 'less', 'greater'):\n",
    "        raise ValueError(\"alternative not recognized\\n\"\n",
    "                         \"should be 'two-sided', 'less' or 'greater'\")\n",
    "    \n",
    "    t_stat = permutation_t_stat_ind(sample, mean)\n",
    "    \n",
    "    zero_distr = permutation_zero_dist_ind(sample, mean, max_permutations)\n",
    "    \n",
    "    if alternative == 'two-sided':\n",
    "        return sum([1. if abs(x) >= abs(t_stat) else 0. for x in zero_distr]) / len(zero_distr)\n",
    "    \n",
    "    if alternative == 'less':\n",
    "        return sum([1. if x <= t_stat else 0. for x in zero_distr]) / len(zero_distr)\n",
    "\n",
    "    if alternative == 'greater':\n",
    "        return sum([1. if x >= t_stat else 0. for x in zero_distr]) / len(zero_distr)"
   ]
  },
  {
   "cell_type": "code",
   "execution_count": 213,
   "metadata": {},
   "outputs": [
    {
     "data": {
      "text/plain": [
       "0.01"
      ]
     },
     "execution_count": 213,
     "metadata": {},
     "output_type": "execute_result"
    }
   ],
   "source": [
    "permutation_test(norm_vel_sample, norm_sam_sample, max_permutations = 100)"
   ]
  },
  {
   "cell_type": "code",
   "execution_count": null,
   "metadata": {},
   "outputs": [],
   "source": [
    "month_year = data.pivot_table('temperatureMean','month', 'year')\n",
    "month_year['month'] = new_index\n",
    "month_year.index = month_year.month\n",
    "month_year = month_year.drop(['month'], axis = 1)\n",
    "day_year = data.pivot_table('temperatureMax', 'day', 'year')\n",
    "fig, ax = plt.subplots(2,1,figsize=(20,20))\n",
    "sns.heatmap(month_year, fmt=\"g\",annot=True,linewidths=.5, cmap='RdYlBu_r', cbar_kws={'label': 'Mean temperature'}, ax=ax[0])\n",
    "sns.heatmap(day_year, fmt=\"g\",yticklabels=15, cmap='RdYlBu_r', cbar_kws={'label': 'Mean temperature'}, ax=ax[1])\n",
    "plt.show()"
   ]
  }
 ],
 "metadata": {
  "kernelspec": {
   "display_name": "Python 3",
   "language": "python",
   "name": "python3"
  },
  "language_info": {
   "codemirror_mode": {
    "name": "ipython",
    "version": 3
   },
   "file_extension": ".py",
   "mimetype": "text/x-python",
   "name": "python",
   "nbconvert_exporter": "python",
   "pygments_lexer": "ipython3",
   "version": "3.6.6"
  }
 },
 "nbformat": 4,
 "nbformat_minor": 2
}

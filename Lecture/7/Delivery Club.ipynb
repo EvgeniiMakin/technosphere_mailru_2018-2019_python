{
 "cells": [
  {
   "cell_type": "code",
   "execution_count": 190,
   "metadata": {},
   "outputs": [],
   "source": [
    "import pandas as pd \n",
    "import datetime\n",
    "import numpy as np \n",
    "import matplotlib.pyplot as plt \n",
    "import statsmodels.api as sm\n",
    "from pylab import rcParams"
   ]
  },
  {
   "cell_type": "code",
   "execution_count": 191,
   "metadata": {},
   "outputs": [
    {
     "data": {
      "text/html": [
       "<div>\n",
       "<style scoped>\n",
       "    .dataframe tbody tr th:only-of-type {\n",
       "        vertical-align: middle;\n",
       "    }\n",
       "\n",
       "    .dataframe tbody tr th {\n",
       "        vertical-align: top;\n",
       "    }\n",
       "\n",
       "    .dataframe thead th {\n",
       "        text-align: right;\n",
       "    }\n",
       "</style>\n",
       "<table border=\"1\" class=\"dataframe\">\n",
       "  <thead>\n",
       "    <tr style=\"text-align: right;\">\n",
       "      <th></th>\n",
       "      <th>date_id</th>\n",
       "      <th>date</th>\n",
       "      <th>orders</th>\n",
       "    </tr>\n",
       "  </thead>\n",
       "  <tbody>\n",
       "    <tr>\n",
       "      <th>0</th>\n",
       "      <td>1</td>\n",
       "      <td>2018-07-01</td>\n",
       "      <td>2285</td>\n",
       "    </tr>\n",
       "    <tr>\n",
       "      <th>1</th>\n",
       "      <td>2</td>\n",
       "      <td>2018-07-02</td>\n",
       "      <td>1670</td>\n",
       "    </tr>\n",
       "    <tr>\n",
       "      <th>2</th>\n",
       "      <td>3</td>\n",
       "      <td>2018-07-03</td>\n",
       "      <td>2341</td>\n",
       "    </tr>\n",
       "    <tr>\n",
       "      <th>3</th>\n",
       "      <td>4</td>\n",
       "      <td>2018-07-04</td>\n",
       "      <td>1781</td>\n",
       "    </tr>\n",
       "    <tr>\n",
       "      <th>4</th>\n",
       "      <td>5</td>\n",
       "      <td>2018-07-05</td>\n",
       "      <td>1737</td>\n",
       "    </tr>\n",
       "    <tr>\n",
       "      <th>5</th>\n",
       "      <td>6</td>\n",
       "      <td>2018-07-06</td>\n",
       "      <td>2210</td>\n",
       "    </tr>\n",
       "    <tr>\n",
       "      <th>6</th>\n",
       "      <td>7</td>\n",
       "      <td>2018-07-07</td>\n",
       "      <td>2824</td>\n",
       "    </tr>\n",
       "    <tr>\n",
       "      <th>7</th>\n",
       "      <td>8</td>\n",
       "      <td>2018-07-08</td>\n",
       "      <td>3141</td>\n",
       "    </tr>\n",
       "    <tr>\n",
       "      <th>8</th>\n",
       "      <td>9</td>\n",
       "      <td>2018-07-09</td>\n",
       "      <td>2089</td>\n",
       "    </tr>\n",
       "    <tr>\n",
       "      <th>9</th>\n",
       "      <td>10</td>\n",
       "      <td>2018-07-10</td>\n",
       "      <td>1989</td>\n",
       "    </tr>\n",
       "    <tr>\n",
       "      <th>10</th>\n",
       "      <td>11</td>\n",
       "      <td>2018-07-11</td>\n",
       "      <td>2125</td>\n",
       "    </tr>\n",
       "    <tr>\n",
       "      <th>11</th>\n",
       "      <td>12</td>\n",
       "      <td>2018-07-12</td>\n",
       "      <td>1929</td>\n",
       "    </tr>\n",
       "    <tr>\n",
       "      <th>12</th>\n",
       "      <td>13</td>\n",
       "      <td>2018-07-13</td>\n",
       "      <td>2021</td>\n",
       "    </tr>\n",
       "    <tr>\n",
       "      <th>13</th>\n",
       "      <td>14</td>\n",
       "      <td>2018-07-14</td>\n",
       "      <td>2541</td>\n",
       "    </tr>\n",
       "    <tr>\n",
       "      <th>14</th>\n",
       "      <td>15</td>\n",
       "      <td>2018-07-15</td>\n",
       "      <td>2590</td>\n",
       "    </tr>\n",
       "    <tr>\n",
       "      <th>15</th>\n",
       "      <td>16</td>\n",
       "      <td>2018-07-16</td>\n",
       "      <td>1961</td>\n",
       "    </tr>\n",
       "    <tr>\n",
       "      <th>16</th>\n",
       "      <td>17</td>\n",
       "      <td>2018-07-17</td>\n",
       "      <td>1780</td>\n",
       "    </tr>\n",
       "    <tr>\n",
       "      <th>17</th>\n",
       "      <td>18</td>\n",
       "      <td>2018-07-18</td>\n",
       "      <td>1884</td>\n",
       "    </tr>\n",
       "    <tr>\n",
       "      <th>18</th>\n",
       "      <td>19</td>\n",
       "      <td>2018-07-19</td>\n",
       "      <td>2226</td>\n",
       "    </tr>\n",
       "    <tr>\n",
       "      <th>19</th>\n",
       "      <td>20</td>\n",
       "      <td>2018-07-20</td>\n",
       "      <td>2224</td>\n",
       "    </tr>\n",
       "    <tr>\n",
       "      <th>20</th>\n",
       "      <td>21</td>\n",
       "      <td>2018-07-21</td>\n",
       "      <td>2437</td>\n",
       "    </tr>\n",
       "    <tr>\n",
       "      <th>21</th>\n",
       "      <td>22</td>\n",
       "      <td>2018-07-22</td>\n",
       "      <td>2451</td>\n",
       "    </tr>\n",
       "    <tr>\n",
       "      <th>22</th>\n",
       "      <td>23</td>\n",
       "      <td>2018-07-23</td>\n",
       "      <td>1908</td>\n",
       "    </tr>\n",
       "    <tr>\n",
       "      <th>23</th>\n",
       "      <td>24</td>\n",
       "      <td>2018-07-24</td>\n",
       "      <td>1692</td>\n",
       "    </tr>\n",
       "    <tr>\n",
       "      <th>24</th>\n",
       "      <td>25</td>\n",
       "      <td>2018-07-25</td>\n",
       "      <td>1816</td>\n",
       "    </tr>\n",
       "    <tr>\n",
       "      <th>25</th>\n",
       "      <td>26</td>\n",
       "      <td>2018-07-26</td>\n",
       "      <td>1943</td>\n",
       "    </tr>\n",
       "    <tr>\n",
       "      <th>26</th>\n",
       "      <td>27</td>\n",
       "      <td>2018-07-27</td>\n",
       "      <td>1730</td>\n",
       "    </tr>\n",
       "    <tr>\n",
       "      <th>27</th>\n",
       "      <td>28</td>\n",
       "      <td>2018-07-28</td>\n",
       "      <td>2409</td>\n",
       "    </tr>\n",
       "    <tr>\n",
       "      <th>28</th>\n",
       "      <td>29</td>\n",
       "      <td>2018-07-29</td>\n",
       "      <td>2373</td>\n",
       "    </tr>\n",
       "    <tr>\n",
       "      <th>29</th>\n",
       "      <td>30</td>\n",
       "      <td>2018-07-30</td>\n",
       "      <td>1715</td>\n",
       "    </tr>\n",
       "    <tr>\n",
       "      <th>...</th>\n",
       "      <td>...</td>\n",
       "      <td>...</td>\n",
       "      <td>...</td>\n",
       "    </tr>\n",
       "    <tr>\n",
       "      <th>68</th>\n",
       "      <td>69</td>\n",
       "      <td>2018-09-07</td>\n",
       "      <td>2401</td>\n",
       "    </tr>\n",
       "    <tr>\n",
       "      <th>69</th>\n",
       "      <td>70</td>\n",
       "      <td>2018-09-08</td>\n",
       "      <td>2777</td>\n",
       "    </tr>\n",
       "    <tr>\n",
       "      <th>70</th>\n",
       "      <td>71</td>\n",
       "      <td>2018-09-09</td>\n",
       "      <td>2916</td>\n",
       "    </tr>\n",
       "    <tr>\n",
       "      <th>71</th>\n",
       "      <td>72</td>\n",
       "      <td>2018-09-10</td>\n",
       "      <td>2020</td>\n",
       "    </tr>\n",
       "    <tr>\n",
       "      <th>72</th>\n",
       "      <td>73</td>\n",
       "      <td>2018-09-11</td>\n",
       "      <td>2187</td>\n",
       "    </tr>\n",
       "    <tr>\n",
       "      <th>73</th>\n",
       "      <td>74</td>\n",
       "      <td>2018-09-12</td>\n",
       "      <td>2134</td>\n",
       "    </tr>\n",
       "    <tr>\n",
       "      <th>74</th>\n",
       "      <td>75</td>\n",
       "      <td>2018-09-13</td>\n",
       "      <td>2219</td>\n",
       "    </tr>\n",
       "    <tr>\n",
       "      <th>75</th>\n",
       "      <td>76</td>\n",
       "      <td>2018-09-14</td>\n",
       "      <td>2361</td>\n",
       "    </tr>\n",
       "    <tr>\n",
       "      <th>76</th>\n",
       "      <td>77</td>\n",
       "      <td>2018-09-15</td>\n",
       "      <td>2973</td>\n",
       "    </tr>\n",
       "    <tr>\n",
       "      <th>77</th>\n",
       "      <td>78</td>\n",
       "      <td>2018-09-16</td>\n",
       "      <td>3242</td>\n",
       "    </tr>\n",
       "    <tr>\n",
       "      <th>78</th>\n",
       "      <td>79</td>\n",
       "      <td>2018-09-17</td>\n",
       "      <td>2166</td>\n",
       "    </tr>\n",
       "    <tr>\n",
       "      <th>79</th>\n",
       "      <td>80</td>\n",
       "      <td>2018-09-18</td>\n",
       "      <td>2281</td>\n",
       "    </tr>\n",
       "    <tr>\n",
       "      <th>80</th>\n",
       "      <td>81</td>\n",
       "      <td>2018-09-19</td>\n",
       "      <td>2331</td>\n",
       "    </tr>\n",
       "    <tr>\n",
       "      <th>81</th>\n",
       "      <td>82</td>\n",
       "      <td>2018-09-20</td>\n",
       "      <td>2322</td>\n",
       "    </tr>\n",
       "    <tr>\n",
       "      <th>82</th>\n",
       "      <td>83</td>\n",
       "      <td>2018-09-21</td>\n",
       "      <td>2445</td>\n",
       "    </tr>\n",
       "    <tr>\n",
       "      <th>83</th>\n",
       "      <td>84</td>\n",
       "      <td>2018-09-22</td>\n",
       "      <td>2736</td>\n",
       "    </tr>\n",
       "    <tr>\n",
       "      <th>84</th>\n",
       "      <td>85</td>\n",
       "      <td>2018-09-23</td>\n",
       "      <td>3107</td>\n",
       "    </tr>\n",
       "    <tr>\n",
       "      <th>85</th>\n",
       "      <td>86</td>\n",
       "      <td>2018-09-24</td>\n",
       "      <td>2664</td>\n",
       "    </tr>\n",
       "    <tr>\n",
       "      <th>86</th>\n",
       "      <td>87</td>\n",
       "      <td>2018-09-25</td>\n",
       "      <td>2949</td>\n",
       "    </tr>\n",
       "    <tr>\n",
       "      <th>87</th>\n",
       "      <td>88</td>\n",
       "      <td>2018-09-26</td>\n",
       "      <td>2423</td>\n",
       "    </tr>\n",
       "    <tr>\n",
       "      <th>88</th>\n",
       "      <td>89</td>\n",
       "      <td>2018-09-27</td>\n",
       "      <td>2692</td>\n",
       "    </tr>\n",
       "    <tr>\n",
       "      <th>89</th>\n",
       "      <td>90</td>\n",
       "      <td>2018-09-28</td>\n",
       "      <td>3272</td>\n",
       "    </tr>\n",
       "    <tr>\n",
       "      <th>90</th>\n",
       "      <td>91</td>\n",
       "      <td>2018-09-29</td>\n",
       "      <td>3203</td>\n",
       "    </tr>\n",
       "    <tr>\n",
       "      <th>91</th>\n",
       "      <td>92</td>\n",
       "      <td>2018-09-30</td>\n",
       "      <td>3090</td>\n",
       "    </tr>\n",
       "    <tr>\n",
       "      <th>92</th>\n",
       "      <td>93</td>\n",
       "      <td>2018-10-01</td>\n",
       "      <td>2469</td>\n",
       "    </tr>\n",
       "    <tr>\n",
       "      <th>93</th>\n",
       "      <td>94</td>\n",
       "      <td>2018-10-02</td>\n",
       "      <td>2509</td>\n",
       "    </tr>\n",
       "    <tr>\n",
       "      <th>94</th>\n",
       "      <td>95</td>\n",
       "      <td>2018-10-03</td>\n",
       "      <td>2654</td>\n",
       "    </tr>\n",
       "    <tr>\n",
       "      <th>95</th>\n",
       "      <td>96</td>\n",
       "      <td>2018-10-04</td>\n",
       "      <td>2600</td>\n",
       "    </tr>\n",
       "    <tr>\n",
       "      <th>96</th>\n",
       "      <td>97</td>\n",
       "      <td>2018-10-05</td>\n",
       "      <td>2738</td>\n",
       "    </tr>\n",
       "    <tr>\n",
       "      <th>97</th>\n",
       "      <td>98</td>\n",
       "      <td>2018-10-06</td>\n",
       "      <td>3289</td>\n",
       "    </tr>\n",
       "  </tbody>\n",
       "</table>\n",
       "<p>98 rows × 3 columns</p>\n",
       "</div>"
      ],
      "text/plain": [
       "    date_id       date  orders\n",
       "0         1 2018-07-01    2285\n",
       "1         2 2018-07-02    1670\n",
       "2         3 2018-07-03    2341\n",
       "3         4 2018-07-04    1781\n",
       "4         5 2018-07-05    1737\n",
       "5         6 2018-07-06    2210\n",
       "6         7 2018-07-07    2824\n",
       "7         8 2018-07-08    3141\n",
       "8         9 2018-07-09    2089\n",
       "9        10 2018-07-10    1989\n",
       "10       11 2018-07-11    2125\n",
       "11       12 2018-07-12    1929\n",
       "12       13 2018-07-13    2021\n",
       "13       14 2018-07-14    2541\n",
       "14       15 2018-07-15    2590\n",
       "15       16 2018-07-16    1961\n",
       "16       17 2018-07-17    1780\n",
       "17       18 2018-07-18    1884\n",
       "18       19 2018-07-19    2226\n",
       "19       20 2018-07-20    2224\n",
       "20       21 2018-07-21    2437\n",
       "21       22 2018-07-22    2451\n",
       "22       23 2018-07-23    1908\n",
       "23       24 2018-07-24    1692\n",
       "24       25 2018-07-25    1816\n",
       "25       26 2018-07-26    1943\n",
       "26       27 2018-07-27    1730\n",
       "27       28 2018-07-28    2409\n",
       "28       29 2018-07-29    2373\n",
       "29       30 2018-07-30    1715\n",
       "..      ...        ...     ...\n",
       "68       69 2018-09-07    2401\n",
       "69       70 2018-09-08    2777\n",
       "70       71 2018-09-09    2916\n",
       "71       72 2018-09-10    2020\n",
       "72       73 2018-09-11    2187\n",
       "73       74 2018-09-12    2134\n",
       "74       75 2018-09-13    2219\n",
       "75       76 2018-09-14    2361\n",
       "76       77 2018-09-15    2973\n",
       "77       78 2018-09-16    3242\n",
       "78       79 2018-09-17    2166\n",
       "79       80 2018-09-18    2281\n",
       "80       81 2018-09-19    2331\n",
       "81       82 2018-09-20    2322\n",
       "82       83 2018-09-21    2445\n",
       "83       84 2018-09-22    2736\n",
       "84       85 2018-09-23    3107\n",
       "85       86 2018-09-24    2664\n",
       "86       87 2018-09-25    2949\n",
       "87       88 2018-09-26    2423\n",
       "88       89 2018-09-27    2692\n",
       "89       90 2018-09-28    3272\n",
       "90       91 2018-09-29    3203\n",
       "91       92 2018-09-30    3090\n",
       "92       93 2018-10-01    2469\n",
       "93       94 2018-10-02    2509\n",
       "94       95 2018-10-03    2654\n",
       "95       96 2018-10-04    2600\n",
       "96       97 2018-10-05    2738\n",
       "97       98 2018-10-06    3289\n",
       "\n",
       "[98 rows x 3 columns]"
      ]
     },
     "execution_count": 191,
     "metadata": {},
     "output_type": "execute_result"
    }
   ],
   "source": [
    "%matplotlib inline\n",
    "\n",
    "restaurant_orders = pd.read_csv('files/lesson_7/train.csv', sep =',')# parse_dates=['date_oper'], dayfirst=True\n",
    "restaurant_orders['date'] = pd.to_datetime(restaurant_orders.date,format='%d.%m.%Y') \n",
    "restaurant_orders"
   ]
  },
  {
   "cell_type": "code",
   "execution_count": 239,
   "metadata": {},
   "outputs": [
    {
     "name": "stderr",
     "output_type": "stream",
     "text": [
      "/home/evgenii/.local/lib/python3.6/site-packages/ipykernel_launcher.py:2: FutureWarning: 'date' is both an index level and a column label.\n",
      "Defaulting to column, but this will raise an ambiguity error in a future version\n",
      "  \n",
      "/home/evgenii/.local/lib/python3.6/site-packages/ipykernel_launcher.py:3: FutureWarning: 'date' is both an index level and a column label.\n",
      "Defaulting to column, but this will raise an ambiguity error in a future version\n",
      "  This is separate from the ipykernel package so we can avoid doing imports until\n"
     ]
    }
   ],
   "source": [
    "restaurant_orders.index  = restaurant_orders.date\n",
    "train = restaurant_orders.sort_values('date', ascending = True).iloc[40:]\n",
    "test = restaurant_orders.sort_values('date', ascending = True).iloc[-18:]"
   ]
  },
  {
   "cell_type": "code",
   "execution_count": 240,
   "metadata": {},
   "outputs": [
    {
     "data": {
      "image/png": "[encoded data removed]",
      "text/plain": [
       "<Figure size 1080x432 with 1 Axes>"
      ]
     },
     "metadata": {
      "needs_background": "light"
     },
     "output_type": "display_data"
    }
   ],
   "source": [
    "train.orders.plot( figsize=(15,6),title= 'Количество заказов ресторана', fontsize=14)\n",
    "test.orders.plot( figsize=(15,6),title= 'Количество заказов ресторана', fontsize=14)\n",
    "plt.show()"
   ]
  },
  {
   "cell_type": "code",
   "execution_count": 241,
   "metadata": {},
   "outputs": [
    {
     "data": {
      "image/png": "[encoded data removed]",
      "text/plain": [
       "<Figure size 864x504 with 4 Axes>"
      ]
     },
     "metadata": {
      "needs_background": "light"
     },
     "output_type": "display_data"
    }
   ],
   "source": [
    "# STL-декомпозиция ряда\n",
    "rcParams['figure.figsize'] = 12, 7\n",
    "sm.tsa.seasonal_decompose(restaurant_orders.orders).plot()\n",
    "plt.show()"
   ]
  },
  {
   "cell_type": "code",
   "execution_count": 242,
   "metadata": {},
   "outputs": [
    {
     "data": {
      "image/png": "[encoded data removed]",
      "text/plain": [
       "<Figure size 1440x576 with 1 Axes>"
      ]
     },
     "metadata": {
      "needs_background": "light"
     },
     "output_type": "display_data"
    }
   ],
   "source": [
    "#Коррелограмма\n",
    "import statsmodels.api as sm\n",
    "fig, ax = plt.subplots(figsize=(20,8))\n",
    "sm.graphics.tsa.plot_acf(train.orders.values, lags=25,ax = ax)\n",
    "plt.show()"
   ]
  },
  {
   "cell_type": "code",
   "execution_count": 243,
   "metadata": {},
   "outputs": [],
   "source": [
    "y_hat = test.copy()"
   ]
  },
  {
   "cell_type": "code",
   "execution_count": 244,
   "metadata": {},
   "outputs": [],
   "source": [
    "from sklearn.metrics import mean_squared_error\n",
    "from math import sqrt\n",
    "from statsmodels.tsa.api import ExponentialSmoothing, SimpleExpSmoothing, Holt"
   ]
  },
  {
   "cell_type": "markdown",
   "metadata": {},
   "source": [
    "### Метод линейного тренда Холта-Уинтерса"
   ]
  },
  {
   "cell_type": "markdown",
   "metadata": {},
   "source": [
    "Подходит для работы с временными рядами, где есть устойчивый линейный тренд."
   ]
  },
  {
   "cell_type": "markdown",
   "metadata": {},
   "source": [
    "У нас есть следующие компоненты:\n",
    "\n",
    "- линейное уравнение для построения прогноза    \n",
    "${y}_{x+1} = \\ell_x + b_x$    \n",
    "- уравнение уровня    \n",
    "$\\ell_x = \\alpha y_x + (1-\\alpha)(\\ell_{x-1} + b_{x-1})$\n",
    "- уравнение тренда    \n",
    "${b_x} = \\beta(\\ell_x - \\ell_{x-1}) + (1-\\beta)b_{x-1}$\n",
    "\n",
    "\n",
    "Итоговое предсказание представляет собой сумму модельных значений уровня и тренда."
   ]
  },
  {
   "cell_type": "code",
   "execution_count": 245,
   "metadata": {},
   "outputs": [],
   "source": [
    "def double_exponential_smoothing(series, alpha, beta):\n",
    "    result = [series[0]]\n",
    "    for n in range(1, len(series)+1):\n",
    "        if n == 1:\n",
    "            level, trend = series[0], series[1] - series[0]\n",
    "        if n >= len(series): # прогнозируем\n",
    "            value = result[-1]\n",
    "        else:\n",
    "            value = series[n]\n",
    "        last_level, level = level, alpha*value + (1-alpha)*(level+trend)\n",
    "        trend = beta*(level-last_level) + (1-beta)*trend\n",
    "        result.append(level+trend)\n",
    "    return result[-1]"
   ]
  },
  {
   "cell_type": "code",
   "execution_count": 246,
   "metadata": {},
   "outputs": [
    {
     "data": {
      "image/png": "[encoded data removed]",
      "text/plain": [
       "<Figure size 1152x576 with 1 Axes>"
      ]
     },
     "metadata": {
      "needs_background": "light"
     },
     "output_type": "display_data"
    }
   ],
   "source": [
    "fit1 = Holt(np.asarray(train.orders)).fit(smoothing_level = 0.28,smoothing_slope = 0.27)\n",
    "y_hat['Holt_linear'] = fit1.forecast(len(test))\n",
    "\n",
    "plt.figure(figsize=(16,8))\n",
    "plt.plot(train.orders, label='Train')\n",
    "plt.plot(test.orders, label='Test')\n",
    "plt.plot(y_hat['Holt_linear'], label='Holt_linear')\n",
    "plt.legend(loc='best')\n",
    "plt.show()"
   ]
  },
  {
   "cell_type": "code",
   "execution_count": 247,
   "metadata": {},
   "outputs": [
    {
     "name": "stdout",
     "output_type": "stream",
     "text": [
      "347.5644206305956\n"
     ]
    }
   ],
   "source": [
    "rms = sqrt(mean_squared_error(test.orders, y_hat.Holt_linear))\n",
    "print(rms)"
   ]
  },
  {
   "cell_type": "markdown",
   "metadata": {},
   "source": [
    "### Метод Холта-Уинтерса\n",
    "\n",
    "Теперь будем учитывать сезонность.\n",
    "\n",
    "Получаем новую систему:\n",
    "\n",
    "$\\ell_x = \\alpha(y_x - s_{x-L}) + (1-\\alpha)(\\ell_{x-1} + b_{x-1})$\n",
    "\n",
    "\n",
    "$b_x = \\beta(\\ell_x - \\ell_{x-1}) + (1-\\beta)b_{x-1}$\n",
    "\n",
    "$s_x = \\gamma(y_x - \\ell_x) + (1-\\gamma)s_{x-L}$\n",
    "\n",
    "${y}_{x+m} = \\ell_x + mb_x + s_{x-L+1+(m-1)modL}$\n"
   ]
  },
  {
   "cell_type": "code",
   "execution_count": 248,
   "metadata": {},
   "outputs": [
    {
     "data": {
      "image/png": "[encoded data removed]",
      "text/plain": [
       "<Figure size 1152x576 with 1 Axes>"
      ]
     },
     "metadata": {
      "needs_background": "light"
     },
     "output_type": "display_data"
    }
   ],
   "source": [
    "fit1 = ExponentialSmoothing(np.asarray(train.orders) ,seasonal_periods=7 ,trend='add', seasonal='add').fit()\n",
    "y_hat['Holt_Winter'] = fit1.forecast(len(test))\n",
    "plt.figure(figsize=(16,8))\n",
    "plt.plot(train.orders, label='Train')\n",
    "plt.plot(test.orders, label='Test')\n",
    "plt.plot(y_hat['Holt_Winter'], label='Holt_Winter')\n",
    "plt.legend(loc='best')\n",
    "plt.show()"
   ]
  },
  {
   "cell_type": "code",
   "execution_count": 249,
   "metadata": {},
   "outputs": [
    {
     "name": "stdout",
     "output_type": "stream",
     "text": [
      "495.7139621019466\n"
     ]
    }
   ],
   "source": [
    "rms = sqrt(mean_squared_error(test.orders, y_hat.Holt_Winter))\n",
    "print(rms)"
   ]
  },
  {
   "cell_type": "markdown",
   "metadata": {},
   "source": [
    "### ARIMA\n",
    "\n",
    "В основе моделей класса ARIMA лежит понятие автокорреляции и плавающего среднего.\n",
    "\n",
    "<img width = '400px' src=\"images/lesson_7/arma.png\">\n",
    "\n",
    "$ p(AR(p)): y_{t} - \\text {линейная комбинация p предыдущих значений ряда и шумовой компоненты}.$\n",
    "\n",
    "$ q(MA(q)): y_{t} - \\text {линейная комбинация q последних значений шумовой компоненты}.$\n",
    "\n",
    "ARIMA - линейная модель множественной регрессии, в которой в качестве объяснящих переменных выступают прошлые значения самой зависимой переменной, а в качестве регрессионного остатка - скользящие средние из элементов белого шума.\n",
    "\n",
    "Для корректного использование модели ARIMA исходный ряд должен быть стационарен.\n",
    "\n",
    "Проверим это с помощью критерия Дики-Фуллера."
   ]
  },
  {
   "cell_type": "code",
   "execution_count": 250,
   "metadata": {},
   "outputs": [
    {
     "name": "stdout",
     "output_type": "stream",
     "text": [
      "adf:  -0.443040098591471\n",
      "p-value:  0.9026608225128401\n",
      "Critical values:  {'1%': -3.5745892596209488, '5%': -2.9239543084490744, '10%': -2.6000391840277777}\n",
      "есть единичные корни, ряд не стационарен\n"
     ]
    }
   ],
   "source": [
    "test_ = sm.tsa.adfuller(train.orders)\n",
    "print ('adf: ', test_[0] )\n",
    "print ('p-value: ', test_[1])\n",
    "print('Critical values: ', test_[4])\n",
    "if test_[0]> test_[4]['5%']: \n",
    "    print ('есть единичные корни, ряд не стационарен')\n",
    "else:\n",
    "    print ('единичных корней нет, ряд стационарен')"
   ]
  },
  {
   "cell_type": "markdown",
   "metadata": {},
   "source": [
    "### Стационарность"
   ]
  },
  {
   "cell_type": "markdown",
   "metadata": {},
   "source": [
    "Самый частый прием для того, чтобы избавиться от стационарности - провести интегрирование по ряду."
   ]
  },
  {
   "cell_type": "code",
   "execution_count": 274,
   "metadata": {},
   "outputs": [],
   "source": [
    "train_diff = train.orders.diff(periods=1).dropna()\n",
    "train_diff = train_diff.diff(periods=7).dropna()\n"
   ]
  },
  {
   "cell_type": "markdown",
   "metadata": {},
   "source": [
    "В коде выше функция diff() вычисляет разность исходного ряда с рядом с заданным смещением периода. Период смещения передается как параметр period. Т.к. в разности первое значение получиться неопределенным, то нам надо избавиться от него для этого и используется метод dropna()."
   ]
  },
  {
   "cell_type": "code",
   "execution_count": 275,
   "metadata": {},
   "outputs": [
    {
     "data": {
      "image/png": "[encoded data removed]",
      "text/plain": [
       "<Figure size 1152x576 with 1 Axes>"
      ]
     },
     "metadata": {
      "needs_background": "light"
     },
     "output_type": "display_data"
    }
   ],
   "source": [
    "plt.figure(figsize=(16,8))\n",
    "plt.plot(train_diff, label='Train')\n",
    "plt.show()"
   ]
  },
  {
   "cell_type": "code",
   "execution_count": 276,
   "metadata": {},
   "outputs": [
    {
     "name": "stdout",
     "output_type": "stream",
     "text": [
      "adf:  -5.30778973235349\n",
      "p-value:  5.27583635340386e-06\n",
      "Critical values:  {'1%': -3.5925042342183704, '5%': -2.931549768951162, '10%': -2.60406594375338}\n",
      "единичных корней нет, ряд стационарен\n"
     ]
    }
   ],
   "source": [
    "stat_test = sm.tsa.adfuller(train_diff)\n",
    "print ('adf: ', stat_test[0] )\n",
    "print ('p-value: ', stat_test[1])\n",
    "print('Critical values: ', stat_test[4])\n",
    "if stat_test[0]> stat_test[4]['5%']: \n",
    "    print ('есть единичные корни, ряд не стационарен')\n",
    "else:\n",
    "    print ('единичных корней нет, ряд стационарен')"
   ]
  },
  {
   "cell_type": "markdown",
   "metadata": {},
   "source": [
    "Будем строить модель SARIMA, модель, учитывающая сезонность ряда.\n",
    "\n",
    "Чтобы построить модель нам нужно знать ее порядок, состоящий из 6-х параметров:\n",
    "\n",
    "- p,P — порядок компоненты AR\n",
    "- d,D — порядок интегрированного ряда\n",
    "- q,Q — порядок компонетны MA\n",
    "\n",
    "Параметр D равен 1, так как потребовалось делать сезонное дифференцирование.\n",
    "\n",
    "Для p,P и q,Q надо изучить авторкорреляционную(ACF) и частично автокорреляционную(PACF) функции для ряда первых разностей.\n",
    "ACF поможет нам определить q и Q, т. к. по ее коррелограмме можно определить количество автокорреляционных коэффициентов сильно отличных от 0 в модели MA.\n",
    "PACF поможет нам определить p и P, т. к. по ее коррелограмме можно определить максимальный номер коэффициента сильно отличный от 0 в модели AR.\n",
    "\n",
    "Подробнее про АКФ и ЧКФ - здесь http://university.prognoz.ru/biu/ru/%D0%90%D0%9A%D0%A4_%D0%B8_%D0%A7%D0%90%D0%9A%D0%A4.\n",
    "\n",
    "**Автокорреляционная функция** – это зависимость коэффициентов автокорреляции от лага.\n",
    "\n",
    "**Частная автокорреляционная функция** показывает корреляцию между двумя случайными переменными за вычетом влияния всех внутренних значений автокорреляции. \n",
    "\n",
    "<img width = '400px' src=\"images/lesson_7/partial_autocor.png\">\n",
    "\n",
    "Автокорреляция показывает зависимость между y4 и y1, при этом игнорируя эффект от изменения y2 и y3. А частная автокорреляция также показывает эффект между y4 и y1, при этом учитывая, что эффект от y2 и y3 отсутсвует, то есть убирает эффекты y2 и y3.\n",
    "\n",
    "Рекомендации к подбору первоначальных приближений:\n",
    "\n",
    "Q,P - номер последнего сезонного лага при котором автокорреляция значима (персекается граница доверительного интервала).\n",
    "\n",
    "q,p - номер последнего несезонного лага при котором автокорреляция значима."
   ]
  },
  {
   "cell_type": "code",
   "execution_count": 277,
   "metadata": {},
   "outputs": [
    {
     "name": "stderr",
     "output_type": "stream",
     "text": [
      "/home/evgenii/.local/lib/python3.6/site-packages/statsmodels/regression/linear_model.py:1283: RuntimeWarning: invalid value encountered in sqrt\n",
      "  return rho, np.sqrt(sigmasq)\n"
     ]
    },
    {
     "data": {
      "image/png": "[encoded data removed]",
      "text/plain": [
       "<Figure size 864x576 with 2 Axes>"
      ]
     },
     "metadata": {
      "needs_background": "light"
     },
     "output_type": "display_data"
    }
   ],
   "source": [
    "fig = plt.figure(figsize=(12,8))\n",
    "ax1 = fig.add_subplot(211)\n",
    "fig = sm.graphics.tsa.plot_acf(train_diff.values.squeeze(), lags=25, ax=ax1)\n",
    "ax2 = fig.add_subplot(212)\n",
    "fig = sm.graphics.tsa.plot_pacf(train_diff, lags=30, ax=ax2)"
   ]
  },
  {
   "cell_type": "code",
   "execution_count": 169,
   "metadata": {},
   "outputs": [],
   "source": [
    "q = 3\n",
    "Q = 1\n",
    "\n",
    "#Q==7 -> Q=1\n",
    "#Q < 3 q <7\n",
    "\n",
    "#PACF\n",
    "p = 9\n",
    "P = 0\n",
    "\n",
    "\n",
    "d = 1\n",
    "D = 1\n",
    "\n",
    "s = 7\n"
   ]
  },
  {
   "cell_type": "code",
   "execution_count": 170,
   "metadata": {},
   "outputs": [
    {
     "name": "stdout",
     "output_type": "stream",
     "text": [
      "CPU times: user 6.16 s, sys: 10.7 s, total: 16.9 s\n",
      "Wall time: 2.16 s\n"
     ]
    }
   ],
   "source": [
    "%%time\n",
    "best_model=sm.tsa.statespace.SARIMAX(train.orders.squeeze(), order=(p, d, q), \n",
    "                                        seasonal_order=(P, D, Q, s)).fit()"
   ]
  },
  {
   "cell_type": "code",
   "execution_count": 171,
   "metadata": {},
   "outputs": [
    {
     "data": {
      "image/png": "[encoded data removed]",
      "text/plain": [
       "<Figure size 1152x576 with 1 Axes>"
      ]
     },
     "metadata": {
      "needs_background": "light"
     },
     "output_type": "display_data"
    }
   ],
   "source": [
    "forecast = best_model.predict(start = train.shape[0], end = train.shape[0]+18)\n",
    "y_hat['SARIMA'] = forecast\n",
    "plt.figure(figsize=(16,8))\n",
    "plt.plot(train.orders, label='Train')\n",
    "plt.plot(test.orders, label='Test')\n",
    "plt.plot(y_hat['SARIMA'], label='SARIMA')\n",
    "plt.legend(loc='best')\n",
    "plt.show()"
   ]
  },
  {
   "cell_type": "code",
   "execution_count": 172,
   "metadata": {},
   "outputs": [
    {
     "name": "stdout",
     "output_type": "stream",
     "text": [
      "204.54064636156406\n"
     ]
    }
   ],
   "source": [
    "rms = sqrt(mean_squared_error(test.orders, y_hat.SARIMA))\n",
    "print(rms)"
   ]
  },
  {
   "cell_type": "code",
   "execution_count": 114,
   "metadata": {},
   "outputs": [],
   "source": [
    "import sys\n",
    "import warnings\n",
    "warnings.filterwarnings('ignore')\n",
    "from tqdm import tqdm\n",
    "\n",
    "import pandas as pd\n",
    "import numpy as np\n",
    "from sklearn.metrics import mean_absolute_error, mean_squared_error\n",
    "\n",
    "import statsmodels.formula.api as smf\n",
    "import statsmodels.tsa.api as smt\n",
    "import statsmodels.api as sm\n",
    "import scipy.stats as scs\n",
    "from scipy.optimize import minimize\n",
    "\n",
    "import matplotlib.pyplot as plt"
   ]
  },
  {
   "cell_type": "code",
   "execution_count": 187,
   "metadata": {},
   "outputs": [
    {
     "data": {
      "text/plain": [
       "300"
      ]
     },
     "execution_count": 187,
     "metadata": {},
     "output_type": "execute_result"
    }
   ],
   "source": [
    "ps = range(1, 6)\n",
    "ds = 1\n",
    "qs = range(1, 6)\n",
    "Ps = range(0, 4)\n",
    "Ds = 1\n",
    "Qs = range(0, 3)\n",
    "\n",
    "from itertools import product\n",
    "\n",
    "parameters = product(ps, qs, Ps, Qs)\n",
    "parameters_list = list(parameters)\n",
    "len(parameters_list)"
   ]
  },
  {
   "cell_type": "code",
   "execution_count": 188,
   "metadata": {
    "scrolled": true
   },
   "outputs": [
    {
     "name": "stderr",
     "output_type": "stream",
     "text": [
      "\n",
      "\n",
      "\n",
      "\n",
      "  0%|          | 0/300 [00:00<?, ?it/s]\u001b[A\u001b[A\u001b[A\u001b[A/home/evgenii/.local/lib/python3.6/site-packages/statsmodels/tsa/base/tsa_model.py:221: ValueWarning: An unsupported index was provided and will be ignored when e.g. forecasting.\n",
      "  ' ignored when e.g. forecasting.', ValueWarning)\n",
      "/home/evgenii/.local/lib/python3.6/site-packages/statsmodels/tsa/statespace/sarimax.py:1051: DeprecationWarning: The truth value of an empty array is ambiguous. Returning False, but in future this will result in an error. Use `array.size > 0` to check that an array is not empty.\n",
      "  if self.state_error and params_variance == []:\n",
      "/home/evgenii/.local/lib/python3.6/site-packages/statsmodels/tsa/base/tsa_model.py:531: ValueWarning: No supported index is available. Prediction results will be given with an integer index beginning at `start`.\n",
      "  ValueWarning)\n",
      "\n",
      "\n",
      "\n",
      "\n",
      "  0%|          | 1/300 [00:00<00:33,  8.91it/s]\u001b[A\u001b[A\u001b[A\u001b[A/home/evgenii/.local/lib/python3.6/site-packages/statsmodels/tsa/base/tsa_model.py:221: ValueWarning: An unsupported index was provided and will be ignored when e.g. forecasting.\n",
      "  ' ignored when e.g. forecasting.', ValueWarning)\n",
      "/home/evgenii/.local/lib/python3.6/site-packages/statsmodels/tsa/statespace/sarimax.py:1051: DeprecationWarning: The truth value of an empty array is ambiguous. Returning False, but in future this will result in an error. Use `array.size > 0` to check that an array is not empty.\n",
      "  if self.state_error and params_variance == []:\n"
     ]
    },
    {
     "name": "stdout",
     "output_type": "stream",
     "text": [
      "wrong parameters: (1, 1, 0, 0)\n",
      "wrong parameters: (1, 1, 0, 1)\n",
      "wrong parameters: (1, 1, 0, 2)\n"
     ]
    },
    {
     "name": "stderr",
     "output_type": "stream",
     "text": [
      "/home/evgenii/.local/lib/python3.6/site-packages/statsmodels/tsa/base/tsa_model.py:531: ValueWarning: No supported index is available. Prediction results will be given with an integer index beginning at `start`.\n",
      "  ValueWarning)\n",
      "\n",
      "\n",
      "\n",
      "\n",
      "  1%|▏         | 4/300 [00:00<00:35,  8.32it/s]\u001b[A\u001b[A\u001b[A\u001b[A/home/evgenii/.local/lib/python3.6/site-packages/statsmodels/tsa/base/tsa_model.py:221: ValueWarning: An unsupported index was provided and will be ignored when e.g. forecasting.\n",
      "  ' ignored when e.g. forecasting.', ValueWarning)\n",
      "/home/evgenii/.local/lib/python3.6/site-packages/statsmodels/tsa/statespace/sarimax.py:1051: DeprecationWarning: The truth value of an empty array is ambiguous. Returning False, but in future this will result in an error. Use `array.size > 0` to check that an array is not empty.\n",
      "  if self.state_error and params_variance == []:\n"
     ]
    },
    {
     "name": "stdout",
     "output_type": "stream",
     "text": [
      "wrong parameters: (1, 1, 1, 0)\n",
      "wrong parameters: (1, 1, 1, 1)\n",
      "wrong parameters: (1, 1, 1, 2)\n"
     ]
    },
    {
     "name": "stderr",
     "output_type": "stream",
     "text": [
      "/home/evgenii/.local/lib/python3.6/site-packages/statsmodels/tsa/base/tsa_model.py:531: ValueWarning: No supported index is available. Prediction results will be given with an integer index beginning at `start`.\n",
      "  ValueWarning)\n",
      "\n",
      "\n",
      "\n",
      "\n",
      "  2%|▏         | 7/300 [00:01<00:51,  5.71it/s]\u001b[A\u001b[A\u001b[A\u001b[A/home/evgenii/.local/lib/python3.6/site-packages/statsmodels/tsa/base/tsa_model.py:221: ValueWarning: An unsupported index was provided and will be ignored when e.g. forecasting.\n",
      "  ' ignored when e.g. forecasting.', ValueWarning)\n",
      "/home/evgenii/.local/lib/python3.6/site-packages/statsmodels/tsa/statespace/sarimax.py:1051: DeprecationWarning: The truth value of an empty array is ambiguous. Returning False, but in future this will result in an error. Use `array.size > 0` to check that an array is not empty.\n",
      "  if self.state_error and params_variance == []:\n"
     ]
    },
    {
     "name": "stdout",
     "output_type": "stream",
     "text": [
      "wrong parameters: (1, 1, 2, 0)\n",
      "wrong parameters: (1, 1, 2, 1)\n",
      "wrong parameters: (1, 1, 2, 2)\n"
     ]
    },
    {
     "name": "stderr",
     "output_type": "stream",
     "text": [
      "/home/evgenii/.local/lib/python3.6/site-packages/statsmodels/tsa/base/tsa_model.py:531: ValueWarning: No supported index is available. Prediction results will be given with an integer index beginning at `start`.\n",
      "  ValueWarning)\n",
      "\n",
      "\n",
      "\n",
      "\n",
      "  3%|▎         | 10/300 [00:02<01:13,  3.97it/s]\u001b[A\u001b[A\u001b[A\u001b[A/home/evgenii/.local/lib/python3.6/site-packages/statsmodels/tsa/base/tsa_model.py:221: ValueWarning: An unsupported index was provided and will be ignored when e.g. forecasting.\n",
      "  ' ignored when e.g. forecasting.', ValueWarning)\n",
      "/home/evgenii/.local/lib/python3.6/site-packages/statsmodels/tsa/statespace/sarimax.py:1051: DeprecationWarning: The truth value of an empty array is ambiguous. Returning False, but in future this will result in an error. Use `array.size > 0` to check that an array is not empty.\n",
      "  if self.state_error and params_variance == []:\n"
     ]
    },
    {
     "name": "stdout",
     "output_type": "stream",
     "text": [
      "wrong parameters: (1, 1, 3, 0)\n",
      "wrong parameters: (1, 1, 3, 1)\n",
      "wrong parameters: (1, 1, 3, 2)\n"
     ]
    },
    {
     "name": "stderr",
     "output_type": "stream",
     "text": [
      "/home/evgenii/.local/lib/python3.6/site-packages/statsmodels/tsa/base/tsa_model.py:531: ValueWarning: No supported index is available. Prediction results will be given with an integer index beginning at `start`.\n",
      "  ValueWarning)\n",
      "\n",
      "\n",
      "\n",
      "\n",
      "  4%|▍         | 13/300 [00:03<00:58,  4.93it/s]\u001b[A\u001b[A\u001b[A\u001b[A/home/evgenii/.local/lib/python3.6/site-packages/statsmodels/tsa/base/tsa_model.py:221: ValueWarning: An unsupported index was provided and will be ignored when e.g. forecasting.\n",
      "  ' ignored when e.g. forecasting.', ValueWarning)\n",
      "/home/evgenii/.local/lib/python3.6/site-packages/statsmodels/tsa/statespace/sarimax.py:1051: DeprecationWarning: The truth value of an empty array is ambiguous. Returning False, but in future this will result in an error. Use `array.size > 0` to check that an array is not empty.\n",
      "  if self.state_error and params_variance == []:\n"
     ]
    },
    {
     "name": "stdout",
     "output_type": "stream",
     "text": [
      "wrong parameters: (1, 2, 0, 0)\n",
      "wrong parameters: (1, 2, 0, 1)\n",
      "wrong parameters: (1, 2, 0, 2)\n"
     ]
    },
    {
     "name": "stderr",
     "output_type": "stream",
     "text": [
      "/home/evgenii/.local/lib/python3.6/site-packages/statsmodels/tsa/base/tsa_model.py:531: ValueWarning: No supported index is available. Prediction results will be given with an integer index beginning at `start`.\n",
      "  ValueWarning)\n",
      "\n",
      "\n",
      "\n",
      "\n",
      "  5%|▌         | 16/300 [00:03<00:59,  4.81it/s]\u001b[A\u001b[A\u001b[A\u001b[A/home/evgenii/.local/lib/python3.6/site-packages/statsmodels/tsa/base/tsa_model.py:221: ValueWarning: An unsupported index was provided and will be ignored when e.g. forecasting.\n",
      "  ' ignored when e.g. forecasting.', ValueWarning)\n",
      "/home/evgenii/.local/lib/python3.6/site-packages/statsmodels/tsa/statespace/sarimax.py:1051: DeprecationWarning: The truth value of an empty array is ambiguous. Returning False, but in future this will result in an error. Use `array.size > 0` to check that an array is not empty.\n",
      "  if self.state_error and params_variance == []:\n"
     ]
    },
    {
     "name": "stdout",
     "output_type": "stream",
     "text": [
      "wrong parameters: (1, 2, 1, 0)\n",
      "wrong parameters: (1, 2, 1, 1)\n",
      "wrong parameters: (1, 2, 1, 2)\n"
     ]
    },
    {
     "name": "stderr",
     "output_type": "stream",
     "text": [
      "/home/evgenii/.local/lib/python3.6/site-packages/statsmodels/tsa/base/tsa_model.py:531: ValueWarning: No supported index is available. Prediction results will be given with an integer index beginning at `start`.\n",
      "  ValueWarning)\n",
      "\n",
      "\n",
      "\n",
      "\n",
      "  6%|▋         | 19/300 [00:04<01:06,  4.24it/s]\u001b[A\u001b[A\u001b[A\u001b[A/home/evgenii/.local/lib/python3.6/site-packages/statsmodels/tsa/base/tsa_model.py:221: ValueWarning: An unsupported index was provided and will be ignored when e.g. forecasting.\n",
      "  ' ignored when e.g. forecasting.', ValueWarning)\n",
      "/home/evgenii/.local/lib/python3.6/site-packages/statsmodels/tsa/statespace/sarimax.py:1051: DeprecationWarning: The truth value of an empty array is ambiguous. Returning False, but in future this will result in an error. Use `array.size > 0` to check that an array is not empty.\n",
      "  if self.state_error and params_variance == []:\n"
     ]
    },
    {
     "name": "stdout",
     "output_type": "stream",
     "text": [
      "wrong parameters: (1, 2, 2, 0)\n",
      "wrong parameters: (1, 2, 2, 1)\n",
      "wrong parameters: (1, 2, 2, 2)\n"
     ]
    },
    {
     "name": "stderr",
     "output_type": "stream",
     "text": [
      "/home/evgenii/.local/lib/python3.6/site-packages/statsmodels/tsa/base/tsa_model.py:531: ValueWarning: No supported index is available. Prediction results will be given with an integer index beginning at `start`.\n",
      "  ValueWarning)\n",
      "\n",
      "\n",
      "\n",
      "\n",
      "  7%|▋         | 22/300 [00:06<01:30,  3.08it/s]\u001b[A\u001b[A\u001b[A\u001b[A/home/evgenii/.local/lib/python3.6/site-packages/statsmodels/tsa/base/tsa_model.py:221: ValueWarning: An unsupported index was provided and will be ignored when e.g. forecasting.\n",
      "  ' ignored when e.g. forecasting.', ValueWarning)\n",
      "/home/evgenii/.local/lib/python3.6/site-packages/statsmodels/tsa/statespace/sarimax.py:1051: DeprecationWarning: The truth value of an empty array is ambiguous. Returning False, but in future this will result in an error. Use `array.size > 0` to check that an array is not empty.\n",
      "  if self.state_error and params_variance == []:\n"
     ]
    },
    {
     "name": "stdout",
     "output_type": "stream",
     "text": [
      "wrong parameters: (1, 2, 3, 0)\n",
      "wrong parameters: (1, 2, 3, 1)\n",
      "wrong parameters: (1, 2, 3, 2)\n",
      "wrong parameters: (1, 3, 0, 0)\n",
      "wrong parameters: (1, 3, 0, 1)\n",
      "wrong parameters: (1, 3, 0, 2)\n",
      "wrong parameters: (1, 3, 1, 0)\n",
      "wrong parameters: (1, 3, 1, 1)\n",
      "wrong parameters: (1, 3, 1, 2)\n",
      "wrong parameters: (1, 3, 2, 0)\n",
      "wrong parameters: (1, 3, 2, 1)\n",
      "wrong parameters: (1, 3, 2, 2)\n",
      "wrong parameters: (1, 3, 3, 0)\n",
      "wrong parameters: (1, 3, 3, 1)\n",
      "wrong parameters: (1, 3, 3, 2)\n"
     ]
    },
    {
     "name": "stderr",
     "output_type": "stream",
     "text": [
      "/home/evgenii/.local/lib/python3.6/site-packages/statsmodels/tsa/base/tsa_model.py:531: ValueWarning: No supported index is available. Prediction results will be given with an integer index beginning at `start`.\n",
      "  ValueWarning)\n",
      "\n",
      "\n",
      "\n",
      "\n",
      " 12%|█▏        | 37/300 [00:06<01:01,  4.28it/s]\u001b[A\u001b[A\u001b[A\u001b[A/home/evgenii/.local/lib/python3.6/site-packages/statsmodels/tsa/base/tsa_model.py:221: ValueWarning: An unsupported index was provided and will be ignored when e.g. forecasting.\n",
      "  ' ignored when e.g. forecasting.', ValueWarning)\n",
      "/home/evgenii/.local/lib/python3.6/site-packages/statsmodels/tsa/statespace/sarimax.py:1051: DeprecationWarning: The truth value of an empty array is ambiguous. Returning False, but in future this will result in an error. Use `array.size > 0` to check that an array is not empty.\n",
      "  if self.state_error and params_variance == []:\n"
     ]
    },
    {
     "name": "stdout",
     "output_type": "stream",
     "text": [
      "wrong parameters: (1, 4, 0, 0)\n",
      "wrong parameters: (1, 4, 0, 1)\n",
      "wrong parameters: (1, 4, 0, 2)\n"
     ]
    },
    {
     "name": "stderr",
     "output_type": "stream",
     "text": [
      "/home/evgenii/.local/lib/python3.6/site-packages/statsmodels/tsa/base/tsa_model.py:531: ValueWarning: No supported index is available. Prediction results will be given with an integer index beginning at `start`.\n",
      "  ValueWarning)\n",
      "\n",
      "\n",
      "\n",
      "\n",
      " 13%|█▎        | 40/300 [00:07<01:01,  4.20it/s]\u001b[A\u001b[A\u001b[A\u001b[A/home/evgenii/.local/lib/python3.6/site-packages/statsmodels/tsa/base/tsa_model.py:221: ValueWarning: An unsupported index was provided and will be ignored when e.g. forecasting.\n",
      "  ' ignored when e.g. forecasting.', ValueWarning)\n",
      "/home/evgenii/.local/lib/python3.6/site-packages/statsmodels/tsa/statespace/sarimax.py:1051: DeprecationWarning: The truth value of an empty array is ambiguous. Returning False, but in future this will result in an error. Use `array.size > 0` to check that an array is not empty.\n",
      "  if self.state_error and params_variance == []:\n"
     ]
    },
    {
     "name": "stdout",
     "output_type": "stream",
     "text": [
      "wrong parameters: (1, 4, 1, 0)\n",
      "wrong parameters: (1, 4, 1, 1)\n",
      "wrong parameters: (1, 4, 1, 2)\n"
     ]
    },
    {
     "name": "stderr",
     "output_type": "stream",
     "text": [
      "/home/evgenii/.local/lib/python3.6/site-packages/statsmodels/tsa/base/tsa_model.py:531: ValueWarning: No supported index is available. Prediction results will be given with an integer index beginning at `start`.\n",
      "  ValueWarning)\n",
      "\n",
      "\n",
      "\n",
      "\n",
      " 14%|█▍        | 43/300 [00:08<01:06,  3.85it/s]\u001b[A\u001b[A\u001b[A\u001b[A/home/evgenii/.local/lib/python3.6/site-packages/statsmodels/tsa/base/tsa_model.py:221: ValueWarning: An unsupported index was provided and will be ignored when e.g. forecasting.\n",
      "  ' ignored when e.g. forecasting.', ValueWarning)\n",
      "/home/evgenii/.local/lib/python3.6/site-packages/statsmodels/tsa/statespace/sarimax.py:1051: DeprecationWarning: The truth value of an empty array is ambiguous. Returning False, but in future this will result in an error. Use `array.size > 0` to check that an array is not empty.\n",
      "  if self.state_error and params_variance == []:\n"
     ]
    },
    {
     "name": "stdout",
     "output_type": "stream",
     "text": [
      "wrong parameters: (1, 4, 2, 0)\n",
      "wrong parameters: (1, 4, 2, 1)\n",
      "wrong parameters: (1, 4, 2, 2)\n"
     ]
    },
    {
     "name": "stderr",
     "output_type": "stream",
     "text": [
      "/home/evgenii/.local/lib/python3.6/site-packages/statsmodels/tsa/base/tsa_model.py:531: ValueWarning: No supported index is available. Prediction results will be given with an integer index beginning at `start`.\n",
      "  ValueWarning)\n",
      "\n",
      "\n",
      "\n",
      "\n",
      " 15%|█▌        | 46/300 [00:10<01:41,  2.51it/s]\u001b[A\u001b[A\u001b[A\u001b[A/home/evgenii/.local/lib/python3.6/site-packages/statsmodels/tsa/base/tsa_model.py:221: ValueWarning: An unsupported index was provided and will be ignored when e.g. forecasting.\n",
      "  ' ignored when e.g. forecasting.', ValueWarning)\n",
      "/home/evgenii/.local/lib/python3.6/site-packages/statsmodels/tsa/statespace/sarimax.py:1051: DeprecationWarning: The truth value of an empty array is ambiguous. Returning False, but in future this will result in an error. Use `array.size > 0` to check that an array is not empty.\n",
      "  if self.state_error and params_variance == []:\n"
     ]
    },
    {
     "name": "stdout",
     "output_type": "stream",
     "text": [
      "wrong parameters: (1, 4, 3, 0)\n",
      "wrong parameters: (1, 4, 3, 1)\n",
      "wrong parameters: (1, 4, 3, 2)\n",
      "wrong parameters: (1, 5, 0, 0)\n",
      "wrong parameters: (1, 5, 0, 1)\n",
      "wrong parameters: (1, 5, 0, 2)\n",
      "wrong parameters: (1, 5, 1, 0)\n",
      "wrong parameters: (1, 5, 1, 1)\n",
      "wrong parameters: (1, 5, 1, 2)\n",
      "wrong parameters: (1, 5, 2, 0)\n",
      "wrong parameters: (1, 5, 2, 1)\n",
      "wrong parameters: (1, 5, 2, 2)\n",
      "wrong parameters: (1, 5, 3, 0)\n",
      "wrong parameters: (1, 5, 3, 1)\n",
      "wrong parameters: (1, 5, 3, 2)\n"
     ]
    },
    {
     "name": "stderr",
     "output_type": "stream",
     "text": [
      "/home/evgenii/.local/lib/python3.6/site-packages/statsmodels/tsa/base/tsa_model.py:531: ValueWarning: No supported index is available. Prediction results will be given with an integer index beginning at `start`.\n",
      "  ValueWarning)\n",
      "\n",
      "\n",
      "\n",
      "\n",
      " 20%|██        | 61/300 [00:10<01:07,  3.52it/s]\u001b[A\u001b[A\u001b[A\u001b[A/home/evgenii/.local/lib/python3.6/site-packages/statsmodels/tsa/base/tsa_model.py:221: ValueWarning: An unsupported index was provided and will be ignored when e.g. forecasting.\n",
      "  ' ignored when e.g. forecasting.', ValueWarning)\n",
      "/home/evgenii/.local/lib/python3.6/site-packages/statsmodels/tsa/statespace/sarimax.py:1051: DeprecationWarning: The truth value of an empty array is ambiguous. Returning False, but in future this will result in an error. Use `array.size > 0` to check that an array is not empty.\n",
      "  if self.state_error and params_variance == []:\n"
     ]
    },
    {
     "name": "stdout",
     "output_type": "stream",
     "text": [
      "wrong parameters: (2, 1, 0, 0)\n",
      "wrong parameters: (2, 1, 0, 1)\n",
      "wrong parameters: (2, 1, 0, 2)\n"
     ]
    },
    {
     "name": "stderr",
     "output_type": "stream",
     "text": [
      "/home/evgenii/.local/lib/python3.6/site-packages/statsmodels/tsa/base/tsa_model.py:531: ValueWarning: No supported index is available. Prediction results will be given with an integer index beginning at `start`.\n",
      "  ValueWarning)\n",
      "\n",
      "\n",
      "\n",
      "\n",
      " 21%|██▏       | 64/300 [00:11<00:57,  4.12it/s]\u001b[A\u001b[A\u001b[A\u001b[A/home/evgenii/.local/lib/python3.6/site-packages/statsmodels/tsa/base/tsa_model.py:221: ValueWarning: An unsupported index was provided and will be ignored when e.g. forecasting.\n",
      "  ' ignored when e.g. forecasting.', ValueWarning)\n",
      "/home/evgenii/.local/lib/python3.6/site-packages/statsmodels/tsa/statespace/sarimax.py:1051: DeprecationWarning: The truth value of an empty array is ambiguous. Returning False, but in future this will result in an error. Use `array.size > 0` to check that an array is not empty.\n",
      "  if self.state_error and params_variance == []:\n"
     ]
    },
    {
     "name": "stdout",
     "output_type": "stream",
     "text": [
      "wrong parameters: (2, 1, 1, 0)\n",
      "wrong parameters: (2, 1, 1, 1)\n",
      "wrong parameters: (2, 1, 1, 2)\n"
     ]
    },
    {
     "name": "stderr",
     "output_type": "stream",
     "text": [
      "/home/evgenii/.local/lib/python3.6/site-packages/statsmodels/tsa/base/tsa_model.py:531: ValueWarning: No supported index is available. Prediction results will be given with an integer index beginning at `start`.\n",
      "  ValueWarning)\n",
      "\n",
      "\n",
      "\n",
      "\n",
      " 22%|██▏       | 67/300 [00:11<00:58,  3.96it/s]\u001b[A\u001b[A\u001b[A\u001b[A/home/evgenii/.local/lib/python3.6/site-packages/statsmodels/tsa/base/tsa_model.py:221: ValueWarning: An unsupported index was provided and will be ignored when e.g. forecasting.\n",
      "  ' ignored when e.g. forecasting.', ValueWarning)\n",
      "/home/evgenii/.local/lib/python3.6/site-packages/statsmodels/tsa/statespace/sarimax.py:1051: DeprecationWarning: The truth value of an empty array is ambiguous. Returning False, but in future this will result in an error. Use `array.size > 0` to check that an array is not empty.\n",
      "  if self.state_error and params_variance == []:\n"
     ]
    },
    {
     "name": "stdout",
     "output_type": "stream",
     "text": [
      "wrong parameters: (2, 1, 2, 0)\n",
      "wrong parameters: (2, 1, 2, 1)\n",
      "wrong parameters: (2, 1, 2, 2)\n"
     ]
    },
    {
     "name": "stderr",
     "output_type": "stream",
     "text": [
      "/home/evgenii/.local/lib/python3.6/site-packages/statsmodels/tsa/base/tsa_model.py:531: ValueWarning: No supported index is available. Prediction results will be given with an integer index beginning at `start`.\n",
      "  ValueWarning)\n",
      "\n",
      "\n",
      "\n",
      "\n",
      " 23%|██▎       | 70/300 [00:13<01:28,  2.60it/s]\u001b[A\u001b[A\u001b[A\u001b[A/home/evgenii/.local/lib/python3.6/site-packages/statsmodels/tsa/base/tsa_model.py:221: ValueWarning: An unsupported index was provided and will be ignored when e.g. forecasting.\n",
      "  ' ignored when e.g. forecasting.', ValueWarning)\n",
      "\n",
      "\n",
      "\n",
      "\n",
      " 29%|██▉       | 88/300 [00:14<00:57,  3.69it/s]\u001b[A\u001b[A\u001b[A\u001b[A/home/evgenii/.local/lib/python3.6/site-packages/statsmodels/tsa/statespace/sarimax.py:1051: DeprecationWarning: The truth value of an empty array is ambiguous. Returning False, but in future this will result in an error. Use `array.size > 0` to check that an array is not empty.\n",
      "  if self.state_error and params_variance == []:\n"
     ]
    },
    {
     "name": "stdout",
     "output_type": "stream",
     "text": [
      "wrong parameters: (2, 1, 3, 0)\n",
      "wrong parameters: (2, 1, 3, 1)\n",
      "wrong parameters: (2, 1, 3, 2)\n",
      "wrong parameters: (2, 2, 0, 0)\n",
      "wrong parameters: (2, 2, 0, 1)\n",
      "wrong parameters: (2, 2, 0, 2)\n",
      "wrong parameters: (2, 2, 1, 0)\n",
      "wrong parameters: (2, 2, 1, 1)\n",
      "wrong parameters: (2, 2, 1, 2)\n",
      "wrong parameters: (2, 2, 2, 0)\n",
      "wrong parameters: (2, 2, 2, 1)\n",
      "wrong parameters: (2, 2, 2, 2)\n",
      "wrong parameters: (2, 2, 3, 0)\n",
      "wrong parameters: (2, 2, 3, 1)\n",
      "wrong parameters: (2, 2, 3, 2)\n",
      "wrong parameters: (2, 3, 0, 0)\n",
      "wrong parameters: (2, 3, 0, 1)\n",
      "wrong parameters: (2, 3, 0, 2)\n",
      "wrong parameters: (2, 3, 1, 0)\n",
      "wrong parameters: (2, 3, 1, 1)\n",
      "wrong parameters: (2, 3, 1, 2)\n",
      "wrong parameters: (2, 3, 2, 0)\n",
      "wrong parameters: (2, 3, 2, 1)\n",
      "wrong parameters: (2, 3, 2, 2)\n",
      "wrong parameters: (2, 3, 3, 0)\n",
      "wrong parameters: (2, 3, 3, 1)\n",
      "wrong parameters: (2, 3, 3, 2)\n"
     ]
    },
    {
     "name": "stderr",
     "output_type": "stream",
     "text": [
      "/home/evgenii/.local/lib/python3.6/site-packages/statsmodels/tsa/base/tsa_model.py:531: ValueWarning: No supported index is available. Prediction results will be given with an integer index beginning at `start`.\n",
      "  ValueWarning)\n",
      "\n",
      "\n",
      "\n",
      "\n",
      " 32%|███▏      | 97/300 [00:14<00:41,  4.91it/s]\u001b[A\u001b[A\u001b[A\u001b[A/home/evgenii/.local/lib/python3.6/site-packages/statsmodels/tsa/base/tsa_model.py:221: ValueWarning: An unsupported index was provided and will be ignored when e.g. forecasting.\n",
      "  ' ignored when e.g. forecasting.', ValueWarning)\n",
      "/home/evgenii/.local/lib/python3.6/site-packages/statsmodels/tsa/statespace/sarimax.py:1051: DeprecationWarning: The truth value of an empty array is ambiguous. Returning False, but in future this will result in an error. Use `array.size > 0` to check that an array is not empty.\n",
      "  if self.state_error and params_variance == []:\n"
     ]
    },
    {
     "name": "stdout",
     "output_type": "stream",
     "text": [
      "wrong parameters: (2, 4, 0, 0)\n",
      "wrong parameters: (2, 4, 0, 1)\n",
      "wrong parameters: (2, 4, 0, 2)\n"
     ]
    },
    {
     "name": "stderr",
     "output_type": "stream",
     "text": [
      "/home/evgenii/.local/lib/python3.6/site-packages/statsmodels/tsa/base/tsa_model.py:531: ValueWarning: No supported index is available. Prediction results will be given with an integer index beginning at `start`.\n",
      "  ValueWarning)\n",
      "/home/evgenii/.local/lib/python3.6/site-packages/statsmodels/tsa/base/tsa_model.py:221: ValueWarning: An unsupported index was provided and will be ignored when e.g. forecasting.\n",
      "  ' ignored when e.g. forecasting.', ValueWarning)\n",
      "\n",
      "\n",
      "\n",
      "\n",
      " 34%|███▍      | 102/300 [00:15<00:40,  4.84it/s]\u001b[A\u001b[A\u001b[A\u001b[A/home/evgenii/.local/lib/python3.6/site-packages/statsmodels/tsa/statespace/sarimax.py:1051: DeprecationWarning: The truth value of an empty array is ambiguous. Returning False, but in future this will result in an error. Use `array.size > 0` to check that an array is not empty.\n",
      "  if self.state_error and params_variance == []:\n"
     ]
    },
    {
     "name": "stdout",
     "output_type": "stream",
     "text": [
      "wrong parameters: (2, 4, 1, 0)\n",
      "wrong parameters: (2, 4, 1, 1)\n",
      "wrong parameters: (2, 4, 1, 2)\n"
     ]
    },
    {
     "name": "stderr",
     "output_type": "stream",
     "text": [
      "/home/evgenii/.local/lib/python3.6/site-packages/statsmodels/base/model.py:508: ConvergenceWarning: Maximum Likelihood optimization failed to converge. Check mle_retvals\n",
      "  \"Check mle_retvals\", ConvergenceWarning)\n",
      "/home/evgenii/.local/lib/python3.6/site-packages/statsmodels/tsa/base/tsa_model.py:531: ValueWarning: No supported index is available. Prediction results will be given with an integer index beginning at `start`.\n",
      "  ValueWarning)\n",
      "/home/evgenii/.local/lib/python3.6/site-packages/statsmodels/tsa/base/tsa_model.py:221: ValueWarning: An unsupported index was provided and will be ignored when e.g. forecasting.\n",
      "  ' ignored when e.g. forecasting.', ValueWarning)\n",
      "/home/evgenii/.local/lib/python3.6/site-packages/statsmodels/tsa/statespace/sarimax.py:1051: DeprecationWarning: The truth value of an empty array is ambiguous. Returning False, but in future this will result in an error. Use `array.size > 0` to check that an array is not empty.\n",
      "  if self.state_error and params_variance == []:\n"
     ]
    },
    {
     "name": "stdout",
     "output_type": "stream",
     "text": [
      "wrong parameters: (2, 4, 2, 0)\n",
      "wrong parameters: (2, 4, 2, 1)\n",
      "wrong parameters: (2, 4, 2, 2)\n"
     ]
    },
    {
     "name": "stderr",
     "output_type": "stream",
     "text": [
      "/home/evgenii/.local/lib/python3.6/site-packages/statsmodels/base/model.py:508: ConvergenceWarning: Maximum Likelihood optimization failed to converge. Check mle_retvals\n",
      "  \"Check mle_retvals\", ConvergenceWarning)\n",
      "/home/evgenii/.local/lib/python3.6/site-packages/statsmodels/tsa/base/tsa_model.py:531: ValueWarning: No supported index is available. Prediction results will be given with an integer index beginning at `start`.\n",
      "  ValueWarning)\n",
      "\n",
      "\n",
      "\n",
      "\n",
      " 35%|███▌      | 106/300 [00:21<01:51,  1.74it/s]\u001b[A\u001b[A\u001b[A\u001b[A/home/evgenii/.local/lib/python3.6/site-packages/statsmodels/tsa/base/tsa_model.py:221: ValueWarning: An unsupported index was provided and will be ignored when e.g. forecasting.\n",
      "  ' ignored when e.g. forecasting.', ValueWarning)\n",
      "/home/evgenii/.local/lib/python3.6/site-packages/statsmodels/tsa/statespace/sarimax.py:1051: DeprecationWarning: The truth value of an empty array is ambiguous. Returning False, but in future this will result in an error. Use `array.size > 0` to check that an array is not empty.\n",
      "  if self.state_error and params_variance == []:\n"
     ]
    },
    {
     "name": "stdout",
     "output_type": "stream",
     "text": [
      "wrong parameters: (2, 4, 3, 0)\n",
      "wrong parameters: (2, 4, 3, 1)\n",
      "wrong parameters: (2, 4, 3, 2)\n",
      "wrong parameters: (2, 5, 0, 0)\n",
      "wrong parameters: (2, 5, 0, 1)\n",
      "wrong parameters: (2, 5, 0, 2)\n",
      "wrong parameters: (2, 5, 1, 0)\n",
      "wrong parameters: (2, 5, 1, 1)\n",
      "wrong parameters: (2, 5, 1, 2)\n",
      "wrong parameters: (2, 5, 2, 0)\n",
      "wrong parameters: (2, 5, 2, 1)\n",
      "wrong parameters: (2, 5, 2, 2)\n",
      "wrong parameters: (2, 5, 3, 0)\n",
      "wrong parameters: (2, 5, 3, 1)\n",
      "wrong parameters: (2, 5, 3, 2)\n"
     ]
    },
    {
     "name": "stderr",
     "output_type": "stream",
     "text": [
      "/home/evgenii/.local/lib/python3.6/site-packages/statsmodels/tsa/base/tsa_model.py:531: ValueWarning: No supported index is available. Prediction results will be given with an integer index beginning at `start`.\n",
      "  ValueWarning)\n",
      "\n",
      "\n",
      "\n",
      "\n",
      " 40%|████      | 121/300 [00:21<01:12,  2.45it/s]\u001b[A\u001b[A\u001b[A\u001b[A/home/evgenii/.local/lib/python3.6/site-packages/statsmodels/tsa/base/tsa_model.py:221: ValueWarning: An unsupported index was provided and will be ignored when e.g. forecasting.\n",
      "  ' ignored when e.g. forecasting.', ValueWarning)\n",
      "/home/evgenii/.local/lib/python3.6/site-packages/statsmodels/tsa/statespace/sarimax.py:1051: DeprecationWarning: The truth value of an empty array is ambiguous. Returning False, but in future this will result in an error. Use `array.size > 0` to check that an array is not empty.\n",
      "  if self.state_error and params_variance == []:\n"
     ]
    },
    {
     "name": "stdout",
     "output_type": "stream",
     "text": [
      "wrong parameters: (3, 1, 0, 0)\n",
      "wrong parameters: (3, 1, 0, 1)\n",
      "wrong parameters: (3, 1, 0, 2)\n"
     ]
    },
    {
     "name": "stderr",
     "output_type": "stream",
     "text": [
      "/home/evgenii/.local/lib/python3.6/site-packages/statsmodels/tsa/base/tsa_model.py:531: ValueWarning: No supported index is available. Prediction results will be given with an integer index beginning at `start`.\n",
      "  ValueWarning)\n",
      "/home/evgenii/.local/lib/python3.6/site-packages/statsmodels/tsa/base/tsa_model.py:221: ValueWarning: An unsupported index was provided and will be ignored when e.g. forecasting.\n",
      "  ' ignored when e.g. forecasting.', ValueWarning)\n",
      "\n",
      "\n",
      "\n",
      "\n",
      " 42%|████▏     | 125/300 [00:22<00:58,  2.98it/s]\u001b[A\u001b[A\u001b[A\u001b[A/home/evgenii/.local/lib/python3.6/site-packages/statsmodels/tsa/statespace/sarimax.py:1051: DeprecationWarning: The truth value of an empty array is ambiguous. Returning False, but in future this will result in an error. Use `array.size > 0` to check that an array is not empty.\n",
      "  if self.state_error and params_variance == []:\n"
     ]
    },
    {
     "name": "stdout",
     "output_type": "stream",
     "text": [
      "wrong parameters: (3, 1, 1, 0)\n",
      "wrong parameters: (3, 1, 1, 1)\n",
      "wrong parameters: (3, 1, 1, 2)\n"
     ]
    },
    {
     "name": "stderr",
     "output_type": "stream",
     "text": [
      "/home/evgenii/.local/lib/python3.6/site-packages/statsmodels/tsa/base/tsa_model.py:531: ValueWarning: No supported index is available. Prediction results will be given with an integer index beginning at `start`.\n",
      "  ValueWarning)\n",
      "/home/evgenii/.local/lib/python3.6/site-packages/statsmodels/tsa/base/tsa_model.py:221: ValueWarning: An unsupported index was provided and will be ignored when e.g. forecasting.\n",
      "  ' ignored when e.g. forecasting.', ValueWarning)\n",
      "\n",
      "\n",
      "\n",
      "\n",
      " 43%|████▎     | 128/300 [00:23<01:03,  2.72it/s]\u001b[A\u001b[A\u001b[A\u001b[A/home/evgenii/.local/lib/python3.6/site-packages/statsmodels/tsa/statespace/sarimax.py:1051: DeprecationWarning: The truth value of an empty array is ambiguous. Returning False, but in future this will result in an error. Use `array.size > 0` to check that an array is not empty.\n",
      "  if self.state_error and params_variance == []:\n"
     ]
    },
    {
     "name": "stdout",
     "output_type": "stream",
     "text": [
      "wrong parameters: (3, 1, 2, 0)\n",
      "wrong parameters: (3, 1, 2, 1)\n",
      "wrong parameters: (3, 1, 2, 2)\n"
     ]
    },
    {
     "name": "stderr",
     "output_type": "stream",
     "text": [
      "/home/evgenii/.local/lib/python3.6/site-packages/statsmodels/tsa/base/tsa_model.py:531: ValueWarning: No supported index is available. Prediction results will be given with an integer index beginning at `start`.\n",
      "  ValueWarning)\n",
      "\n",
      "\n",
      "\n",
      "\n",
      " 43%|████▎     | 130/300 [00:25<01:45,  1.61it/s]\u001b[A\u001b[A\u001b[A\u001b[A/home/evgenii/.local/lib/python3.6/site-packages/statsmodels/tsa/base/tsa_model.py:221: ValueWarning: An unsupported index was provided and will be ignored when e.g. forecasting.\n",
      "  ' ignored when e.g. forecasting.', ValueWarning)\n",
      "\n",
      "\n",
      "\n",
      "\n",
      " 50%|█████     | 150/300 [00:26<01:05,  2.29it/s]\u001b[A\u001b[A\u001b[A\u001b[A/home/evgenii/.local/lib/python3.6/site-packages/statsmodels/tsa/statespace/sarimax.py:1051: DeprecationWarning: The truth value of an empty array is ambiguous. Returning False, but in future this will result in an error. Use `array.size > 0` to check that an array is not empty.\n",
      "  if self.state_error and params_variance == []:\n"
     ]
    },
    {
     "name": "stdout",
     "output_type": "stream",
     "text": [
      "wrong parameters: (3, 1, 3, 0)\n",
      "wrong parameters: (3, 1, 3, 1)\n",
      "wrong parameters: (3, 1, 3, 2)\n",
      "wrong parameters: (3, 2, 0, 0)\n",
      "wrong parameters: (3, 2, 0, 1)\n",
      "wrong parameters: (3, 2, 0, 2)\n",
      "wrong parameters: (3, 2, 1, 0)\n",
      "wrong parameters: (3, 2, 1, 1)\n",
      "wrong parameters: (3, 2, 1, 2)\n",
      "wrong parameters: (3, 2, 2, 0)\n",
      "wrong parameters: (3, 2, 2, 1)\n",
      "wrong parameters: (3, 2, 2, 2)\n",
      "wrong parameters: (3, 2, 3, 0)\n",
      "wrong parameters: (3, 2, 3, 1)\n",
      "wrong parameters: (3, 2, 3, 2)\n",
      "wrong parameters: (3, 3, 0, 0)\n",
      "wrong parameters: (3, 3, 0, 1)\n",
      "wrong parameters: (3, 3, 0, 2)\n",
      "wrong parameters: (3, 3, 1, 0)\n",
      "wrong parameters: (3, 3, 1, 1)\n",
      "wrong parameters: (3, 3, 1, 2)\n",
      "wrong parameters: (3, 3, 2, 0)\n",
      "wrong parameters: (3, 3, 2, 1)\n",
      "wrong parameters: (3, 3, 2, 2)\n",
      "wrong parameters: (3, 3, 3, 0)\n",
      "wrong parameters: (3, 3, 3, 1)\n",
      "wrong parameters: (3, 3, 3, 2)\n"
     ]
    },
    {
     "name": "stderr",
     "output_type": "stream",
     "text": [
      "/home/evgenii/.local/lib/python3.6/site-packages/statsmodels/base/model.py:508: ConvergenceWarning: Maximum Likelihood optimization failed to converge. Check mle_retvals\n",
      "  \"Check mle_retvals\", ConvergenceWarning)\n",
      "/home/evgenii/.local/lib/python3.6/site-packages/statsmodels/tsa/base/tsa_model.py:531: ValueWarning: No supported index is available. Prediction results will be given with an integer index beginning at `start`.\n",
      "  ValueWarning)\n",
      "\n",
      "\n",
      "\n",
      "\n",
      " 52%|█████▏    | 157/300 [00:26<00:47,  3.01it/s]\u001b[A\u001b[A\u001b[A\u001b[A/home/evgenii/.local/lib/python3.6/site-packages/statsmodels/tsa/base/tsa_model.py:221: ValueWarning: An unsupported index was provided and will be ignored when e.g. forecasting.\n",
      "  ' ignored when e.g. forecasting.', ValueWarning)\n",
      "/home/evgenii/.local/lib/python3.6/site-packages/statsmodels/tsa/statespace/sarimax.py:1051: DeprecationWarning: The truth value of an empty array is ambiguous. Returning False, but in future this will result in an error. Use `array.size > 0` to check that an array is not empty.\n",
      "  if self.state_error and params_variance == []:\n"
     ]
    },
    {
     "name": "stdout",
     "output_type": "stream",
     "text": [
      "wrong parameters: (3, 4, 0, 0)\n",
      "wrong parameters: (3, 4, 0, 1)\n",
      "wrong parameters: (3, 4, 0, 2)\n"
     ]
    },
    {
     "name": "stderr",
     "output_type": "stream",
     "text": [
      "/home/evgenii/.local/lib/python3.6/site-packages/statsmodels/base/model.py:508: ConvergenceWarning: Maximum Likelihood optimization failed to converge. Check mle_retvals\n",
      "  \"Check mle_retvals\", ConvergenceWarning)\n",
      "/home/evgenii/.local/lib/python3.6/site-packages/statsmodels/tsa/base/tsa_model.py:531: ValueWarning: No supported index is available. Prediction results will be given with an integer index beginning at `start`.\n",
      "  ValueWarning)\n",
      "/home/evgenii/.local/lib/python3.6/site-packages/statsmodels/tsa/base/tsa_model.py:221: ValueWarning: An unsupported index was provided and will be ignored when e.g. forecasting.\n",
      "  ' ignored when e.g. forecasting.', ValueWarning)\n",
      "/home/evgenii/.local/lib/python3.6/site-packages/statsmodels/tsa/statespace/sarimax.py:1051: DeprecationWarning: The truth value of an empty array is ambiguous. Returning False, but in future this will result in an error. Use `array.size > 0` to check that an array is not empty.\n",
      "  if self.state_error and params_variance == []:\n"
     ]
    },
    {
     "name": "stdout",
     "output_type": "stream",
     "text": [
      "wrong parameters: (3, 4, 1, 0)\n",
      "wrong parameters: (3, 4, 1, 1)\n",
      "wrong parameters: (3, 4, 1, 2)\n"
     ]
    },
    {
     "name": "stderr",
     "output_type": "stream",
     "text": [
      "/home/evgenii/.local/lib/python3.6/site-packages/statsmodels/base/model.py:508: ConvergenceWarning: Maximum Likelihood optimization failed to converge. Check mle_retvals\n",
      "  \"Check mle_retvals\", ConvergenceWarning)\n",
      "/home/evgenii/.local/lib/python3.6/site-packages/statsmodels/tsa/base/tsa_model.py:531: ValueWarning: No supported index is available. Prediction results will be given with an integer index beginning at `start`.\n",
      "  ValueWarning)\n",
      "\n",
      "\n",
      "\n",
      "\n",
      " 54%|█████▍    | 163/300 [00:30<00:55,  2.45it/s]\u001b[A\u001b[A\u001b[A\u001b[A/home/evgenii/.local/lib/python3.6/site-packages/statsmodels/tsa/base/tsa_model.py:221: ValueWarning: An unsupported index was provided and will be ignored when e.g. forecasting.\n",
      "  ' ignored when e.g. forecasting.', ValueWarning)\n",
      "/home/evgenii/.local/lib/python3.6/site-packages/statsmodels/tsa/statespace/sarimax.py:1051: DeprecationWarning: The truth value of an empty array is ambiguous. Returning False, but in future this will result in an error. Use `array.size > 0` to check that an array is not empty.\n",
      "  if self.state_error and params_variance == []:\n"
     ]
    },
    {
     "name": "stdout",
     "output_type": "stream",
     "text": [
      "wrong parameters: (3, 4, 2, 0)\n",
      "wrong parameters: (3, 4, 2, 1)\n",
      "wrong parameters: (3, 4, 2, 2)\n"
     ]
    },
    {
     "name": "stderr",
     "output_type": "stream",
     "text": [
      "/home/evgenii/.local/lib/python3.6/site-packages/statsmodels/base/model.py:508: ConvergenceWarning: Maximum Likelihood optimization failed to converge. Check mle_retvals\n",
      "  \"Check mle_retvals\", ConvergenceWarning)\n",
      "/home/evgenii/.local/lib/python3.6/site-packages/statsmodels/tsa/base/tsa_model.py:531: ValueWarning: No supported index is available. Prediction results will be given with an integer index beginning at `start`.\n",
      "  ValueWarning)\n",
      "/home/evgenii/.local/lib/python3.6/site-packages/statsmodels/tsa/base/tsa_model.py:221: ValueWarning: An unsupported index was provided and will be ignored when e.g. forecasting.\n",
      "  ' ignored when e.g. forecasting.', ValueWarning)\n",
      "\n",
      "\n",
      "\n",
      "\n",
      " 56%|█████▌    | 167/300 [00:33<01:15,  1.76it/s]\u001b[A\u001b[A\u001b[A\u001b[A/home/evgenii/.local/lib/python3.6/site-packages/statsmodels/tsa/statespace/sarimax.py:1051: DeprecationWarning: The truth value of an empty array is ambiguous. Returning False, but in future this will result in an error. Use `array.size > 0` to check that an array is not empty.\n",
      "  if self.state_error and params_variance == []:\n"
     ]
    },
    {
     "name": "stdout",
     "output_type": "stream",
     "text": [
      "wrong parameters: (3, 4, 3, 0)\n",
      "wrong parameters: (3, 4, 3, 1)\n",
      "wrong parameters: (3, 4, 3, 2)\n",
      "wrong parameters: (3, 5, 0, 0)\n",
      "wrong parameters: (3, 5, 0, 1)\n",
      "wrong parameters: (3, 5, 0, 2)\n",
      "wrong parameters: (3, 5, 1, 0)\n",
      "wrong parameters: (3, 5, 1, 1)\n",
      "wrong parameters: (3, 5, 1, 2)\n",
      "wrong parameters: (3, 5, 2, 0)\n",
      "wrong parameters: (3, 5, 2, 1)\n",
      "wrong parameters: (3, 5, 2, 2)\n",
      "wrong parameters: (3, 5, 3, 0)\n",
      "wrong parameters: (3, 5, 3, 1)\n",
      "wrong parameters: (3, 5, 3, 2)\n"
     ]
    },
    {
     "name": "stderr",
     "output_type": "stream",
     "text": [
      "/home/evgenii/.local/lib/python3.6/site-packages/statsmodels/tsa/base/tsa_model.py:531: ValueWarning: No supported index is available. Prediction results will be given with an integer index beginning at `start`.\n",
      "  ValueWarning)\n",
      "\n",
      "\n",
      "\n",
      "\n",
      " 60%|██████    | 181/300 [00:34<00:48,  2.47it/s]\u001b[A\u001b[A\u001b[A\u001b[A/home/evgenii/.local/lib/python3.6/site-packages/statsmodels/tsa/base/tsa_model.py:221: ValueWarning: An unsupported index was provided and will be ignored when e.g. forecasting.\n",
      "  ' ignored when e.g. forecasting.', ValueWarning)\n",
      "/home/evgenii/.local/lib/python3.6/site-packages/statsmodels/tsa/statespace/sarimax.py:1051: DeprecationWarning: The truth value of an empty array is ambiguous. Returning False, but in future this will result in an error. Use `array.size > 0` to check that an array is not empty.\n",
      "  if self.state_error and params_variance == []:\n"
     ]
    },
    {
     "name": "stdout",
     "output_type": "stream",
     "text": [
      "wrong parameters: (4, 1, 0, 0)\n",
      "wrong parameters: (4, 1, 0, 1)\n",
      "wrong parameters: (4, 1, 0, 2)\n"
     ]
    },
    {
     "name": "stderr",
     "output_type": "stream",
     "text": [
      "/home/evgenii/.local/lib/python3.6/site-packages/statsmodels/tsa/base/tsa_model.py:531: ValueWarning: No supported index is available. Prediction results will be given with an integer index beginning at `start`.\n",
      "  ValueWarning)\n",
      "/home/evgenii/.local/lib/python3.6/site-packages/statsmodels/tsa/base/tsa_model.py:221: ValueWarning: An unsupported index was provided and will be ignored when e.g. forecasting.\n",
      "  ' ignored when e.g. forecasting.', ValueWarning)\n",
      "\n",
      "\n",
      "\n",
      "\n",
      " 62%|██████▏   | 185/300 [00:35<00:39,  2.88it/s]\u001b[A\u001b[A\u001b[A\u001b[A/home/evgenii/.local/lib/python3.6/site-packages/statsmodels/tsa/statespace/sarimax.py:1051: DeprecationWarning: The truth value of an empty array is ambiguous. Returning False, but in future this will result in an error. Use `array.size > 0` to check that an array is not empty.\n",
      "  if self.state_error and params_variance == []:\n"
     ]
    },
    {
     "name": "stdout",
     "output_type": "stream",
     "text": [
      "wrong parameters: (4, 1, 1, 0)\n",
      "wrong parameters: (4, 1, 1, 1)\n",
      "wrong parameters: (4, 1, 1, 2)\n"
     ]
    },
    {
     "name": "stderr",
     "output_type": "stream",
     "text": [
      "/home/evgenii/.local/lib/python3.6/site-packages/statsmodels/tsa/base/tsa_model.py:531: ValueWarning: No supported index is available. Prediction results will be given with an integer index beginning at `start`.\n",
      "  ValueWarning)\n",
      "/home/evgenii/.local/lib/python3.6/site-packages/statsmodels/tsa/base/tsa_model.py:221: ValueWarning: An unsupported index was provided and will be ignored when e.g. forecasting.\n",
      "  ' ignored when e.g. forecasting.', ValueWarning)\n",
      "\n",
      "\n",
      "\n",
      "\n",
      " 63%|██████▎   | 188/300 [00:36<00:43,  2.57it/s]\u001b[A\u001b[A\u001b[A\u001b[A/home/evgenii/.local/lib/python3.6/site-packages/statsmodels/tsa/statespace/sarimax.py:1051: DeprecationWarning: The truth value of an empty array is ambiguous. Returning False, but in future this will result in an error. Use `array.size > 0` to check that an array is not empty.\n",
      "  if self.state_error and params_variance == []:\n"
     ]
    },
    {
     "name": "stdout",
     "output_type": "stream",
     "text": [
      "wrong parameters: (4, 1, 2, 0)\n",
      "wrong parameters: (4, 1, 2, 1)\n",
      "wrong parameters: (4, 1, 2, 2)\n"
     ]
    },
    {
     "name": "stderr",
     "output_type": "stream",
     "text": [
      "/home/evgenii/.local/lib/python3.6/site-packages/statsmodels/tsa/base/tsa_model.py:531: ValueWarning: No supported index is available. Prediction results will be given with an integer index beginning at `start`.\n",
      "  ValueWarning)\n",
      "\n",
      "\n",
      "\n",
      "\n",
      " 63%|██████▎   | 190/300 [00:39<01:17,  1.42it/s]\u001b[A\u001b[A\u001b[A\u001b[A/home/evgenii/.local/lib/python3.6/site-packages/statsmodels/tsa/base/tsa_model.py:221: ValueWarning: An unsupported index was provided and will be ignored when e.g. forecasting.\n",
      "  ' ignored when e.g. forecasting.', ValueWarning)\n",
      "\n",
      "\n",
      "\n",
      "\n",
      " 70%|███████   | 211/300 [00:39<00:43,  2.03it/s]\u001b[A\u001b[A\u001b[A\u001b[A/home/evgenii/.local/lib/python3.6/site-packages/statsmodels/tsa/statespace/sarimax.py:1051: DeprecationWarning: The truth value of an empty array is ambiguous. Returning False, but in future this will result in an error. Use `array.size > 0` to check that an array is not empty.\n",
      "  if self.state_error and params_variance == []:\n"
     ]
    },
    {
     "name": "stdout",
     "output_type": "stream",
     "text": [
      "wrong parameters: (4, 1, 3, 0)\n",
      "wrong parameters: (4, 1, 3, 1)\n",
      "wrong parameters: (4, 1, 3, 2)\n",
      "wrong parameters: (4, 2, 0, 0)\n",
      "wrong parameters: (4, 2, 0, 1)\n",
      "wrong parameters: (4, 2, 0, 2)\n",
      "wrong parameters: (4, 2, 1, 0)\n",
      "wrong parameters: (4, 2, 1, 1)\n",
      "wrong parameters: (4, 2, 1, 2)\n",
      "wrong parameters: (4, 2, 2, 0)\n",
      "wrong parameters: (4, 2, 2, 1)\n",
      "wrong parameters: (4, 2, 2, 2)\n",
      "wrong parameters: (4, 2, 3, 0)\n",
      "wrong parameters: (4, 2, 3, 1)\n",
      "wrong parameters: (4, 2, 3, 2)\n",
      "wrong parameters: (4, 3, 0, 0)\n",
      "wrong parameters: (4, 3, 0, 1)\n",
      "wrong parameters: (4, 3, 0, 2)\n",
      "wrong parameters: (4, 3, 1, 0)\n",
      "wrong parameters: (4, 3, 1, 1)\n",
      "wrong parameters: (4, 3, 1, 2)\n",
      "wrong parameters: (4, 3, 2, 0)\n",
      "wrong parameters: (4, 3, 2, 1)\n",
      "wrong parameters: (4, 3, 2, 2)\n",
      "wrong parameters: (4, 3, 3, 0)\n",
      "wrong parameters: (4, 3, 3, 1)\n",
      "wrong parameters: (4, 3, 3, 2)\n"
     ]
    },
    {
     "name": "stderr",
     "output_type": "stream",
     "text": [
      "/home/evgenii/.local/lib/python3.6/site-packages/statsmodels/base/model.py:508: ConvergenceWarning: Maximum Likelihood optimization failed to converge. Check mle_retvals\n",
      "  \"Check mle_retvals\", ConvergenceWarning)\n",
      "/home/evgenii/.local/lib/python3.6/site-packages/statsmodels/tsa/base/tsa_model.py:531: ValueWarning: No supported index is available. Prediction results will be given with an integer index beginning at `start`.\n",
      "  ValueWarning)\n",
      "/home/evgenii/.local/lib/python3.6/site-packages/statsmodels/tsa/base/tsa_model.py:221: ValueWarning: An unsupported index was provided and will be ignored when e.g. forecasting.\n",
      "  ' ignored when e.g. forecasting.', ValueWarning)\n",
      "\n",
      "\n",
      "\n",
      "\n",
      " 73%|███████▎  | 218/300 [00:40<00:30,  2.66it/s]\u001b[A\u001b[A\u001b[A\u001b[A/home/evgenii/.local/lib/python3.6/site-packages/statsmodels/tsa/statespace/sarimax.py:1051: DeprecationWarning: The truth value of an empty array is ambiguous. Returning False, but in future this will result in an error. Use `array.size > 0` to check that an array is not empty.\n",
      "  if self.state_error and params_variance == []:\n"
     ]
    },
    {
     "name": "stdout",
     "output_type": "stream",
     "text": [
      "wrong parameters: (4, 4, 0, 0)\n",
      "wrong parameters: (4, 4, 0, 1)\n",
      "wrong parameters: (4, 4, 0, 2)\n"
     ]
    },
    {
     "name": "stderr",
     "output_type": "stream",
     "text": [
      "/home/evgenii/.local/lib/python3.6/site-packages/statsmodels/base/model.py:508: ConvergenceWarning: Maximum Likelihood optimization failed to converge. Check mle_retvals\n",
      "  \"Check mle_retvals\", ConvergenceWarning)\n",
      "/home/evgenii/.local/lib/python3.6/site-packages/statsmodels/tsa/base/tsa_model.py:531: ValueWarning: No supported index is available. Prediction results will be given with an integer index beginning at `start`.\n",
      "  ValueWarning)\n",
      "/home/evgenii/.local/lib/python3.6/site-packages/statsmodels/tsa/base/tsa_model.py:221: ValueWarning: An unsupported index was provided and will be ignored when e.g. forecasting.\n",
      "  ' ignored when e.g. forecasting.', ValueWarning)\n",
      "/home/evgenii/.local/lib/python3.6/site-packages/statsmodels/tsa/statespace/sarimax.py:1051: DeprecationWarning: The truth value of an empty array is ambiguous. Returning False, but in future this will result in an error. Use `array.size > 0` to check that an array is not empty.\n",
      "  if self.state_error and params_variance == []:\n"
     ]
    },
    {
     "name": "stdout",
     "output_type": "stream",
     "text": [
      "wrong parameters: (4, 4, 1, 0)\n",
      "wrong parameters: (4, 4, 1, 1)\n",
      "wrong parameters: (4, 4, 1, 2)\n"
     ]
    },
    {
     "name": "stderr",
     "output_type": "stream",
     "text": [
      "/home/evgenii/.local/lib/python3.6/site-packages/statsmodels/base/model.py:508: ConvergenceWarning: Maximum Likelihood optimization failed to converge. Check mle_retvals\n",
      "  \"Check mle_retvals\", ConvergenceWarning)\n",
      "/home/evgenii/.local/lib/python3.6/site-packages/statsmodels/tsa/base/tsa_model.py:531: ValueWarning: No supported index is available. Prediction results will be given with an integer index beginning at `start`.\n",
      "  ValueWarning)\n",
      "/home/evgenii/.local/lib/python3.6/site-packages/statsmodels/tsa/base/tsa_model.py:221: ValueWarning: An unsupported index was provided and will be ignored when e.g. forecasting.\n",
      "  ' ignored when e.g. forecasting.', ValueWarning)\n",
      "\n",
      "\n",
      "\n",
      "\n",
      " 75%|███████▍  | 224/300 [00:44<00:36,  2.09it/s]\u001b[A\u001b[A\u001b[A\u001b[A/home/evgenii/.local/lib/python3.6/site-packages/statsmodels/tsa/statespace/sarimax.py:1051: DeprecationWarning: The truth value of an empty array is ambiguous. Returning False, but in future this will result in an error. Use `array.size > 0` to check that an array is not empty.\n",
      "  if self.state_error and params_variance == []:\n"
     ]
    },
    {
     "name": "stdout",
     "output_type": "stream",
     "text": [
      "wrong parameters: (4, 4, 2, 0)\n",
      "wrong parameters: (4, 4, 2, 1)\n",
      "wrong parameters: (4, 4, 2, 2)\n"
     ]
    },
    {
     "name": "stderr",
     "output_type": "stream",
     "text": [
      "/home/evgenii/.local/lib/python3.6/site-packages/statsmodels/base/model.py:508: ConvergenceWarning: Maximum Likelihood optimization failed to converge. Check mle_retvals\n",
      "  \"Check mle_retvals\", ConvergenceWarning)\n",
      "/home/evgenii/.local/lib/python3.6/site-packages/statsmodels/tsa/base/tsa_model.py:531: ValueWarning: No supported index is available. Prediction results will be given with an integer index beginning at `start`.\n",
      "  ValueWarning)\n",
      "/home/evgenii/.local/lib/python3.6/site-packages/statsmodels/tsa/base/tsa_model.py:221: ValueWarning: An unsupported index was provided and will be ignored when e.g. forecasting.\n",
      "  ' ignored when e.g. forecasting.', ValueWarning)\n",
      "\n",
      "\n",
      "\n",
      "\n",
      " 76%|███████▌  | 228/300 [00:49<00:50,  1.42it/s]\u001b[A\u001b[A\u001b[A\u001b[A/home/evgenii/.local/lib/python3.6/site-packages/statsmodels/tsa/statespace/sarimax.py:1051: DeprecationWarning: The truth value of an empty array is ambiguous. Returning False, but in future this will result in an error. Use `array.size > 0` to check that an array is not empty.\n",
      "  if self.state_error and params_variance == []:\n"
     ]
    },
    {
     "name": "stdout",
     "output_type": "stream",
     "text": [
      "wrong parameters: (4, 4, 3, 0)\n",
      "wrong parameters: (4, 4, 3, 1)\n",
      "wrong parameters: (4, 4, 3, 2)\n",
      "wrong parameters: (4, 5, 0, 0)\n",
      "wrong parameters: (4, 5, 0, 1)\n",
      "wrong parameters: (4, 5, 0, 2)\n",
      "wrong parameters: (4, 5, 1, 0)\n",
      "wrong parameters: (4, 5, 1, 1)\n",
      "wrong parameters: (4, 5, 1, 2)\n",
      "wrong parameters: (4, 5, 2, 0)\n",
      "wrong parameters: (4, 5, 2, 1)\n",
      "wrong parameters: (4, 5, 2, 2)\n",
      "wrong parameters: (4, 5, 3, 0)\n",
      "wrong parameters: (4, 5, 3, 1)\n",
      "wrong parameters: (4, 5, 3, 2)\n"
     ]
    },
    {
     "name": "stderr",
     "output_type": "stream",
     "text": [
      "/home/evgenii/.local/lib/python3.6/site-packages/statsmodels/tsa/base/tsa_model.py:531: ValueWarning: No supported index is available. Prediction results will be given with an integer index beginning at `start`.\n",
      "  ValueWarning)\n",
      "\n",
      "\n",
      "\n",
      "\n",
      " 80%|████████  | 241/300 [00:49<00:29,  1.99it/s]\u001b[A\u001b[A\u001b[A\u001b[A/home/evgenii/.local/lib/python3.6/site-packages/statsmodels/tsa/base/tsa_model.py:221: ValueWarning: An unsupported index was provided and will be ignored when e.g. forecasting.\n",
      "  ' ignored when e.g. forecasting.', ValueWarning)\n",
      "/home/evgenii/.local/lib/python3.6/site-packages/statsmodels/tsa/statespace/sarimax.py:1051: DeprecationWarning: The truth value of an empty array is ambiguous. Returning False, but in future this will result in an error. Use `array.size > 0` to check that an array is not empty.\n",
      "  if self.state_error and params_variance == []:\n"
     ]
    },
    {
     "name": "stdout",
     "output_type": "stream",
     "text": [
      "wrong parameters: (5, 1, 0, 0)\n",
      "wrong parameters: (5, 1, 0, 1)\n",
      "wrong parameters: (5, 1, 0, 2)\n"
     ]
    },
    {
     "name": "stderr",
     "output_type": "stream",
     "text": [
      "/home/evgenii/.local/lib/python3.6/site-packages/statsmodels/tsa/base/tsa_model.py:531: ValueWarning: No supported index is available. Prediction results will be given with an integer index beginning at `start`.\n",
      "  ValueWarning)\n",
      "\n",
      "\n",
      "\n",
      "\n",
      " 81%|████████▏ | 244/300 [00:50<00:25,  2.22it/s]\u001b[A\u001b[A\u001b[A\u001b[A/home/evgenii/.local/lib/python3.6/site-packages/statsmodels/tsa/base/tsa_model.py:221: ValueWarning: An unsupported index was provided and will be ignored when e.g. forecasting.\n",
      "  ' ignored when e.g. forecasting.', ValueWarning)\n",
      "/home/evgenii/.local/lib/python3.6/site-packages/statsmodels/tsa/statespace/sarimax.py:1051: DeprecationWarning: The truth value of an empty array is ambiguous. Returning False, but in future this will result in an error. Use `array.size > 0` to check that an array is not empty.\n",
      "  if self.state_error and params_variance == []:\n"
     ]
    },
    {
     "name": "stdout",
     "output_type": "stream",
     "text": [
      "wrong parameters: (5, 1, 1, 0)\n",
      "wrong parameters: (5, 1, 1, 1)\n",
      "wrong parameters: (5, 1, 1, 2)\n"
     ]
    },
    {
     "name": "stderr",
     "output_type": "stream",
     "text": [
      "/home/evgenii/.local/lib/python3.6/site-packages/statsmodels/tsa/base/tsa_model.py:531: ValueWarning: No supported index is available. Prediction results will be given with an integer index beginning at `start`.\n",
      "  ValueWarning)\n",
      "\n",
      "\n",
      "\n",
      "\n",
      " 82%|████████▏ | 247/300 [00:53<00:29,  1.81it/s]\u001b[A\u001b[A\u001b[A\u001b[A/home/evgenii/.local/lib/python3.6/site-packages/statsmodels/tsa/base/tsa_model.py:221: ValueWarning: An unsupported index was provided and will be ignored when e.g. forecasting.\n",
      "  ' ignored when e.g. forecasting.', ValueWarning)\n",
      "/home/evgenii/.local/lib/python3.6/site-packages/statsmodels/tsa/statespace/sarimax.py:1051: DeprecationWarning: The truth value of an empty array is ambiguous. Returning False, but in future this will result in an error. Use `array.size > 0` to check that an array is not empty.\n",
      "  if self.state_error and params_variance == []:\n"
     ]
    },
    {
     "name": "stdout",
     "output_type": "stream",
     "text": [
      "wrong parameters: (5, 1, 2, 0)\n",
      "wrong parameters: (5, 1, 2, 1)\n",
      "wrong parameters: (5, 1, 2, 2)\n"
     ]
    },
    {
     "name": "stderr",
     "output_type": "stream",
     "text": [
      "/home/evgenii/.local/lib/python3.6/site-packages/statsmodels/tsa/base/tsa_model.py:531: ValueWarning: No supported index is available. Prediction results will be given with an integer index beginning at `start`.\n",
      "  ValueWarning)\n",
      "\n",
      "\n",
      "\n",
      "\n",
      " 83%|████████▎ | 250/300 [00:58<00:45,  1.09it/s]\u001b[A\u001b[A\u001b[A\u001b[A/home/evgenii/.local/lib/python3.6/site-packages/statsmodels/tsa/base/tsa_model.py:221: ValueWarning: An unsupported index was provided and will be ignored when e.g. forecasting.\n",
      "  ' ignored when e.g. forecasting.', ValueWarning)\n",
      "\n",
      "\n",
      "\n",
      "\n",
      " 89%|████████▉ | 267/300 [00:58<00:21,  1.55it/s]\u001b[A\u001b[A\u001b[A\u001b[A\n",
      "\n",
      "\n",
      "\n",
      "100%|██████████| 300/300 [00:58<00:00,  5.11it/s]\u001b[A\u001b[A\u001b[A\u001b[A\n",
      "\n",
      "\n",
      "\n",
      "  0%|          | 0/300 [00:00<?, ?it/s]\u001b[A\u001b[A\u001b[A\u001b[A/home/evgenii/.local/lib/python3.6/site-packages/statsmodels/tsa/statespace/sarimax.py:1051: DeprecationWarning: The truth value of an empty array is ambiguous. Returning False, but in future this will result in an error. Use `array.size > 0` to check that an array is not empty.\n",
      "  if self.state_error and params_variance == []:\n"
     ]
    },
    {
     "name": "stdout",
     "output_type": "stream",
     "text": [
      "wrong parameters: (5, 1, 3, 0)\n",
      "wrong parameters: (5, 1, 3, 1)\n",
      "wrong parameters: (5, 1, 3, 2)\n",
      "wrong parameters: (5, 2, 0, 0)\n",
      "wrong parameters: (5, 2, 0, 1)\n",
      "wrong parameters: (5, 2, 0, 2)\n",
      "wrong parameters: (5, 2, 1, 0)\n",
      "wrong parameters: (5, 2, 1, 1)\n",
      "wrong parameters: (5, 2, 1, 2)\n",
      "wrong parameters: (5, 2, 2, 0)\n",
      "wrong parameters: (5, 2, 2, 1)\n",
      "wrong parameters: (5, 2, 2, 2)\n",
      "wrong parameters: (5, 2, 3, 0)\n",
      "wrong parameters: (5, 2, 3, 1)\n",
      "wrong parameters: (5, 2, 3, 2)\n",
      "wrong parameters: (5, 3, 0, 0)\n",
      "wrong parameters: (5, 3, 0, 1)\n",
      "wrong parameters: (5, 3, 0, 2)\n",
      "wrong parameters: (5, 3, 1, 0)\n",
      "wrong parameters: (5, 3, 1, 1)\n",
      "wrong parameters: (5, 3, 1, 2)\n",
      "wrong parameters: (5, 3, 2, 0)\n",
      "wrong parameters: (5, 3, 2, 1)\n",
      "wrong parameters: (5, 3, 2, 2)\n",
      "wrong parameters: (5, 3, 3, 0)\n",
      "wrong parameters: (5, 3, 3, 1)\n",
      "wrong parameters: (5, 3, 3, 2)\n",
      "wrong parameters: (5, 4, 0, 0)\n",
      "wrong parameters: (5, 4, 0, 1)\n",
      "wrong parameters: (5, 4, 0, 2)\n",
      "wrong parameters: (5, 4, 1, 0)\n",
      "wrong parameters: (5, 4, 1, 1)\n",
      "wrong parameters: (5, 4, 1, 2)\n",
      "wrong parameters: (5, 4, 2, 0)\n",
      "wrong parameters: (5, 4, 2, 1)\n",
      "wrong parameters: (5, 4, 2, 2)\n",
      "wrong parameters: (5, 4, 3, 0)\n",
      "wrong parameters: (5, 4, 3, 1)\n",
      "wrong parameters: (5, 4, 3, 2)\n",
      "wrong parameters: (5, 5, 0, 0)\n",
      "wrong parameters: (5, 5, 0, 1)\n",
      "wrong parameters: (5, 5, 0, 2)\n",
      "wrong parameters: (5, 5, 1, 0)\n",
      "wrong parameters: (5, 5, 1, 1)\n",
      "wrong parameters: (5, 5, 1, 2)\n",
      "wrong parameters: (5, 5, 2, 0)\n",
      "wrong parameters: (5, 5, 2, 1)\n",
      "wrong parameters: (5, 5, 2, 2)\n",
      "wrong parameters: (5, 5, 3, 0)\n",
      "wrong parameters: (5, 5, 3, 1)\n",
      "wrong parameters: (5, 5, 3, 2)\n"
     ]
    },
    {
     "name": "stderr",
     "output_type": "stream",
     "text": [
      "/home/evgenii/.local/lib/python3.6/site-packages/statsmodels/tsa/base/tsa_model.py:531: ValueWarning: No supported index is available. Prediction results will be given with an integer index beginning at `start`.\n",
      "  ValueWarning)\n",
      "/home/evgenii/.local/lib/python3.6/site-packages/statsmodels/tsa/base/tsa_model.py:221: ValueWarning: An unsupported index was provided and will be ignored when e.g. forecasting.\n",
      "  ' ignored when e.g. forecasting.', ValueWarning)\n",
      "/home/evgenii/.local/lib/python3.6/site-packages/statsmodels/tsa/statespace/sarimax.py:1051: DeprecationWarning: The truth value of an empty array is ambiguous. Returning False, but in future this will result in an error. Use `array.size > 0` to check that an array is not empty.\n",
      "  if self.state_error and params_variance == []:\n"
     ]
    },
    {
     "name": "stdout",
     "output_type": "stream",
     "text": [
      "wrong parameters: (1, 1, 0, 0)\n",
      "wrong parameters: (1, 1, 0, 1)\n",
      "wrong parameters: (1, 1, 0, 2)\n"
     ]
    },
    {
     "name": "stderr",
     "output_type": "stream",
     "text": [
      "/home/evgenii/.local/lib/python3.6/site-packages/statsmodels/tsa/base/tsa_model.py:531: ValueWarning: No supported index is available. Prediction results will be given with an integer index beginning at `start`.\n",
      "  ValueWarning)\n",
      "\n",
      "\n",
      "\n",
      "\n",
      "  1%|▏         | 4/300 [00:00<00:28, 10.42it/s]\u001b[A\u001b[A\u001b[A\u001b[A/home/evgenii/.local/lib/python3.6/site-packages/statsmodels/tsa/base/tsa_model.py:221: ValueWarning: An unsupported index was provided and will be ignored when e.g. forecasting.\n",
      "  ' ignored when e.g. forecasting.', ValueWarning)\n",
      "/home/evgenii/.local/lib/python3.6/site-packages/statsmodels/tsa/statespace/sarimax.py:1051: DeprecationWarning: The truth value of an empty array is ambiguous. Returning False, but in future this will result in an error. Use `array.size > 0` to check that an array is not empty.\n",
      "  if self.state_error and params_variance == []:\n"
     ]
    },
    {
     "name": "stdout",
     "output_type": "stream",
     "text": [
      "wrong parameters: (1, 1, 1, 0)\n"
     ]
    },
    {
     "name": "stderr",
     "output_type": "stream",
     "text": [
      "/home/evgenii/.local/lib/python3.6/site-packages/statsmodels/tsa/base/tsa_model.py:531: ValueWarning: No supported index is available. Prediction results will be given with an integer index beginning at `start`.\n",
      "  ValueWarning)\n",
      "\n",
      "\n",
      "\n",
      "\n",
      "  2%|▏         | 5/300 [00:00<00:52,  5.64it/s]\u001b[A\u001b[A\u001b[A\u001b[A/home/evgenii/.local/lib/python3.6/site-packages/statsmodels/tsa/base/tsa_model.py:221: ValueWarning: An unsupported index was provided and will be ignored when e.g. forecasting.\n",
      "  ' ignored when e.g. forecasting.', ValueWarning)\n",
      "/home/evgenii/.local/lib/python3.6/site-packages/statsmodels/tsa/statespace/sarimax.py:1051: DeprecationWarning: The truth value of an empty array is ambiguous. Returning False, but in future this will result in an error. Use `array.size > 0` to check that an array is not empty.\n",
      "  if self.state_error and params_variance == []:\n"
     ]
    },
    {
     "name": "stdout",
     "output_type": "stream",
     "text": [
      "wrong parameters: (1, 1, 1, 1)\n",
      "wrong parameters: (1, 1, 1, 2)\n"
     ]
    },
    {
     "name": "stderr",
     "output_type": "stream",
     "text": [
      "/home/evgenii/.local/lib/python3.6/site-packages/statsmodels/tsa/base/tsa_model.py:531: ValueWarning: No supported index is available. Prediction results will be given with an integer index beginning at `start`.\n",
      "  ValueWarning)\n",
      "\n",
      "\n",
      "\n",
      "\n",
      "  2%|▏         | 7/300 [00:01<01:20,  3.64it/s]\u001b[A\u001b[A\u001b[A\u001b[A/home/evgenii/.local/lib/python3.6/site-packages/statsmodels/tsa/base/tsa_model.py:221: ValueWarning: An unsupported index was provided and will be ignored when e.g. forecasting.\n",
      "  ' ignored when e.g. forecasting.', ValueWarning)\n",
      "/home/evgenii/.local/lib/python3.6/site-packages/statsmodels/tsa/statespace/sarimax.py:1051: DeprecationWarning: The truth value of an empty array is ambiguous. Returning False, but in future this will result in an error. Use `array.size > 0` to check that an array is not empty.\n",
      "  if self.state_error and params_variance == []:\n"
     ]
    },
    {
     "name": "stdout",
     "output_type": "stream",
     "text": [
      "wrong parameters: (1, 1, 2, 0)\n"
     ]
    },
    {
     "name": "stderr",
     "output_type": "stream",
     "text": [
      "/home/evgenii/.local/lib/python3.6/site-packages/statsmodels/tsa/base/tsa_model.py:531: ValueWarning: No supported index is available. Prediction results will be given with an integer index beginning at `start`.\n",
      "  ValueWarning)\n",
      "\n",
      "\n",
      "\n",
      "\n",
      "  3%|▎         | 8/300 [00:02<02:09,  2.25it/s]\u001b[A\u001b[A\u001b[A\u001b[A/home/evgenii/.local/lib/python3.6/site-packages/statsmodels/tsa/base/tsa_model.py:221: ValueWarning: An unsupported index was provided and will be ignored when e.g. forecasting.\n",
      "  ' ignored when e.g. forecasting.', ValueWarning)\n",
      "/home/evgenii/.local/lib/python3.6/site-packages/statsmodels/tsa/statespace/sarimax.py:1051: DeprecationWarning: The truth value of an empty array is ambiguous. Returning False, but in future this will result in an error. Use `array.size > 0` to check that an array is not empty.\n",
      "  if self.state_error and params_variance == []:\n"
     ]
    },
    {
     "name": "stdout",
     "output_type": "stream",
     "text": [
      "wrong parameters: (1, 1, 2, 1)\n",
      "wrong parameters: (1, 1, 2, 2)\n"
     ]
    },
    {
     "name": "stderr",
     "output_type": "stream",
     "text": [
      "/home/evgenii/.local/lib/python3.6/site-packages/statsmodels/tsa/base/tsa_model.py:531: ValueWarning: No supported index is available. Prediction results will be given with an integer index beginning at `start`.\n",
      "  ValueWarning)\n",
      "\n",
      "\n",
      "\n",
      "\n",
      "  3%|▎         | 10/300 [00:04<02:32,  1.90it/s]\u001b[A\u001b[A\u001b[A\u001b[A/home/evgenii/.local/lib/python3.6/site-packages/statsmodels/tsa/base/tsa_model.py:221: ValueWarning: An unsupported index was provided and will be ignored when e.g. forecasting.\n",
      "  ' ignored when e.g. forecasting.', ValueWarning)\n",
      "/home/evgenii/.local/lib/python3.6/site-packages/statsmodels/tsa/statespace/sarimax.py:1051: DeprecationWarning: The truth value of an empty array is ambiguous. Returning False, but in future this will result in an error. Use `array.size > 0` to check that an array is not empty.\n",
      "  if self.state_error and params_variance == []:\n"
     ]
    },
    {
     "name": "stdout",
     "output_type": "stream",
     "text": [
      "wrong parameters: (1, 1, 3, 0)\n"
     ]
    },
    {
     "name": "stderr",
     "output_type": "stream",
     "text": [
      "/home/evgenii/.local/lib/python3.6/site-packages/statsmodels/tsa/base/tsa_model.py:531: ValueWarning: No supported index is available. Prediction results will be given with an integer index beginning at `start`.\n",
      "  ValueWarning)\n",
      "\n",
      "\n",
      "\n",
      "\n",
      "  4%|▎         | 11/300 [00:05<04:07,  1.17it/s]\u001b[A\u001b[A\u001b[A\u001b[A/home/evgenii/.local/lib/python3.6/site-packages/statsmodels/tsa/base/tsa_model.py:221: ValueWarning: An unsupported index was provided and will be ignored when e.g. forecasting.\n",
      "  ' ignored when e.g. forecasting.', ValueWarning)\n",
      "/home/evgenii/.local/lib/python3.6/site-packages/statsmodels/tsa/statespace/sarimax.py:1051: DeprecationWarning: The truth value of an empty array is ambiguous. Returning False, but in future this will result in an error. Use `array.size > 0` to check that an array is not empty.\n",
      "  if self.state_error and params_variance == []:\n"
     ]
    },
    {
     "name": "stdout",
     "output_type": "stream",
     "text": [
      "wrong parameters: (1, 1, 3, 1)\n",
      "wrong parameters: (1, 1, 3, 2)\n"
     ]
    },
    {
     "name": "stderr",
     "output_type": "stream",
     "text": [
      "/home/evgenii/.local/lib/python3.6/site-packages/statsmodels/tsa/base/tsa_model.py:531: ValueWarning: No supported index is available. Prediction results will be given with an integer index beginning at `start`.\n",
      "  ValueWarning)\n",
      "\n",
      "\n",
      "\n",
      "\n",
      "  4%|▍         | 13/300 [00:05<03:02,  1.57it/s]\u001b[A\u001b[A\u001b[A\u001b[A/home/evgenii/.local/lib/python3.6/site-packages/statsmodels/tsa/base/tsa_model.py:221: ValueWarning: An unsupported index was provided and will be ignored when e.g. forecasting.\n",
      "  ' ignored when e.g. forecasting.', ValueWarning)\n",
      "/home/evgenii/.local/lib/python3.6/site-packages/statsmodels/tsa/statespace/sarimax.py:1051: DeprecationWarning: The truth value of an empty array is ambiguous. Returning False, but in future this will result in an error. Use `array.size > 0` to check that an array is not empty.\n",
      "  if self.state_error and params_variance == []:\n"
     ]
    },
    {
     "name": "stdout",
     "output_type": "stream",
     "text": [
      "wrong parameters: (1, 2, 0, 0)\n",
      "wrong parameters: (1, 2, 0, 1)\n",
      "wrong parameters: (1, 2, 0, 2)\n"
     ]
    },
    {
     "name": "stderr",
     "output_type": "stream",
     "text": [
      "/home/evgenii/.local/lib/python3.6/site-packages/statsmodels/tsa/base/tsa_model.py:531: ValueWarning: No supported index is available. Prediction results will be given with an integer index beginning at `start`.\n",
      "  ValueWarning)\n",
      "\n",
      "\n",
      "\n",
      "\n",
      "  5%|▌         | 16/300 [00:06<02:16,  2.08it/s]\u001b[A\u001b[A\u001b[A\u001b[A/home/evgenii/.local/lib/python3.6/site-packages/statsmodels/tsa/base/tsa_model.py:221: ValueWarning: An unsupported index was provided and will be ignored when e.g. forecasting.\n",
      "  ' ignored when e.g. forecasting.', ValueWarning)\n",
      "/home/evgenii/.local/lib/python3.6/site-packages/statsmodels/tsa/statespace/sarimax.py:1051: DeprecationWarning: The truth value of an empty array is ambiguous. Returning False, but in future this will result in an error. Use `array.size > 0` to check that an array is not empty.\n",
      "  if self.state_error and params_variance == []:\n"
     ]
    },
    {
     "name": "stdout",
     "output_type": "stream",
     "text": [
      "wrong parameters: (1, 2, 1, 0)\n"
     ]
    },
    {
     "name": "stderr",
     "output_type": "stream",
     "text": [
      "/home/evgenii/.local/lib/python3.6/site-packages/statsmodels/tsa/base/tsa_model.py:531: ValueWarning: No supported index is available. Prediction results will be given with an integer index beginning at `start`.\n",
      "  ValueWarning)\n",
      "\n",
      "\n",
      "\n",
      "\n",
      "  6%|▌         | 17/300 [00:07<02:44,  1.72it/s]\u001b[A\u001b[A\u001b[A\u001b[A/home/evgenii/.local/lib/python3.6/site-packages/statsmodels/tsa/base/tsa_model.py:221: ValueWarning: An unsupported index was provided and will be ignored when e.g. forecasting.\n",
      "  ' ignored when e.g. forecasting.', ValueWarning)\n",
      "/home/evgenii/.local/lib/python3.6/site-packages/statsmodels/tsa/statespace/sarimax.py:1051: DeprecationWarning: The truth value of an empty array is ambiguous. Returning False, but in future this will result in an error. Use `array.size > 0` to check that an array is not empty.\n",
      "  if self.state_error and params_variance == []:\n"
     ]
    },
    {
     "name": "stdout",
     "output_type": "stream",
     "text": [
      "wrong parameters: (1, 2, 1, 1)\n",
      "wrong parameters: (1, 2, 1, 2)\n"
     ]
    },
    {
     "name": "stderr",
     "output_type": "stream",
     "text": [
      "/home/evgenii/.local/lib/python3.6/site-packages/statsmodels/tsa/base/tsa_model.py:531: ValueWarning: No supported index is available. Prediction results will be given with an integer index beginning at `start`.\n",
      "  ValueWarning)\n",
      "\n",
      "\n",
      "\n",
      "\n",
      "  6%|▋         | 19/300 [00:07<02:28,  1.89it/s]\u001b[A\u001b[A\u001b[A\u001b[A/home/evgenii/.local/lib/python3.6/site-packages/statsmodels/tsa/base/tsa_model.py:221: ValueWarning: An unsupported index was provided and will be ignored when e.g. forecasting.\n",
      "  ' ignored when e.g. forecasting.', ValueWarning)\n",
      "/home/evgenii/.local/lib/python3.6/site-packages/statsmodels/tsa/statespace/sarimax.py:1051: DeprecationWarning: The truth value of an empty array is ambiguous. Returning False, but in future this will result in an error. Use `array.size > 0` to check that an array is not empty.\n",
      "  if self.state_error and params_variance == []:\n"
     ]
    },
    {
     "name": "stdout",
     "output_type": "stream",
     "text": [
      "wrong parameters: (1, 2, 2, 0)\n"
     ]
    },
    {
     "name": "stderr",
     "output_type": "stream",
     "text": [
      "/home/evgenii/.local/lib/python3.6/site-packages/statsmodels/base/model.py:508: ConvergenceWarning: Maximum Likelihood optimization failed to converge. Check mle_retvals\n",
      "  \"Check mle_retvals\", ConvergenceWarning)\n",
      "/home/evgenii/.local/lib/python3.6/site-packages/statsmodels/tsa/base/tsa_model.py:531: ValueWarning: No supported index is available. Prediction results will be given with an integer index beginning at `start`.\n",
      "  ValueWarning)\n",
      "\n",
      "\n",
      "\n",
      "\n",
      "  7%|▋         | 20/300 [00:09<03:38,  1.28it/s]\u001b[A\u001b[A\u001b[A\u001b[A/home/evgenii/.local/lib/python3.6/site-packages/statsmodels/tsa/base/tsa_model.py:221: ValueWarning: An unsupported index was provided and will be ignored when e.g. forecasting.\n",
      "  ' ignored when e.g. forecasting.', ValueWarning)\n",
      "/home/evgenii/.local/lib/python3.6/site-packages/statsmodels/tsa/statespace/sarimax.py:1051: DeprecationWarning: The truth value of an empty array is ambiguous. Returning False, but in future this will result in an error. Use `array.size > 0` to check that an array is not empty.\n",
      "  if self.state_error and params_variance == []:\n"
     ]
    },
    {
     "name": "stdout",
     "output_type": "stream",
     "text": [
      "wrong parameters: (1, 2, 2, 1)\n",
      "wrong parameters: (1, 2, 2, 2)\n"
     ]
    },
    {
     "name": "stderr",
     "output_type": "stream",
     "text": [
      "/home/evgenii/.local/lib/python3.6/site-packages/statsmodels/tsa/base/tsa_model.py:531: ValueWarning: No supported index is available. Prediction results will be given with an integer index beginning at `start`.\n",
      "  ValueWarning)\n",
      "\n",
      "\n",
      "\n",
      "\n",
      "  7%|▋         | 22/300 [00:11<04:02,  1.15it/s]\u001b[A\u001b[A\u001b[A\u001b[A/home/evgenii/.local/lib/python3.6/site-packages/statsmodels/tsa/base/tsa_model.py:221: ValueWarning: An unsupported index was provided and will be ignored when e.g. forecasting.\n",
      "  ' ignored when e.g. forecasting.', ValueWarning)\n",
      "/home/evgenii/.local/lib/python3.6/site-packages/statsmodels/tsa/statespace/sarimax.py:1051: DeprecationWarning: The truth value of an empty array is ambiguous. Returning False, but in future this will result in an error. Use `array.size > 0` to check that an array is not empty.\n",
      "  if self.state_error and params_variance == []:\n"
     ]
    },
    {
     "name": "stdout",
     "output_type": "stream",
     "text": [
      "wrong parameters: (1, 2, 3, 0)\n"
     ]
    },
    {
     "name": "stderr",
     "output_type": "stream",
     "text": [
      "/home/evgenii/.local/lib/python3.6/site-packages/statsmodels/base/model.py:508: ConvergenceWarning: Maximum Likelihood optimization failed to converge. Check mle_retvals\n",
      "  \"Check mle_retvals\", ConvergenceWarning)\n",
      "/home/evgenii/.local/lib/python3.6/site-packages/statsmodels/tsa/base/tsa_model.py:531: ValueWarning: No supported index is available. Prediction results will be given with an integer index beginning at `start`.\n",
      "  ValueWarning)\n",
      "\n",
      "\n",
      "\n",
      "\n",
      "  8%|▊         | 23/300 [00:14<07:25,  1.61s/it]\u001b[A\u001b[A\u001b[A\u001b[A/home/evgenii/.local/lib/python3.6/site-packages/statsmodels/tsa/base/tsa_model.py:221: ValueWarning: An unsupported index was provided and will be ignored when e.g. forecasting.\n",
      "  ' ignored when e.g. forecasting.', ValueWarning)\n",
      "/home/evgenii/.local/lib/python3.6/site-packages/statsmodels/tsa/statespace/sarimax.py:1051: DeprecationWarning: The truth value of an empty array is ambiguous. Returning False, but in future this will result in an error. Use `array.size > 0` to check that an array is not empty.\n",
      "  if self.state_error and params_variance == []:\n"
     ]
    },
    {
     "name": "stdout",
     "output_type": "stream",
     "text": [
      "wrong parameters: (1, 2, 3, 1)\n",
      "wrong parameters: (1, 2, 3, 2)\n",
      "wrong parameters: (1, 3, 0, 0)\n",
      "wrong parameters: (1, 3, 0, 1)\n",
      "wrong parameters: (1, 3, 0, 2)\n",
      "wrong parameters: (1, 3, 1, 0)\n",
      "wrong parameters: (1, 3, 1, 1)\n",
      "wrong parameters: (1, 3, 1, 2)\n",
      "wrong parameters: (1, 3, 2, 0)\n",
      "wrong parameters: (1, 3, 2, 1)\n",
      "wrong parameters: (1, 3, 2, 2)\n",
      "wrong parameters: (1, 3, 3, 0)\n",
      "wrong parameters: (1, 3, 3, 1)\n",
      "wrong parameters: (1, 3, 3, 2)\n"
     ]
    },
    {
     "name": "stderr",
     "output_type": "stream",
     "text": [
      "/home/evgenii/.local/lib/python3.6/site-packages/statsmodels/tsa/base/tsa_model.py:531: ValueWarning: No supported index is available. Prediction results will be given with an integer index beginning at `start`.\n",
      "  ValueWarning)\n",
      "\n",
      "\n",
      "\n",
      "\n",
      " 12%|█▏        | 37/300 [00:15<04:57,  1.13s/it]\u001b[A\u001b[A\u001b[A\u001b[A/home/evgenii/.local/lib/python3.6/site-packages/statsmodels/tsa/base/tsa_model.py:221: ValueWarning: An unsupported index was provided and will be ignored when e.g. forecasting.\n",
      "  ' ignored when e.g. forecasting.', ValueWarning)\n",
      "/home/evgenii/.local/lib/python3.6/site-packages/statsmodels/tsa/statespace/sarimax.py:1051: DeprecationWarning: The truth value of an empty array is ambiguous. Returning False, but in future this will result in an error. Use `array.size > 0` to check that an array is not empty.\n",
      "  if self.state_error and params_variance == []:\n"
     ]
    },
    {
     "name": "stdout",
     "output_type": "stream",
     "text": [
      "wrong parameters: (1, 4, 0, 0)\n",
      "wrong parameters: (1, 4, 0, 1)\n",
      "wrong parameters: (1, 4, 0, 2)\n"
     ]
    },
    {
     "name": "stderr",
     "output_type": "stream",
     "text": [
      "/home/evgenii/.local/lib/python3.6/site-packages/statsmodels/tsa/base/tsa_model.py:531: ValueWarning: No supported index is available. Prediction results will be given with an integer index beginning at `start`.\n",
      "  ValueWarning)\n",
      "\n",
      "\n",
      "\n",
      "\n",
      " 13%|█▎        | 40/300 [00:15<03:41,  1.17it/s]\u001b[A\u001b[A\u001b[A\u001b[A/home/evgenii/.local/lib/python3.6/site-packages/statsmodels/tsa/base/tsa_model.py:221: ValueWarning: An unsupported index was provided and will be ignored when e.g. forecasting.\n",
      "  ' ignored when e.g. forecasting.', ValueWarning)\n",
      "/home/evgenii/.local/lib/python3.6/site-packages/statsmodels/tsa/statespace/sarimax.py:1051: DeprecationWarning: The truth value of an empty array is ambiguous. Returning False, but in future this will result in an error. Use `array.size > 0` to check that an array is not empty.\n",
      "  if self.state_error and params_variance == []:\n"
     ]
    },
    {
     "name": "stdout",
     "output_type": "stream",
     "text": [
      "wrong parameters: (1, 4, 1, 0)\n"
     ]
    },
    {
     "name": "stderr",
     "output_type": "stream",
     "text": [
      "/home/evgenii/.local/lib/python3.6/site-packages/statsmodels/tsa/base/tsa_model.py:531: ValueWarning: No supported index is available. Prediction results will be given with an integer index beginning at `start`.\n",
      "  ValueWarning)\n",
      "/home/evgenii/.local/lib/python3.6/site-packages/statsmodels/tsa/base/tsa_model.py:221: ValueWarning: An unsupported index was provided and will be ignored when e.g. forecasting.\n",
      "  ' ignored when e.g. forecasting.', ValueWarning)\n",
      "\n",
      "\n",
      "\n",
      "\n",
      " 14%|█▍        | 42/300 [00:16<03:18,  1.30it/s]\u001b[A\u001b[A\u001b[A\u001b[A/home/evgenii/.local/lib/python3.6/site-packages/statsmodels/tsa/statespace/sarimax.py:1051: DeprecationWarning: The truth value of an empty array is ambiguous. Returning False, but in future this will result in an error. Use `array.size > 0` to check that an array is not empty.\n",
      "  if self.state_error and params_variance == []:\n"
     ]
    },
    {
     "name": "stdout",
     "output_type": "stream",
     "text": [
      "wrong parameters: (1, 4, 1, 1)\n",
      "wrong parameters: (1, 4, 1, 2)\n"
     ]
    },
    {
     "name": "stderr",
     "output_type": "stream",
     "text": [
      "/home/evgenii/.local/lib/python3.6/site-packages/statsmodels/tsa/base/tsa_model.py:531: ValueWarning: No supported index is available. Prediction results will be given with an integer index beginning at `start`.\n",
      "  ValueWarning)\n",
      "\n",
      "\n",
      "\n",
      "\n",
      " 14%|█▍        | 43/300 [00:18<04:01,  1.06it/s]\u001b[A\u001b[A\u001b[A\u001b[A/home/evgenii/.local/lib/python3.6/site-packages/statsmodels/tsa/base/tsa_model.py:221: ValueWarning: An unsupported index was provided and will be ignored when e.g. forecasting.\n",
      "  ' ignored when e.g. forecasting.', ValueWarning)\n",
      "/home/evgenii/.local/lib/python3.6/site-packages/statsmodels/tsa/statespace/sarimax.py:1051: DeprecationWarning: The truth value of an empty array is ambiguous. Returning False, but in future this will result in an error. Use `array.size > 0` to check that an array is not empty.\n",
      "  if self.state_error and params_variance == []:\n"
     ]
    },
    {
     "name": "stdout",
     "output_type": "stream",
     "text": [
      "wrong parameters: (1, 4, 2, 0)\n"
     ]
    },
    {
     "name": "stderr",
     "output_type": "stream",
     "text": [
      "/home/evgenii/.local/lib/python3.6/site-packages/statsmodels/base/model.py:508: ConvergenceWarning: Maximum Likelihood optimization failed to converge. Check mle_retvals\n",
      "  \"Check mle_retvals\", ConvergenceWarning)\n",
      "/home/evgenii/.local/lib/python3.6/site-packages/statsmodels/tsa/base/tsa_model.py:531: ValueWarning: No supported index is available. Prediction results will be given with an integer index beginning at `start`.\n",
      "  ValueWarning)\n",
      "\n",
      "\n",
      "\n",
      "\n",
      " 15%|█▍        | 44/300 [00:19<04:47,  1.12s/it]\u001b[A\u001b[A\u001b[A\u001b[A/home/evgenii/.local/lib/python3.6/site-packages/statsmodels/tsa/base/tsa_model.py:221: ValueWarning: An unsupported index was provided and will be ignored when e.g. forecasting.\n",
      "  ' ignored when e.g. forecasting.', ValueWarning)\n",
      "/home/evgenii/.local/lib/python3.6/site-packages/statsmodels/tsa/statespace/sarimax.py:1051: DeprecationWarning: The truth value of an empty array is ambiguous. Returning False, but in future this will result in an error. Use `array.size > 0` to check that an array is not empty.\n",
      "  if self.state_error and params_variance == []:\n"
     ]
    },
    {
     "name": "stdout",
     "output_type": "stream",
     "text": [
      "wrong parameters: (1, 4, 2, 1)\n",
      "wrong parameters: (1, 4, 2, 2)\n"
     ]
    },
    {
     "name": "stderr",
     "output_type": "stream",
     "text": [
      "/home/evgenii/.local/lib/python3.6/site-packages/statsmodels/tsa/base/tsa_model.py:531: ValueWarning: No supported index is available. Prediction results will be given with an integer index beginning at `start`.\n",
      "  ValueWarning)\n",
      "\n",
      "\n",
      "\n",
      "\n",
      " 15%|█▌        | 46/300 [00:21<04:46,  1.13s/it]\u001b[A\u001b[A\u001b[A\u001b[A/home/evgenii/.local/lib/python3.6/site-packages/statsmodels/tsa/base/tsa_model.py:221: ValueWarning: An unsupported index was provided and will be ignored when e.g. forecasting.\n",
      "  ' ignored when e.g. forecasting.', ValueWarning)\n",
      "/home/evgenii/.local/lib/python3.6/site-packages/statsmodels/tsa/statespace/sarimax.py:1051: DeprecationWarning: The truth value of an empty array is ambiguous. Returning False, but in future this will result in an error. Use `array.size > 0` to check that an array is not empty.\n",
      "  if self.state_error and params_variance == []:\n"
     ]
    },
    {
     "name": "stdout",
     "output_type": "stream",
     "text": [
      "wrong parameters: (1, 4, 3, 0)\n"
     ]
    },
    {
     "name": "stderr",
     "output_type": "stream",
     "text": [
      "/home/evgenii/.local/lib/python3.6/site-packages/statsmodels/base/model.py:508: ConvergenceWarning: Maximum Likelihood optimization failed to converge. Check mle_retvals\n",
      "  \"Check mle_retvals\", ConvergenceWarning)\n",
      "/home/evgenii/.local/lib/python3.6/site-packages/statsmodels/tsa/base/tsa_model.py:531: ValueWarning: No supported index is available. Prediction results will be given with an integer index beginning at `start`.\n",
      "  ValueWarning)\n",
      "\n",
      "\n",
      "\n",
      "\n",
      " 16%|█▌        | 47/300 [00:25<07:10,  1.70s/it]\u001b[A\u001b[A\u001b[A\u001b[A/home/evgenii/.local/lib/python3.6/site-packages/statsmodels/tsa/base/tsa_model.py:221: ValueWarning: An unsupported index was provided and will be ignored when e.g. forecasting.\n",
      "  ' ignored when e.g. forecasting.', ValueWarning)\n",
      "/home/evgenii/.local/lib/python3.6/site-packages/statsmodels/tsa/statespace/sarimax.py:1051: DeprecationWarning: The truth value of an empty array is ambiguous. Returning False, but in future this will result in an error. Use `array.size > 0` to check that an array is not empty.\n",
      "  if self.state_error and params_variance == []:\n",
      "/home/evgenii/.local/lib/python3.6/site-packages/statsmodels/tsa/base/tsa_model.py:531: ValueWarning: No supported index is available. Prediction results will be given with an integer index beginning at `start`.\n",
      "  ValueWarning)\n",
      "\n",
      "\n",
      "\n",
      "\n",
      " 20%|██        | 61/300 [00:25<04:45,  1.19s/it]\u001b[A\u001b[A\u001b[A\u001b[A"
     ]
    },
    {
     "name": "stdout",
     "output_type": "stream",
     "text": [
      "wrong parameters: (1, 4, 3, 1)\n",
      "wrong parameters: (1, 4, 3, 2)\n",
      "wrong parameters: (1, 5, 0, 0)\n",
      "wrong parameters: (1, 5, 0, 1)\n",
      "wrong parameters: (1, 5, 0, 2)\n",
      "wrong parameters: (1, 5, 1, 0)\n",
      "wrong parameters: (1, 5, 1, 1)\n",
      "wrong parameters: (1, 5, 1, 2)\n",
      "wrong parameters: (1, 5, 2, 0)\n",
      "wrong parameters: (1, 5, 2, 1)\n",
      "wrong parameters: (1, 5, 2, 2)\n",
      "wrong parameters: (1, 5, 3, 0)\n",
      "wrong parameters: (1, 5, 3, 1)\n",
      "wrong parameters: (1, 5, 3, 2)\n",
      "wrong parameters: (2, 1, 0, 0)\n",
      "wrong parameters: (2, 1, 0, 1)\n",
      "wrong parameters: (2, 1, 0, 2)\n"
     ]
    },
    {
     "name": "stderr",
     "output_type": "stream",
     "text": [
      "/home/evgenii/.local/lib/python3.6/site-packages/statsmodels/tsa/base/tsa_model.py:221: ValueWarning: An unsupported index was provided and will be ignored when e.g. forecasting.\n",
      "  ' ignored when e.g. forecasting.', ValueWarning)\n",
      "/home/evgenii/.local/lib/python3.6/site-packages/statsmodels/tsa/statespace/sarimax.py:1051: DeprecationWarning: The truth value of an empty array is ambiguous. Returning False, but in future this will result in an error. Use `array.size > 0` to check that an array is not empty.\n",
      "  if self.state_error and params_variance == []:\n",
      "/home/evgenii/.local/lib/python3.6/site-packages/statsmodels/tsa/base/tsa_model.py:531: ValueWarning: No supported index is available. Prediction results will be given with an integer index beginning at `start`.\n",
      "  ValueWarning)\n",
      "\n",
      "\n",
      "\n",
      "\n",
      " 21%|██▏       | 64/300 [00:25<03:26,  1.14it/s]\u001b[A\u001b[A\u001b[A\u001b[A/home/evgenii/.local/lib/python3.6/site-packages/statsmodels/tsa/base/tsa_model.py:221: ValueWarning: An unsupported index was provided and will be ignored when e.g. forecasting.\n",
      "  ' ignored when e.g. forecasting.', ValueWarning)\n",
      "/home/evgenii/.local/lib/python3.6/site-packages/statsmodels/tsa/statespace/sarimax.py:1051: DeprecationWarning: The truth value of an empty array is ambiguous. Returning False, but in future this will result in an error. Use `array.size > 0` to check that an array is not empty.\n",
      "  if self.state_error and params_variance == []:\n"
     ]
    },
    {
     "name": "stdout",
     "output_type": "stream",
     "text": [
      "wrong parameters: (2, 1, 1, 0)\n"
     ]
    },
    {
     "name": "stderr",
     "output_type": "stream",
     "text": [
      "/home/evgenii/.local/lib/python3.6/site-packages/statsmodels/base/model.py:508: ConvergenceWarning: Maximum Likelihood optimization failed to converge. Check mle_retvals\n",
      "  \"Check mle_retvals\", ConvergenceWarning)\n",
      "/home/evgenii/.local/lib/python3.6/site-packages/statsmodels/tsa/base/tsa_model.py:531: ValueWarning: No supported index is available. Prediction results will be given with an integer index beginning at `start`.\n",
      "  ValueWarning)\n",
      "/home/evgenii/.local/lib/python3.6/site-packages/statsmodels/tsa/base/tsa_model.py:221: ValueWarning: An unsupported index was provided and will be ignored when e.g. forecasting.\n",
      "  ' ignored when e.g. forecasting.', ValueWarning)\n",
      "\n",
      "\n",
      "\n",
      "\n",
      " 22%|██▏       | 66/300 [00:26<02:52,  1.36it/s]\u001b[A\u001b[A\u001b[A\u001b[A/home/evgenii/.local/lib/python3.6/site-packages/statsmodels/tsa/statespace/sarimax.py:1051: DeprecationWarning: The truth value of an empty array is ambiguous. Returning False, but in future this will result in an error. Use `array.size > 0` to check that an array is not empty.\n",
      "  if self.state_error and params_variance == []:\n"
     ]
    },
    {
     "name": "stdout",
     "output_type": "stream",
     "text": [
      "wrong parameters: (2, 1, 1, 1)\n",
      "wrong parameters: (2, 1, 1, 2)\n"
     ]
    },
    {
     "name": "stderr",
     "output_type": "stream",
     "text": [
      "/home/evgenii/.local/lib/python3.6/site-packages/statsmodels/tsa/base/tsa_model.py:531: ValueWarning: No supported index is available. Prediction results will be given with an integer index beginning at `start`.\n",
      "  ValueWarning)\n",
      "/home/evgenii/.local/lib/python3.6/site-packages/statsmodels/tsa/base/tsa_model.py:221: ValueWarning: An unsupported index was provided and will be ignored when e.g. forecasting.\n",
      "  ' ignored when e.g. forecasting.', ValueWarning)\n",
      "/home/evgenii/.local/lib/python3.6/site-packages/statsmodels/tsa/statespace/sarimax.py:1051: DeprecationWarning: The truth value of an empty array is ambiguous. Returning False, but in future this will result in an error. Use `array.size > 0` to check that an array is not empty.\n",
      "  if self.state_error and params_variance == []:\n"
     ]
    },
    {
     "name": "stdout",
     "output_type": "stream",
     "text": [
      "wrong parameters: (2, 1, 2, 0)\n"
     ]
    },
    {
     "name": "stderr",
     "output_type": "stream",
     "text": [
      "/home/evgenii/.local/lib/python3.6/site-packages/statsmodels/tsa/base/tsa_model.py:531: ValueWarning: No supported index is available. Prediction results will be given with an integer index beginning at `start`.\n",
      "  ValueWarning)\n",
      "\n",
      "\n",
      "\n",
      "\n",
      " 23%|██▎       | 68/300 [00:28<03:07,  1.24it/s]\u001b[A\u001b[A\u001b[A\u001b[A/home/evgenii/.local/lib/python3.6/site-packages/statsmodels/tsa/base/tsa_model.py:221: ValueWarning: An unsupported index was provided and will be ignored when e.g. forecasting.\n",
      "  ' ignored when e.g. forecasting.', ValueWarning)\n",
      "/home/evgenii/.local/lib/python3.6/site-packages/statsmodels/tsa/statespace/sarimax.py:1051: DeprecationWarning: The truth value of an empty array is ambiguous. Returning False, but in future this will result in an error. Use `array.size > 0` to check that an array is not empty.\n",
      "  if self.state_error and params_variance == []:\n"
     ]
    },
    {
     "name": "stdout",
     "output_type": "stream",
     "text": [
      "wrong parameters: (2, 1, 2, 1)\n",
      "wrong parameters: (2, 1, 2, 2)\n"
     ]
    },
    {
     "name": "stderr",
     "output_type": "stream",
     "text": [
      "/home/evgenii/.local/lib/python3.6/site-packages/statsmodels/tsa/base/tsa_model.py:531: ValueWarning: No supported index is available. Prediction results will be given with an integer index beginning at `start`.\n",
      "  ValueWarning)\n",
      "\n",
      "\n",
      "\n",
      "\n",
      " 23%|██▎       | 70/300 [00:29<02:58,  1.29it/s]\u001b[A\u001b[A\u001b[A\u001b[A/home/evgenii/.local/lib/python3.6/site-packages/statsmodels/tsa/base/tsa_model.py:221: ValueWarning: An unsupported index was provided and will be ignored when e.g. forecasting.\n",
      "  ' ignored when e.g. forecasting.', ValueWarning)\n",
      "/home/evgenii/.local/lib/python3.6/site-packages/statsmodels/tsa/statespace/sarimax.py:1051: DeprecationWarning: The truth value of an empty array is ambiguous. Returning False, but in future this will result in an error. Use `array.size > 0` to check that an array is not empty.\n",
      "  if self.state_error and params_variance == []:\n"
     ]
    },
    {
     "name": "stdout",
     "output_type": "stream",
     "text": [
      "wrong parameters: (2, 1, 3, 0)\n"
     ]
    },
    {
     "name": "stderr",
     "output_type": "stream",
     "text": [
      "/home/evgenii/.local/lib/python3.6/site-packages/statsmodels/tsa/base/tsa_model.py:531: ValueWarning: No supported index is available. Prediction results will be given with an integer index beginning at `start`.\n",
      "  ValueWarning)\n",
      "\n",
      "\n",
      "\n",
      "\n",
      " 24%|██▎       | 71/300 [00:31<04:29,  1.18s/it]\u001b[A\u001b[A\u001b[A\u001b[A/home/evgenii/.local/lib/python3.6/site-packages/statsmodels/tsa/base/tsa_model.py:221: ValueWarning: An unsupported index was provided and will be ignored when e.g. forecasting.\n",
      "  ' ignored when e.g. forecasting.', ValueWarning)\n",
      "\n",
      "\n",
      "\n",
      "\n",
      " 29%|██▉       | 87/300 [00:31<02:55,  1.21it/s]\u001b[A\u001b[A\u001b[A\u001b[A/home/evgenii/.local/lib/python3.6/site-packages/statsmodels/tsa/statespace/sarimax.py:1051: DeprecationWarning: The truth value of an empty array is ambiguous. Returning False, but in future this will result in an error. Use `array.size > 0` to check that an array is not empty.\n",
      "  if self.state_error and params_variance == []:\n"
     ]
    },
    {
     "name": "stdout",
     "output_type": "stream",
     "text": [
      "wrong parameters: (2, 1, 3, 1)\n",
      "wrong parameters: (2, 1, 3, 2)\n",
      "wrong parameters: (2, 2, 0, 0)\n",
      "wrong parameters: (2, 2, 0, 1)\n",
      "wrong parameters: (2, 2, 0, 2)\n",
      "wrong parameters: (2, 2, 1, 0)\n",
      "wrong parameters: (2, 2, 1, 1)\n",
      "wrong parameters: (2, 2, 1, 2)\n",
      "wrong parameters: (2, 2, 2, 0)\n",
      "wrong parameters: (2, 2, 2, 1)\n",
      "wrong parameters: (2, 2, 2, 2)\n",
      "wrong parameters: (2, 2, 3, 0)\n",
      "wrong parameters: (2, 2, 3, 1)\n",
      "wrong parameters: (2, 2, 3, 2)\n",
      "wrong parameters: (2, 3, 0, 0)\n",
      "wrong parameters: (2, 3, 0, 1)\n",
      "wrong parameters: (2, 3, 0, 2)\n",
      "wrong parameters: (2, 3, 1, 0)\n",
      "wrong parameters: (2, 3, 1, 1)\n",
      "wrong parameters: (2, 3, 1, 2)\n",
      "wrong parameters: (2, 3, 2, 0)\n",
      "wrong parameters: (2, 3, 2, 1)\n",
      "wrong parameters: (2, 3, 2, 2)\n",
      "wrong parameters: (2, 3, 3, 0)\n",
      "wrong parameters: (2, 3, 3, 1)\n",
      "wrong parameters: (2, 3, 3, 2)\n"
     ]
    },
    {
     "name": "stderr",
     "output_type": "stream",
     "text": [
      "/home/evgenii/.local/lib/python3.6/site-packages/statsmodels/base/model.py:508: ConvergenceWarning: Maximum Likelihood optimization failed to converge. Check mle_retvals\n",
      "  \"Check mle_retvals\", ConvergenceWarning)\n",
      "/home/evgenii/.local/lib/python3.6/site-packages/statsmodels/tsa/base/tsa_model.py:531: ValueWarning: No supported index is available. Prediction results will be given with an integer index beginning at `start`.\n",
      "  ValueWarning)\n",
      "\n",
      "\n",
      "\n",
      "\n",
      " 32%|███▏      | 97/300 [00:32<02:00,  1.69it/s]\u001b[A\u001b[A\u001b[A\u001b[A/home/evgenii/.local/lib/python3.6/site-packages/statsmodels/tsa/base/tsa_model.py:221: ValueWarning: An unsupported index was provided and will be ignored when e.g. forecasting.\n",
      "  ' ignored when e.g. forecasting.', ValueWarning)\n",
      "/home/evgenii/.local/lib/python3.6/site-packages/statsmodels/tsa/statespace/sarimax.py:1051: DeprecationWarning: The truth value of an empty array is ambiguous. Returning False, but in future this will result in an error. Use `array.size > 0` to check that an array is not empty.\n",
      "  if self.state_error and params_variance == []:\n"
     ]
    },
    {
     "name": "stdout",
     "output_type": "stream",
     "text": [
      "wrong parameters: (2, 4, 0, 0)\n",
      "wrong parameters: (2, 4, 0, 1)\n",
      "wrong parameters: (2, 4, 0, 2)\n"
     ]
    },
    {
     "name": "stderr",
     "output_type": "stream",
     "text": [
      "/home/evgenii/.local/lib/python3.6/site-packages/statsmodels/base/model.py:508: ConvergenceWarning: Maximum Likelihood optimization failed to converge. Check mle_retvals\n",
      "  \"Check mle_retvals\", ConvergenceWarning)\n",
      "/home/evgenii/.local/lib/python3.6/site-packages/statsmodels/tsa/base/tsa_model.py:531: ValueWarning: No supported index is available. Prediction results will be given with an integer index beginning at `start`.\n",
      "  ValueWarning)\n",
      "/home/evgenii/.local/lib/python3.6/site-packages/statsmodels/tsa/base/tsa_model.py:221: ValueWarning: An unsupported index was provided and will be ignored when e.g. forecasting.\n",
      "  ' ignored when e.g. forecasting.', ValueWarning)\n",
      "/home/evgenii/.local/lib/python3.6/site-packages/statsmodels/tsa/statespace/sarimax.py:1051: DeprecationWarning: The truth value of an empty array is ambiguous. Returning False, but in future this will result in an error. Use `array.size > 0` to check that an array is not empty.\n",
      "  if self.state_error and params_variance == []:\n"
     ]
    },
    {
     "name": "stdout",
     "output_type": "stream",
     "text": [
      "wrong parameters: (2, 4, 1, 0)\n"
     ]
    },
    {
     "name": "stderr",
     "output_type": "stream",
     "text": [
      "/home/evgenii/.local/lib/python3.6/site-packages/statsmodels/base/model.py:508: ConvergenceWarning: Maximum Likelihood optimization failed to converge. Check mle_retvals\n",
      "  \"Check mle_retvals\", ConvergenceWarning)\n",
      "/home/evgenii/.local/lib/python3.6/site-packages/statsmodels/tsa/base/tsa_model.py:531: ValueWarning: No supported index is available. Prediction results will be given with an integer index beginning at `start`.\n",
      "  ValueWarning)\n",
      "/home/evgenii/.local/lib/python3.6/site-packages/statsmodels/tsa/base/tsa_model.py:221: ValueWarning: An unsupported index was provided and will be ignored when e.g. forecasting.\n",
      "  ' ignored when e.g. forecasting.', ValueWarning)\n",
      "\n",
      "\n",
      "\n",
      "\n",
      " 34%|███▍      | 102/300 [00:34<01:49,  1.81it/s]\u001b[A\u001b[A\u001b[A\u001b[A/home/evgenii/.local/lib/python3.6/site-packages/statsmodels/tsa/statespace/sarimax.py:1051: DeprecationWarning: The truth value of an empty array is ambiguous. Returning False, but in future this will result in an error. Use `array.size > 0` to check that an array is not empty.\n",
      "  if self.state_error and params_variance == []:\n"
     ]
    },
    {
     "name": "stdout",
     "output_type": "stream",
     "text": [
      "wrong parameters: (2, 4, 1, 1)\n",
      "wrong parameters: (2, 4, 1, 2)\n"
     ]
    },
    {
     "name": "stderr",
     "output_type": "stream",
     "text": [
      "/home/evgenii/.local/lib/python3.6/site-packages/statsmodels/base/model.py:508: ConvergenceWarning: Maximum Likelihood optimization failed to converge. Check mle_retvals\n",
      "  \"Check mle_retvals\", ConvergenceWarning)\n",
      "/home/evgenii/.local/lib/python3.6/site-packages/statsmodels/tsa/base/tsa_model.py:531: ValueWarning: No supported index is available. Prediction results will be given with an integer index beginning at `start`.\n",
      "  ValueWarning)\n",
      "/home/evgenii/.local/lib/python3.6/site-packages/statsmodels/tsa/base/tsa_model.py:221: ValueWarning: An unsupported index was provided and will be ignored when e.g. forecasting.\n",
      "  ' ignored when e.g. forecasting.', ValueWarning)\n",
      "/home/evgenii/.local/lib/python3.6/site-packages/statsmodels/tsa/statespace/sarimax.py:1051: DeprecationWarning: The truth value of an empty array is ambiguous. Returning False, but in future this will result in an error. Use `array.size > 0` to check that an array is not empty.\n",
      "  if self.state_error and params_variance == []:\n"
     ]
    },
    {
     "name": "stdout",
     "output_type": "stream",
     "text": [
      "wrong parameters: (2, 4, 2, 0)\n"
     ]
    },
    {
     "name": "stderr",
     "output_type": "stream",
     "text": [
      "/home/evgenii/.local/lib/python3.6/site-packages/statsmodels/base/model.py:508: ConvergenceWarning: Maximum Likelihood optimization failed to converge. Check mle_retvals\n",
      "  \"Check mle_retvals\", ConvergenceWarning)\n",
      "/home/evgenii/.local/lib/python3.6/site-packages/statsmodels/tsa/base/tsa_model.py:531: ValueWarning: No supported index is available. Prediction results will be given with an integer index beginning at `start`.\n",
      "  ValueWarning)\n",
      "/home/evgenii/.local/lib/python3.6/site-packages/statsmodels/tsa/base/tsa_model.py:221: ValueWarning: An unsupported index was provided and will be ignored when e.g. forecasting.\n",
      "  ' ignored when e.g. forecasting.', ValueWarning)\n",
      "/home/evgenii/.local/lib/python3.6/site-packages/statsmodels/tsa/statespace/sarimax.py:1051: DeprecationWarning: The truth value of an empty array is ambiguous. Returning False, but in future this will result in an error. Use `array.size > 0` to check that an array is not empty.\n",
      "  if self.state_error and params_variance == []:\n"
     ]
    },
    {
     "name": "stdout",
     "output_type": "stream",
     "text": [
      "wrong parameters: (2, 4, 2, 1)\n",
      "wrong parameters: (2, 4, 2, 2)\n"
     ]
    },
    {
     "name": "stderr",
     "output_type": "stream",
     "text": [
      "/home/evgenii/.local/lib/python3.6/site-packages/statsmodels/base/model.py:508: ConvergenceWarning: Maximum Likelihood optimization failed to converge. Check mle_retvals\n",
      "  \"Check mle_retvals\", ConvergenceWarning)\n",
      "/home/evgenii/.local/lib/python3.6/site-packages/statsmodels/tsa/base/tsa_model.py:531: ValueWarning: No supported index is available. Prediction results will be given with an integer index beginning at `start`.\n",
      "  ValueWarning)\n",
      "\n",
      "\n",
      "\n",
      "\n",
      " 35%|███▌      | 106/300 [00:42<03:10,  1.02it/s]\u001b[A\u001b[A\u001b[A\u001b[A/home/evgenii/.local/lib/python3.6/site-packages/statsmodels/tsa/base/tsa_model.py:221: ValueWarning: An unsupported index was provided and will be ignored when e.g. forecasting.\n",
      "  ' ignored when e.g. forecasting.', ValueWarning)\n",
      "/home/evgenii/.local/lib/python3.6/site-packages/statsmodels/tsa/statespace/sarimax.py:1051: DeprecationWarning: The truth value of an empty array is ambiguous. Returning False, but in future this will result in an error. Use `array.size > 0` to check that an array is not empty.\n",
      "  if self.state_error and params_variance == []:\n"
     ]
    },
    {
     "name": "stdout",
     "output_type": "stream",
     "text": [
      "wrong parameters: (2, 4, 3, 0)\n"
     ]
    },
    {
     "name": "stderr",
     "output_type": "stream",
     "text": [
      "/home/evgenii/.local/lib/python3.6/site-packages/statsmodels/base/model.py:508: ConvergenceWarning: Maximum Likelihood optimization failed to converge. Check mle_retvals\n",
      "  \"Check mle_retvals\", ConvergenceWarning)\n",
      "/home/evgenii/.local/lib/python3.6/site-packages/statsmodels/tsa/base/tsa_model.py:531: ValueWarning: No supported index is available. Prediction results will be given with an integer index beginning at `start`.\n",
      "  ValueWarning)\n",
      "/home/evgenii/.local/lib/python3.6/site-packages/statsmodels/tsa/base/tsa_model.py:221: ValueWarning: An unsupported index was provided and will be ignored when e.g. forecasting.\n",
      "  ' ignored when e.g. forecasting.', ValueWarning)\n",
      "\n",
      "\n",
      "\n",
      "\n",
      " 36%|███▋      | 109/300 [00:46<03:21,  1.06s/it]\u001b[A\u001b[A\u001b[A\u001b[A/home/evgenii/.local/lib/python3.6/site-packages/statsmodels/tsa/statespace/sarimax.py:1051: DeprecationWarning: The truth value of an empty array is ambiguous. Returning False, but in future this will result in an error. Use `array.size > 0` to check that an array is not empty.\n",
      "  if self.state_error and params_variance == []:\n"
     ]
    },
    {
     "name": "stdout",
     "output_type": "stream",
     "text": [
      "wrong parameters: (2, 4, 3, 1)\n",
      "wrong parameters: (2, 4, 3, 2)\n",
      "wrong parameters: (2, 5, 0, 0)\n",
      "wrong parameters: (2, 5, 0, 1)\n",
      "wrong parameters: (2, 5, 0, 2)\n",
      "wrong parameters: (2, 5, 1, 0)\n",
      "wrong parameters: (2, 5, 1, 1)\n",
      "wrong parameters: (2, 5, 1, 2)\n",
      "wrong parameters: (2, 5, 2, 0)\n",
      "wrong parameters: (2, 5, 2, 1)\n",
      "wrong parameters: (2, 5, 2, 2)\n",
      "wrong parameters: (2, 5, 3, 0)\n",
      "wrong parameters: (2, 5, 3, 1)\n",
      "wrong parameters: (2, 5, 3, 2)\n"
     ]
    },
    {
     "name": "stderr",
     "output_type": "stream",
     "text": [
      "/home/evgenii/.local/lib/python3.6/site-packages/statsmodels/tsa/base/tsa_model.py:531: ValueWarning: No supported index is available. Prediction results will be given with an integer index beginning at `start`.\n",
      "  ValueWarning)\n",
      "\n",
      "\n",
      "\n",
      "\n",
      " 40%|████      | 121/300 [00:46<02:13,  1.34it/s]\u001b[A\u001b[A\u001b[A\u001b[A/home/evgenii/.local/lib/python3.6/site-packages/statsmodels/tsa/base/tsa_model.py:221: ValueWarning: An unsupported index was provided and will be ignored when e.g. forecasting.\n",
      "  ' ignored when e.g. forecasting.', ValueWarning)\n",
      "/home/evgenii/.local/lib/python3.6/site-packages/statsmodels/tsa/statespace/sarimax.py:1051: DeprecationWarning: The truth value of an empty array is ambiguous. Returning False, but in future this will result in an error. Use `array.size > 0` to check that an array is not empty.\n",
      "  if self.state_error and params_variance == []:\n"
     ]
    },
    {
     "name": "stdout",
     "output_type": "stream",
     "text": [
      "wrong parameters: (3, 1, 0, 0)\n",
      "wrong parameters: (3, 1, 0, 1)\n",
      "wrong parameters: (3, 1, 0, 2)\n"
     ]
    },
    {
     "name": "stderr",
     "output_type": "stream",
     "text": [
      "/home/evgenii/.local/lib/python3.6/site-packages/statsmodels/tsa/base/tsa_model.py:531: ValueWarning: No supported index is available. Prediction results will be given with an integer index beginning at `start`.\n",
      "  ValueWarning)\n",
      "\n",
      "\n",
      "\n",
      "\n",
      " 41%|████▏     | 124/300 [00:47<01:40,  1.75it/s]\u001b[A\u001b[A\u001b[A\u001b[A/home/evgenii/.local/lib/python3.6/site-packages/statsmodels/tsa/base/tsa_model.py:221: ValueWarning: An unsupported index was provided and will be ignored when e.g. forecasting.\n",
      "  ' ignored when e.g. forecasting.', ValueWarning)\n",
      "/home/evgenii/.local/lib/python3.6/site-packages/statsmodels/tsa/statespace/sarimax.py:1051: DeprecationWarning: The truth value of an empty array is ambiguous. Returning False, but in future this will result in an error. Use `array.size > 0` to check that an array is not empty.\n",
      "  if self.state_error and params_variance == []:\n"
     ]
    },
    {
     "name": "stdout",
     "output_type": "stream",
     "text": [
      "wrong parameters: (3, 1, 1, 0)\n"
     ]
    },
    {
     "name": "stderr",
     "output_type": "stream",
     "text": [
      "/home/evgenii/.local/lib/python3.6/site-packages/statsmodels/tsa/base/tsa_model.py:531: ValueWarning: No supported index is available. Prediction results will be given with an integer index beginning at `start`.\n",
      "  ValueWarning)\n",
      "/home/evgenii/.local/lib/python3.6/site-packages/statsmodels/tsa/base/tsa_model.py:221: ValueWarning: An unsupported index was provided and will be ignored when e.g. forecasting.\n",
      "  ' ignored when e.g. forecasting.', ValueWarning)\n",
      "/home/evgenii/.local/lib/python3.6/site-packages/statsmodels/tsa/statespace/sarimax.py:1051: DeprecationWarning: The truth value of an empty array is ambiguous. Returning False, but in future this will result in an error. Use `array.size > 0` to check that an array is not empty.\n",
      "  if self.state_error and params_variance == []:\n"
     ]
    },
    {
     "name": "stdout",
     "output_type": "stream",
     "text": [
      "wrong parameters: (3, 1, 1, 1)\n",
      "wrong parameters: (3, 1, 1, 2)\n"
     ]
    },
    {
     "name": "stderr",
     "output_type": "stream",
     "text": [
      "/home/evgenii/.local/lib/python3.6/site-packages/statsmodels/tsa/base/tsa_model.py:531: ValueWarning: No supported index is available. Prediction results will be given with an integer index beginning at `start`.\n",
      "  ValueWarning)\n",
      "\n",
      "\n",
      "\n",
      "\n",
      " 42%|████▏     | 127/300 [00:48<01:38,  1.75it/s]\u001b[A\u001b[A\u001b[A\u001b[A/home/evgenii/.local/lib/python3.6/site-packages/statsmodels/tsa/base/tsa_model.py:221: ValueWarning: An unsupported index was provided and will be ignored when e.g. forecasting.\n",
      "  ' ignored when e.g. forecasting.', ValueWarning)\n",
      "/home/evgenii/.local/lib/python3.6/site-packages/statsmodels/tsa/statespace/sarimax.py:1051: DeprecationWarning: The truth value of an empty array is ambiguous. Returning False, but in future this will result in an error. Use `array.size > 0` to check that an array is not empty.\n",
      "  if self.state_error and params_variance == []:\n"
     ]
    },
    {
     "name": "stdout",
     "output_type": "stream",
     "text": [
      "wrong parameters: (3, 1, 2, 0)\n"
     ]
    },
    {
     "name": "stderr",
     "output_type": "stream",
     "text": [
      "/home/evgenii/.local/lib/python3.6/site-packages/statsmodels/tsa/base/tsa_model.py:531: ValueWarning: No supported index is available. Prediction results will be given with an integer index beginning at `start`.\n",
      "  ValueWarning)\n",
      "/home/evgenii/.local/lib/python3.6/site-packages/statsmodels/tsa/base/tsa_model.py:221: ValueWarning: An unsupported index was provided and will be ignored when e.g. forecasting.\n",
      "  ' ignored when e.g. forecasting.', ValueWarning)\n",
      "\n",
      "\n",
      "\n",
      "\n",
      " 43%|████▎     | 129/300 [00:50<01:45,  1.62it/s]\u001b[A\u001b[A\u001b[A\u001b[A/home/evgenii/.local/lib/python3.6/site-packages/statsmodels/tsa/statespace/sarimax.py:1051: DeprecationWarning: The truth value of an empty array is ambiguous. Returning False, but in future this will result in an error. Use `array.size > 0` to check that an array is not empty.\n",
      "  if self.state_error and params_variance == []:\n"
     ]
    },
    {
     "name": "stdout",
     "output_type": "stream",
     "text": [
      "wrong parameters: (3, 1, 2, 1)\n",
      "wrong parameters: (3, 1, 2, 2)\n"
     ]
    },
    {
     "name": "stderr",
     "output_type": "stream",
     "text": [
      "/home/evgenii/.local/lib/python3.6/site-packages/statsmodels/tsa/base/tsa_model.py:531: ValueWarning: No supported index is available. Prediction results will be given with an integer index beginning at `start`.\n",
      "  ValueWarning)\n",
      "/home/evgenii/.local/lib/python3.6/site-packages/statsmodels/tsa/base/tsa_model.py:221: ValueWarning: An unsupported index was provided and will be ignored when e.g. forecasting.\n",
      "  ' ignored when e.g. forecasting.', ValueWarning)\n",
      "/home/evgenii/.local/lib/python3.6/site-packages/statsmodels/tsa/statespace/sarimax.py:1051: DeprecationWarning: The truth value of an empty array is ambiguous. Returning False, but in future this will result in an error. Use `array.size > 0` to check that an array is not empty.\n",
      "  if self.state_error and params_variance == []:\n"
     ]
    },
    {
     "name": "stdout",
     "output_type": "stream",
     "text": [
      "wrong parameters: (3, 1, 3, 0)\n"
     ]
    },
    {
     "name": "stderr",
     "output_type": "stream",
     "text": [
      "/home/evgenii/.local/lib/python3.6/site-packages/statsmodels/tsa/base/tsa_model.py:531: ValueWarning: No supported index is available. Prediction results will be given with an integer index beginning at `start`.\n",
      "  ValueWarning)\n",
      "\n",
      "\n",
      "\n",
      "\n",
      " 44%|████▎     | 131/300 [00:54<03:13,  1.14s/it]\u001b[A\u001b[A\u001b[A\u001b[A/home/evgenii/.local/lib/python3.6/site-packages/statsmodels/tsa/base/tsa_model.py:221: ValueWarning: An unsupported index was provided and will be ignored when e.g. forecasting.\n",
      "  ' ignored when e.g. forecasting.', ValueWarning)\n",
      "\n",
      "\n",
      "\n",
      "\n",
      " 51%|█████     | 153/300 [00:55<01:57,  1.25it/s]\u001b[A\u001b[A\u001b[A\u001b[A/home/evgenii/.local/lib/python3.6/site-packages/statsmodels/tsa/statespace/sarimax.py:1051: DeprecationWarning: The truth value of an empty array is ambiguous. Returning False, but in future this will result in an error. Use `array.size > 0` to check that an array is not empty.\n",
      "  if self.state_error and params_variance == []:\n"
     ]
    },
    {
     "name": "stdout",
     "output_type": "stream",
     "text": [
      "wrong parameters: (3, 1, 3, 1)\n",
      "wrong parameters: (3, 1, 3, 2)\n",
      "wrong parameters: (3, 2, 0, 0)\n",
      "wrong parameters: (3, 2, 0, 1)\n",
      "wrong parameters: (3, 2, 0, 2)\n",
      "wrong parameters: (3, 2, 1, 0)\n",
      "wrong parameters: (3, 2, 1, 1)\n",
      "wrong parameters: (3, 2, 1, 2)\n",
      "wrong parameters: (3, 2, 2, 0)\n",
      "wrong parameters: (3, 2, 2, 1)\n",
      "wrong parameters: (3, 2, 2, 2)\n",
      "wrong parameters: (3, 2, 3, 0)\n",
      "wrong parameters: (3, 2, 3, 1)\n",
      "wrong parameters: (3, 2, 3, 2)\n",
      "wrong parameters: (3, 3, 0, 0)\n",
      "wrong parameters: (3, 3, 0, 1)\n",
      "wrong parameters: (3, 3, 0, 2)\n",
      "wrong parameters: (3, 3, 1, 0)\n",
      "wrong parameters: (3, 3, 1, 1)\n",
      "wrong parameters: (3, 3, 1, 2)\n",
      "wrong parameters: (3, 3, 2, 0)\n",
      "wrong parameters: (3, 3, 2, 1)\n",
      "wrong parameters: (3, 3, 2, 2)\n",
      "wrong parameters: (3, 3, 3, 0)\n",
      "wrong parameters: (3, 3, 3, 1)\n",
      "wrong parameters: (3, 3, 3, 2)\n"
     ]
    },
    {
     "name": "stderr",
     "output_type": "stream",
     "text": [
      "/home/evgenii/.local/lib/python3.6/site-packages/statsmodels/base/model.py:508: ConvergenceWarning: Maximum Likelihood optimization failed to converge. Check mle_retvals\n",
      "  \"Check mle_retvals\", ConvergenceWarning)\n",
      "/home/evgenii/.local/lib/python3.6/site-packages/statsmodels/tsa/base/tsa_model.py:531: ValueWarning: No supported index is available. Prediction results will be given with an integer index beginning at `start`.\n",
      "  ValueWarning)\n",
      "/home/evgenii/.local/lib/python3.6/site-packages/statsmodels/tsa/base/tsa_model.py:221: ValueWarning: An unsupported index was provided and will be ignored when e.g. forecasting.\n",
      "  ' ignored when e.g. forecasting.', ValueWarning)\n",
      "/home/evgenii/.local/lib/python3.6/site-packages/statsmodels/tsa/statespace/sarimax.py:1051: DeprecationWarning: The truth value of an empty array is ambiguous. Returning False, but in future this will result in an error. Use `array.size > 0` to check that an array is not empty.\n",
      "  if self.state_error and params_variance == []:\n"
     ]
    },
    {
     "name": "stdout",
     "output_type": "stream",
     "text": [
      "wrong parameters: (3, 4, 0, 0)\n",
      "wrong parameters: (3, 4, 0, 1)\n",
      "wrong parameters: (3, 4, 0, 2)\n"
     ]
    },
    {
     "name": "stderr",
     "output_type": "stream",
     "text": [
      "/home/evgenii/.local/lib/python3.6/site-packages/statsmodels/base/model.py:508: ConvergenceWarning: Maximum Likelihood optimization failed to converge. Check mle_retvals\n",
      "  \"Check mle_retvals\", ConvergenceWarning)\n",
      "/home/evgenii/.local/lib/python3.6/site-packages/statsmodels/tsa/base/tsa_model.py:531: ValueWarning: No supported index is available. Prediction results will be given with an integer index beginning at `start`.\n",
      "  ValueWarning)\n",
      "\n",
      "\n",
      "\n",
      "\n",
      " 53%|█████▎    | 160/300 [00:56<01:28,  1.58it/s]\u001b[A\u001b[A\u001b[A\u001b[A/home/evgenii/.local/lib/python3.6/site-packages/statsmodels/tsa/base/tsa_model.py:221: ValueWarning: An unsupported index was provided and will be ignored when e.g. forecasting.\n",
      "  ' ignored when e.g. forecasting.', ValueWarning)\n",
      "/home/evgenii/.local/lib/python3.6/site-packages/statsmodels/tsa/statespace/sarimax.py:1051: DeprecationWarning: The truth value of an empty array is ambiguous. Returning False, but in future this will result in an error. Use `array.size > 0` to check that an array is not empty.\n",
      "  if self.state_error and params_variance == []:\n"
     ]
    },
    {
     "name": "stdout",
     "output_type": "stream",
     "text": [
      "wrong parameters: (3, 4, 1, 0)\n"
     ]
    },
    {
     "name": "stderr",
     "output_type": "stream",
     "text": [
      "/home/evgenii/.local/lib/python3.6/site-packages/statsmodels/base/model.py:508: ConvergenceWarning: Maximum Likelihood optimization failed to converge. Check mle_retvals\n",
      "  \"Check mle_retvals\", ConvergenceWarning)\n",
      "/home/evgenii/.local/lib/python3.6/site-packages/statsmodels/tsa/base/tsa_model.py:531: ValueWarning: No supported index is available. Prediction results will be given with an integer index beginning at `start`.\n",
      "  ValueWarning)\n",
      "/home/evgenii/.local/lib/python3.6/site-packages/statsmodels/tsa/base/tsa_model.py:221: ValueWarning: An unsupported index was provided and will be ignored when e.g. forecasting.\n",
      "  ' ignored when e.g. forecasting.', ValueWarning)\n",
      "/home/evgenii/.local/lib/python3.6/site-packages/statsmodels/tsa/statespace/sarimax.py:1051: DeprecationWarning: The truth value of an empty array is ambiguous. Returning False, but in future this will result in an error. Use `array.size > 0` to check that an array is not empty.\n",
      "  if self.state_error and params_variance == []:\n"
     ]
    },
    {
     "name": "stdout",
     "output_type": "stream",
     "text": [
      "wrong parameters: (3, 4, 1, 1)\n",
      "wrong parameters: (3, 4, 1, 2)\n"
     ]
    },
    {
     "name": "stderr",
     "output_type": "stream",
     "text": [
      "/home/evgenii/.local/lib/python3.6/site-packages/statsmodels/base/model.py:508: ConvergenceWarning: Maximum Likelihood optimization failed to converge. Check mle_retvals\n",
      "  \"Check mle_retvals\", ConvergenceWarning)\n",
      "/home/evgenii/.local/lib/python3.6/site-packages/statsmodels/tsa/base/tsa_model.py:531: ValueWarning: No supported index is available. Prediction results will be given with an integer index beginning at `start`.\n",
      "  ValueWarning)\n",
      "/home/evgenii/.local/lib/python3.6/site-packages/statsmodels/tsa/base/tsa_model.py:221: ValueWarning: An unsupported index was provided and will be ignored when e.g. forecasting.\n",
      "  ' ignored when e.g. forecasting.', ValueWarning)\n",
      "/home/evgenii/.local/lib/python3.6/site-packages/statsmodels/tsa/statespace/sarimax.py:1051: DeprecationWarning: The truth value of an empty array is ambiguous. Returning False, but in future this will result in an error. Use `array.size > 0` to check that an array is not empty.\n",
      "  if self.state_error and params_variance == []:\n"
     ]
    },
    {
     "name": "stdout",
     "output_type": "stream",
     "text": [
      "wrong parameters: (3, 4, 2, 0)\n"
     ]
    },
    {
     "name": "stderr",
     "output_type": "stream",
     "text": [
      "/home/evgenii/.local/lib/python3.6/site-packages/statsmodels/base/model.py:508: ConvergenceWarning: Maximum Likelihood optimization failed to converge. Check mle_retvals\n",
      "  \"Check mle_retvals\", ConvergenceWarning)\n",
      "/home/evgenii/.local/lib/python3.6/site-packages/statsmodels/tsa/base/tsa_model.py:531: ValueWarning: No supported index is available. Prediction results will be given with an integer index beginning at `start`.\n",
      "  ValueWarning)\n",
      "/home/evgenii/.local/lib/python3.6/site-packages/statsmodels/tsa/base/tsa_model.py:221: ValueWarning: An unsupported index was provided and will be ignored when e.g. forecasting.\n",
      "  ' ignored when e.g. forecasting.', ValueWarning)\n",
      "\n",
      "\n",
      "\n",
      "\n",
      " 55%|█████▌    | 165/300 [01:02<01:46,  1.27it/s]\u001b[A\u001b[A\u001b[A\u001b[A/home/evgenii/.local/lib/python3.6/site-packages/statsmodels/tsa/statespace/sarimax.py:1051: DeprecationWarning: The truth value of an empty array is ambiguous. Returning False, but in future this will result in an error. Use `array.size > 0` to check that an array is not empty.\n",
      "  if self.state_error and params_variance == []:\n"
     ]
    },
    {
     "name": "stdout",
     "output_type": "stream",
     "text": [
      "wrong parameters: (3, 4, 2, 1)\n",
      "wrong parameters: (3, 4, 2, 2)\n"
     ]
    },
    {
     "name": "stderr",
     "output_type": "stream",
     "text": [
      "/home/evgenii/.local/lib/python3.6/site-packages/statsmodels/base/model.py:508: ConvergenceWarning: Maximum Likelihood optimization failed to converge. Check mle_retvals\n",
      "  \"Check mle_retvals\", ConvergenceWarning)\n",
      "/home/evgenii/.local/lib/python3.6/site-packages/statsmodels/tsa/base/tsa_model.py:531: ValueWarning: No supported index is available. Prediction results will be given with an integer index beginning at `start`.\n",
      "  ValueWarning)\n",
      "/home/evgenii/.local/lib/python3.6/site-packages/statsmodels/tsa/base/tsa_model.py:221: ValueWarning: An unsupported index was provided and will be ignored when e.g. forecasting.\n",
      "  ' ignored when e.g. forecasting.', ValueWarning)\n",
      "/home/evgenii/.local/lib/python3.6/site-packages/statsmodels/tsa/statespace/sarimax.py:1051: DeprecationWarning: The truth value of an empty array is ambiguous. Returning False, but in future this will result in an error. Use `array.size > 0` to check that an array is not empty.\n",
      "  if self.state_error and params_variance == []:\n"
     ]
    },
    {
     "name": "stdout",
     "output_type": "stream",
     "text": [
      "wrong parameters: (3, 4, 3, 0)\n"
     ]
    },
    {
     "name": "stderr",
     "output_type": "stream",
     "text": [
      "/home/evgenii/.local/lib/python3.6/site-packages/statsmodels/base/model.py:508: ConvergenceWarning: Maximum Likelihood optimization failed to converge. Check mle_retvals\n",
      "  \"Check mle_retvals\", ConvergenceWarning)\n",
      "/home/evgenii/.local/lib/python3.6/site-packages/statsmodels/tsa/base/tsa_model.py:531: ValueWarning: No supported index is available. Prediction results will be given with an integer index beginning at `start`.\n",
      "  ValueWarning)\n",
      "/home/evgenii/.local/lib/python3.6/site-packages/statsmodels/tsa/base/tsa_model.py:221: ValueWarning: An unsupported index was provided and will be ignored when e.g. forecasting.\n",
      "  ' ignored when e.g. forecasting.', ValueWarning)\n",
      "\n",
      "\n",
      "\n",
      "\n",
      " 56%|█████▋    | 169/300 [01:10<02:25,  1.11s/it]\u001b[A\u001b[A\u001b[A\u001b[A/home/evgenii/.local/lib/python3.6/site-packages/statsmodels/tsa/statespace/sarimax.py:1051: DeprecationWarning: The truth value of an empty array is ambiguous. Returning False, but in future this will result in an error. Use `array.size > 0` to check that an array is not empty.\n",
      "  if self.state_error and params_variance == []:\n"
     ]
    },
    {
     "name": "stdout",
     "output_type": "stream",
     "text": [
      "wrong parameters: (3, 4, 3, 1)\n",
      "wrong parameters: (3, 4, 3, 2)\n",
      "wrong parameters: (3, 5, 0, 0)\n",
      "wrong parameters: (3, 5, 0, 1)\n",
      "wrong parameters: (3, 5, 0, 2)\n",
      "wrong parameters: (3, 5, 1, 0)\n",
      "wrong parameters: (3, 5, 1, 1)\n",
      "wrong parameters: (3, 5, 1, 2)\n",
      "wrong parameters: (3, 5, 2, 0)\n",
      "wrong parameters: (3, 5, 2, 1)\n",
      "wrong parameters: (3, 5, 2, 2)\n",
      "wrong parameters: (3, 5, 3, 0)\n",
      "wrong parameters: (3, 5, 3, 1)\n",
      "wrong parameters: (3, 5, 3, 2)\n"
     ]
    },
    {
     "name": "stderr",
     "output_type": "stream",
     "text": [
      "/home/evgenii/.local/lib/python3.6/site-packages/statsmodels/tsa/base/tsa_model.py:531: ValueWarning: No supported index is available. Prediction results will be given with an integer index beginning at `start`.\n",
      "  ValueWarning)\n",
      "\n",
      "\n",
      "\n",
      "\n",
      " 60%|██████    | 181/300 [01:10<01:33,  1.27it/s]\u001b[A\u001b[A\u001b[A\u001b[A/home/evgenii/.local/lib/python3.6/site-packages/statsmodels/tsa/base/tsa_model.py:221: ValueWarning: An unsupported index was provided and will be ignored when e.g. forecasting.\n",
      "  ' ignored when e.g. forecasting.', ValueWarning)\n",
      "/home/evgenii/.local/lib/python3.6/site-packages/statsmodels/tsa/statespace/sarimax.py:1051: DeprecationWarning: The truth value of an empty array is ambiguous. Returning False, but in future this will result in an error. Use `array.size > 0` to check that an array is not empty.\n",
      "  if self.state_error and params_variance == []:\n"
     ]
    },
    {
     "name": "stdout",
     "output_type": "stream",
     "text": [
      "wrong parameters: (4, 1, 0, 0)\n",
      "wrong parameters: (4, 1, 0, 1)\n",
      "wrong parameters: (4, 1, 0, 2)\n"
     ]
    },
    {
     "name": "stderr",
     "output_type": "stream",
     "text": [
      "/home/evgenii/.local/lib/python3.6/site-packages/statsmodels/tsa/base/tsa_model.py:531: ValueWarning: No supported index is available. Prediction results will be given with an integer index beginning at `start`.\n",
      "  ValueWarning)\n",
      "/home/evgenii/.local/lib/python3.6/site-packages/statsmodels/tsa/base/tsa_model.py:221: ValueWarning: An unsupported index was provided and will be ignored when e.g. forecasting.\n",
      "  ' ignored when e.g. forecasting.', ValueWarning)\n",
      "/home/evgenii/.local/lib/python3.6/site-packages/statsmodels/tsa/statespace/sarimax.py:1051: DeprecationWarning: The truth value of an empty array is ambiguous. Returning False, but in future this will result in an error. Use `array.size > 0` to check that an array is not empty.\n",
      "  if self.state_error and params_variance == []:\n"
     ]
    },
    {
     "name": "stdout",
     "output_type": "stream",
     "text": [
      "wrong parameters: (4, 1, 1, 0)\n"
     ]
    },
    {
     "name": "stderr",
     "output_type": "stream",
     "text": [
      "/home/evgenii/.local/lib/python3.6/site-packages/statsmodels/tsa/base/tsa_model.py:531: ValueWarning: No supported index is available. Prediction results will be given with an integer index beginning at `start`.\n",
      "  ValueWarning)\n",
      "\n",
      "\n",
      "\n",
      "\n",
      " 62%|██████▏   | 185/300 [01:12<01:18,  1.47it/s]\u001b[A\u001b[A\u001b[A\u001b[A/home/evgenii/.local/lib/python3.6/site-packages/statsmodels/tsa/base/tsa_model.py:221: ValueWarning: An unsupported index was provided and will be ignored when e.g. forecasting.\n",
      "  ' ignored when e.g. forecasting.', ValueWarning)\n",
      "/home/evgenii/.local/lib/python3.6/site-packages/statsmodels/tsa/statespace/sarimax.py:1051: DeprecationWarning: The truth value of an empty array is ambiguous. Returning False, but in future this will result in an error. Use `array.size > 0` to check that an array is not empty.\n",
      "  if self.state_error and params_variance == []:\n"
     ]
    },
    {
     "name": "stdout",
     "output_type": "stream",
     "text": [
      "wrong parameters: (4, 1, 1, 1)\n",
      "wrong parameters: (4, 1, 1, 2)\n"
     ]
    },
    {
     "name": "stderr",
     "output_type": "stream",
     "text": [
      "/home/evgenii/.local/lib/python3.6/site-packages/statsmodels/tsa/base/tsa_model.py:531: ValueWarning: No supported index is available. Prediction results will be given with an integer index beginning at `start`.\n",
      "  ValueWarning)\n",
      "/home/evgenii/.local/lib/python3.6/site-packages/statsmodels/tsa/base/tsa_model.py:221: ValueWarning: An unsupported index was provided and will be ignored when e.g. forecasting.\n",
      "  ' ignored when e.g. forecasting.', ValueWarning)\n",
      "/home/evgenii/.local/lib/python3.6/site-packages/statsmodels/tsa/statespace/sarimax.py:1051: DeprecationWarning: The truth value of an empty array is ambiguous. Returning False, but in future this will result in an error. Use `array.size > 0` to check that an array is not empty.\n",
      "  if self.state_error and params_variance == []:\n"
     ]
    },
    {
     "name": "stdout",
     "output_type": "stream",
     "text": [
      "wrong parameters: (4, 1, 2, 0)\n"
     ]
    },
    {
     "name": "stderr",
     "output_type": "stream",
     "text": [
      "/home/evgenii/.local/lib/python3.6/site-packages/statsmodels/base/model.py:508: ConvergenceWarning: Maximum Likelihood optimization failed to converge. Check mle_retvals\n",
      "  \"Check mle_retvals\", ConvergenceWarning)\n",
      "/home/evgenii/.local/lib/python3.6/site-packages/statsmodels/tsa/base/tsa_model.py:531: ValueWarning: No supported index is available. Prediction results will be given with an integer index beginning at `start`.\n",
      "  ValueWarning)\n",
      "\n",
      "\n",
      "\n",
      "\n",
      " 63%|██████▎   | 188/300 [01:15<01:33,  1.19it/s]\u001b[A\u001b[A\u001b[A\u001b[A/home/evgenii/.local/lib/python3.6/site-packages/statsmodels/tsa/base/tsa_model.py:221: ValueWarning: An unsupported index was provided and will be ignored when e.g. forecasting.\n",
      "  ' ignored when e.g. forecasting.', ValueWarning)\n",
      "/home/evgenii/.local/lib/python3.6/site-packages/statsmodels/tsa/statespace/sarimax.py:1051: DeprecationWarning: The truth value of an empty array is ambiguous. Returning False, but in future this will result in an error. Use `array.size > 0` to check that an array is not empty.\n",
      "  if self.state_error and params_variance == []:\n"
     ]
    },
    {
     "name": "stdout",
     "output_type": "stream",
     "text": [
      "wrong parameters: (4, 1, 2, 1)\n",
      "wrong parameters: (4, 1, 2, 2)\n"
     ]
    },
    {
     "name": "stderr",
     "output_type": "stream",
     "text": [
      "/home/evgenii/.local/lib/python3.6/site-packages/statsmodels/tsa/base/tsa_model.py:531: ValueWarning: No supported index is available. Prediction results will be given with an integer index beginning at `start`.\n",
      "  ValueWarning)\n",
      "\n",
      "\n",
      "\n",
      "\n",
      " 63%|██████▎   | 190/300 [01:18<01:59,  1.08s/it]\u001b[A\u001b[A\u001b[A\u001b[A/home/evgenii/.local/lib/python3.6/site-packages/statsmodels/tsa/base/tsa_model.py:221: ValueWarning: An unsupported index was provided and will be ignored when e.g. forecasting.\n",
      "  ' ignored when e.g. forecasting.', ValueWarning)\n",
      "/home/evgenii/.local/lib/python3.6/site-packages/statsmodels/tsa/statespace/sarimax.py:1051: DeprecationWarning: The truth value of an empty array is ambiguous. Returning False, but in future this will result in an error. Use `array.size > 0` to check that an array is not empty.\n",
      "  if self.state_error and params_variance == []:\n"
     ]
    },
    {
     "name": "stdout",
     "output_type": "stream",
     "text": [
      "wrong parameters: (4, 1, 3, 0)\n"
     ]
    },
    {
     "name": "stderr",
     "output_type": "stream",
     "text": [
      "/home/evgenii/.local/lib/python3.6/site-packages/statsmodels/base/model.py:508: ConvergenceWarning: Maximum Likelihood optimization failed to converge. Check mle_retvals\n",
      "  \"Check mle_retvals\", ConvergenceWarning)\n",
      "/home/evgenii/.local/lib/python3.6/site-packages/statsmodels/tsa/base/tsa_model.py:531: ValueWarning: No supported index is available. Prediction results will be given with an integer index beginning at `start`.\n",
      "  ValueWarning)\n",
      "/home/evgenii/.local/lib/python3.6/site-packages/statsmodels/tsa/base/tsa_model.py:221: ValueWarning: An unsupported index was provided and will be ignored when e.g. forecasting.\n",
      "  ' ignored when e.g. forecasting.', ValueWarning)\n",
      "\n",
      "\n",
      "\n",
      "\n",
      " 64%|██████▍   | 192/300 [01:22<02:23,  1.33s/it]\u001b[A\u001b[A\u001b[A\u001b[A\n",
      "\n",
      "\n",
      "\n",
      " 67%|██████▋   | 202/300 [01:22<01:31,  1.07it/s]\u001b[A\u001b[A\u001b[A\u001b[A"
     ]
    },
    {
     "name": "stdout",
     "output_type": "stream",
     "text": [
      "wrong parameters: (4, 1, 3, 1)\n",
      "wrong parameters: (4, 1, 3, 2)\n",
      "wrong parameters: (4, 2, 0, 0)\n",
      "wrong parameters: (4, 2, 0, 1)\n",
      "wrong parameters: (4, 2, 0, 2)\n",
      "wrong parameters: (4, 2, 1, 0)\n",
      "wrong parameters: (4, 2, 1, 1)\n",
      "wrong parameters: (4, 2, 1, 2)\n",
      "wrong parameters: (4, 2, 2, 0)\n",
      "wrong parameters: (4, 2, 2, 1)\n",
      "wrong parameters: (4, 2, 2, 2)\n",
      "wrong parameters: (4, 2, 3, 0)\n",
      "wrong parameters: (4, 2, 3, 1)\n",
      "wrong parameters: (4, 2, 3, 2)\n",
      "wrong parameters: (4, 3, 0, 0)\n",
      "wrong parameters: (4, 3, 0, 1)\n",
      "wrong parameters: (4, 3, 0, 2)\n",
      "wrong parameters: (4, 3, 1, 0)\n",
      "wrong parameters: (4, 3, 1, 1)\n",
      "wrong parameters: (4, 3, 1, 2)\n",
      "wrong parameters: (4, 3, 2, 0)\n",
      "wrong parameters: (4, 3, 2, 1)\n",
      "wrong parameters: (4, 3, 2, 2)\n",
      "wrong parameters: (4, 3, 3, 0)\n",
      "wrong parameters: (4, 3, 3, 1)\n",
      "wrong parameters: (4, 3, 3, 2)\n"
     ]
    },
    {
     "name": "stderr",
     "output_type": "stream",
     "text": [
      "/home/evgenii/.local/lib/python3.6/site-packages/statsmodels/tsa/statespace/sarimax.py:1051: DeprecationWarning: The truth value of an empty array is ambiguous. Returning False, but in future this will result in an error. Use `array.size > 0` to check that an array is not empty.\n",
      "  if self.state_error and params_variance == []:\n",
      "/home/evgenii/.local/lib/python3.6/site-packages/statsmodels/base/model.py:508: ConvergenceWarning: Maximum Likelihood optimization failed to converge. Check mle_retvals\n",
      "  \"Check mle_retvals\", ConvergenceWarning)\n",
      "/home/evgenii/.local/lib/python3.6/site-packages/statsmodels/tsa/base/tsa_model.py:531: ValueWarning: No supported index is available. Prediction results will be given with an integer index beginning at `start`.\n",
      "  ValueWarning)\n",
      "\n",
      "\n",
      "\n",
      "\n",
      " 72%|███████▏  | 217/300 [01:23<00:54,  1.51it/s]\u001b[A\u001b[A\u001b[A\u001b[A/home/evgenii/.local/lib/python3.6/site-packages/statsmodels/tsa/base/tsa_model.py:221: ValueWarning: An unsupported index was provided and will be ignored when e.g. forecasting.\n",
      "  ' ignored when e.g. forecasting.', ValueWarning)\n",
      "/home/evgenii/.local/lib/python3.6/site-packages/statsmodels/tsa/statespace/sarimax.py:1051: DeprecationWarning: The truth value of an empty array is ambiguous. Returning False, but in future this will result in an error. Use `array.size > 0` to check that an array is not empty.\n",
      "  if self.state_error and params_variance == []:\n"
     ]
    },
    {
     "name": "stdout",
     "output_type": "stream",
     "text": [
      "wrong parameters: (4, 4, 0, 0)\n",
      "wrong parameters: (4, 4, 0, 1)\n",
      "wrong parameters: (4, 4, 0, 2)\n"
     ]
    },
    {
     "name": "stderr",
     "output_type": "stream",
     "text": [
      "/home/evgenii/.local/lib/python3.6/site-packages/statsmodels/base/model.py:508: ConvergenceWarning: Maximum Likelihood optimization failed to converge. Check mle_retvals\n",
      "  \"Check mle_retvals\", ConvergenceWarning)\n",
      "/home/evgenii/.local/lib/python3.6/site-packages/statsmodels/tsa/base/tsa_model.py:531: ValueWarning: No supported index is available. Prediction results will be given with an integer index beginning at `start`.\n",
      "  ValueWarning)\n",
      "/home/evgenii/.local/lib/python3.6/site-packages/statsmodels/tsa/base/tsa_model.py:221: ValueWarning: An unsupported index was provided and will be ignored when e.g. forecasting.\n",
      "  ' ignored when e.g. forecasting.', ValueWarning)\n",
      "/home/evgenii/.local/lib/python3.6/site-packages/statsmodels/tsa/statespace/sarimax.py:1051: DeprecationWarning: The truth value of an empty array is ambiguous. Returning False, but in future this will result in an error. Use `array.size > 0` to check that an array is not empty.\n",
      "  if self.state_error and params_variance == []:\n"
     ]
    },
    {
     "name": "stdout",
     "output_type": "stream",
     "text": [
      "wrong parameters: (4, 4, 1, 0)\n"
     ]
    },
    {
     "name": "stderr",
     "output_type": "stream",
     "text": [
      "/home/evgenii/.local/lib/python3.6/site-packages/statsmodels/base/model.py:508: ConvergenceWarning: Maximum Likelihood optimization failed to converge. Check mle_retvals\n",
      "  \"Check mle_retvals\", ConvergenceWarning)\n",
      "/home/evgenii/.local/lib/python3.6/site-packages/statsmodels/tsa/base/tsa_model.py:531: ValueWarning: No supported index is available. Prediction results will be given with an integer index beginning at `start`.\n",
      "  ValueWarning)\n",
      "\n",
      "\n",
      "\n",
      "\n",
      " 74%|███████▎  | 221/300 [01:26<00:53,  1.47it/s]\u001b[A\u001b[A\u001b[A\u001b[A/home/evgenii/.local/lib/python3.6/site-packages/statsmodels/tsa/base/tsa_model.py:221: ValueWarning: An unsupported index was provided and will be ignored when e.g. forecasting.\n",
      "  ' ignored when e.g. forecasting.', ValueWarning)\n",
      "/home/evgenii/.local/lib/python3.6/site-packages/statsmodels/tsa/statespace/sarimax.py:1051: DeprecationWarning: The truth value of an empty array is ambiguous. Returning False, but in future this will result in an error. Use `array.size > 0` to check that an array is not empty.\n",
      "  if self.state_error and params_variance == []:\n"
     ]
    },
    {
     "name": "stdout",
     "output_type": "stream",
     "text": [
      "wrong parameters: (4, 4, 1, 1)\n",
      "wrong parameters: (4, 4, 1, 2)\n"
     ]
    },
    {
     "name": "stderr",
     "output_type": "stream",
     "text": [
      "/home/evgenii/.local/lib/python3.6/site-packages/statsmodels/base/model.py:508: ConvergenceWarning: Maximum Likelihood optimization failed to converge. Check mle_retvals\n",
      "  \"Check mle_retvals\", ConvergenceWarning)\n",
      "/home/evgenii/.local/lib/python3.6/site-packages/statsmodels/tsa/base/tsa_model.py:531: ValueWarning: No supported index is available. Prediction results will be given with an integer index beginning at `start`.\n",
      "  ValueWarning)\n",
      "/home/evgenii/.local/lib/python3.6/site-packages/statsmodels/tsa/base/tsa_model.py:221: ValueWarning: An unsupported index was provided and will be ignored when e.g. forecasting.\n",
      "  ' ignored when e.g. forecasting.', ValueWarning)\n",
      "/home/evgenii/.local/lib/python3.6/site-packages/statsmodels/tsa/statespace/sarimax.py:1051: DeprecationWarning: The truth value of an empty array is ambiguous. Returning False, but in future this will result in an error. Use `array.size > 0` to check that an array is not empty.\n",
      "  if self.state_error and params_variance == []:\n"
     ]
    },
    {
     "name": "stdout",
     "output_type": "stream",
     "text": [
      "wrong parameters: (4, 4, 2, 0)\n"
     ]
    },
    {
     "name": "stderr",
     "output_type": "stream",
     "text": [
      "/home/evgenii/.local/lib/python3.6/site-packages/statsmodels/base/model.py:508: ConvergenceWarning: Maximum Likelihood optimization failed to converge. Check mle_retvals\n",
      "  \"Check mle_retvals\", ConvergenceWarning)\n",
      "/home/evgenii/.local/lib/python3.6/site-packages/statsmodels/tsa/base/tsa_model.py:531: ValueWarning: No supported index is available. Prediction results will be given with an integer index beginning at `start`.\n",
      "  ValueWarning)\n",
      "\n",
      "\n",
      "\n",
      "\n",
      " 75%|███████▍  | 224/300 [01:31<01:15,  1.01it/s]\u001b[A\u001b[A\u001b[A\u001b[A/home/evgenii/.local/lib/python3.6/site-packages/statsmodels/tsa/base/tsa_model.py:221: ValueWarning: An unsupported index was provided and will be ignored when e.g. forecasting.\n",
      "  ' ignored when e.g. forecasting.', ValueWarning)\n",
      "/home/evgenii/.local/lib/python3.6/site-packages/statsmodels/tsa/statespace/sarimax.py:1051: DeprecationWarning: The truth value of an empty array is ambiguous. Returning False, but in future this will result in an error. Use `array.size > 0` to check that an array is not empty.\n",
      "  if self.state_error and params_variance == []:\n"
     ]
    },
    {
     "name": "stdout",
     "output_type": "stream",
     "text": [
      "wrong parameters: (4, 4, 2, 1)\n",
      "wrong parameters: (4, 4, 2, 2)\n"
     ]
    },
    {
     "name": "stderr",
     "output_type": "stream",
     "text": [
      "/home/evgenii/.local/lib/python3.6/site-packages/statsmodels/base/model.py:508: ConvergenceWarning: Maximum Likelihood optimization failed to converge. Check mle_retvals\n",
      "  \"Check mle_retvals\", ConvergenceWarning)\n",
      "/home/evgenii/.local/lib/python3.6/site-packages/statsmodels/tsa/base/tsa_model.py:531: ValueWarning: No supported index is available. Prediction results will be given with an integer index beginning at `start`.\n",
      "  ValueWarning)\n",
      "\n",
      "\n",
      "\n",
      "\n",
      " 75%|███████▌  | 226/300 [01:36<01:47,  1.45s/it]\u001b[A\u001b[A\u001b[A\u001b[A/home/evgenii/.local/lib/python3.6/site-packages/statsmodels/tsa/base/tsa_model.py:221: ValueWarning: An unsupported index was provided and will be ignored when e.g. forecasting.\n",
      "  ' ignored when e.g. forecasting.', ValueWarning)\n",
      "/home/evgenii/.local/lib/python3.6/site-packages/statsmodels/tsa/statespace/sarimax.py:1051: DeprecationWarning: The truth value of an empty array is ambiguous. Returning False, but in future this will result in an error. Use `array.size > 0` to check that an array is not empty.\n",
      "  if self.state_error and params_variance == []:\n"
     ]
    },
    {
     "name": "stdout",
     "output_type": "stream",
     "text": [
      "wrong parameters: (4, 4, 3, 0)\n"
     ]
    },
    {
     "name": "stderr",
     "output_type": "stream",
     "text": [
      "/home/evgenii/.local/lib/python3.6/site-packages/statsmodels/base/model.py:508: ConvergenceWarning: Maximum Likelihood optimization failed to converge. Check mle_retvals\n",
      "  \"Check mle_retvals\", ConvergenceWarning)\n",
      "/home/evgenii/.local/lib/python3.6/site-packages/statsmodels/tsa/base/tsa_model.py:531: ValueWarning: No supported index is available. Prediction results will be given with an integer index beginning at `start`.\n",
      "  ValueWarning)\n",
      "/home/evgenii/.local/lib/python3.6/site-packages/statsmodels/tsa/base/tsa_model.py:221: ValueWarning: An unsupported index was provided and will be ignored when e.g. forecasting.\n",
      "  ' ignored when e.g. forecasting.', ValueWarning)\n",
      "\n",
      "\n",
      "\n",
      "\n",
      " 76%|███████▌  | 228/300 [01:41<02:07,  1.77s/it]\u001b[A\u001b[A\u001b[A\u001b[A/home/evgenii/.local/lib/python3.6/site-packages/statsmodels/tsa/statespace/sarimax.py:1051: DeprecationWarning: The truth value of an empty array is ambiguous. Returning False, but in future this will result in an error. Use `array.size > 0` to check that an array is not empty.\n",
      "  if self.state_error and params_variance == []:\n"
     ]
    },
    {
     "name": "stdout",
     "output_type": "stream",
     "text": [
      "wrong parameters: (4, 4, 3, 1)\n",
      "wrong parameters: (4, 4, 3, 2)\n",
      "wrong parameters: (4, 5, 0, 0)\n",
      "wrong parameters: (4, 5, 0, 1)\n",
      "wrong parameters: (4, 5, 0, 2)\n",
      "wrong parameters: (4, 5, 1, 0)\n",
      "wrong parameters: (4, 5, 1, 1)\n",
      "wrong parameters: (4, 5, 1, 2)\n",
      "wrong parameters: (4, 5, 2, 0)\n",
      "wrong parameters: (4, 5, 2, 1)\n",
      "wrong parameters: (4, 5, 2, 2)\n",
      "wrong parameters: (4, 5, 3, 0)\n",
      "wrong parameters: (4, 5, 3, 1)\n",
      "wrong parameters: (4, 5, 3, 2)\n"
     ]
    },
    {
     "name": "stderr",
     "output_type": "stream",
     "text": [
      "/home/evgenii/.local/lib/python3.6/site-packages/statsmodels/tsa/base/tsa_model.py:531: ValueWarning: No supported index is available. Prediction results will be given with an integer index beginning at `start`.\n",
      "  ValueWarning)\n",
      "\n",
      "\n",
      "\n",
      "\n",
      " 80%|████████  | 241/300 [01:41<01:13,  1.25s/it]\u001b[A\u001b[A\u001b[A\u001b[A/home/evgenii/.local/lib/python3.6/site-packages/statsmodels/tsa/base/tsa_model.py:221: ValueWarning: An unsupported index was provided and will be ignored when e.g. forecasting.\n",
      "  ' ignored when e.g. forecasting.', ValueWarning)\n",
      "/home/evgenii/.local/lib/python3.6/site-packages/statsmodels/tsa/statespace/sarimax.py:1051: DeprecationWarning: The truth value of an empty array is ambiguous. Returning False, but in future this will result in an error. Use `array.size > 0` to check that an array is not empty.\n",
      "  if self.state_error and params_variance == []:\n"
     ]
    },
    {
     "name": "stdout",
     "output_type": "stream",
     "text": [
      "wrong parameters: (5, 1, 0, 0)\n",
      "wrong parameters: (5, 1, 0, 1)\n",
      "wrong parameters: (5, 1, 0, 2)\n"
     ]
    },
    {
     "name": "stderr",
     "output_type": "stream",
     "text": [
      "/home/evgenii/.local/lib/python3.6/site-packages/statsmodels/tsa/base/tsa_model.py:531: ValueWarning: No supported index is available. Prediction results will be given with an integer index beginning at `start`.\n",
      "  ValueWarning)\n",
      "\n",
      "\n",
      "\n",
      "\n",
      " 81%|████████▏ | 244/300 [01:42<00:53,  1.04it/s]\u001b[A\u001b[A\u001b[A\u001b[A/home/evgenii/.local/lib/python3.6/site-packages/statsmodels/tsa/base/tsa_model.py:221: ValueWarning: An unsupported index was provided and will be ignored when e.g. forecasting.\n",
      "  ' ignored when e.g. forecasting.', ValueWarning)\n",
      "/home/evgenii/.local/lib/python3.6/site-packages/statsmodels/tsa/statespace/sarimax.py:1051: DeprecationWarning: The truth value of an empty array is ambiguous. Returning False, but in future this will result in an error. Use `array.size > 0` to check that an array is not empty.\n",
      "  if self.state_error and params_variance == []:\n"
     ]
    },
    {
     "name": "stdout",
     "output_type": "stream",
     "text": [
      "wrong parameters: (5, 1, 1, 0)\n"
     ]
    },
    {
     "name": "stderr",
     "output_type": "stream",
     "text": [
      "/home/evgenii/.local/lib/python3.6/site-packages/statsmodels/base/model.py:508: ConvergenceWarning: Maximum Likelihood optimization failed to converge. Check mle_retvals\n",
      "  \"Check mle_retvals\", ConvergenceWarning)\n",
      "/home/evgenii/.local/lib/python3.6/site-packages/statsmodels/tsa/base/tsa_model.py:531: ValueWarning: No supported index is available. Prediction results will be given with an integer index beginning at `start`.\n",
      "  ValueWarning)\n",
      "/home/evgenii/.local/lib/python3.6/site-packages/statsmodels/tsa/base/tsa_model.py:221: ValueWarning: An unsupported index was provided and will be ignored when e.g. forecasting.\n",
      "  ' ignored when e.g. forecasting.', ValueWarning)\n",
      "\n",
      "\n",
      "\n",
      "\n",
      " 82%|████████▏ | 246/300 [01:43<00:46,  1.16it/s]\u001b[A\u001b[A\u001b[A\u001b[A/home/evgenii/.local/lib/python3.6/site-packages/statsmodels/tsa/statespace/sarimax.py:1051: DeprecationWarning: The truth value of an empty array is ambiguous. Returning False, but in future this will result in an error. Use `array.size > 0` to check that an array is not empty.\n",
      "  if self.state_error and params_variance == []:\n"
     ]
    },
    {
     "name": "stdout",
     "output_type": "stream",
     "text": [
      "wrong parameters: (5, 1, 1, 1)\n",
      "wrong parameters: (5, 1, 1, 2)\n"
     ]
    },
    {
     "name": "stderr",
     "output_type": "stream",
     "text": [
      "/home/evgenii/.local/lib/python3.6/site-packages/statsmodels/tsa/base/tsa_model.py:531: ValueWarning: No supported index is available. Prediction results will be given with an integer index beginning at `start`.\n",
      "  ValueWarning)\n",
      "\n",
      "\n",
      "\n",
      "\n",
      " 82%|████████▏ | 247/300 [01:45<01:03,  1.19s/it]\u001b[A\u001b[A\u001b[A\u001b[A/home/evgenii/.local/lib/python3.6/site-packages/statsmodels/tsa/base/tsa_model.py:221: ValueWarning: An unsupported index was provided and will be ignored when e.g. forecasting.\n",
      "  ' ignored when e.g. forecasting.', ValueWarning)\n",
      "/home/evgenii/.local/lib/python3.6/site-packages/statsmodels/tsa/statespace/sarimax.py:1051: DeprecationWarning: The truth value of an empty array is ambiguous. Returning False, but in future this will result in an error. Use `array.size > 0` to check that an array is not empty.\n",
      "  if self.state_error and params_variance == []:\n"
     ]
    },
    {
     "name": "stdout",
     "output_type": "stream",
     "text": [
      "wrong parameters: (5, 1, 2, 0)\n"
     ]
    },
    {
     "name": "stderr",
     "output_type": "stream",
     "text": [
      "/home/evgenii/.local/lib/python3.6/site-packages/statsmodels/base/model.py:508: ConvergenceWarning: Maximum Likelihood optimization failed to converge. Check mle_retvals\n",
      "  \"Check mle_retvals\", ConvergenceWarning)\n",
      "/home/evgenii/.local/lib/python3.6/site-packages/statsmodels/tsa/base/tsa_model.py:531: ValueWarning: No supported index is available. Prediction results will be given with an integer index beginning at `start`.\n",
      "  ValueWarning)\n",
      "\n",
      "\n",
      "\n",
      "\n",
      " 83%|████████▎ | 248/300 [01:48<01:23,  1.61s/it]\u001b[A\u001b[A\u001b[A\u001b[A/home/evgenii/.local/lib/python3.6/site-packages/statsmodels/tsa/base/tsa_model.py:221: ValueWarning: An unsupported index was provided and will be ignored when e.g. forecasting.\n",
      "  ' ignored when e.g. forecasting.', ValueWarning)\n",
      "/home/evgenii/.local/lib/python3.6/site-packages/statsmodels/tsa/statespace/sarimax.py:1051: DeprecationWarning: The truth value of an empty array is ambiguous. Returning False, but in future this will result in an error. Use `array.size > 0` to check that an array is not empty.\n",
      "  if self.state_error and params_variance == []:\n"
     ]
    },
    {
     "name": "stdout",
     "output_type": "stream",
     "text": [
      "wrong parameters: (5, 1, 2, 1)\n",
      "wrong parameters: (5, 1, 2, 2)\n"
     ]
    },
    {
     "name": "stderr",
     "output_type": "stream",
     "text": [
      "/home/evgenii/.local/lib/python3.6/site-packages/statsmodels/tsa/base/tsa_model.py:531: ValueWarning: No supported index is available. Prediction results will be given with an integer index beginning at `start`.\n",
      "  ValueWarning)\n",
      "\n",
      "\n",
      "\n",
      "\n",
      " 83%|████████▎ | 250/300 [01:51<01:21,  1.62s/it]\u001b[A\u001b[A\u001b[A\u001b[A/home/evgenii/.local/lib/python3.6/site-packages/statsmodels/tsa/base/tsa_model.py:221: ValueWarning: An unsupported index was provided and will be ignored when e.g. forecasting.\n",
      "  ' ignored when e.g. forecasting.', ValueWarning)\n",
      "/home/evgenii/.local/lib/python3.6/site-packages/statsmodels/tsa/statespace/sarimax.py:1051: DeprecationWarning: The truth value of an empty array is ambiguous. Returning False, but in future this will result in an error. Use `array.size > 0` to check that an array is not empty.\n",
      "  if self.state_error and params_variance == []:\n"
     ]
    },
    {
     "name": "stdout",
     "output_type": "stream",
     "text": [
      "wrong parameters: (5, 1, 3, 0)\n"
     ]
    },
    {
     "name": "stderr",
     "output_type": "stream",
     "text": [
      "/home/evgenii/.local/lib/python3.6/site-packages/statsmodels/base/model.py:508: ConvergenceWarning: Maximum Likelihood optimization failed to converge. Check mle_retvals\n",
      "  \"Check mle_retvals\", ConvergenceWarning)\n",
      "/home/evgenii/.local/lib/python3.6/site-packages/statsmodels/tsa/base/tsa_model.py:531: ValueWarning: No supported index is available. Prediction results will be given with an integer index beginning at `start`.\n",
      "  ValueWarning)\n",
      "\n",
      "\n",
      "\n",
      "\n",
      " 84%|████████▎ | 251/300 [01:56<01:58,  2.42s/it]\u001b[A\u001b[A\u001b[A\u001b[A/home/evgenii/.local/lib/python3.6/site-packages/statsmodels/tsa/base/tsa_model.py:221: ValueWarning: An unsupported index was provided and will be ignored when e.g. forecasting.\n",
      "  ' ignored when e.g. forecasting.', ValueWarning)\n",
      "/home/evgenii/.local/lib/python3.6/site-packages/statsmodels/tsa/statespace/sarimax.py:1051: DeprecationWarning: The truth value of an empty array is ambiguous. Returning False, but in future this will result in an error. Use `array.size > 0` to check that an array is not empty.\n",
      "  if self.state_error and params_variance == []:\n"
     ]
    },
    {
     "name": "stdout",
     "output_type": "stream",
     "text": [
      "wrong parameters: (5, 1, 3, 1)\n",
      "wrong parameters: (5, 1, 3, 2)\n"
     ]
    },
    {
     "name": "stderr",
     "output_type": "stream",
     "text": [
      "/home/evgenii/.local/lib/python3.6/site-packages/statsmodels/tsa/base/tsa_model.py:531: ValueWarning: No supported index is available. Prediction results will be given with an integer index beginning at `start`.\n",
      "  ValueWarning)\n",
      "\n",
      "\n",
      "\n",
      "\n",
      " 84%|████████▍ | 253/300 [01:56<01:22,  1.76s/it]\u001b[A\u001b[A\u001b[A\u001b[A/home/evgenii/.local/lib/python3.6/site-packages/statsmodels/tsa/base/tsa_model.py:221: ValueWarning: An unsupported index was provided and will be ignored when e.g. forecasting.\n",
      "  ' ignored when e.g. forecasting.', ValueWarning)\n",
      "/home/evgenii/.local/lib/python3.6/site-packages/statsmodels/tsa/statespace/sarimax.py:1051: DeprecationWarning: The truth value of an empty array is ambiguous. Returning False, but in future this will result in an error. Use `array.size > 0` to check that an array is not empty.\n",
      "  if self.state_error and params_variance == []:\n"
     ]
    },
    {
     "name": "stdout",
     "output_type": "stream",
     "text": [
      "wrong parameters: (5, 2, 0, 0)\n",
      "wrong parameters: (5, 2, 0, 1)\n",
      "wrong parameters: (5, 2, 0, 2)\n"
     ]
    },
    {
     "name": "stderr",
     "output_type": "stream",
     "text": [
      "/home/evgenii/.local/lib/python3.6/site-packages/statsmodels/base/model.py:508: ConvergenceWarning: Maximum Likelihood optimization failed to converge. Check mle_retvals\n",
      "  \"Check mle_retvals\", ConvergenceWarning)\n",
      "/home/evgenii/.local/lib/python3.6/site-packages/statsmodels/tsa/base/tsa_model.py:531: ValueWarning: No supported index is available. Prediction results will be given with an integer index beginning at `start`.\n",
      "  ValueWarning)\n",
      "\n",
      "\n",
      "\n",
      "\n",
      " 85%|████████▌ | 256/300 [01:57<00:59,  1.36s/it]\u001b[A\u001b[A\u001b[A\u001b[A/home/evgenii/.local/lib/python3.6/site-packages/statsmodels/tsa/base/tsa_model.py:221: ValueWarning: An unsupported index was provided and will be ignored when e.g. forecasting.\n",
      "  ' ignored when e.g. forecasting.', ValueWarning)\n",
      "/home/evgenii/.local/lib/python3.6/site-packages/statsmodels/tsa/statespace/sarimax.py:1051: DeprecationWarning: The truth value of an empty array is ambiguous. Returning False, but in future this will result in an error. Use `array.size > 0` to check that an array is not empty.\n",
      "  if self.state_error and params_variance == []:\n"
     ]
    },
    {
     "name": "stdout",
     "output_type": "stream",
     "text": [
      "wrong parameters: (5, 2, 1, 0)\n"
     ]
    },
    {
     "name": "stderr",
     "output_type": "stream",
     "text": [
      "/home/evgenii/.local/lib/python3.6/site-packages/statsmodels/base/model.py:508: ConvergenceWarning: Maximum Likelihood optimization failed to converge. Check mle_retvals\n",
      "  \"Check mle_retvals\", ConvergenceWarning)\n",
      "/home/evgenii/.local/lib/python3.6/site-packages/statsmodels/tsa/base/tsa_model.py:531: ValueWarning: No supported index is available. Prediction results will be given with an integer index beginning at `start`.\n",
      "  ValueWarning)\n",
      "\n",
      "\n",
      "\n",
      "\n",
      " 86%|████████▌ | 257/300 [01:59<01:02,  1.44s/it]\u001b[A\u001b[A\u001b[A\u001b[A/home/evgenii/.local/lib/python3.6/site-packages/statsmodels/tsa/base/tsa_model.py:221: ValueWarning: An unsupported index was provided and will be ignored when e.g. forecasting.\n",
      "  ' ignored when e.g. forecasting.', ValueWarning)\n",
      "/home/evgenii/.local/lib/python3.6/site-packages/statsmodels/tsa/statespace/sarimax.py:1051: DeprecationWarning: The truth value of an empty array is ambiguous. Returning False, but in future this will result in an error. Use `array.size > 0` to check that an array is not empty.\n",
      "  if self.state_error and params_variance == []:\n"
     ]
    },
    {
     "name": "stdout",
     "output_type": "stream",
     "text": [
      "wrong parameters: (5, 2, 1, 1)\n",
      "wrong parameters: (5, 2, 1, 2)\n"
     ]
    },
    {
     "name": "stderr",
     "output_type": "stream",
     "text": [
      "/home/evgenii/.local/lib/python3.6/site-packages/statsmodels/base/model.py:508: ConvergenceWarning: Maximum Likelihood optimization failed to converge. Check mle_retvals\n",
      "  \"Check mle_retvals\", ConvergenceWarning)\n",
      "/home/evgenii/.local/lib/python3.6/site-packages/statsmodels/tsa/base/tsa_model.py:531: ValueWarning: No supported index is available. Prediction results will be given with an integer index beginning at `start`.\n",
      "  ValueWarning)\n",
      "\n",
      "\n",
      "\n",
      "\n",
      " 86%|████████▋ | 259/300 [02:02<00:58,  1.43s/it]\u001b[A\u001b[A\u001b[A\u001b[A/home/evgenii/.local/lib/python3.6/site-packages/statsmodels/tsa/base/tsa_model.py:221: ValueWarning: An unsupported index was provided and will be ignored when e.g. forecasting.\n",
      "  ' ignored when e.g. forecasting.', ValueWarning)\n",
      "/home/evgenii/.local/lib/python3.6/site-packages/statsmodels/tsa/statespace/sarimax.py:1051: DeprecationWarning: The truth value of an empty array is ambiguous. Returning False, but in future this will result in an error. Use `array.size > 0` to check that an array is not empty.\n",
      "  if self.state_error and params_variance == []:\n"
     ]
    },
    {
     "name": "stdout",
     "output_type": "stream",
     "text": [
      "wrong parameters: (5, 2, 2, 0)\n"
     ]
    },
    {
     "name": "stderr",
     "output_type": "stream",
     "text": [
      "/home/evgenii/.local/lib/python3.6/site-packages/statsmodels/base/model.py:508: ConvergenceWarning: Maximum Likelihood optimization failed to converge. Check mle_retvals\n",
      "  \"Check mle_retvals\", ConvergenceWarning)\n",
      "/home/evgenii/.local/lib/python3.6/site-packages/statsmodels/tsa/base/tsa_model.py:531: ValueWarning: No supported index is available. Prediction results will be given with an integer index beginning at `start`.\n",
      "  ValueWarning)\n",
      "\n",
      "\n",
      "\n",
      "\n",
      " 87%|████████▋ | 260/300 [02:05<01:13,  1.85s/it]\u001b[A\u001b[A\u001b[A\u001b[A/home/evgenii/.local/lib/python3.6/site-packages/statsmodels/tsa/base/tsa_model.py:221: ValueWarning: An unsupported index was provided and will be ignored when e.g. forecasting.\n",
      "  ' ignored when e.g. forecasting.', ValueWarning)\n",
      "/home/evgenii/.local/lib/python3.6/site-packages/statsmodels/tsa/statespace/sarimax.py:1051: DeprecationWarning: The truth value of an empty array is ambiguous. Returning False, but in future this will result in an error. Use `array.size > 0` to check that an array is not empty.\n",
      "  if self.state_error and params_variance == []:\n"
     ]
    },
    {
     "name": "stdout",
     "output_type": "stream",
     "text": [
      "wrong parameters: (5, 2, 2, 1)\n",
      "wrong parameters: (5, 2, 2, 2)\n"
     ]
    },
    {
     "name": "stderr",
     "output_type": "stream",
     "text": [
      "/home/evgenii/.local/lib/python3.6/site-packages/statsmodels/base/model.py:508: ConvergenceWarning: Maximum Likelihood optimization failed to converge. Check mle_retvals\n",
      "  \"Check mle_retvals\", ConvergenceWarning)\n",
      "/home/evgenii/.local/lib/python3.6/site-packages/statsmodels/tsa/base/tsa_model.py:531: ValueWarning: No supported index is available. Prediction results will be given with an integer index beginning at `start`.\n",
      "  ValueWarning)\n",
      "\n",
      "\n",
      "\n",
      "\n",
      " 87%|████████▋ | 262/300 [02:09<01:15,  1.99s/it]\u001b[A\u001b[A\u001b[A\u001b[A/home/evgenii/.local/lib/python3.6/site-packages/statsmodels/tsa/base/tsa_model.py:221: ValueWarning: An unsupported index was provided and will be ignored when e.g. forecasting.\n",
      "  ' ignored when e.g. forecasting.', ValueWarning)\n",
      "/home/evgenii/.local/lib/python3.6/site-packages/statsmodels/tsa/statespace/sarimax.py:1051: DeprecationWarning: The truth value of an empty array is ambiguous. Returning False, but in future this will result in an error. Use `array.size > 0` to check that an array is not empty.\n",
      "  if self.state_error and params_variance == []:\n"
     ]
    },
    {
     "name": "stdout",
     "output_type": "stream",
     "text": [
      "wrong parameters: (5, 2, 3, 0)\n"
     ]
    },
    {
     "name": "stderr",
     "output_type": "stream",
     "text": [
      "/home/evgenii/.local/lib/python3.6/site-packages/statsmodels/base/model.py:508: ConvergenceWarning: Maximum Likelihood optimization failed to converge. Check mle_retvals\n",
      "  \"Check mle_retvals\", ConvergenceWarning)\n",
      "/home/evgenii/.local/lib/python3.6/site-packages/statsmodels/tsa/base/tsa_model.py:531: ValueWarning: No supported index is available. Prediction results will be given with an integer index beginning at `start`.\n",
      "  ValueWarning)\n",
      "\n",
      "\n",
      "\n",
      "\n",
      " 88%|████████▊ | 263/300 [02:15<01:53,  3.07s/it]\u001b[A\u001b[A\u001b[A\u001b[A/home/evgenii/.local/lib/python3.6/site-packages/statsmodels/tsa/base/tsa_model.py:221: ValueWarning: An unsupported index was provided and will be ignored when e.g. forecasting.\n",
      "  ' ignored when e.g. forecasting.', ValueWarning)\n",
      "/home/evgenii/.local/lib/python3.6/site-packages/statsmodels/tsa/statespace/sarimax.py:1051: DeprecationWarning: The truth value of an empty array is ambiguous. Returning False, but in future this will result in an error. Use `array.size > 0` to check that an array is not empty.\n",
      "  if self.state_error and params_variance == []:\n"
     ]
    },
    {
     "name": "stdout",
     "output_type": "stream",
     "text": [
      "wrong parameters: (5, 2, 3, 1)\n",
      "wrong parameters: (5, 2, 3, 2)\n",
      "wrong parameters: (5, 3, 0, 0)\n",
      "wrong parameters: (5, 3, 0, 1)\n",
      "wrong parameters: (5, 3, 0, 2)\n",
      "wrong parameters: (5, 3, 1, 0)\n",
      "wrong parameters: (5, 3, 1, 1)\n",
      "wrong parameters: (5, 3, 1, 2)\n",
      "wrong parameters: (5, 3, 2, 0)\n",
      "wrong parameters: (5, 3, 2, 1)\n",
      "wrong parameters: (5, 3, 2, 2)\n",
      "wrong parameters: (5, 3, 3, 0)\n",
      "wrong parameters: (5, 3, 3, 1)\n",
      "wrong parameters: (5, 3, 3, 2)\n"
     ]
    },
    {
     "name": "stderr",
     "output_type": "stream",
     "text": [
      "/home/evgenii/.local/lib/python3.6/site-packages/statsmodels/base/model.py:508: ConvergenceWarning: Maximum Likelihood optimization failed to converge. Check mle_retvals\n",
      "  \"Check mle_retvals\", ConvergenceWarning)\n",
      "/home/evgenii/.local/lib/python3.6/site-packages/statsmodels/tsa/base/tsa_model.py:531: ValueWarning: No supported index is available. Prediction results will be given with an integer index beginning at `start`.\n",
      "  ValueWarning)\n",
      "\n",
      "\n",
      "\n",
      "\n",
      " 92%|█████████▏| 277/300 [02:15<00:49,  2.16s/it]\u001b[A\u001b[A\u001b[A\u001b[A/home/evgenii/.local/lib/python3.6/site-packages/statsmodels/tsa/base/tsa_model.py:221: ValueWarning: An unsupported index was provided and will be ignored when e.g. forecasting.\n",
      "  ' ignored when e.g. forecasting.', ValueWarning)\n",
      "/home/evgenii/.local/lib/python3.6/site-packages/statsmodels/tsa/statespace/sarimax.py:1051: DeprecationWarning: The truth value of an empty array is ambiguous. Returning False, but in future this will result in an error. Use `array.size > 0` to check that an array is not empty.\n",
      "  if self.state_error and params_variance == []:\n"
     ]
    },
    {
     "name": "stdout",
     "output_type": "stream",
     "text": [
      "wrong parameters: (5, 4, 0, 0)\n",
      "wrong parameters: (5, 4, 0, 1)\n",
      "wrong parameters: (5, 4, 0, 2)\n"
     ]
    },
    {
     "name": "stderr",
     "output_type": "stream",
     "text": [
      "/home/evgenii/.local/lib/python3.6/site-packages/statsmodels/base/model.py:508: ConvergenceWarning: Maximum Likelihood optimization failed to converge. Check mle_retvals\n",
      "  \"Check mle_retvals\", ConvergenceWarning)\n",
      "/home/evgenii/.local/lib/python3.6/site-packages/statsmodels/tsa/base/tsa_model.py:531: ValueWarning: No supported index is available. Prediction results will be given with an integer index beginning at `start`.\n",
      "  ValueWarning)\n",
      "\n",
      "\n",
      "\n",
      "\n",
      " 93%|█████████▎| 280/300 [02:17<00:33,  1.66s/it]\u001b[A\u001b[A\u001b[A\u001b[A/home/evgenii/.local/lib/python3.6/site-packages/statsmodels/tsa/base/tsa_model.py:221: ValueWarning: An unsupported index was provided and will be ignored when e.g. forecasting.\n",
      "  ' ignored when e.g. forecasting.', ValueWarning)\n",
      "/home/evgenii/.local/lib/python3.6/site-packages/statsmodels/tsa/statespace/sarimax.py:1051: DeprecationWarning: The truth value of an empty array is ambiguous. Returning False, but in future this will result in an error. Use `array.size > 0` to check that an array is not empty.\n",
      "  if self.state_error and params_variance == []:\n"
     ]
    },
    {
     "name": "stdout",
     "output_type": "stream",
     "text": [
      "wrong parameters: (5, 4, 1, 0)\n"
     ]
    },
    {
     "name": "stderr",
     "output_type": "stream",
     "text": [
      "/home/evgenii/.local/lib/python3.6/site-packages/statsmodels/base/model.py:508: ConvergenceWarning: Maximum Likelihood optimization failed to converge. Check mle_retvals\n",
      "  \"Check mle_retvals\", ConvergenceWarning)\n",
      "/home/evgenii/.local/lib/python3.6/site-packages/statsmodels/tsa/base/tsa_model.py:531: ValueWarning: No supported index is available. Prediction results will be given with an integer index beginning at `start`.\n",
      "  ValueWarning)\n",
      "\n",
      "\n",
      "\n",
      "\n",
      " 94%|█████████▎| 281/300 [02:19<00:31,  1.65s/it]\u001b[A\u001b[A\u001b[A\u001b[A/home/evgenii/.local/lib/python3.6/site-packages/statsmodels/tsa/base/tsa_model.py:221: ValueWarning: An unsupported index was provided and will be ignored when e.g. forecasting.\n",
      "  ' ignored when e.g. forecasting.', ValueWarning)\n",
      "/home/evgenii/.local/lib/python3.6/site-packages/statsmodels/tsa/statespace/sarimax.py:1051: DeprecationWarning: The truth value of an empty array is ambiguous. Returning False, but in future this will result in an error. Use `array.size > 0` to check that an array is not empty.\n",
      "  if self.state_error and params_variance == []:\n"
     ]
    },
    {
     "name": "stdout",
     "output_type": "stream",
     "text": [
      "wrong parameters: (5, 4, 1, 1)\n",
      "wrong parameters: (5, 4, 1, 2)\n"
     ]
    },
    {
     "name": "stderr",
     "output_type": "stream",
     "text": [
      "/home/evgenii/.local/lib/python3.6/site-packages/statsmodels/base/model.py:508: ConvergenceWarning: Maximum Likelihood optimization failed to converge. Check mle_retvals\n",
      "  \"Check mle_retvals\", ConvergenceWarning)\n",
      "/home/evgenii/.local/lib/python3.6/site-packages/statsmodels/tsa/base/tsa_model.py:531: ValueWarning: No supported index is available. Prediction results will be given with an integer index beginning at `start`.\n",
      "  ValueWarning)\n",
      "\n",
      "\n",
      "\n",
      "\n",
      " 94%|█████████▍| 283/300 [02:22<00:27,  1.61s/it]\u001b[A\u001b[A\u001b[A\u001b[A/home/evgenii/.local/lib/python3.6/site-packages/statsmodels/tsa/base/tsa_model.py:221: ValueWarning: An unsupported index was provided and will be ignored when e.g. forecasting.\n",
      "  ' ignored when e.g. forecasting.', ValueWarning)\n",
      "/home/evgenii/.local/lib/python3.6/site-packages/statsmodels/tsa/statespace/sarimax.py:1051: DeprecationWarning: The truth value of an empty array is ambiguous. Returning False, but in future this will result in an error. Use `array.size > 0` to check that an array is not empty.\n",
      "  if self.state_error and params_variance == []:\n"
     ]
    },
    {
     "name": "stdout",
     "output_type": "stream",
     "text": [
      "wrong parameters: (5, 4, 2, 0)\n"
     ]
    },
    {
     "name": "stderr",
     "output_type": "stream",
     "text": [
      "/home/evgenii/.local/lib/python3.6/site-packages/statsmodels/base/model.py:508: ConvergenceWarning: Maximum Likelihood optimization failed to converge. Check mle_retvals\n",
      "  \"Check mle_retvals\", ConvergenceWarning)\n",
      "/home/evgenii/.local/lib/python3.6/site-packages/statsmodels/tsa/base/tsa_model.py:531: ValueWarning: No supported index is available. Prediction results will be given with an integer index beginning at `start`.\n",
      "  ValueWarning)\n",
      "\n",
      "\n",
      "\n",
      "\n",
      " 95%|█████████▍| 284/300 [02:25<00:33,  2.12s/it]\u001b[A\u001b[A\u001b[A\u001b[A/home/evgenii/.local/lib/python3.6/site-packages/statsmodels/tsa/base/tsa_model.py:221: ValueWarning: An unsupported index was provided and will be ignored when e.g. forecasting.\n",
      "  ' ignored when e.g. forecasting.', ValueWarning)\n",
      "/home/evgenii/.local/lib/python3.6/site-packages/statsmodels/tsa/statespace/sarimax.py:1051: DeprecationWarning: The truth value of an empty array is ambiguous. Returning False, but in future this will result in an error. Use `array.size > 0` to check that an array is not empty.\n",
      "  if self.state_error and params_variance == []:\n"
     ]
    },
    {
     "name": "stdout",
     "output_type": "stream",
     "text": [
      "wrong parameters: (5, 4, 2, 1)\n",
      "wrong parameters: (5, 4, 2, 2)\n"
     ]
    },
    {
     "name": "stderr",
     "output_type": "stream",
     "text": [
      "/home/evgenii/.local/lib/python3.6/site-packages/statsmodels/base/model.py:508: ConvergenceWarning: Maximum Likelihood optimization failed to converge. Check mle_retvals\n",
      "  \"Check mle_retvals\", ConvergenceWarning)\n",
      "/home/evgenii/.local/lib/python3.6/site-packages/statsmodels/tsa/base/tsa_model.py:531: ValueWarning: No supported index is available. Prediction results will be given with an integer index beginning at `start`.\n",
      "  ValueWarning)\n",
      "\n",
      "\n",
      "\n",
      "\n",
      " 95%|█████████▌| 286/300 [02:30<00:32,  2.30s/it]\u001b[A\u001b[A\u001b[A\u001b[A/home/evgenii/.local/lib/python3.6/site-packages/statsmodels/tsa/base/tsa_model.py:221: ValueWarning: An unsupported index was provided and will be ignored when e.g. forecasting.\n",
      "  ' ignored when e.g. forecasting.', ValueWarning)\n",
      "/home/evgenii/.local/lib/python3.6/site-packages/statsmodels/tsa/statespace/sarimax.py:1051: DeprecationWarning: The truth value of an empty array is ambiguous. Returning False, but in future this will result in an error. Use `array.size > 0` to check that an array is not empty.\n",
      "  if self.state_error and params_variance == []:\n"
     ]
    },
    {
     "name": "stdout",
     "output_type": "stream",
     "text": [
      "wrong parameters: (5, 4, 3, 0)\n"
     ]
    },
    {
     "name": "stderr",
     "output_type": "stream",
     "text": [
      "/home/evgenii/.local/lib/python3.6/site-packages/statsmodels/base/model.py:508: ConvergenceWarning: Maximum Likelihood optimization failed to converge. Check mle_retvals\n",
      "  \"Check mle_retvals\", ConvergenceWarning)\n",
      "/home/evgenii/.local/lib/python3.6/site-packages/statsmodels/tsa/base/tsa_model.py:531: ValueWarning: No supported index is available. Prediction results will be given with an integer index beginning at `start`.\n",
      "  ValueWarning)\n",
      "\n",
      "\n",
      "\n",
      "\n",
      " 96%|█████████▌| 287/300 [02:36<00:45,  3.47s/it]\u001b[A\u001b[A\u001b[A\u001b[A/home/evgenii/.local/lib/python3.6/site-packages/statsmodels/tsa/base/tsa_model.py:221: ValueWarning: An unsupported index was provided and will be ignored when e.g. forecasting.\n",
      "  ' ignored when e.g. forecasting.', ValueWarning)\n",
      "\n",
      "\n",
      "\n",
      "\n",
      "100%|██████████| 300/300 [02:37<00:00,  1.91it/s]\u001b[A\u001b[A\u001b[A\u001b[A\n",
      "\n",
      "\n",
      "\n",
      "  0%|          | 0/300 [00:00<?, ?it/s]\u001b[A\u001b[A\u001b[A\u001b[A/home/evgenii/.local/lib/python3.6/site-packages/statsmodels/tsa/statespace/sarimax.py:1051: DeprecationWarning: The truth value of an empty array is ambiguous. Returning False, but in future this will result in an error. Use `array.size > 0` to check that an array is not empty.\n",
      "  if self.state_error and params_variance == []:\n",
      "/home/evgenii/.local/lib/python3.6/site-packages/statsmodels/tsa/base/tsa_model.py:531: ValueWarning: No supported index is available. Prediction results will be given with an integer index beginning at `start`.\n",
      "  ValueWarning)\n",
      "\n",
      "\n",
      "\n",
      "\n",
      "  0%|          | 1/300 [00:00<00:31,  9.51it/s]\u001b[A\u001b[A\u001b[A\u001b[A"
     ]
    },
    {
     "name": "stdout",
     "output_type": "stream",
     "text": [
      "wrong parameters: (5, 4, 3, 1)\n",
      "wrong parameters: (5, 4, 3, 2)\n",
      "wrong parameters: (5, 5, 0, 0)\n",
      "wrong parameters: (5, 5, 0, 1)\n",
      "wrong parameters: (5, 5, 0, 2)\n",
      "wrong parameters: (5, 5, 1, 0)\n",
      "wrong parameters: (5, 5, 1, 1)\n",
      "wrong parameters: (5, 5, 1, 2)\n",
      "wrong parameters: (5, 5, 2, 0)\n",
      "wrong parameters: (5, 5, 2, 1)\n",
      "wrong parameters: (5, 5, 2, 2)\n",
      "wrong parameters: (5, 5, 3, 0)\n",
      "wrong parameters: (5, 5, 3, 1)\n",
      "wrong parameters: (5, 5, 3, 2)\n",
      "wrong parameters: (1, 1, 0, 0)\n",
      "wrong parameters: (1, 1, 0, 1)\n",
      "wrong parameters: (1, 1, 0, 2)\n"
     ]
    },
    {
     "name": "stderr",
     "output_type": "stream",
     "text": [
      "/home/evgenii/.local/lib/python3.6/site-packages/statsmodels/tsa/base/tsa_model.py:221: ValueWarning: An unsupported index was provided and will be ignored when e.g. forecasting.\n",
      "  ' ignored when e.g. forecasting.', ValueWarning)\n",
      "/home/evgenii/.local/lib/python3.6/site-packages/statsmodels/tsa/statespace/sarimax.py:937: RuntimeWarning: Mean of empty slice.\n",
      "  params_variance = (residuals[k_params_ma:]**2).mean()\n",
      "/home/evgenii/.local/lib/python3.6/site-packages/numpy/core/_methods.py:85: RuntimeWarning: invalid value encountered in double_scalars\n",
      "  ret = ret.dtype.type(ret / rcount)\n",
      "/home/evgenii/.local/lib/python3.6/site-packages/statsmodels/tsa/statespace/sarimax.py:1051: DeprecationWarning: The truth value of an empty array is ambiguous. Returning False, but in future this will result in an error. Use `array.size > 0` to check that an array is not empty.\n",
      "  if self.state_error and params_variance == []:\n",
      "/home/evgenii/.local/lib/python3.6/site-packages/statsmodels/tsa/base/tsa_model.py:531: ValueWarning: No supported index is available. Prediction results will be given with an integer index beginning at `start`.\n",
      "  ValueWarning)\n",
      "\n",
      "\n",
      "\n",
      "\n",
      "  1%|▏         | 4/300 [00:00<00:30,  9.83it/s]\u001b[A\u001b[A\u001b[A\u001b[A/home/evgenii/.local/lib/python3.6/site-packages/statsmodels/tsa/base/tsa_model.py:221: ValueWarning: An unsupported index was provided and will be ignored when e.g. forecasting.\n",
      "  ' ignored when e.g. forecasting.', ValueWarning)\n",
      "/home/evgenii/.local/lib/python3.6/site-packages/statsmodels/tsa/statespace/sarimax.py:937: RuntimeWarning: Mean of empty slice.\n",
      "  params_variance = (residuals[k_params_ma:]**2).mean()\n",
      "/home/evgenii/.local/lib/python3.6/site-packages/numpy/core/_methods.py:85: RuntimeWarning: invalid value encountered in double_scalars\n",
      "  ret = ret.dtype.type(ret / rcount)\n",
      "/home/evgenii/.local/lib/python3.6/site-packages/statsmodels/tsa/statespace/sarimax.py:1051: DeprecationWarning: The truth value of an empty array is ambiguous. Returning False, but in future this will result in an error. Use `array.size > 0` to check that an array is not empty.\n",
      "  if self.state_error and params_variance == []:\n"
     ]
    },
    {
     "name": "stdout",
     "output_type": "stream",
     "text": [
      "wrong parameters: (1, 1, 1, 0)\n"
     ]
    },
    {
     "name": "stderr",
     "output_type": "stream",
     "text": [
      "/home/evgenii/.local/lib/python3.6/site-packages/statsmodels/tsa/base/tsa_model.py:531: ValueWarning: No supported index is available. Prediction results will be given with an integer index beginning at `start`.\n",
      "  ValueWarning)\n",
      "\n",
      "\n",
      "\n",
      "\n",
      "  2%|▏         | 5/300 [00:01<01:16,  3.87it/s]\u001b[A\u001b[A\u001b[A\u001b[A/home/evgenii/.local/lib/python3.6/site-packages/statsmodels/tsa/base/tsa_model.py:221: ValueWarning: An unsupported index was provided and will be ignored when e.g. forecasting.\n",
      "  ' ignored when e.g. forecasting.', ValueWarning)\n",
      "/home/evgenii/.local/lib/python3.6/site-packages/statsmodels/tsa/statespace/sarimax.py:1051: DeprecationWarning: The truth value of an empty array is ambiguous. Returning False, but in future this will result in an error. Use `array.size > 0` to check that an array is not empty.\n",
      "  if self.state_error and params_variance == []:\n"
     ]
    },
    {
     "name": "stdout",
     "output_type": "stream",
     "text": [
      "wrong parameters: (1, 1, 1, 1)\n",
      "wrong parameters: (1, 1, 1, 2)\n"
     ]
    },
    {
     "name": "stderr",
     "output_type": "stream",
     "text": [
      "/home/evgenii/.local/lib/python3.6/site-packages/statsmodels/tsa/base/tsa_model.py:531: ValueWarning: No supported index is available. Prediction results will be given with an integer index beginning at `start`.\n",
      "  ValueWarning)\n",
      "\n",
      "\n",
      "\n",
      "\n",
      "  2%|▏         | 7/300 [00:01<01:17,  3.78it/s]\u001b[A\u001b[A\u001b[A\u001b[A/home/evgenii/.local/lib/python3.6/site-packages/statsmodels/tsa/base/tsa_model.py:221: ValueWarning: An unsupported index was provided and will be ignored when e.g. forecasting.\n",
      "  ' ignored when e.g. forecasting.', ValueWarning)\n",
      "/home/evgenii/.local/lib/python3.6/site-packages/statsmodels/tsa/statespace/sarimax.py:937: RuntimeWarning: Mean of empty slice.\n",
      "  params_variance = (residuals[k_params_ma:]**2).mean()\n",
      "/home/evgenii/.local/lib/python3.6/site-packages/numpy/core/_methods.py:85: RuntimeWarning: invalid value encountered in double_scalars\n",
      "  ret = ret.dtype.type(ret / rcount)\n",
      "/home/evgenii/.local/lib/python3.6/site-packages/statsmodels/tsa/statespace/sarimax.py:1051: DeprecationWarning: The truth value of an empty array is ambiguous. Returning False, but in future this will result in an error. Use `array.size > 0` to check that an array is not empty.\n",
      "  if self.state_error and params_variance == []:\n"
     ]
    },
    {
     "name": "stdout",
     "output_type": "stream",
     "text": [
      "wrong parameters: (1, 1, 2, 0)\n"
     ]
    },
    {
     "name": "stderr",
     "output_type": "stream",
     "text": [
      "/home/evgenii/.local/lib/python3.6/site-packages/statsmodels/base/model.py:508: ConvergenceWarning: Maximum Likelihood optimization failed to converge. Check mle_retvals\n",
      "  \"Check mle_retvals\", ConvergenceWarning)\n",
      "/home/evgenii/.local/lib/python3.6/site-packages/statsmodels/tsa/base/tsa_model.py:531: ValueWarning: No supported index is available. Prediction results will be given with an integer index beginning at `start`.\n",
      "  ValueWarning)\n",
      "\n",
      "\n",
      "\n",
      "\n",
      "  3%|▎         | 8/300 [00:02<02:42,  1.80it/s]\u001b[A\u001b[A\u001b[A\u001b[A/home/evgenii/.local/lib/python3.6/site-packages/statsmodels/tsa/base/tsa_model.py:221: ValueWarning: An unsupported index was provided and will be ignored when e.g. forecasting.\n",
      "  ' ignored when e.g. forecasting.', ValueWarning)\n",
      "/home/evgenii/.local/lib/python3.6/site-packages/statsmodels/tsa/statespace/sarimax.py:1051: DeprecationWarning: The truth value of an empty array is ambiguous. Returning False, but in future this will result in an error. Use `array.size > 0` to check that an array is not empty.\n",
      "  if self.state_error and params_variance == []:\n"
     ]
    },
    {
     "name": "stdout",
     "output_type": "stream",
     "text": [
      "wrong parameters: (1, 1, 2, 1)\n",
      "wrong parameters: (1, 1, 2, 2)\n"
     ]
    },
    {
     "name": "stderr",
     "output_type": "stream",
     "text": [
      "/home/evgenii/.local/lib/python3.6/site-packages/statsmodels/base/model.py:508: ConvergenceWarning: Maximum Likelihood optimization failed to converge. Check mle_retvals\n",
      "  \"Check mle_retvals\", ConvergenceWarning)\n",
      "/home/evgenii/.local/lib/python3.6/site-packages/statsmodels/tsa/base/tsa_model.py:531: ValueWarning: No supported index is available. Prediction results will be given with an integer index beginning at `start`.\n",
      "  ValueWarning)\n",
      "\n",
      "\n",
      "\n",
      "\n",
      "  3%|▎         | 10/300 [00:04<03:20,  1.44it/s]\u001b[A\u001b[A\u001b[A\u001b[A/home/evgenii/.local/lib/python3.6/site-packages/statsmodels/tsa/base/tsa_model.py:221: ValueWarning: An unsupported index was provided and will be ignored when e.g. forecasting.\n",
      "  ' ignored when e.g. forecasting.', ValueWarning)\n",
      "/home/evgenii/.local/lib/python3.6/site-packages/statsmodels/tsa/statespace/sarimax.py:937: RuntimeWarning: Mean of empty slice.\n",
      "  params_variance = (residuals[k_params_ma:]**2).mean()\n",
      "/home/evgenii/.local/lib/python3.6/site-packages/numpy/core/_methods.py:85: RuntimeWarning: invalid value encountered in double_scalars\n",
      "  ret = ret.dtype.type(ret / rcount)\n",
      "/home/evgenii/.local/lib/python3.6/site-packages/statsmodels/tsa/statespace/sarimax.py:1051: DeprecationWarning: The truth value of an empty array is ambiguous. Returning False, but in future this will result in an error. Use `array.size > 0` to check that an array is not empty.\n",
      "  if self.state_error and params_variance == []:\n"
     ]
    },
    {
     "name": "stdout",
     "output_type": "stream",
     "text": [
      "wrong parameters: (1, 1, 3, 0)\n"
     ]
    },
    {
     "name": "stderr",
     "output_type": "stream",
     "text": [
      "/home/evgenii/.local/lib/python3.6/site-packages/statsmodels/base/model.py:508: ConvergenceWarning: Maximum Likelihood optimization failed to converge. Check mle_retvals\n",
      "  \"Check mle_retvals\", ConvergenceWarning)\n",
      "/home/evgenii/.local/lib/python3.6/site-packages/statsmodels/tsa/base/tsa_model.py:531: ValueWarning: No supported index is available. Prediction results will be given with an integer index beginning at `start`.\n",
      "  ValueWarning)\n",
      "\n",
      "\n",
      "\n",
      "\n",
      "  4%|▎         | 11/300 [00:07<05:59,  1.25s/it]\u001b[A\u001b[A\u001b[A\u001b[A"
     ]
    },
    {
     "name": "stdout",
     "output_type": "stream",
     "text": [
      "wrong parameters: (1, 1, 3, 1)\n",
      "wrong parameters: (1, 1, 3, 2)\n"
     ]
    },
    {
     "name": "stderr",
     "output_type": "stream",
     "text": [
      "/home/evgenii/.local/lib/python3.6/site-packages/statsmodels/tsa/base/tsa_model.py:221: ValueWarning: An unsupported index was provided and will be ignored when e.g. forecasting.\n",
      "  ' ignored when e.g. forecasting.', ValueWarning)\n",
      "/home/evgenii/.local/lib/python3.6/site-packages/statsmodels/tsa/statespace/sarimax.py:1051: DeprecationWarning: The truth value of an empty array is ambiguous. Returning False, but in future this will result in an error. Use `array.size > 0` to check that an array is not empty.\n",
      "  if self.state_error and params_variance == []:\n",
      "/home/evgenii/.local/lib/python3.6/site-packages/statsmodels/tsa/base/tsa_model.py:531: ValueWarning: No supported index is available. Prediction results will be given with an integer index beginning at `start`.\n",
      "  ValueWarning)\n",
      "\n",
      "\n",
      "\n",
      "\n",
      "  4%|▍         | 13/300 [00:07<04:19,  1.11it/s]\u001b[A\u001b[A\u001b[A\u001b[A/home/evgenii/.local/lib/python3.6/site-packages/statsmodels/tsa/base/tsa_model.py:221: ValueWarning: An unsupported index was provided and will be ignored when e.g. forecasting.\n",
      "  ' ignored when e.g. forecasting.', ValueWarning)\n",
      "/home/evgenii/.local/lib/python3.6/site-packages/statsmodels/tsa/statespace/sarimax.py:937: RuntimeWarning: Mean of empty slice.\n",
      "  params_variance = (residuals[k_params_ma:]**2).mean()\n",
      "/home/evgenii/.local/lib/python3.6/site-packages/numpy/core/_methods.py:85: RuntimeWarning: invalid value encountered in double_scalars\n",
      "  ret = ret.dtype.type(ret / rcount)\n",
      "/home/evgenii/.local/lib/python3.6/site-packages/statsmodels/tsa/statespace/sarimax.py:1051: DeprecationWarning: The truth value of an empty array is ambiguous. Returning False, but in future this will result in an error. Use `array.size > 0` to check that an array is not empty.\n",
      "  if self.state_error and params_variance == []:\n"
     ]
    },
    {
     "name": "stdout",
     "output_type": "stream",
     "text": [
      "wrong parameters: (1, 2, 0, 0)\n",
      "wrong parameters: (1, 2, 0, 1)\n",
      "wrong parameters: (1, 2, 0, 2)\n"
     ]
    },
    {
     "name": "stderr",
     "output_type": "stream",
     "text": [
      "/home/evgenii/.local/lib/python3.6/site-packages/statsmodels/tsa/base/tsa_model.py:531: ValueWarning: No supported index is available. Prediction results will be given with an integer index beginning at `start`.\n",
      "  ValueWarning)\n",
      "\n",
      "\n",
      "\n",
      "\n",
      "  5%|▌         | 16/300 [00:08<03:15,  1.45it/s]\u001b[A\u001b[A\u001b[A\u001b[A/home/evgenii/.local/lib/python3.6/site-packages/statsmodels/tsa/base/tsa_model.py:221: ValueWarning: An unsupported index was provided and will be ignored when e.g. forecasting.\n",
      "  ' ignored when e.g. forecasting.', ValueWarning)\n",
      "/home/evgenii/.local/lib/python3.6/site-packages/statsmodels/tsa/statespace/sarimax.py:937: RuntimeWarning: Mean of empty slice.\n",
      "  params_variance = (residuals[k_params_ma:]**2).mean()\n",
      "/home/evgenii/.local/lib/python3.6/site-packages/numpy/core/_methods.py:85: RuntimeWarning: invalid value encountered in double_scalars\n",
      "  ret = ret.dtype.type(ret / rcount)\n",
      "/home/evgenii/.local/lib/python3.6/site-packages/statsmodels/tsa/statespace/sarimax.py:1051: DeprecationWarning: The truth value of an empty array is ambiguous. Returning False, but in future this will result in an error. Use `array.size > 0` to check that an array is not empty.\n",
      "  if self.state_error and params_variance == []:\n"
     ]
    },
    {
     "name": "stdout",
     "output_type": "stream",
     "text": [
      "wrong parameters: (1, 2, 1, 0)\n"
     ]
    },
    {
     "name": "stderr",
     "output_type": "stream",
     "text": [
      "/home/evgenii/.local/lib/python3.6/site-packages/statsmodels/tsa/base/tsa_model.py:531: ValueWarning: No supported index is available. Prediction results will be given with an integer index beginning at `start`.\n",
      "  ValueWarning)\n",
      "\n",
      "\n",
      "\n",
      "\n",
      "  6%|▌         | 17/300 [00:08<03:23,  1.39it/s]\u001b[A\u001b[A\u001b[A\u001b[A/home/evgenii/.local/lib/python3.6/site-packages/statsmodels/tsa/base/tsa_model.py:221: ValueWarning: An unsupported index was provided and will be ignored when e.g. forecasting.\n",
      "  ' ignored when e.g. forecasting.', ValueWarning)\n",
      "/home/evgenii/.local/lib/python3.6/site-packages/statsmodels/tsa/statespace/sarimax.py:1051: DeprecationWarning: The truth value of an empty array is ambiguous. Returning False, but in future this will result in an error. Use `array.size > 0` to check that an array is not empty.\n",
      "  if self.state_error and params_variance == []:\n"
     ]
    },
    {
     "name": "stdout",
     "output_type": "stream",
     "text": [
      "wrong parameters: (1, 2, 1, 1)\n",
      "wrong parameters: (1, 2, 1, 2)\n"
     ]
    },
    {
     "name": "stderr",
     "output_type": "stream",
     "text": [
      "/home/evgenii/.local/lib/python3.6/site-packages/statsmodels/tsa/base/tsa_model.py:531: ValueWarning: No supported index is available. Prediction results will be given with an integer index beginning at `start`.\n",
      "  ValueWarning)\n",
      "\n",
      "\n",
      "\n",
      "\n",
      "  6%|▋         | 19/300 [00:09<02:52,  1.63it/s]\u001b[A\u001b[A\u001b[A\u001b[A/home/evgenii/.local/lib/python3.6/site-packages/statsmodels/tsa/base/tsa_model.py:221: ValueWarning: An unsupported index was provided and will be ignored when e.g. forecasting.\n",
      "  ' ignored when e.g. forecasting.', ValueWarning)\n",
      "/home/evgenii/.local/lib/python3.6/site-packages/statsmodels/tsa/statespace/sarimax.py:937: RuntimeWarning: Mean of empty slice.\n",
      "  params_variance = (residuals[k_params_ma:]**2).mean()\n",
      "/home/evgenii/.local/lib/python3.6/site-packages/numpy/core/_methods.py:85: RuntimeWarning: invalid value encountered in double_scalars\n",
      "  ret = ret.dtype.type(ret / rcount)\n",
      "/home/evgenii/.local/lib/python3.6/site-packages/statsmodels/tsa/statespace/sarimax.py:1051: DeprecationWarning: The truth value of an empty array is ambiguous. Returning False, but in future this will result in an error. Use `array.size > 0` to check that an array is not empty.\n",
      "  if self.state_error and params_variance == []:\n"
     ]
    },
    {
     "name": "stdout",
     "output_type": "stream",
     "text": [
      "wrong parameters: (1, 2, 2, 0)\n"
     ]
    },
    {
     "name": "stderr",
     "output_type": "stream",
     "text": [
      "/home/evgenii/.local/lib/python3.6/site-packages/statsmodels/base/model.py:508: ConvergenceWarning: Maximum Likelihood optimization failed to converge. Check mle_retvals\n",
      "  \"Check mle_retvals\", ConvergenceWarning)\n",
      "/home/evgenii/.local/lib/python3.6/site-packages/statsmodels/tsa/base/tsa_model.py:531: ValueWarning: No supported index is available. Prediction results will be given with an integer index beginning at `start`.\n",
      "  ValueWarning)\n",
      "\n",
      "\n",
      "\n",
      "\n",
      "  7%|▋         | 20/300 [00:11<04:00,  1.16it/s]\u001b[A\u001b[A\u001b[A\u001b[A/home/evgenii/.local/lib/python3.6/site-packages/statsmodels/tsa/base/tsa_model.py:221: ValueWarning: An unsupported index was provided and will be ignored when e.g. forecasting.\n",
      "  ' ignored when e.g. forecasting.', ValueWarning)\n",
      "/home/evgenii/.local/lib/python3.6/site-packages/statsmodels/tsa/statespace/sarimax.py:1051: DeprecationWarning: The truth value of an empty array is ambiguous. Returning False, but in future this will result in an error. Use `array.size > 0` to check that an array is not empty.\n",
      "  if self.state_error and params_variance == []:\n"
     ]
    },
    {
     "name": "stdout",
     "output_type": "stream",
     "text": [
      "wrong parameters: (1, 2, 2, 1)\n",
      "wrong parameters: (1, 2, 2, 2)\n"
     ]
    },
    {
     "name": "stderr",
     "output_type": "stream",
     "text": [
      "/home/evgenii/.local/lib/python3.6/site-packages/statsmodels/tsa/base/tsa_model.py:531: ValueWarning: No supported index is available. Prediction results will be given with an integer index beginning at `start`.\n",
      "  ValueWarning)\n",
      "\n",
      "\n",
      "\n",
      "\n",
      "  7%|▋         | 22/300 [00:12<03:39,  1.27it/s]\u001b[A\u001b[A\u001b[A\u001b[A/home/evgenii/.local/lib/python3.6/site-packages/statsmodels/tsa/base/tsa_model.py:221: ValueWarning: An unsupported index was provided and will be ignored when e.g. forecasting.\n",
      "  ' ignored when e.g. forecasting.', ValueWarning)\n",
      "/home/evgenii/.local/lib/python3.6/site-packages/statsmodels/tsa/statespace/sarimax.py:937: RuntimeWarning: Mean of empty slice.\n",
      "  params_variance = (residuals[k_params_ma:]**2).mean()\n",
      "/home/evgenii/.local/lib/python3.6/site-packages/numpy/core/_methods.py:85: RuntimeWarning: invalid value encountered in double_scalars\n",
      "  ret = ret.dtype.type(ret / rcount)\n",
      "/home/evgenii/.local/lib/python3.6/site-packages/statsmodels/tsa/statespace/sarimax.py:1051: DeprecationWarning: The truth value of an empty array is ambiguous. Returning False, but in future this will result in an error. Use `array.size > 0` to check that an array is not empty.\n",
      "  if self.state_error and params_variance == []:\n"
     ]
    },
    {
     "name": "stdout",
     "output_type": "stream",
     "text": [
      "wrong parameters: (1, 2, 3, 0)\n"
     ]
    },
    {
     "name": "stderr",
     "output_type": "stream",
     "text": [
      "/home/evgenii/.local/lib/python3.6/site-packages/statsmodels/tsa/base/tsa_model.py:531: ValueWarning: No supported index is available. Prediction results will be given with an integer index beginning at `start`.\n",
      "  ValueWarning)\n",
      "\n",
      "\n",
      "\n",
      "\n",
      "  8%|▊         | 23/300 [00:14<05:21,  1.16s/it]\u001b[A\u001b[A\u001b[A\u001b[A/home/evgenii/.local/lib/python3.6/site-packages/statsmodels/tsa/base/tsa_model.py:221: ValueWarning: An unsupported index was provided and will be ignored when e.g. forecasting.\n",
      "  ' ignored when e.g. forecasting.', ValueWarning)\n",
      "/home/evgenii/.local/lib/python3.6/site-packages/statsmodels/tsa/statespace/sarimax.py:1051: DeprecationWarning: The truth value of an empty array is ambiguous. Returning False, but in future this will result in an error. Use `array.size > 0` to check that an array is not empty.\n",
      "  if self.state_error and params_variance == []:\n"
     ]
    },
    {
     "name": "stdout",
     "output_type": "stream",
     "text": [
      "wrong parameters: (1, 2, 3, 1)\n",
      "wrong parameters: (1, 2, 3, 2)\n",
      "wrong parameters: (1, 3, 0, 0)\n",
      "wrong parameters: (1, 3, 0, 1)\n",
      "wrong parameters: (1, 3, 0, 2)\n",
      "wrong parameters: (1, 3, 1, 0)\n",
      "wrong parameters: (1, 3, 1, 1)\n",
      "wrong parameters: (1, 3, 1, 2)\n",
      "wrong parameters: (1, 3, 2, 0)\n",
      "wrong parameters: (1, 3, 2, 1)\n",
      "wrong parameters: (1, 3, 2, 2)\n",
      "wrong parameters: (1, 3, 3, 0)\n",
      "wrong parameters: (1, 3, 3, 1)\n",
      "wrong parameters: (1, 3, 3, 2)\n"
     ]
    },
    {
     "name": "stderr",
     "output_type": "stream",
     "text": [
      "/home/evgenii/.local/lib/python3.6/site-packages/statsmodels/base/model.py:508: ConvergenceWarning: Maximum Likelihood optimization failed to converge. Check mle_retvals\n",
      "  \"Check mle_retvals\", ConvergenceWarning)\n",
      "/home/evgenii/.local/lib/python3.6/site-packages/statsmodels/tsa/base/tsa_model.py:531: ValueWarning: No supported index is available. Prediction results will be given with an integer index beginning at `start`.\n",
      "  ValueWarning)\n",
      "\n",
      "\n",
      "\n",
      "\n",
      " 12%|█▏        | 37/300 [00:14<03:36,  1.22it/s]\u001b[A\u001b[A\u001b[A\u001b[A/home/evgenii/.local/lib/python3.6/site-packages/statsmodels/tsa/base/tsa_model.py:221: ValueWarning: An unsupported index was provided and will be ignored when e.g. forecasting.\n",
      "  ' ignored when e.g. forecasting.', ValueWarning)\n",
      "/home/evgenii/.local/lib/python3.6/site-packages/statsmodels/tsa/statespace/sarimax.py:937: RuntimeWarning: Mean of empty slice.\n",
      "  params_variance = (residuals[k_params_ma:]**2).mean()\n",
      "/home/evgenii/.local/lib/python3.6/site-packages/numpy/core/_methods.py:85: RuntimeWarning: invalid value encountered in double_scalars\n",
      "  ret = ret.dtype.type(ret / rcount)\n",
      "/home/evgenii/.local/lib/python3.6/site-packages/statsmodels/tsa/statespace/sarimax.py:1051: DeprecationWarning: The truth value of an empty array is ambiguous. Returning False, but in future this will result in an error. Use `array.size > 0` to check that an array is not empty.\n",
      "  if self.state_error and params_variance == []:\n"
     ]
    },
    {
     "name": "stdout",
     "output_type": "stream",
     "text": [
      "wrong parameters: (1, 4, 0, 0)\n",
      "wrong parameters: (1, 4, 0, 1)\n",
      "wrong parameters: (1, 4, 0, 2)\n"
     ]
    },
    {
     "name": "stderr",
     "output_type": "stream",
     "text": [
      "/home/evgenii/.local/lib/python3.6/site-packages/statsmodels/base/model.py:508: ConvergenceWarning: Maximum Likelihood optimization failed to converge. Check mle_retvals\n",
      "  \"Check mle_retvals\", ConvergenceWarning)\n",
      "/home/evgenii/.local/lib/python3.6/site-packages/statsmodels/tsa/base/tsa_model.py:531: ValueWarning: No supported index is available. Prediction results will be given with an integer index beginning at `start`.\n",
      "  ValueWarning)\n",
      "\n",
      "\n",
      "\n",
      "\n",
      " 13%|█▎        | 40/300 [00:15<02:51,  1.51it/s]\u001b[A\u001b[A\u001b[A\u001b[A/home/evgenii/.local/lib/python3.6/site-packages/statsmodels/tsa/base/tsa_model.py:221: ValueWarning: An unsupported index was provided and will be ignored when e.g. forecasting.\n",
      "  ' ignored when e.g. forecasting.', ValueWarning)\n",
      "/home/evgenii/.local/lib/python3.6/site-packages/statsmodels/tsa/statespace/sarimax.py:937: RuntimeWarning: Mean of empty slice.\n",
      "  params_variance = (residuals[k_params_ma:]**2).mean()\n",
      "/home/evgenii/.local/lib/python3.6/site-packages/numpy/core/_methods.py:85: RuntimeWarning: invalid value encountered in double_scalars\n",
      "  ret = ret.dtype.type(ret / rcount)\n",
      "/home/evgenii/.local/lib/python3.6/site-packages/statsmodels/tsa/statespace/sarimax.py:1051: DeprecationWarning: The truth value of an empty array is ambiguous. Returning False, but in future this will result in an error. Use `array.size > 0` to check that an array is not empty.\n",
      "  if self.state_error and params_variance == []:\n"
     ]
    },
    {
     "name": "stdout",
     "output_type": "stream",
     "text": [
      "wrong parameters: (1, 4, 1, 0)\n"
     ]
    },
    {
     "name": "stderr",
     "output_type": "stream",
     "text": [
      "/home/evgenii/.local/lib/python3.6/site-packages/statsmodels/base/model.py:508: ConvergenceWarning: Maximum Likelihood optimization failed to converge. Check mle_retvals\n",
      "  \"Check mle_retvals\", ConvergenceWarning)\n",
      "/home/evgenii/.local/lib/python3.6/site-packages/statsmodels/tsa/base/tsa_model.py:531: ValueWarning: No supported index is available. Prediction results will be given with an integer index beginning at `start`.\n",
      "  ValueWarning)\n",
      "\n",
      "\n",
      "\n",
      "\n",
      " 14%|█▎        | 41/300 [00:17<03:39,  1.18it/s]\u001b[A\u001b[A\u001b[A\u001b[A/home/evgenii/.local/lib/python3.6/site-packages/statsmodels/tsa/base/tsa_model.py:221: ValueWarning: An unsupported index was provided and will be ignored when e.g. forecasting.\n",
      "  ' ignored when e.g. forecasting.', ValueWarning)\n",
      "/home/evgenii/.local/lib/python3.6/site-packages/statsmodels/tsa/statespace/sarimax.py:1051: DeprecationWarning: The truth value of an empty array is ambiguous. Returning False, but in future this will result in an error. Use `array.size > 0` to check that an array is not empty.\n",
      "  if self.state_error and params_variance == []:\n"
     ]
    },
    {
     "name": "stdout",
     "output_type": "stream",
     "text": [
      "wrong parameters: (1, 4, 1, 1)\n",
      "wrong parameters: (1, 4, 1, 2)\n"
     ]
    },
    {
     "name": "stderr",
     "output_type": "stream",
     "text": [
      "/home/evgenii/.local/lib/python3.6/site-packages/statsmodels/base/model.py:508: ConvergenceWarning: Maximum Likelihood optimization failed to converge. Check mle_retvals\n",
      "  \"Check mle_retvals\", ConvergenceWarning)\n",
      "/home/evgenii/.local/lib/python3.6/site-packages/statsmodels/tsa/base/tsa_model.py:531: ValueWarning: No supported index is available. Prediction results will be given with an integer index beginning at `start`.\n",
      "  ValueWarning)\n",
      "\n",
      "\n",
      "\n",
      "\n",
      " 14%|█▍        | 43/300 [00:18<03:33,  1.20it/s]\u001b[A\u001b[A\u001b[A\u001b[A/home/evgenii/.local/lib/python3.6/site-packages/statsmodels/tsa/base/tsa_model.py:221: ValueWarning: An unsupported index was provided and will be ignored when e.g. forecasting.\n",
      "  ' ignored when e.g. forecasting.', ValueWarning)\n",
      "/home/evgenii/.local/lib/python3.6/site-packages/statsmodels/tsa/statespace/sarimax.py:937: RuntimeWarning: Mean of empty slice.\n",
      "  params_variance = (residuals[k_params_ma:]**2).mean()\n",
      "/home/evgenii/.local/lib/python3.6/site-packages/numpy/core/_methods.py:85: RuntimeWarning: invalid value encountered in double_scalars\n",
      "  ret = ret.dtype.type(ret / rcount)\n",
      "/home/evgenii/.local/lib/python3.6/site-packages/statsmodels/tsa/statespace/sarimax.py:1051: DeprecationWarning: The truth value of an empty array is ambiguous. Returning False, but in future this will result in an error. Use `array.size > 0` to check that an array is not empty.\n",
      "  if self.state_error and params_variance == []:\n"
     ]
    },
    {
     "name": "stdout",
     "output_type": "stream",
     "text": [
      "wrong parameters: (1, 4, 2, 0)\n"
     ]
    },
    {
     "name": "stderr",
     "output_type": "stream",
     "text": [
      "/home/evgenii/.local/lib/python3.6/site-packages/statsmodels/base/model.py:508: ConvergenceWarning: Maximum Likelihood optimization failed to converge. Check mle_retvals\n",
      "  \"Check mle_retvals\", ConvergenceWarning)\n",
      "/home/evgenii/.local/lib/python3.6/site-packages/statsmodels/tsa/base/tsa_model.py:531: ValueWarning: No supported index is available. Prediction results will be given with an integer index beginning at `start`.\n",
      "  ValueWarning)\n",
      "\n",
      "\n",
      "\n",
      "\n",
      " 15%|█▍        | 44/300 [00:20<04:43,  1.11s/it]\u001b[A\u001b[A\u001b[A\u001b[A/home/evgenii/.local/lib/python3.6/site-packages/statsmodels/tsa/base/tsa_model.py:221: ValueWarning: An unsupported index was provided and will be ignored when e.g. forecasting.\n",
      "  ' ignored when e.g. forecasting.', ValueWarning)\n",
      "/home/evgenii/.local/lib/python3.6/site-packages/statsmodels/tsa/statespace/sarimax.py:1051: DeprecationWarning: The truth value of an empty array is ambiguous. Returning False, but in future this will result in an error. Use `array.size > 0` to check that an array is not empty.\n",
      "  if self.state_error and params_variance == []:\n"
     ]
    },
    {
     "name": "stdout",
     "output_type": "stream",
     "text": [
      "wrong parameters: (1, 4, 2, 1)\n",
      "wrong parameters: (1, 4, 2, 2)\n"
     ]
    },
    {
     "name": "stderr",
     "output_type": "stream",
     "text": [
      "/home/evgenii/.local/lib/python3.6/site-packages/statsmodels/base/model.py:508: ConvergenceWarning: Maximum Likelihood optimization failed to converge. Check mle_retvals\n",
      "  \"Check mle_retvals\", ConvergenceWarning)\n",
      "/home/evgenii/.local/lib/python3.6/site-packages/statsmodels/tsa/base/tsa_model.py:531: ValueWarning: No supported index is available. Prediction results will be given with an integer index beginning at `start`.\n",
      "  ValueWarning)\n",
      "\n",
      "\n",
      "\n",
      "\n",
      " 15%|█▌        | 46/300 [00:23<05:00,  1.18s/it]\u001b[A\u001b[A\u001b[A\u001b[A/home/evgenii/.local/lib/python3.6/site-packages/statsmodels/tsa/base/tsa_model.py:221: ValueWarning: An unsupported index was provided and will be ignored when e.g. forecasting.\n",
      "  ' ignored when e.g. forecasting.', ValueWarning)\n",
      "/home/evgenii/.local/lib/python3.6/site-packages/statsmodels/tsa/statespace/sarimax.py:937: RuntimeWarning: Mean of empty slice.\n",
      "  params_variance = (residuals[k_params_ma:]**2).mean()\n",
      "/home/evgenii/.local/lib/python3.6/site-packages/numpy/core/_methods.py:85: RuntimeWarning: invalid value encountered in double_scalars\n",
      "  ret = ret.dtype.type(ret / rcount)\n",
      "/home/evgenii/.local/lib/python3.6/site-packages/statsmodels/tsa/statespace/sarimax.py:1051: DeprecationWarning: The truth value of an empty array is ambiguous. Returning False, but in future this will result in an error. Use `array.size > 0` to check that an array is not empty.\n",
      "  if self.state_error and params_variance == []:\n"
     ]
    },
    {
     "name": "stdout",
     "output_type": "stream",
     "text": [
      "wrong parameters: (1, 4, 3, 0)\n"
     ]
    },
    {
     "name": "stderr",
     "output_type": "stream",
     "text": [
      "/home/evgenii/.local/lib/python3.6/site-packages/statsmodels/base/model.py:508: ConvergenceWarning: Maximum Likelihood optimization failed to converge. Check mle_retvals\n",
      "  \"Check mle_retvals\", ConvergenceWarning)\n",
      "/home/evgenii/.local/lib/python3.6/site-packages/statsmodels/tsa/base/tsa_model.py:531: ValueWarning: No supported index is available. Prediction results will be given with an integer index beginning at `start`.\n",
      "  ValueWarning)\n",
      "\n",
      "\n",
      "\n",
      "\n",
      " 16%|█▌        | 47/300 [00:25<07:02,  1.67s/it]\u001b[A\u001b[A\u001b[A\u001b[A/home/evgenii/.local/lib/python3.6/site-packages/statsmodels/tsa/base/tsa_model.py:221: ValueWarning: An unsupported index was provided and will be ignored when e.g. forecasting.\n",
      "  ' ignored when e.g. forecasting.', ValueWarning)\n",
      "/home/evgenii/.local/lib/python3.6/site-packages/statsmodels/tsa/statespace/sarimax.py:1051: DeprecationWarning: The truth value of an empty array is ambiguous. Returning False, but in future this will result in an error. Use `array.size > 0` to check that an array is not empty.\n",
      "  if self.state_error and params_variance == []:\n",
      "/home/evgenii/.local/lib/python3.6/site-packages/statsmodels/tsa/base/tsa_model.py:531: ValueWarning: No supported index is available. Prediction results will be given with an integer index beginning at `start`.\n",
      "  ValueWarning)\n",
      "\n",
      "\n",
      "\n",
      "\n",
      " 20%|██        | 61/300 [00:26<04:40,  1.17s/it]\u001b[A\u001b[A\u001b[A\u001b[A"
     ]
    },
    {
     "name": "stdout",
     "output_type": "stream",
     "text": [
      "wrong parameters: (1, 4, 3, 1)\n",
      "wrong parameters: (1, 4, 3, 2)\n",
      "wrong parameters: (1, 5, 0, 0)\n",
      "wrong parameters: (1, 5, 0, 1)\n",
      "wrong parameters: (1, 5, 0, 2)\n",
      "wrong parameters: (1, 5, 1, 0)\n",
      "wrong parameters: (1, 5, 1, 1)\n",
      "wrong parameters: (1, 5, 1, 2)\n",
      "wrong parameters: (1, 5, 2, 0)\n",
      "wrong parameters: (1, 5, 2, 1)\n",
      "wrong parameters: (1, 5, 2, 2)\n",
      "wrong parameters: (1, 5, 3, 0)\n",
      "wrong parameters: (1, 5, 3, 1)\n",
      "wrong parameters: (1, 5, 3, 2)\n",
      "wrong parameters: (2, 1, 0, 0)\n"
     ]
    },
    {
     "name": "stderr",
     "output_type": "stream",
     "text": [
      "/home/evgenii/.local/lib/python3.6/site-packages/statsmodels/tsa/base/tsa_model.py:221: ValueWarning: An unsupported index was provided and will be ignored when e.g. forecasting.\n",
      "  ' ignored when e.g. forecasting.', ValueWarning)\n",
      "/home/evgenii/.local/lib/python3.6/site-packages/statsmodels/tsa/statespace/sarimax.py:937: RuntimeWarning: Mean of empty slice.\n",
      "  params_variance = (residuals[k_params_ma:]**2).mean()\n",
      "/home/evgenii/.local/lib/python3.6/site-packages/numpy/core/_methods.py:85: RuntimeWarning: invalid value encountered in double_scalars\n",
      "  ret = ret.dtype.type(ret / rcount)\n",
      "/home/evgenii/.local/lib/python3.6/site-packages/statsmodels/tsa/statespace/sarimax.py:1051: DeprecationWarning: The truth value of an empty array is ambiguous. Returning False, but in future this will result in an error. Use `array.size > 0` to check that an array is not empty.\n",
      "  if self.state_error and params_variance == []:\n"
     ]
    },
    {
     "name": "stdout",
     "output_type": "stream",
     "text": [
      "wrong parameters: (2, 1, 0, 1)\n",
      "wrong parameters: (2, 1, 0, 2)\n"
     ]
    },
    {
     "name": "stderr",
     "output_type": "stream",
     "text": [
      "/home/evgenii/.local/lib/python3.6/site-packages/statsmodels/tsa/base/tsa_model.py:531: ValueWarning: No supported index is available. Prediction results will be given with an integer index beginning at `start`.\n",
      "  ValueWarning)\n",
      "\n",
      "\n",
      "\n",
      "\n",
      " 21%|██▏       | 64/300 [00:26<03:24,  1.15it/s]\u001b[A\u001b[A\u001b[A\u001b[A/home/evgenii/.local/lib/python3.6/site-packages/statsmodels/tsa/base/tsa_model.py:221: ValueWarning: An unsupported index was provided and will be ignored when e.g. forecasting.\n",
      "  ' ignored when e.g. forecasting.', ValueWarning)\n",
      "/home/evgenii/.local/lib/python3.6/site-packages/statsmodels/tsa/statespace/sarimax.py:937: RuntimeWarning: Mean of empty slice.\n",
      "  params_variance = (residuals[k_params_ma:]**2).mean()\n",
      "/home/evgenii/.local/lib/python3.6/site-packages/numpy/core/_methods.py:85: RuntimeWarning: invalid value encountered in double_scalars\n",
      "  ret = ret.dtype.type(ret / rcount)\n",
      "/home/evgenii/.local/lib/python3.6/site-packages/statsmodels/tsa/statespace/sarimax.py:1051: DeprecationWarning: The truth value of an empty array is ambiguous. Returning False, but in future this will result in an error. Use `array.size > 0` to check that an array is not empty.\n",
      "  if self.state_error and params_variance == []:\n"
     ]
    },
    {
     "name": "stdout",
     "output_type": "stream",
     "text": [
      "wrong parameters: (2, 1, 1, 0)\n"
     ]
    },
    {
     "name": "stderr",
     "output_type": "stream",
     "text": [
      "/home/evgenii/.local/lib/python3.6/site-packages/statsmodels/base/model.py:508: ConvergenceWarning: Maximum Likelihood optimization failed to converge. Check mle_retvals\n",
      "  \"Check mle_retvals\", ConvergenceWarning)\n",
      "/home/evgenii/.local/lib/python3.6/site-packages/statsmodels/tsa/base/tsa_model.py:531: ValueWarning: No supported index is available. Prediction results will be given with an integer index beginning at `start`.\n",
      "  ValueWarning)\n",
      "/home/evgenii/.local/lib/python3.6/site-packages/statsmodels/tsa/base/tsa_model.py:221: ValueWarning: An unsupported index was provided and will be ignored when e.g. forecasting.\n",
      "  ' ignored when e.g. forecasting.', ValueWarning)\n",
      "\n",
      "\n",
      "\n",
      "\n",
      " 22%|██▏       | 66/300 [00:27<02:50,  1.37it/s]\u001b[A\u001b[A\u001b[A\u001b[A/home/evgenii/.local/lib/python3.6/site-packages/statsmodels/tsa/statespace/sarimax.py:1051: DeprecationWarning: The truth value of an empty array is ambiguous. Returning False, but in future this will result in an error. Use `array.size > 0` to check that an array is not empty.\n",
      "  if self.state_error and params_variance == []:\n"
     ]
    },
    {
     "name": "stdout",
     "output_type": "stream",
     "text": [
      "wrong parameters: (2, 1, 1, 1)\n",
      "wrong parameters: (2, 1, 1, 2)\n"
     ]
    },
    {
     "name": "stderr",
     "output_type": "stream",
     "text": [
      "/home/evgenii/.local/lib/python3.6/site-packages/statsmodels/tsa/base/tsa_model.py:531: ValueWarning: No supported index is available. Prediction results will be given with an integer index beginning at `start`.\n",
      "  ValueWarning)\n",
      "/home/evgenii/.local/lib/python3.6/site-packages/statsmodels/tsa/base/tsa_model.py:221: ValueWarning: An unsupported index was provided and will be ignored when e.g. forecasting.\n",
      "  ' ignored when e.g. forecasting.', ValueWarning)\n",
      "/home/evgenii/.local/lib/python3.6/site-packages/statsmodels/tsa/statespace/sarimax.py:937: RuntimeWarning: Mean of empty slice.\n",
      "  params_variance = (residuals[k_params_ma:]**2).mean()\n",
      "/home/evgenii/.local/lib/python3.6/site-packages/numpy/core/_methods.py:85: RuntimeWarning: invalid value encountered in double_scalars\n",
      "  ret = ret.dtype.type(ret / rcount)\n",
      "/home/evgenii/.local/lib/python3.6/site-packages/statsmodels/tsa/statespace/sarimax.py:1051: DeprecationWarning: The truth value of an empty array is ambiguous. Returning False, but in future this will result in an error. Use `array.size > 0` to check that an array is not empty.\n",
      "  if self.state_error and params_variance == []:\n"
     ]
    },
    {
     "name": "stdout",
     "output_type": "stream",
     "text": [
      "wrong parameters: (2, 1, 2, 0)\n"
     ]
    },
    {
     "name": "stderr",
     "output_type": "stream",
     "text": [
      "/home/evgenii/.local/lib/python3.6/site-packages/statsmodels/base/model.py:508: ConvergenceWarning: Maximum Likelihood optimization failed to converge. Check mle_retvals\n",
      "  \"Check mle_retvals\", ConvergenceWarning)\n",
      "/home/evgenii/.local/lib/python3.6/site-packages/statsmodels/tsa/base/tsa_model.py:531: ValueWarning: No supported index is available. Prediction results will be given with an integer index beginning at `start`.\n",
      "  ValueWarning)\n",
      "\n",
      "\n",
      "\n",
      "\n",
      " 23%|██▎       | 68/300 [00:29<03:07,  1.24it/s]\u001b[A\u001b[A\u001b[A\u001b[A/home/evgenii/.local/lib/python3.6/site-packages/statsmodels/tsa/base/tsa_model.py:221: ValueWarning: An unsupported index was provided and will be ignored when e.g. forecasting.\n",
      "  ' ignored when e.g. forecasting.', ValueWarning)\n",
      "/home/evgenii/.local/lib/python3.6/site-packages/statsmodels/tsa/statespace/sarimax.py:1051: DeprecationWarning: The truth value of an empty array is ambiguous. Returning False, but in future this will result in an error. Use `array.size > 0` to check that an array is not empty.\n",
      "  if self.state_error and params_variance == []:\n"
     ]
    },
    {
     "name": "stdout",
     "output_type": "stream",
     "text": [
      "wrong parameters: (2, 1, 2, 1)\n",
      "wrong parameters: (2, 1, 2, 2)\n"
     ]
    },
    {
     "name": "stderr",
     "output_type": "stream",
     "text": [
      "/home/evgenii/.local/lib/python3.6/site-packages/statsmodels/base/model.py:508: ConvergenceWarning: Maximum Likelihood optimization failed to converge. Check mle_retvals\n",
      "  \"Check mle_retvals\", ConvergenceWarning)\n",
      "/home/evgenii/.local/lib/python3.6/site-packages/statsmodels/tsa/base/tsa_model.py:531: ValueWarning: No supported index is available. Prediction results will be given with an integer index beginning at `start`.\n",
      "  ValueWarning)\n",
      "\n",
      "\n",
      "\n",
      "\n",
      " 23%|██▎       | 70/300 [00:32<03:47,  1.01it/s]\u001b[A\u001b[A\u001b[A\u001b[A/home/evgenii/.local/lib/python3.6/site-packages/statsmodels/tsa/base/tsa_model.py:221: ValueWarning: An unsupported index was provided and will be ignored when e.g. forecasting.\n",
      "  ' ignored when e.g. forecasting.', ValueWarning)\n",
      "/home/evgenii/.local/lib/python3.6/site-packages/statsmodels/tsa/statespace/sarimax.py:937: RuntimeWarning: Mean of empty slice.\n",
      "  params_variance = (residuals[k_params_ma:]**2).mean()\n",
      "/home/evgenii/.local/lib/python3.6/site-packages/numpy/core/_methods.py:85: RuntimeWarning: invalid value encountered in double_scalars\n",
      "  ret = ret.dtype.type(ret / rcount)\n",
      "/home/evgenii/.local/lib/python3.6/site-packages/statsmodels/tsa/statespace/sarimax.py:1051: DeprecationWarning: The truth value of an empty array is ambiguous. Returning False, but in future this will result in an error. Use `array.size > 0` to check that an array is not empty.\n",
      "  if self.state_error and params_variance == []:\n"
     ]
    },
    {
     "name": "stdout",
     "output_type": "stream",
     "text": [
      "wrong parameters: (2, 1, 3, 0)\n"
     ]
    },
    {
     "name": "stderr",
     "output_type": "stream",
     "text": [
      "/home/evgenii/.local/lib/python3.6/site-packages/statsmodels/base/model.py:508: ConvergenceWarning: Maximum Likelihood optimization failed to converge. Check mle_retvals\n",
      "  \"Check mle_retvals\", ConvergenceWarning)\n",
      "/home/evgenii/.local/lib/python3.6/site-packages/statsmodels/tsa/base/tsa_model.py:531: ValueWarning: No supported index is available. Prediction results will be given with an integer index beginning at `start`.\n",
      "  ValueWarning)\n",
      "\n",
      "\n",
      "\n",
      "\n",
      " 24%|██▎       | 71/300 [00:35<05:55,  1.55s/it]\u001b[A\u001b[A\u001b[A\u001b[A/home/evgenii/.local/lib/python3.6/site-packages/statsmodels/tsa/base/tsa_model.py:221: ValueWarning: An unsupported index was provided and will be ignored when e.g. forecasting.\n",
      "  ' ignored when e.g. forecasting.', ValueWarning)\n",
      "/home/evgenii/.local/lib/python3.6/site-packages/statsmodels/tsa/statespace/sarimax.py:1051: DeprecationWarning: The truth value of an empty array is ambiguous. Returning False, but in future this will result in an error. Use `array.size > 0` to check that an array is not empty.\n",
      "  if self.state_error and params_variance == []:\n"
     ]
    },
    {
     "name": "stdout",
     "output_type": "stream",
     "text": [
      "wrong parameters: (2, 1, 3, 1)\n",
      "wrong parameters: (2, 1, 3, 2)\n"
     ]
    },
    {
     "name": "stderr",
     "output_type": "stream",
     "text": [
      "/home/evgenii/.local/lib/python3.6/site-packages/statsmodels/tsa/base/tsa_model.py:531: ValueWarning: No supported index is available. Prediction results will be given with an integer index beginning at `start`.\n",
      "  ValueWarning)\n",
      "\n",
      "\n",
      "\n",
      "\n",
      " 24%|██▍       | 73/300 [00:35<04:15,  1.12s/it]\u001b[A\u001b[A\u001b[A\u001b[A/home/evgenii/.local/lib/python3.6/site-packages/statsmodels/tsa/base/tsa_model.py:221: ValueWarning: An unsupported index was provided and will be ignored when e.g. forecasting.\n",
      "  ' ignored when e.g. forecasting.', ValueWarning)\n",
      "/home/evgenii/.local/lib/python3.6/site-packages/statsmodels/tsa/statespace/sarimax.py:937: RuntimeWarning: Mean of empty slice.\n",
      "  params_variance = (residuals[k_params_ma:]**2).mean()\n",
      "/home/evgenii/.local/lib/python3.6/site-packages/numpy/core/_methods.py:85: RuntimeWarning: invalid value encountered in double_scalars\n",
      "  ret = ret.dtype.type(ret / rcount)\n",
      "/home/evgenii/.local/lib/python3.6/site-packages/statsmodels/tsa/statespace/sarimax.py:1051: DeprecationWarning: The truth value of an empty array is ambiguous. Returning False, but in future this will result in an error. Use `array.size > 0` to check that an array is not empty.\n",
      "  if self.state_error and params_variance == []:\n"
     ]
    },
    {
     "name": "stdout",
     "output_type": "stream",
     "text": [
      "wrong parameters: (2, 2, 0, 0)\n",
      "wrong parameters: (2, 2, 0, 1)\n",
      "wrong parameters: (2, 2, 0, 2)\n"
     ]
    },
    {
     "name": "stderr",
     "output_type": "stream",
     "text": [
      "/home/evgenii/.local/lib/python3.6/site-packages/statsmodels/tsa/base/tsa_model.py:531: ValueWarning: No supported index is available. Prediction results will be given with an integer index beginning at `start`.\n",
      "  ValueWarning)\n",
      "\n",
      "\n",
      "\n",
      "\n",
      " 25%|██▌       | 76/300 [00:35<03:11,  1.17it/s]\u001b[A\u001b[A\u001b[A\u001b[A/home/evgenii/.local/lib/python3.6/site-packages/statsmodels/tsa/base/tsa_model.py:221: ValueWarning: An unsupported index was provided and will be ignored when e.g. forecasting.\n",
      "  ' ignored when e.g. forecasting.', ValueWarning)\n",
      "/home/evgenii/.local/lib/python3.6/site-packages/statsmodels/tsa/statespace/sarimax.py:937: RuntimeWarning: Mean of empty slice.\n",
      "  params_variance = (residuals[k_params_ma:]**2).mean()\n",
      "/home/evgenii/.local/lib/python3.6/site-packages/numpy/core/_methods.py:85: RuntimeWarning: invalid value encountered in double_scalars\n",
      "  ret = ret.dtype.type(ret / rcount)\n",
      "/home/evgenii/.local/lib/python3.6/site-packages/statsmodels/tsa/statespace/sarimax.py:1051: DeprecationWarning: The truth value of an empty array is ambiguous. Returning False, but in future this will result in an error. Use `array.size > 0` to check that an array is not empty.\n",
      "  if self.state_error and params_variance == []:\n"
     ]
    },
    {
     "name": "stdout",
     "output_type": "stream",
     "text": [
      "wrong parameters: (2, 2, 1, 0)\n"
     ]
    },
    {
     "name": "stderr",
     "output_type": "stream",
     "text": [
      "/home/evgenii/.local/lib/python3.6/site-packages/statsmodels/tsa/base/tsa_model.py:531: ValueWarning: No supported index is available. Prediction results will be given with an integer index beginning at `start`.\n",
      "  ValueWarning)\n",
      "\n",
      "\n",
      "\n",
      "\n",
      " 26%|██▌       | 77/300 [00:36<03:05,  1.21it/s]\u001b[A\u001b[A\u001b[A\u001b[A/home/evgenii/.local/lib/python3.6/site-packages/statsmodels/tsa/base/tsa_model.py:221: ValueWarning: An unsupported index was provided and will be ignored when e.g. forecasting.\n",
      "  ' ignored when e.g. forecasting.', ValueWarning)\n",
      "/home/evgenii/.local/lib/python3.6/site-packages/statsmodels/tsa/statespace/sarimax.py:1051: DeprecationWarning: The truth value of an empty array is ambiguous. Returning False, but in future this will result in an error. Use `array.size > 0` to check that an array is not empty.\n",
      "  if self.state_error and params_variance == []:\n"
     ]
    },
    {
     "name": "stdout",
     "output_type": "stream",
     "text": [
      "wrong parameters: (2, 2, 1, 1)\n",
      "wrong parameters: (2, 2, 1, 2)\n"
     ]
    },
    {
     "name": "stderr",
     "output_type": "stream",
     "text": [
      "/home/evgenii/.local/lib/python3.6/site-packages/statsmodels/tsa/base/tsa_model.py:531: ValueWarning: No supported index is available. Prediction results will be given with an integer index beginning at `start`.\n",
      "  ValueWarning)\n",
      "\n",
      "\n",
      "\n",
      "\n",
      " 26%|██▋       | 79/300 [00:38<03:00,  1.22it/s]\u001b[A\u001b[A\u001b[A\u001b[A/home/evgenii/.local/lib/python3.6/site-packages/statsmodels/tsa/base/tsa_model.py:221: ValueWarning: An unsupported index was provided and will be ignored when e.g. forecasting.\n",
      "  ' ignored when e.g. forecasting.', ValueWarning)\n",
      "/home/evgenii/.local/lib/python3.6/site-packages/statsmodels/tsa/statespace/sarimax.py:937: RuntimeWarning: Mean of empty slice.\n",
      "  params_variance = (residuals[k_params_ma:]**2).mean()\n",
      "/home/evgenii/.local/lib/python3.6/site-packages/numpy/core/_methods.py:85: RuntimeWarning: invalid value encountered in double_scalars\n",
      "  ret = ret.dtype.type(ret / rcount)\n",
      "/home/evgenii/.local/lib/python3.6/site-packages/statsmodels/tsa/statespace/sarimax.py:1051: DeprecationWarning: The truth value of an empty array is ambiguous. Returning False, but in future this will result in an error. Use `array.size > 0` to check that an array is not empty.\n",
      "  if self.state_error and params_variance == []:\n"
     ]
    },
    {
     "name": "stdout",
     "output_type": "stream",
     "text": [
      "wrong parameters: (2, 2, 2, 0)\n"
     ]
    },
    {
     "name": "stderr",
     "output_type": "stream",
     "text": [
      "/home/evgenii/.local/lib/python3.6/site-packages/statsmodels/base/model.py:508: ConvergenceWarning: Maximum Likelihood optimization failed to converge. Check mle_retvals\n",
      "  \"Check mle_retvals\", ConvergenceWarning)\n",
      "/home/evgenii/.local/lib/python3.6/site-packages/statsmodels/tsa/base/tsa_model.py:531: ValueWarning: No supported index is available. Prediction results will be given with an integer index beginning at `start`.\n",
      "  ValueWarning)\n",
      "\n",
      "\n",
      "\n",
      "\n",
      " 27%|██▋       | 80/300 [00:39<03:58,  1.08s/it]\u001b[A\u001b[A\u001b[A\u001b[A/home/evgenii/.local/lib/python3.6/site-packages/statsmodels/tsa/base/tsa_model.py:221: ValueWarning: An unsupported index was provided and will be ignored when e.g. forecasting.\n",
      "  ' ignored when e.g. forecasting.', ValueWarning)\n",
      "/home/evgenii/.local/lib/python3.6/site-packages/statsmodels/tsa/statespace/sarimax.py:1051: DeprecationWarning: The truth value of an empty array is ambiguous. Returning False, but in future this will result in an error. Use `array.size > 0` to check that an array is not empty.\n",
      "  if self.state_error and params_variance == []:\n"
     ]
    },
    {
     "name": "stdout",
     "output_type": "stream",
     "text": [
      "wrong parameters: (2, 2, 2, 1)\n",
      "wrong parameters: (2, 2, 2, 2)\n"
     ]
    },
    {
     "name": "stderr",
     "output_type": "stream",
     "text": [
      "/home/evgenii/.local/lib/python3.6/site-packages/statsmodels/tsa/base/tsa_model.py:531: ValueWarning: No supported index is available. Prediction results will be given with an integer index beginning at `start`.\n",
      "  ValueWarning)\n",
      "\n",
      "\n",
      "\n",
      "\n",
      " 27%|██▋       | 82/300 [00:41<03:44,  1.03s/it]\u001b[A\u001b[A\u001b[A\u001b[A/home/evgenii/.local/lib/python3.6/site-packages/statsmodels/tsa/base/tsa_model.py:221: ValueWarning: An unsupported index was provided and will be ignored when e.g. forecasting.\n",
      "  ' ignored when e.g. forecasting.', ValueWarning)\n",
      "/home/evgenii/.local/lib/python3.6/site-packages/statsmodels/tsa/statespace/sarimax.py:937: RuntimeWarning: Mean of empty slice.\n",
      "  params_variance = (residuals[k_params_ma:]**2).mean()\n",
      "/home/evgenii/.local/lib/python3.6/site-packages/numpy/core/_methods.py:85: RuntimeWarning: invalid value encountered in double_scalars\n",
      "  ret = ret.dtype.type(ret / rcount)\n",
      "/home/evgenii/.local/lib/python3.6/site-packages/statsmodels/tsa/statespace/sarimax.py:1051: DeprecationWarning: The truth value of an empty array is ambiguous. Returning False, but in future this will result in an error. Use `array.size > 0` to check that an array is not empty.\n",
      "  if self.state_error and params_variance == []:\n"
     ]
    },
    {
     "name": "stdout",
     "output_type": "stream",
     "text": [
      "wrong parameters: (2, 2, 3, 0)\n"
     ]
    },
    {
     "name": "stderr",
     "output_type": "stream",
     "text": [
      "/home/evgenii/.local/lib/python3.6/site-packages/statsmodels/tsa/base/tsa_model.py:531: ValueWarning: No supported index is available. Prediction results will be given with an integer index beginning at `start`.\n",
      "  ValueWarning)\n",
      "\n",
      "\n",
      "\n",
      "\n",
      " 28%|██▊       | 83/300 [00:44<05:41,  1.58s/it]\u001b[A\u001b[A\u001b[A\u001b[A/home/evgenii/.local/lib/python3.6/site-packages/statsmodels/tsa/base/tsa_model.py:221: ValueWarning: An unsupported index was provided and will be ignored when e.g. forecasting.\n",
      "  ' ignored when e.g. forecasting.', ValueWarning)\n",
      "\n",
      "\n",
      "\n",
      "\n",
      " 34%|███▍      | 102/300 [00:44<03:38,  1.10s/it]\u001b[A\u001b[A\u001b[A\u001b[A/home/evgenii/.local/lib/python3.6/site-packages/statsmodels/tsa/statespace/sarimax.py:1051: DeprecationWarning: The truth value of an empty array is ambiguous. Returning False, but in future this will result in an error. Use `array.size > 0` to check that an array is not empty.\n",
      "  if self.state_error and params_variance == []:\n"
     ]
    },
    {
     "name": "stdout",
     "output_type": "stream",
     "text": [
      "wrong parameters: (2, 2, 3, 1)\n",
      "wrong parameters: (2, 2, 3, 2)\n",
      "wrong parameters: (2, 3, 0, 0)\n",
      "wrong parameters: (2, 3, 0, 1)\n",
      "wrong parameters: (2, 3, 0, 2)\n",
      "wrong parameters: (2, 3, 1, 0)\n",
      "wrong parameters: (2, 3, 1, 1)\n",
      "wrong parameters: (2, 3, 1, 2)\n",
      "wrong parameters: (2, 3, 2, 0)\n",
      "wrong parameters: (2, 3, 2, 1)\n",
      "wrong parameters: (2, 3, 2, 2)\n",
      "wrong parameters: (2, 3, 3, 0)\n",
      "wrong parameters: (2, 3, 3, 1)\n",
      "wrong parameters: (2, 3, 3, 2)\n",
      "wrong parameters: (2, 4, 0, 0)\n",
      "wrong parameters: (2, 4, 0, 1)\n",
      "wrong parameters: (2, 4, 0, 2)\n",
      "wrong parameters: (2, 4, 1, 0)\n",
      "wrong parameters: (2, 4, 1, 1)\n",
      "wrong parameters: (2, 4, 1, 2)\n",
      "wrong parameters: (2, 4, 2, 0)\n",
      "wrong parameters: (2, 4, 2, 1)\n",
      "wrong parameters: (2, 4, 2, 2)\n",
      "wrong parameters: (2, 4, 3, 0)\n",
      "wrong parameters: (2, 4, 3, 1)\n",
      "wrong parameters: (2, 4, 3, 2)\n",
      "wrong parameters: (2, 5, 0, 0)\n",
      "wrong parameters: (2, 5, 0, 1)\n",
      "wrong parameters: (2, 5, 0, 2)\n",
      "wrong parameters: (2, 5, 1, 0)\n",
      "wrong parameters: (2, 5, 1, 1)\n",
      "wrong parameters: (2, 5, 1, 2)\n",
      "wrong parameters: (2, 5, 2, 0)\n",
      "wrong parameters: (2, 5, 2, 1)\n",
      "wrong parameters: (2, 5, 2, 2)\n",
      "wrong parameters: (2, 5, 3, 0)\n",
      "wrong parameters: (2, 5, 3, 1)\n",
      "wrong parameters: (2, 5, 3, 2)\n"
     ]
    },
    {
     "name": "stderr",
     "output_type": "stream",
     "text": [
      "/home/evgenii/.local/lib/python3.6/site-packages/statsmodels/tsa/base/tsa_model.py:531: ValueWarning: No supported index is available. Prediction results will be given with an integer index beginning at `start`.\n",
      "  ValueWarning)\n",
      "\n",
      "\n",
      "\n",
      "\n",
      " 40%|████      | 121/300 [00:44<02:18,  1.29it/s]\u001b[A\u001b[A\u001b[A\u001b[A/home/evgenii/.local/lib/python3.6/site-packages/statsmodels/tsa/base/tsa_model.py:221: ValueWarning: An unsupported index was provided and will be ignored when e.g. forecasting.\n",
      "  ' ignored when e.g. forecasting.', ValueWarning)\n",
      "/home/evgenii/.local/lib/python3.6/site-packages/statsmodels/tsa/statespace/sarimax.py:937: RuntimeWarning: Mean of empty slice.\n",
      "  params_variance = (residuals[k_params_ma:]**2).mean()\n",
      "/home/evgenii/.local/lib/python3.6/site-packages/numpy/core/_methods.py:85: RuntimeWarning: invalid value encountered in double_scalars\n",
      "  ret = ret.dtype.type(ret / rcount)\n",
      "/home/evgenii/.local/lib/python3.6/site-packages/statsmodels/tsa/statespace/sarimax.py:1051: DeprecationWarning: The truth value of an empty array is ambiguous. Returning False, but in future this will result in an error. Use `array.size > 0` to check that an array is not empty.\n",
      "  if self.state_error and params_variance == []:\n"
     ]
    },
    {
     "name": "stdout",
     "output_type": "stream",
     "text": [
      "wrong parameters: (3, 1, 0, 0)\n",
      "wrong parameters: (3, 1, 0, 1)\n",
      "wrong parameters: (3, 1, 0, 2)\n"
     ]
    },
    {
     "name": "stderr",
     "output_type": "stream",
     "text": [
      "/home/evgenii/.local/lib/python3.6/site-packages/statsmodels/tsa/base/tsa_model.py:531: ValueWarning: No supported index is available. Prediction results will be given with an integer index beginning at `start`.\n",
      "  ValueWarning)\n",
      "/home/evgenii/.local/lib/python3.6/site-packages/statsmodels/tsa/base/tsa_model.py:221: ValueWarning: An unsupported index was provided and will be ignored when e.g. forecasting.\n",
      "  ' ignored when e.g. forecasting.', ValueWarning)\n",
      "/home/evgenii/.local/lib/python3.6/site-packages/statsmodels/tsa/statespace/sarimax.py:937: RuntimeWarning: Mean of empty slice.\n",
      "  params_variance = (residuals[k_params_ma:]**2).mean()\n",
      "/home/evgenii/.local/lib/python3.6/site-packages/numpy/core/_methods.py:85: RuntimeWarning: invalid value encountered in double_scalars\n",
      "  ret = ret.dtype.type(ret / rcount)\n",
      "/home/evgenii/.local/lib/python3.6/site-packages/statsmodels/tsa/statespace/sarimax.py:1051: DeprecationWarning: The truth value of an empty array is ambiguous. Returning False, but in future this will result in an error. Use `array.size > 0` to check that an array is not empty.\n",
      "  if self.state_error and params_variance == []:\n"
     ]
    },
    {
     "name": "stdout",
     "output_type": "stream",
     "text": [
      "wrong parameters: (3, 1, 1, 0)\n"
     ]
    },
    {
     "name": "stderr",
     "output_type": "stream",
     "text": [
      "/home/evgenii/.local/lib/python3.6/site-packages/statsmodels/base/model.py:508: ConvergenceWarning: Maximum Likelihood optimization failed to converge. Check mle_retvals\n",
      "  \"Check mle_retvals\", ConvergenceWarning)\n",
      "/home/evgenii/.local/lib/python3.6/site-packages/statsmodels/tsa/base/tsa_model.py:531: ValueWarning: No supported index is available. Prediction results will be given with an integer index beginning at `start`.\n",
      "  ValueWarning)\n",
      "/home/evgenii/.local/lib/python3.6/site-packages/statsmodels/tsa/base/tsa_model.py:221: ValueWarning: An unsupported index was provided and will be ignored when e.g. forecasting.\n",
      "  ' ignored when e.g. forecasting.', ValueWarning)\n",
      "/home/evgenii/.local/lib/python3.6/site-packages/statsmodels/tsa/statespace/sarimax.py:1051: DeprecationWarning: The truth value of an empty array is ambiguous. Returning False, but in future this will result in an error. Use `array.size > 0` to check that an array is not empty.\n",
      "  if self.state_error and params_variance == []:\n"
     ]
    },
    {
     "name": "stdout",
     "output_type": "stream",
     "text": [
      "wrong parameters: (3, 1, 1, 1)\n",
      "wrong parameters: (3, 1, 1, 2)\n"
     ]
    },
    {
     "name": "stderr",
     "output_type": "stream",
     "text": [
      "/home/evgenii/.local/lib/python3.6/site-packages/statsmodels/base/model.py:508: ConvergenceWarning: Maximum Likelihood optimization failed to converge. Check mle_retvals\n",
      "  \"Check mle_retvals\", ConvergenceWarning)\n",
      "/home/evgenii/.local/lib/python3.6/site-packages/statsmodels/tsa/base/tsa_model.py:531: ValueWarning: No supported index is available. Prediction results will be given with an integer index beginning at `start`.\n",
      "  ValueWarning)\n",
      "/home/evgenii/.local/lib/python3.6/site-packages/statsmodels/tsa/base/tsa_model.py:221: ValueWarning: An unsupported index was provided and will be ignored when e.g. forecasting.\n",
      "  ' ignored when e.g. forecasting.', ValueWarning)\n",
      "/home/evgenii/.local/lib/python3.6/site-packages/statsmodels/tsa/statespace/sarimax.py:937: RuntimeWarning: Mean of empty slice.\n",
      "  params_variance = (residuals[k_params_ma:]**2).mean()\n",
      "/home/evgenii/.local/lib/python3.6/site-packages/numpy/core/_methods.py:85: RuntimeWarning: invalid value encountered in double_scalars\n",
      "  ret = ret.dtype.type(ret / rcount)\n",
      "/home/evgenii/.local/lib/python3.6/site-packages/statsmodels/tsa/statespace/sarimax.py:1051: DeprecationWarning: The truth value of an empty array is ambiguous. Returning False, but in future this will result in an error. Use `array.size > 0` to check that an array is not empty.\n",
      "  if self.state_error and params_variance == []:\n"
     ]
    },
    {
     "name": "stdout",
     "output_type": "stream",
     "text": [
      "wrong parameters: (3, 1, 2, 0)\n"
     ]
    },
    {
     "name": "stderr",
     "output_type": "stream",
     "text": [
      "/home/evgenii/.local/lib/python3.6/site-packages/statsmodels/base/model.py:508: ConvergenceWarning: Maximum Likelihood optimization failed to converge. Check mle_retvals\n",
      "  \"Check mle_retvals\", ConvergenceWarning)\n",
      "/home/evgenii/.local/lib/python3.6/site-packages/statsmodels/tsa/base/tsa_model.py:531: ValueWarning: No supported index is available. Prediction results will be given with an integer index beginning at `start`.\n",
      "  ValueWarning)\n",
      "\n",
      "\n",
      "\n",
      "\n",
      " 43%|████▎     | 128/300 [00:49<02:09,  1.33it/s]\u001b[A\u001b[A\u001b[A\u001b[A/home/evgenii/.local/lib/python3.6/site-packages/statsmodels/tsa/base/tsa_model.py:221: ValueWarning: An unsupported index was provided and will be ignored when e.g. forecasting.\n",
      "  ' ignored when e.g. forecasting.', ValueWarning)\n",
      "/home/evgenii/.local/lib/python3.6/site-packages/statsmodels/tsa/statespace/sarimax.py:1051: DeprecationWarning: The truth value of an empty array is ambiguous. Returning False, but in future this will result in an error. Use `array.size > 0` to check that an array is not empty.\n",
      "  if self.state_error and params_variance == []:\n"
     ]
    },
    {
     "name": "stdout",
     "output_type": "stream",
     "text": [
      "wrong parameters: (3, 1, 2, 1)\n",
      "wrong parameters: (3, 1, 2, 2)\n"
     ]
    },
    {
     "name": "stderr",
     "output_type": "stream",
     "text": [
      "/home/evgenii/.local/lib/python3.6/site-packages/statsmodels/base/model.py:508: ConvergenceWarning: Maximum Likelihood optimization failed to converge. Check mle_retvals\n",
      "  \"Check mle_retvals\", ConvergenceWarning)\n",
      "/home/evgenii/.local/lib/python3.6/site-packages/statsmodels/tsa/base/tsa_model.py:531: ValueWarning: No supported index is available. Prediction results will be given with an integer index beginning at `start`.\n",
      "  ValueWarning)\n",
      "/home/evgenii/.local/lib/python3.6/site-packages/statsmodels/tsa/base/tsa_model.py:221: ValueWarning: An unsupported index was provided and will be ignored when e.g. forecasting.\n",
      "  ' ignored when e.g. forecasting.', ValueWarning)\n",
      "/home/evgenii/.local/lib/python3.6/site-packages/statsmodels/tsa/statespace/sarimax.py:937: RuntimeWarning: Mean of empty slice.\n",
      "  params_variance = (residuals[k_params_ma:]**2).mean()\n",
      "/home/evgenii/.local/lib/python3.6/site-packages/numpy/core/_methods.py:85: RuntimeWarning: invalid value encountered in double_scalars\n",
      "  ret = ret.dtype.type(ret / rcount)\n",
      "/home/evgenii/.local/lib/python3.6/site-packages/statsmodels/tsa/statespace/sarimax.py:1051: DeprecationWarning: The truth value of an empty array is ambiguous. Returning False, but in future this will result in an error. Use `array.size > 0` to check that an array is not empty.\n",
      "  if self.state_error and params_variance == []:\n"
     ]
    },
    {
     "name": "stdout",
     "output_type": "stream",
     "text": [
      "wrong parameters: (3, 1, 3, 0)\n"
     ]
    },
    {
     "name": "stderr",
     "output_type": "stream",
     "text": [
      "/home/evgenii/.local/lib/python3.6/site-packages/statsmodels/base/model.py:508: ConvergenceWarning: Maximum Likelihood optimization failed to converge. Check mle_retvals\n",
      "  \"Check mle_retvals\", ConvergenceWarning)\n",
      "/home/evgenii/.local/lib/python3.6/site-packages/statsmodels/tsa/base/tsa_model.py:531: ValueWarning: No supported index is available. Prediction results will be given with an integer index beginning at `start`.\n",
      "  ValueWarning)\n",
      "/home/evgenii/.local/lib/python3.6/site-packages/statsmodels/tsa/base/tsa_model.py:221: ValueWarning: An unsupported index was provided and will be ignored when e.g. forecasting.\n",
      "  ' ignored when e.g. forecasting.', ValueWarning)\n",
      "\n",
      "\n",
      "\n",
      "\n",
      " 44%|████▍     | 133/300 [00:56<02:30,  1.11it/s]\u001b[A\u001b[A\u001b[A\u001b[A\n",
      "\n",
      "\n",
      "\n",
      " 51%|█████▏    | 154/300 [00:56<01:32,  1.58it/s]\u001b[A\u001b[A\u001b[A\u001b[A/home/evgenii/.local/lib/python3.6/site-packages/statsmodels/tsa/statespace/sarimax.py:1051: DeprecationWarning: The truth value of an empty array is ambiguous. Returning False, but in future this will result in an error. Use `array.size > 0` to check that an array is not empty.\n",
      "  if self.state_error and params_variance == []:\n"
     ]
    },
    {
     "name": "stdout",
     "output_type": "stream",
     "text": [
      "wrong parameters: (3, 1, 3, 1)\n",
      "wrong parameters: (3, 1, 3, 2)\n",
      "wrong parameters: (3, 2, 0, 0)\n",
      "wrong parameters: (3, 2, 0, 1)\n",
      "wrong parameters: (3, 2, 0, 2)\n",
      "wrong parameters: (3, 2, 1, 0)\n",
      "wrong parameters: (3, 2, 1, 1)\n",
      "wrong parameters: (3, 2, 1, 2)\n",
      "wrong parameters: (3, 2, 2, 0)\n",
      "wrong parameters: (3, 2, 2, 1)\n",
      "wrong parameters: (3, 2, 2, 2)\n",
      "wrong parameters: (3, 2, 3, 0)\n",
      "wrong parameters: (3, 2, 3, 1)\n",
      "wrong parameters: (3, 2, 3, 2)\n",
      "wrong parameters: (3, 3, 0, 0)\n",
      "wrong parameters: (3, 3, 0, 1)\n",
      "wrong parameters: (3, 3, 0, 2)\n",
      "wrong parameters: (3, 3, 1, 0)\n",
      "wrong parameters: (3, 3, 1, 1)\n",
      "wrong parameters: (3, 3, 1, 2)\n",
      "wrong parameters: (3, 3, 2, 0)\n",
      "wrong parameters: (3, 3, 2, 1)\n",
      "wrong parameters: (3, 3, 2, 2)\n",
      "wrong parameters: (3, 3, 3, 0)\n",
      "wrong parameters: (3, 3, 3, 1)\n",
      "wrong parameters: (3, 3, 3, 2)\n",
      "wrong parameters: (3, 4, 0, 0)\n",
      "wrong parameters: (3, 4, 0, 1)\n",
      "wrong parameters: (3, 4, 0, 2)\n",
      "wrong parameters: (3, 4, 1, 0)\n",
      "wrong parameters: (3, 4, 1, 1)\n",
      "wrong parameters: (3, 4, 1, 2)\n",
      "wrong parameters: (3, 4, 2, 0)\n",
      "wrong parameters: (3, 4, 2, 1)\n",
      "wrong parameters: (3, 4, 2, 2)\n",
      "wrong parameters: (3, 4, 3, 0)\n",
      "wrong parameters: (3, 4, 3, 1)\n",
      "wrong parameters: (3, 4, 3, 2)\n",
      "wrong parameters: (3, 5, 0, 0)\n",
      "wrong parameters: (3, 5, 0, 1)\n",
      "wrong parameters: (3, 5, 0, 2)\n",
      "wrong parameters: (3, 5, 1, 0)\n",
      "wrong parameters: (3, 5, 1, 1)\n",
      "wrong parameters: (3, 5, 1, 2)\n",
      "wrong parameters: (3, 5, 2, 0)\n",
      "wrong parameters: (3, 5, 2, 1)\n",
      "wrong parameters: (3, 5, 2, 2)\n",
      "wrong parameters: (3, 5, 3, 0)\n",
      "wrong parameters: (3, 5, 3, 1)\n",
      "wrong parameters: (3, 5, 3, 2)\n"
     ]
    },
    {
     "name": "stderr",
     "output_type": "stream",
     "text": [
      "/home/evgenii/.local/lib/python3.6/site-packages/statsmodels/tsa/base/tsa_model.py:531: ValueWarning: No supported index is available. Prediction results will be given with an integer index beginning at `start`.\n",
      "  ValueWarning)\n",
      "\n",
      "\n",
      "\n",
      "\n",
      " 60%|██████    | 181/300 [00:56<00:53,  2.24it/s]\u001b[A\u001b[A\u001b[A\u001b[A/home/evgenii/.local/lib/python3.6/site-packages/statsmodels/tsa/base/tsa_model.py:221: ValueWarning: An unsupported index was provided and will be ignored when e.g. forecasting.\n",
      "  ' ignored when e.g. forecasting.', ValueWarning)\n",
      "/home/evgenii/.local/lib/python3.6/site-packages/statsmodels/tsa/statespace/sarimax.py:937: RuntimeWarning: Mean of empty slice.\n",
      "  params_variance = (residuals[k_params_ma:]**2).mean()\n",
      "/home/evgenii/.local/lib/python3.6/site-packages/numpy/core/_methods.py:85: RuntimeWarning: invalid value encountered in double_scalars\n",
      "  ret = ret.dtype.type(ret / rcount)\n",
      "/home/evgenii/.local/lib/python3.6/site-packages/statsmodels/tsa/statespace/sarimax.py:1051: DeprecationWarning: The truth value of an empty array is ambiguous. Returning False, but in future this will result in an error. Use `array.size > 0` to check that an array is not empty.\n",
      "  if self.state_error and params_variance == []:\n"
     ]
    },
    {
     "name": "stdout",
     "output_type": "stream",
     "text": [
      "wrong parameters: (4, 1, 0, 0)\n",
      "wrong parameters: (4, 1, 0, 1)\n",
      "wrong parameters: (4, 1, 0, 2)\n"
     ]
    },
    {
     "name": "stderr",
     "output_type": "stream",
     "text": [
      "/home/evgenii/.local/lib/python3.6/site-packages/statsmodels/tsa/base/tsa_model.py:531: ValueWarning: No supported index is available. Prediction results will be given with an integer index beginning at `start`.\n",
      "  ValueWarning)\n",
      "/home/evgenii/.local/lib/python3.6/site-packages/statsmodels/tsa/base/tsa_model.py:221: ValueWarning: An unsupported index was provided and will be ignored when e.g. forecasting.\n",
      "  ' ignored when e.g. forecasting.', ValueWarning)\n",
      "/home/evgenii/.local/lib/python3.6/site-packages/statsmodels/tsa/statespace/sarimax.py:937: RuntimeWarning: Mean of empty slice.\n",
      "  params_variance = (residuals[k_params_ma:]**2).mean()\n",
      "/home/evgenii/.local/lib/python3.6/site-packages/numpy/core/_methods.py:85: RuntimeWarning: invalid value encountered in double_scalars\n",
      "  ret = ret.dtype.type(ret / rcount)\n",
      "/home/evgenii/.local/lib/python3.6/site-packages/statsmodels/tsa/statespace/sarimax.py:1051: DeprecationWarning: The truth value of an empty array is ambiguous. Returning False, but in future this will result in an error. Use `array.size > 0` to check that an array is not empty.\n",
      "  if self.state_error and params_variance == []:\n"
     ]
    },
    {
     "name": "stdout",
     "output_type": "stream",
     "text": [
      "wrong parameters: (4, 1, 1, 0)\n"
     ]
    },
    {
     "name": "stderr",
     "output_type": "stream",
     "text": [
      "/home/evgenii/.local/lib/python3.6/site-packages/statsmodels/base/model.py:508: ConvergenceWarning: Maximum Likelihood optimization failed to converge. Check mle_retvals\n",
      "  \"Check mle_retvals\", ConvergenceWarning)\n",
      "/home/evgenii/.local/lib/python3.6/site-packages/statsmodels/tsa/base/tsa_model.py:531: ValueWarning: No supported index is available. Prediction results will be given with an integer index beginning at `start`.\n",
      "  ValueWarning)\n",
      "/home/evgenii/.local/lib/python3.6/site-packages/statsmodels/tsa/base/tsa_model.py:221: ValueWarning: An unsupported index was provided and will be ignored when e.g. forecasting.\n",
      "  ' ignored when e.g. forecasting.', ValueWarning)\n",
      "/home/evgenii/.local/lib/python3.6/site-packages/statsmodels/tsa/statespace/sarimax.py:1051: DeprecationWarning: The truth value of an empty array is ambiguous. Returning False, but in future this will result in an error. Use `array.size > 0` to check that an array is not empty.\n",
      "  if self.state_error and params_variance == []:\n"
     ]
    },
    {
     "name": "stdout",
     "output_type": "stream",
     "text": [
      "wrong parameters: (4, 1, 1, 1)\n",
      "wrong parameters: (4, 1, 1, 2)\n"
     ]
    },
    {
     "name": "stderr",
     "output_type": "stream",
     "text": [
      "/home/evgenii/.local/lib/python3.6/site-packages/statsmodels/tsa/base/tsa_model.py:531: ValueWarning: No supported index is available. Prediction results will be given with an integer index beginning at `start`.\n",
      "  ValueWarning)\n",
      "/home/evgenii/.local/lib/python3.6/site-packages/statsmodels/tsa/base/tsa_model.py:221: ValueWarning: An unsupported index was provided and will be ignored when e.g. forecasting.\n",
      "  ' ignored when e.g. forecasting.', ValueWarning)\n",
      "/home/evgenii/.local/lib/python3.6/site-packages/statsmodels/tsa/statespace/sarimax.py:937: RuntimeWarning: Mean of empty slice.\n",
      "  params_variance = (residuals[k_params_ma:]**2).mean()\n",
      "/home/evgenii/.local/lib/python3.6/site-packages/numpy/core/_methods.py:85: RuntimeWarning: invalid value encountered in double_scalars\n",
      "  ret = ret.dtype.type(ret / rcount)\n",
      "/home/evgenii/.local/lib/python3.6/site-packages/statsmodels/tsa/statespace/sarimax.py:1051: DeprecationWarning: The truth value of an empty array is ambiguous. Returning False, but in future this will result in an error. Use `array.size > 0` to check that an array is not empty.\n",
      "  if self.state_error and params_variance == []:\n"
     ]
    },
    {
     "name": "stdout",
     "output_type": "stream",
     "text": [
      "wrong parameters: (4, 1, 2, 0)\n"
     ]
    },
    {
     "name": "stderr",
     "output_type": "stream",
     "text": [
      "/home/evgenii/.local/lib/python3.6/site-packages/statsmodels/tsa/base/tsa_model.py:531: ValueWarning: No supported index is available. Prediction results will be given with an integer index beginning at `start`.\n",
      "  ValueWarning)\n",
      "/home/evgenii/.local/lib/python3.6/site-packages/statsmodels/tsa/base/tsa_model.py:221: ValueWarning: An unsupported index was provided and will be ignored when e.g. forecasting.\n",
      "  ' ignored when e.g. forecasting.', ValueWarning)\n",
      "/home/evgenii/.local/lib/python3.6/site-packages/statsmodels/tsa/statespace/sarimax.py:1051: DeprecationWarning: The truth value of an empty array is ambiguous. Returning False, but in future this will result in an error. Use `array.size > 0` to check that an array is not empty.\n",
      "  if self.state_error and params_variance == []:\n"
     ]
    },
    {
     "name": "stdout",
     "output_type": "stream",
     "text": [
      "wrong parameters: (4, 1, 2, 1)\n",
      "wrong parameters: (4, 1, 2, 2)\n"
     ]
    },
    {
     "name": "stderr",
     "output_type": "stream",
     "text": [
      "/home/evgenii/.local/lib/python3.6/site-packages/statsmodels/tsa/base/tsa_model.py:531: ValueWarning: No supported index is available. Prediction results will be given with an integer index beginning at `start`.\n",
      "  ValueWarning)\n",
      "\n",
      "\n",
      "\n",
      "\n",
      " 63%|██████▎   | 190/300 [01:04<01:03,  1.74it/s]\u001b[A\u001b[A\u001b[A\u001b[A/home/evgenii/.local/lib/python3.6/site-packages/statsmodels/tsa/base/tsa_model.py:221: ValueWarning: An unsupported index was provided and will be ignored when e.g. forecasting.\n",
      "  ' ignored when e.g. forecasting.', ValueWarning)\n",
      "/home/evgenii/.local/lib/python3.6/site-packages/statsmodels/tsa/statespace/sarimax.py:937: RuntimeWarning: Mean of empty slice.\n",
      "  params_variance = (residuals[k_params_ma:]**2).mean()\n",
      "/home/evgenii/.local/lib/python3.6/site-packages/numpy/core/_methods.py:85: RuntimeWarning: invalid value encountered in double_scalars\n",
      "  ret = ret.dtype.type(ret / rcount)\n",
      "/home/evgenii/.local/lib/python3.6/site-packages/statsmodels/tsa/statespace/sarimax.py:1051: DeprecationWarning: The truth value of an empty array is ambiguous. Returning False, but in future this will result in an error. Use `array.size > 0` to check that an array is not empty.\n",
      "  if self.state_error and params_variance == []:\n"
     ]
    },
    {
     "name": "stdout",
     "output_type": "stream",
     "text": [
      "wrong parameters: (4, 1, 3, 0)\n"
     ]
    },
    {
     "name": "stderr",
     "output_type": "stream",
     "text": [
      "/home/evgenii/.local/lib/python3.6/site-packages/statsmodels/base/model.py:508: ConvergenceWarning: Maximum Likelihood optimization failed to converge. Check mle_retvals\n",
      "  \"Check mle_retvals\", ConvergenceWarning)\n",
      "/home/evgenii/.local/lib/python3.6/site-packages/statsmodels/tsa/base/tsa_model.py:531: ValueWarning: No supported index is available. Prediction results will be given with an integer index beginning at `start`.\n",
      "  ValueWarning)\n",
      "/home/evgenii/.local/lib/python3.6/site-packages/statsmodels/tsa/base/tsa_model.py:221: ValueWarning: An unsupported index was provided and will be ignored when e.g. forecasting.\n",
      "  ' ignored when e.g. forecasting.', ValueWarning)\n",
      "\n",
      "\n",
      "\n",
      "\n",
      " 66%|██████▌   | 197/300 [01:07<00:57,  1.79it/s]\u001b[A\u001b[A\u001b[A\u001b[A\n",
      "\n",
      "\n",
      "\n",
      " 72%|███████▏  | 217/300 [01:08<00:32,  2.55it/s]\u001b[A\u001b[A\u001b[A\u001b[A"
     ]
    },
    {
     "name": "stdout",
     "output_type": "stream",
     "text": [
      "wrong parameters: (4, 1, 3, 1)\n",
      "wrong parameters: (4, 1, 3, 2)\n",
      "wrong parameters: (4, 2, 0, 0)\n",
      "wrong parameters: (4, 2, 0, 1)\n",
      "wrong parameters: (4, 2, 0, 2)\n",
      "wrong parameters: (4, 2, 1, 0)\n",
      "wrong parameters: (4, 2, 1, 1)\n",
      "wrong parameters: (4, 2, 1, 2)\n",
      "wrong parameters: (4, 2, 2, 0)\n",
      "wrong parameters: (4, 2, 2, 1)\n",
      "wrong parameters: (4, 2, 2, 2)\n",
      "wrong parameters: (4, 2, 3, 0)\n",
      "wrong parameters: (4, 2, 3, 1)\n",
      "wrong parameters: (4, 2, 3, 2)\n",
      "wrong parameters: (4, 3, 0, 0)\n",
      "wrong parameters: (4, 3, 0, 1)\n",
      "wrong parameters: (4, 3, 0, 2)\n",
      "wrong parameters: (4, 3, 1, 0)\n",
      "wrong parameters: (4, 3, 1, 1)\n",
      "wrong parameters: (4, 3, 1, 2)\n",
      "wrong parameters: (4, 3, 2, 0)\n",
      "wrong parameters: (4, 3, 2, 1)\n",
      "wrong parameters: (4, 3, 2, 2)\n",
      "wrong parameters: (4, 3, 3, 0)\n",
      "wrong parameters: (4, 3, 3, 1)\n",
      "wrong parameters: (4, 3, 3, 2)\n",
      "wrong parameters: (4, 4, 0, 0)\n",
      "wrong parameters: (4, 4, 0, 1)\n",
      "wrong parameters: (4, 4, 0, 2)\n",
      "wrong parameters: (4, 4, 1, 0)\n",
      "wrong parameters: (4, 4, 1, 1)\n",
      "wrong parameters: (4, 4, 1, 2)\n",
      "wrong parameters: (4, 4, 2, 0)\n",
      "wrong parameters: (4, 4, 2, 1)\n",
      "wrong parameters: (4, 4, 2, 2)\n",
      "wrong parameters: (4, 4, 3, 0)\n",
      "wrong parameters: (4, 4, 3, 1)\n",
      "wrong parameters: (4, 4, 3, 2)\n",
      "wrong parameters: (4, 5, 0, 0)\n",
      "wrong parameters: (4, 5, 0, 1)\n",
      "wrong parameters: (4, 5, 0, 2)\n",
      "wrong parameters: (4, 5, 1, 0)\n",
      "wrong parameters: (4, 5, 1, 1)\n",
      "wrong parameters: (4, 5, 1, 2)\n",
      "wrong parameters: (4, 5, 2, 0)\n",
      "wrong parameters: (4, 5, 2, 1)\n",
      "wrong parameters: (4, 5, 2, 2)\n",
      "wrong parameters: (4, 5, 3, 0)\n",
      "wrong parameters: (4, 5, 3, 1)\n",
      "wrong parameters: (4, 5, 3, 2)\n"
     ]
    },
    {
     "name": "stderr",
     "output_type": "stream",
     "text": [
      "/home/evgenii/.local/lib/python3.6/site-packages/statsmodels/tsa/statespace/sarimax.py:1051: DeprecationWarning: The truth value of an empty array is ambiguous. Returning False, but in future this will result in an error. Use `array.size > 0` to check that an array is not empty.\n",
      "  if self.state_error and params_variance == []:\n",
      "/home/evgenii/.local/lib/python3.6/site-packages/statsmodels/tsa/base/tsa_model.py:531: ValueWarning: No supported index is available. Prediction results will be given with an integer index beginning at `start`.\n",
      "  ValueWarning)\n",
      "\n",
      "\n",
      "\n",
      "\n",
      " 80%|████████  | 241/300 [01:08<00:16,  3.59it/s]\u001b[A\u001b[A\u001b[A\u001b[A/home/evgenii/.local/lib/python3.6/site-packages/statsmodels/tsa/base/tsa_model.py:221: ValueWarning: An unsupported index was provided and will be ignored when e.g. forecasting.\n",
      "  ' ignored when e.g. forecasting.', ValueWarning)\n",
      "/home/evgenii/.local/lib/python3.6/site-packages/statsmodels/tsa/statespace/sarimax.py:937: RuntimeWarning: Mean of empty slice.\n",
      "  params_variance = (residuals[k_params_ma:]**2).mean()\n",
      "/home/evgenii/.local/lib/python3.6/site-packages/numpy/core/_methods.py:85: RuntimeWarning: invalid value encountered in double_scalars\n",
      "  ret = ret.dtype.type(ret / rcount)\n",
      "/home/evgenii/.local/lib/python3.6/site-packages/statsmodels/tsa/statespace/sarimax.py:1051: DeprecationWarning: The truth value of an empty array is ambiguous. Returning False, but in future this will result in an error. Use `array.size > 0` to check that an array is not empty.\n",
      "  if self.state_error and params_variance == []:\n"
     ]
    },
    {
     "name": "stdout",
     "output_type": "stream",
     "text": [
      "wrong parameters: (5, 1, 0, 0)\n",
      "wrong parameters: (5, 1, 0, 1)\n",
      "wrong parameters: (5, 1, 0, 2)\n"
     ]
    },
    {
     "name": "stderr",
     "output_type": "stream",
     "text": [
      "/home/evgenii/.local/lib/python3.6/site-packages/statsmodels/tsa/base/tsa_model.py:531: ValueWarning: No supported index is available. Prediction results will be given with an integer index beginning at `start`.\n",
      "  ValueWarning)\n",
      "/home/evgenii/.local/lib/python3.6/site-packages/statsmodels/tsa/base/tsa_model.py:221: ValueWarning: An unsupported index was provided and will be ignored when e.g. forecasting.\n",
      "  ' ignored when e.g. forecasting.', ValueWarning)\n",
      "/home/evgenii/.local/lib/python3.6/site-packages/statsmodels/tsa/statespace/sarimax.py:937: RuntimeWarning: Mean of empty slice.\n",
      "  params_variance = (residuals[k_params_ma:]**2).mean()\n",
      "/home/evgenii/.local/lib/python3.6/site-packages/numpy/core/_methods.py:85: RuntimeWarning: invalid value encountered in double_scalars\n",
      "  ret = ret.dtype.type(ret / rcount)\n",
      "/home/evgenii/.local/lib/python3.6/site-packages/statsmodels/tsa/statespace/sarimax.py:1051: DeprecationWarning: The truth value of an empty array is ambiguous. Returning False, but in future this will result in an error. Use `array.size > 0` to check that an array is not empty.\n",
      "  if self.state_error and params_variance == []:\n"
     ]
    },
    {
     "name": "stdout",
     "output_type": "stream",
     "text": [
      "wrong parameters: (5, 1, 1, 0)\n"
     ]
    },
    {
     "name": "stderr",
     "output_type": "stream",
     "text": [
      "/home/evgenii/.local/lib/python3.6/site-packages/statsmodels/base/model.py:508: ConvergenceWarning: Maximum Likelihood optimization failed to converge. Check mle_retvals\n",
      "  \"Check mle_retvals\", ConvergenceWarning)\n",
      "/home/evgenii/.local/lib/python3.6/site-packages/statsmodels/tsa/base/tsa_model.py:531: ValueWarning: No supported index is available. Prediction results will be given with an integer index beginning at `start`.\n",
      "  ValueWarning)\n",
      "/home/evgenii/.local/lib/python3.6/site-packages/statsmodels/tsa/base/tsa_model.py:221: ValueWarning: An unsupported index was provided and will be ignored when e.g. forecasting.\n",
      "  ' ignored when e.g. forecasting.', ValueWarning)\n",
      "/home/evgenii/.local/lib/python3.6/site-packages/statsmodels/tsa/statespace/sarimax.py:1051: DeprecationWarning: The truth value of an empty array is ambiguous. Returning False, but in future this will result in an error. Use `array.size > 0` to check that an array is not empty.\n",
      "  if self.state_error and params_variance == []:\n"
     ]
    },
    {
     "name": "stdout",
     "output_type": "stream",
     "text": [
      "wrong parameters: (5, 1, 1, 1)\n",
      "wrong parameters: (5, 1, 1, 2)\n"
     ]
    },
    {
     "name": "stderr",
     "output_type": "stream",
     "text": [
      "/home/evgenii/.local/lib/python3.6/site-packages/statsmodels/tsa/base/tsa_model.py:531: ValueWarning: No supported index is available. Prediction results will be given with an integer index beginning at `start`.\n",
      "  ValueWarning)\n",
      "/home/evgenii/.local/lib/python3.6/site-packages/statsmodels/tsa/base/tsa_model.py:221: ValueWarning: An unsupported index was provided and will be ignored when e.g. forecasting.\n",
      "  ' ignored when e.g. forecasting.', ValueWarning)\n",
      "/home/evgenii/.local/lib/python3.6/site-packages/statsmodels/tsa/statespace/sarimax.py:937: RuntimeWarning: Mean of empty slice.\n",
      "  params_variance = (residuals[k_params_ma:]**2).mean()\n",
      "/home/evgenii/.local/lib/python3.6/site-packages/numpy/core/_methods.py:85: RuntimeWarning: invalid value encountered in double_scalars\n",
      "  ret = ret.dtype.type(ret / rcount)\n",
      "/home/evgenii/.local/lib/python3.6/site-packages/statsmodels/tsa/statespace/sarimax.py:1051: DeprecationWarning: The truth value of an empty array is ambiguous. Returning False, but in future this will result in an error. Use `array.size > 0` to check that an array is not empty.\n",
      "  if self.state_error and params_variance == []:\n"
     ]
    },
    {
     "name": "stdout",
     "output_type": "stream",
     "text": [
      "wrong parameters: (5, 1, 2, 0)\n"
     ]
    },
    {
     "name": "stderr",
     "output_type": "stream",
     "text": [
      "/home/evgenii/.local/lib/python3.6/site-packages/statsmodels/base/model.py:508: ConvergenceWarning: Maximum Likelihood optimization failed to converge. Check mle_retvals\n",
      "  \"Check mle_retvals\", ConvergenceWarning)\n",
      "/home/evgenii/.local/lib/python3.6/site-packages/statsmodels/tsa/base/tsa_model.py:531: ValueWarning: No supported index is available. Prediction results will be given with an integer index beginning at `start`.\n",
      "  ValueWarning)\n",
      "/home/evgenii/.local/lib/python3.6/site-packages/statsmodels/tsa/base/tsa_model.py:221: ValueWarning: An unsupported index was provided and will be ignored when e.g. forecasting.\n",
      "  ' ignored when e.g. forecasting.', ValueWarning)\n",
      "/home/evgenii/.local/lib/python3.6/site-packages/statsmodels/tsa/statespace/sarimax.py:1051: DeprecationWarning: The truth value of an empty array is ambiguous. Returning False, but in future this will result in an error. Use `array.size > 0` to check that an array is not empty.\n",
      "  if self.state_error and params_variance == []:\n"
     ]
    },
    {
     "name": "stdout",
     "output_type": "stream",
     "text": [
      "wrong parameters: (5, 1, 2, 1)\n",
      "wrong parameters: (5, 1, 2, 2)\n"
     ]
    },
    {
     "name": "stderr",
     "output_type": "stream",
     "text": [
      "/home/evgenii/.local/lib/python3.6/site-packages/statsmodels/base/model.py:508: ConvergenceWarning: Maximum Likelihood optimization failed to converge. Check mle_retvals\n",
      "  \"Check mle_retvals\", ConvergenceWarning)\n",
      "/home/evgenii/.local/lib/python3.6/site-packages/statsmodels/tsa/base/tsa_model.py:531: ValueWarning: No supported index is available. Prediction results will be given with an integer index beginning at `start`.\n",
      "  ValueWarning)\n",
      "\n",
      "\n",
      "\n",
      "\n",
      " 83%|████████▎ | 250/300 [01:18<00:26,  1.86it/s]\u001b[A\u001b[A\u001b[A\u001b[A/home/evgenii/.local/lib/python3.6/site-packages/statsmodels/tsa/base/tsa_model.py:221: ValueWarning: An unsupported index was provided and will be ignored when e.g. forecasting.\n",
      "  ' ignored when e.g. forecasting.', ValueWarning)\n",
      "/home/evgenii/.local/lib/python3.6/site-packages/statsmodels/tsa/statespace/sarimax.py:937: RuntimeWarning: Mean of empty slice.\n",
      "  params_variance = (residuals[k_params_ma:]**2).mean()\n",
      "/home/evgenii/.local/lib/python3.6/site-packages/numpy/core/_methods.py:85: RuntimeWarning: invalid value encountered in double_scalars\n",
      "  ret = ret.dtype.type(ret / rcount)\n",
      "/home/evgenii/.local/lib/python3.6/site-packages/statsmodels/tsa/statespace/sarimax.py:1051: DeprecationWarning: The truth value of an empty array is ambiguous. Returning False, but in future this will result in an error. Use `array.size > 0` to check that an array is not empty.\n",
      "  if self.state_error and params_variance == []:\n"
     ]
    },
    {
     "name": "stdout",
     "output_type": "stream",
     "text": [
      "wrong parameters: (5, 1, 3, 0)\n"
     ]
    },
    {
     "name": "stderr",
     "output_type": "stream",
     "text": [
      "/home/evgenii/.local/lib/python3.6/site-packages/statsmodels/base/model.py:508: ConvergenceWarning: Maximum Likelihood optimization failed to converge. Check mle_retvals\n",
      "  \"Check mle_retvals\", ConvergenceWarning)\n",
      "/home/evgenii/.local/lib/python3.6/site-packages/statsmodels/tsa/base/tsa_model.py:531: ValueWarning: No supported index is available. Prediction results will be given with an integer index beginning at `start`.\n",
      "  ValueWarning)\n",
      "\n",
      "\n",
      "\n",
      "\n",
      " 84%|████████▎ | 251/300 [01:22<01:18,  1.60s/it]\u001b[A\u001b[A\u001b[A\u001b[A/home/evgenii/.local/lib/python3.6/site-packages/statsmodels/tsa/base/tsa_model.py:221: ValueWarning: An unsupported index was provided and will be ignored when e.g. forecasting.\n",
      "  ' ignored when e.g. forecasting.', ValueWarning)\n",
      "\n",
      "\n",
      "\n",
      "\n",
      " 90%|████████▉ | 269/300 [01:22<00:34,  1.12s/it]\u001b[A\u001b[A\u001b[A\u001b[A/home/evgenii/.local/lib/python3.6/site-packages/statsmodels/tsa/statespace/sarimax.py:1051: DeprecationWarning: The truth value of an empty array is ambiguous. Returning False, but in future this will result in an error. Use `array.size > 0` to check that an array is not empty.\n",
      "  if self.state_error and params_variance == []:\n",
      "/home/evgenii/.local/lib/python3.6/site-packages/statsmodels/tools/numdiff.py:202: RuntimeWarning: overflow encountered in true_divide\n",
      "  for i, ih in enumerate(increments)]\n",
      "/home/evgenii/.local/lib/python3.6/site-packages/statsmodels/tsa/base/tsa_model.py:531: ValueWarning: No supported index is available. Prediction results will be given with an integer index beginning at `start`.\n",
      "  ValueWarning)\n",
      "/home/evgenii/.local/lib/python3.6/site-packages/statsmodels/tsa/base/tsa_model.py:221: ValueWarning: An unsupported index was provided and will be ignored when e.g. forecasting.\n",
      "  ' ignored when e.g. forecasting.', ValueWarning)\n"
     ]
    },
    {
     "name": "stdout",
     "output_type": "stream",
     "text": [
      "wrong parameters: (5, 1, 3, 1)\n",
      "wrong parameters: (5, 1, 3, 2)\n",
      "wrong parameters: (5, 2, 0, 0)\n",
      "wrong parameters: (5, 2, 0, 1)\n",
      "wrong parameters: (5, 2, 0, 2)\n",
      "wrong parameters: (5, 2, 1, 0)\n",
      "wrong parameters: (5, 2, 1, 1)\n",
      "wrong parameters: (5, 2, 1, 2)\n",
      "wrong parameters: (5, 2, 2, 0)\n",
      "wrong parameters: (5, 2, 2, 1)\n",
      "wrong parameters: (5, 2, 2, 2)\n",
      "wrong parameters: (5, 2, 3, 0)\n",
      "wrong parameters: (5, 2, 3, 1)\n",
      "wrong parameters: (5, 2, 3, 2)\n",
      "wrong parameters: (5, 3, 0, 0)\n",
      "wrong parameters: (5, 3, 0, 1)\n",
      "wrong parameters: (5, 3, 0, 2)\n",
      "wrong parameters: (5, 3, 1, 0)\n",
      "wrong parameters: (5, 3, 1, 1)\n",
      "wrong parameters: (5, 3, 1, 2)\n",
      "wrong parameters: (5, 3, 2, 0)\n",
      "wrong parameters: (5, 3, 2, 1)\n",
      "wrong parameters: (5, 3, 2, 2)\n",
      "wrong parameters: (5, 3, 3, 0)\n",
      "wrong parameters: (5, 3, 3, 1)\n",
      "wrong parameters: (5, 3, 3, 2)\n",
      "wrong parameters: (5, 4, 0, 0)\n",
      "wrong parameters: (5, 4, 0, 1)\n",
      "wrong parameters: (5, 4, 0, 2)\n",
      "wrong parameters: (5, 4, 1, 0)\n",
      "wrong parameters: (5, 4, 1, 1)\n",
      "wrong parameters: (5, 4, 1, 2)\n",
      "wrong parameters: (5, 4, 2, 0)\n",
      "wrong parameters: (5, 4, 2, 1)\n",
      "wrong parameters: (5, 4, 2, 2)\n",
      "wrong parameters: (5, 4, 3, 0)\n",
      "wrong parameters: (5, 4, 3, 1)\n",
      "wrong parameters: (5, 4, 3, 2)\n",
      "wrong parameters: (5, 5, 0, 0)\n",
      "wrong parameters: (5, 5, 0, 1)\n",
      "wrong parameters:"
     ]
    },
    {
     "name": "stderr",
     "output_type": "stream",
     "text": [
      "/home/evgenii/.local/lib/python3.6/site-packages/statsmodels/tsa/statespace/sarimax.py:937: RuntimeWarning: Mean of empty slice.\n",
      "  params_variance = (residuals[k_params_ma:]**2).mean()\n",
      "/home/evgenii/.local/lib/python3.6/site-packages/numpy/core/_methods.py:85: RuntimeWarning: invalid value encountered in double_scalars\n",
      "  ret = ret.dtype.type(ret / rcount)\n",
      "\n",
      "\n",
      "\n",
      "\n",
      " 97%|█████████▋| 291/300 [01:22<00:07,  1.27it/s]\u001b[A\u001b[A\u001b[A\u001b[A/home/evgenii/.local/lib/python3.6/site-packages/statsmodels/tsa/statespace/sarimax.py:1051: DeprecationWarning: The truth value of an empty array is ambiguous. Returning False, but in future this will result in an error. Use `array.size > 0` to check that an array is not empty.\n",
      "  if self.state_error and params_variance == []:\n"
     ]
    },
    {
     "name": "stdout",
     "output_type": "stream",
     "text": [
      " (5, 5, 0, 2)\n",
      "wrong parameters: (5, 5, 1, 0)\n",
      "wrong parameters: (5, 5, 1, 1)\n",
      "wrong parameters: (5, 5, 1, 2)\n",
      "wrong parameters: (5, 5, 2, 0)\n"
     ]
    },
    {
     "name": "stderr",
     "output_type": "stream",
     "text": [
      "/home/evgenii/.local/lib/python3.6/site-packages/statsmodels/tools/numdiff.py:202: RuntimeWarning: overflow encountered in true_divide\n",
      "  for i, ih in enumerate(increments)]\n",
      "/home/evgenii/.local/lib/python3.6/site-packages/statsmodels/tsa/base/tsa_model.py:531: ValueWarning: No supported index is available. Prediction results will be given with an integer index beginning at `start`.\n",
      "  ValueWarning)\n",
      "/home/evgenii/.local/lib/python3.6/site-packages/statsmodels/tsa/base/tsa_model.py:221: ValueWarning: An unsupported index was provided and will be ignored when e.g. forecasting.\n",
      "  ' ignored when e.g. forecasting.', ValueWarning)\n",
      "/home/evgenii/.local/lib/python3.6/site-packages/statsmodels/tsa/statespace/sarimax.py:1051: DeprecationWarning: The truth value of an empty array is ambiguous. Returning False, but in future this will result in an error. Use `array.size > 0` to check that an array is not empty.\n",
      "  if self.state_error and params_variance == []:\n"
     ]
    },
    {
     "name": "stdout",
     "output_type": "stream",
     "text": [
      "wrong parameters: (5, 5, 2, 1)\n",
      "wrong parameters: (5, 5, 2, 2)\n"
     ]
    },
    {
     "name": "stderr",
     "output_type": "stream",
     "text": [
      "/home/evgenii/.local/lib/python3.6/site-packages/statsmodels/tools/numdiff.py:202: RuntimeWarning: overflow encountered in true_divide\n",
      "  for i, ih in enumerate(increments)]\n",
      "/home/evgenii/.local/lib/python3.6/site-packages/statsmodels/tsa/base/tsa_model.py:531: ValueWarning: No supported index is available. Prediction results will be given with an integer index beginning at `start`.\n",
      "  ValueWarning)\n",
      "/home/evgenii/.local/lib/python3.6/site-packages/statsmodels/tsa/base/tsa_model.py:221: ValueWarning: An unsupported index was provided and will be ignored when e.g. forecasting.\n",
      "  ' ignored when e.g. forecasting.', ValueWarning)\n",
      "/home/evgenii/.local/lib/python3.6/site-packages/statsmodels/tsa/statespace/sarimax.py:937: RuntimeWarning: Mean of empty slice.\n",
      "  params_variance = (residuals[k_params_ma:]**2).mean()\n",
      "/home/evgenii/.local/lib/python3.6/site-packages/numpy/core/_methods.py:85: RuntimeWarning: invalid value encountered in double_scalars\n",
      "  ret = ret.dtype.type(ret / rcount)\n",
      "/home/evgenii/.local/lib/python3.6/site-packages/statsmodels/tsa/statespace/sarimax.py:1051: DeprecationWarning: The truth value of an empty array is ambiguous. Returning False, but in future this will result in an error. Use `array.size > 0` to check that an array is not empty.\n",
      "  if self.state_error and params_variance == []:\n",
      "/home/evgenii/.local/lib/python3.6/site-packages/statsmodels/tools/numdiff.py:202: RuntimeWarning: overflow encountered in true_divide\n",
      "  for i, ih in enumerate(increments)]\n"
     ]
    },
    {
     "name": "stdout",
     "output_type": "stream",
     "text": [
      "wrong parameters: (5, 5, 3, 0)\n"
     ]
    },
    {
     "name": "stderr",
     "output_type": "stream",
     "text": [
      "/home/evgenii/.local/lib/python3.6/site-packages/statsmodels/tsa/base/tsa_model.py:531: ValueWarning: No supported index is available. Prediction results will be given with an integer index beginning at `start`.\n",
      "  ValueWarning)\n",
      "/home/evgenii/.local/lib/python3.6/site-packages/statsmodels/tsa/base/tsa_model.py:221: ValueWarning: An unsupported index was provided and will be ignored when e.g. forecasting.\n",
      "  ' ignored when e.g. forecasting.', ValueWarning)\n",
      "\n",
      "\n",
      "\n",
      "\n",
      "100%|██████████| 300/300 [01:25<00:00,  3.51it/s]\u001b[A\u001b[A\u001b[A\u001b[A\n",
      "\n",
      "\n",
      "\n",
      "  0%|          | 0/300 [00:00<?, ?it/s]\u001b[A\u001b[A\u001b[A\u001b[A/home/evgenii/.local/lib/python3.6/site-packages/statsmodels/tsa/statespace/sarimax.py:1051: DeprecationWarning: The truth value of an empty array is ambiguous. Returning False, but in future this will result in an error. Use `array.size > 0` to check that an array is not empty.\n",
      "  if self.state_error and params_variance == []:\n",
      "/home/evgenii/.local/lib/python3.6/site-packages/statsmodels/tsa/base/tsa_model.py:531: ValueWarning: No supported index is available. Prediction results will be given with an integer index beginning at `start`.\n",
      "  ValueWarning)\n",
      "\n",
      "\n",
      "\n",
      "\n",
      "  0%|          | 1/300 [00:00<00:43,  6.82it/s]\u001b[A\u001b[A\u001b[A\u001b[A/home/evgenii/.local/lib/python3.6/site-packages/statsmodels/tsa/base/tsa_model.py:221: ValueWarning: An unsupported index was provided and will be ignored when e.g. forecasting.\n",
      "  ' ignored when e.g. forecasting.', ValueWarning)\n",
      "/home/evgenii/.local/lib/python3.6/site-packages/statsmodels/tsa/statespace/sarimax.py:1051: DeprecationWarning: The truth value of an empty array is ambiguous. Returning False, but in future this will result in an error. Use `array.size > 0` to check that an array is not empty.\n",
      "  if self.state_error and params_variance == []:\n"
     ]
    },
    {
     "name": "stdout",
     "output_type": "stream",
     "text": [
      "wrong parameters: (5, 5, 3, 1)\n",
      "wrong parameters: (5, 5, 3, 2)\n",
      "wrong parameters: (1, 1, 0, 0)\n",
      "wrong parameters: (1, 1, 0, 1)\n",
      "wrong parameters: (1, 1, 0, 2)\n"
     ]
    },
    {
     "name": "stderr",
     "output_type": "stream",
     "text": [
      "/home/evgenii/.local/lib/python3.6/site-packages/statsmodels/tsa/base/tsa_model.py:531: ValueWarning: No supported index is available. Prediction results will be given with an integer index beginning at `start`.\n",
      "  ValueWarning)\n",
      "\n",
      "\n",
      "\n",
      "\n",
      "  1%|▏         | 4/300 [00:00<00:38,  7.62it/s]\u001b[A\u001b[A\u001b[A\u001b[A/home/evgenii/.local/lib/python3.6/site-packages/statsmodels/tsa/base/tsa_model.py:221: ValueWarning: An unsupported index was provided and will be ignored when e.g. forecasting.\n",
      "  ' ignored when e.g. forecasting.', ValueWarning)\n",
      "/home/evgenii/.local/lib/python3.6/site-packages/statsmodels/tsa/statespace/sarimax.py:1051: DeprecationWarning: The truth value of an empty array is ambiguous. Returning False, but in future this will result in an error. Use `array.size > 0` to check that an array is not empty.\n",
      "  if self.state_error and params_variance == []:\n",
      "/home/evgenii/.local/lib/python3.6/site-packages/statsmodels/tsa/base/tsa_model.py:531: ValueWarning: No supported index is available. Prediction results will be given with an integer index beginning at `start`.\n",
      "  ValueWarning)\n",
      "\n",
      "\n",
      "\n",
      "\n",
      "  4%|▍         | 13/300 [00:00<00:28, 10.17it/s]\u001b[A\u001b[A\u001b[A\u001b[A"
     ]
    },
    {
     "name": "stdout",
     "output_type": "stream",
     "text": [
      "wrong parameters: (1, 1, 1, 0)\n",
      "wrong parameters: (1, 1, 1, 1)\n",
      "wrong parameters: (1, 1, 1, 2)\n",
      "wrong parameters: (1, 1, 2, 0)\n",
      "wrong parameters: (1, 1, 2, 1)\n",
      "wrong parameters: (1, 1, 2, 2)\n",
      "wrong parameters: (1, 1, 3, 0)\n",
      "wrong parameters: (1, 1, 3, 1)\n",
      "wrong parameters: (1, 1, 3, 2)\n",
      "wrong parameters: (1, 2, 0, 0)\n",
      "wrong parameters: (1, 2, 0, 1)\n"
     ]
    },
    {
     "name": "stderr",
     "output_type": "stream",
     "text": [
      "/home/evgenii/.local/lib/python3.6/site-packages/statsmodels/tsa/base/tsa_model.py:221: ValueWarning: An unsupported index was provided and will be ignored when e.g. forecasting.\n",
      "  ' ignored when e.g. forecasting.', ValueWarning)\n",
      "/home/evgenii/.local/lib/python3.6/site-packages/statsmodels/tsa/statespace/sarimax.py:1051: DeprecationWarning: The truth value of an empty array is ambiguous. Returning False, but in future this will result in an error. Use `array.size > 0` to check that an array is not empty.\n",
      "  if self.state_error and params_variance == []:\n"
     ]
    },
    {
     "name": "stdout",
     "output_type": "stream",
     "text": [
      "wrong parameters: (1, 2, 0, 2)\n"
     ]
    },
    {
     "name": "stderr",
     "output_type": "stream",
     "text": [
      "/home/evgenii/.local/lib/python3.6/site-packages/statsmodels/tsa/base/tsa_model.py:531: ValueWarning: No supported index is available. Prediction results will be given with an integer index beginning at `start`.\n",
      "  ValueWarning)\n",
      "\n",
      "\n",
      "\n",
      "\n",
      "  5%|▌         | 16/300 [00:01<00:31,  9.08it/s]\u001b[A\u001b[A\u001b[A\u001b[A/home/evgenii/.local/lib/python3.6/site-packages/statsmodels/tsa/base/tsa_model.py:221: ValueWarning: An unsupported index was provided and will be ignored when e.g. forecasting.\n",
      "  ' ignored when e.g. forecasting.', ValueWarning)\n",
      "\n",
      "\n",
      "\n",
      "\n",
      " 11%|█▏        | 34/300 [00:01<00:20, 12.69it/s]\u001b[A\u001b[A\u001b[A\u001b[A/home/evgenii/.local/lib/python3.6/site-packages/statsmodels/tsa/statespace/sarimax.py:937: RuntimeWarning: Mean of empty slice.\n",
      "  params_variance = (residuals[k_params_ma:]**2).mean()\n",
      "/home/evgenii/.local/lib/python3.6/site-packages/numpy/core/_methods.py:85: RuntimeWarning: invalid value encountered in double_scalars\n",
      "  ret = ret.dtype.type(ret / rcount)\n",
      "/home/evgenii/.local/lib/python3.6/site-packages/statsmodels/tsa/statespace/sarimax.py:1051: DeprecationWarning: The truth value of an empty array is ambiguous. Returning False, but in future this will result in an error. Use `array.size > 0` to check that an array is not empty.\n",
      "  if self.state_error and params_variance == []:\n"
     ]
    },
    {
     "name": "stdout",
     "output_type": "stream",
     "text": [
      "wrong parameters: (1, 2, 1, 0)\n",
      "wrong parameters: (1, 2, 1, 1)\n",
      "wrong parameters: (1, 2, 1, 2)\n",
      "wrong parameters: (1, 2, 2, 0)\n",
      "wrong parameters: (1, 2, 2, 1)\n",
      "wrong parameters: (1, 2, 2, 2)\n",
      "wrong parameters: (1, 2, 3, 0)\n",
      "wrong parameters: (1, 2, 3, 1)\n",
      "wrong parameters: (1, 2, 3, 2)\n",
      "wrong parameters: (1, 3, 0, 0)\n",
      "wrong parameters: (1, 3, 0, 1)\n",
      "wrong parameters: (1, 3, 0, 2)\n",
      "wrong parameters: (1, 3, 1, 0)\n",
      "wrong parameters: (1, 3, 1, 1)\n",
      "wrong parameters: (1, 3, 1, 2)\n",
      "wrong parameters: (1, 3, 2, 0)\n",
      "wrong parameters: (1, 3, 2, 1)\n",
      "wrong parameters: (1, 3, 2, 2)\n",
      "wrong parameters: (1, 3, 3, 0)\n",
      "wrong parameters: (1, 3, 3, 1)\n",
      "wrong parameters: (1, 3, 3, 2)\n",
      "wrong parameters: (1, 4, 0, 0)\n",
      "wrong parameters: (1, 4, 0, 1)\n",
      "wrong parameters: (1, 4, 0, 2)\n",
      "wrong parameters: (1, 4, 1, 0)\n",
      "wrong parameters: (1, 4, 1, 1)\n",
      "wrong parameters: (1, 4, 1, 2)\n",
      "wrong parameters: (1, 4, 2, 0)\n",
      "wrong parameters: (1, 4, 2, 1)\n",
      "wrong parameters: (1, 4, 2, 2)\n",
      "wrong parameters: (1, 4, 3, 0)\n",
      "wrong parameters: (1, 4, 3, 1)\n",
      "wrong parameters: (1, 4, 3, 2)\n",
      "wrong parameters: (1, 5, 0, 0)\n",
      "wrong parameters: (1, 5, 0, 1)\n",
      "wrong parameters: (1, 5, 0, 2)\n",
      "wrong parameters: (1, 5, 1, 0)\n",
      "wrong parameters: (1, 5, 1, 1)\n",
      "wrong parameters: (1, 5, 1, 2)\n",
      "wrong parameters: (1, 5, 2, 0)\n",
      "wrong parameters: (1, 5, 2, 1)\n",
      "wrong parameters: (1, 5, 2, 2)\n",
      "wrong parameters: (1, 5, 3, 0)\n",
      "wrong parameters: (1, 5, 3, 1)\n",
      "wrong parameters: (1, 5, 3, 2)\n"
     ]
    },
    {
     "name": "stderr",
     "output_type": "stream",
     "text": [
      "/home/evgenii/.local/lib/python3.6/site-packages/statsmodels/tsa/base/tsa_model.py:531: ValueWarning: No supported index is available. Prediction results will be given with an integer index beginning at `start`.\n",
      "  ValueWarning)\n",
      "\n",
      "\n",
      "\n",
      "\n",
      " 20%|██        | 61/300 [00:01<00:13, 17.56it/s]\u001b[A\u001b[A\u001b[A\u001b[A/home/evgenii/.local/lib/python3.6/site-packages/statsmodels/tsa/base/tsa_model.py:221: ValueWarning: An unsupported index was provided and will be ignored when e.g. forecasting.\n",
      "  ' ignored when e.g. forecasting.', ValueWarning)\n",
      "/home/evgenii/.local/lib/python3.6/site-packages/statsmodels/tsa/statespace/sarimax.py:1051: DeprecationWarning: The truth value of an empty array is ambiguous. Returning False, but in future this will result in an error. Use `array.size > 0` to check that an array is not empty.\n",
      "  if self.state_error and params_variance == []:\n"
     ]
    },
    {
     "name": "stdout",
     "output_type": "stream",
     "text": [
      "wrong parameters: (2, 1, 0, 0)\n",
      "wrong parameters: (2, 1, 0, 1)\n",
      "wrong parameters: (2, 1, 0, 2)\n"
     ]
    },
    {
     "name": "stderr",
     "output_type": "stream",
     "text": [
      "/home/evgenii/.local/lib/python3.6/site-packages/statsmodels/tsa/base/tsa_model.py:531: ValueWarning: No supported index is available. Prediction results will be given with an integer index beginning at `start`.\n",
      "  ValueWarning)\n",
      "/home/evgenii/.local/lib/python3.6/site-packages/statsmodels/tsa/base/tsa_model.py:221: ValueWarning: An unsupported index was provided and will be ignored when e.g. forecasting.\n",
      "  ' ignored when e.g. forecasting.', ValueWarning)\n",
      "\n",
      "\n",
      "\n",
      "\n",
      " 24%|██▎       | 71/300 [00:01<00:12, 18.15it/s]\u001b[A\u001b[A\u001b[A\u001b[A/home/evgenii/.local/lib/python3.6/site-packages/statsmodels/tsa/statespace/sarimax.py:1051: DeprecationWarning: The truth value of an empty array is ambiguous. Returning False, but in future this will result in an error. Use `array.size > 0` to check that an array is not empty.\n",
      "  if self.state_error and params_variance == []:\n"
     ]
    },
    {
     "name": "stdout",
     "output_type": "stream",
     "text": [
      "wrong parameters: (2, 1, 1, 0)\n",
      "wrong parameters: (2, 1, 1, 1)\n",
      "wrong parameters: (2, 1, 1, 2)\n",
      "wrong parameters: (2, 1, 2, 0)\n",
      "wrong parameters: (2, 1, 2, 1)\n",
      "wrong parameters: (2, 1, 2, 2)\n",
      "wrong parameters: (2, 1, 3, 0)\n",
      "wrong parameters: (2, 1, 3, 1)\n",
      "wrong parameters: (2, 1, 3, 2)\n"
     ]
    },
    {
     "name": "stderr",
     "output_type": "stream",
     "text": [
      "/home/evgenii/.local/lib/python3.6/site-packages/statsmodels/tsa/base/tsa_model.py:531: ValueWarning: No supported index is available. Prediction results will be given with an integer index beginning at `start`.\n",
      "  ValueWarning)\n",
      "/home/evgenii/.local/lib/python3.6/site-packages/statsmodels/tsa/base/tsa_model.py:221: ValueWarning: An unsupported index was provided and will be ignored when e.g. forecasting.\n",
      "  ' ignored when e.g. forecasting.', ValueWarning)\n",
      "/home/evgenii/.local/lib/python3.6/site-packages/statsmodels/tsa/statespace/sarimax.py:1051: DeprecationWarning: The truth value of an empty array is ambiguous. Returning False, but in future this will result in an error. Use `array.size > 0` to check that an array is not empty.\n",
      "  if self.state_error and params_variance == []:\n"
     ]
    },
    {
     "name": "stdout",
     "output_type": "stream",
     "text": [
      "wrong parameters: (2, 2, 0, 0)\n",
      "wrong parameters: (2, 2, 0, 1)\n",
      "wrong parameters: (2, 2, 0, 2)\n"
     ]
    },
    {
     "name": "stderr",
     "output_type": "stream",
     "text": [
      "/home/evgenii/.local/lib/python3.6/site-packages/statsmodels/base/model.py:508: ConvergenceWarning: Maximum Likelihood optimization failed to converge. Check mle_retvals\n",
      "  \"Check mle_retvals\", ConvergenceWarning)\n",
      "/home/evgenii/.local/lib/python3.6/site-packages/statsmodels/tsa/base/tsa_model.py:531: ValueWarning: No supported index is available. Prediction results will be given with an integer index beginning at `start`.\n",
      "  ValueWarning)\n",
      "/home/evgenii/.local/lib/python3.6/site-packages/statsmodels/tsa/base/tsa_model.py:221: ValueWarning: An unsupported index was provided and will be ignored when e.g. forecasting.\n",
      "  ' ignored when e.g. forecasting.', ValueWarning)\n",
      "\n",
      "\n",
      "\n",
      "\n",
      " 26%|██▋       | 79/300 [00:02<00:16, 13.48it/s]\u001b[A\u001b[A\u001b[A\u001b[A/home/evgenii/.local/lib/python3.6/site-packages/statsmodels/tsa/statespace/sarimax.py:937: RuntimeWarning: Mean of empty slice.\n",
      "  params_variance = (residuals[k_params_ma:]**2).mean()\n",
      "/home/evgenii/.local/lib/python3.6/site-packages/numpy/core/_methods.py:85: RuntimeWarning: invalid value encountered in double_scalars\n",
      "  ret = ret.dtype.type(ret / rcount)\n",
      "/home/evgenii/.local/lib/python3.6/site-packages/statsmodels/tsa/statespace/sarimax.py:1051: DeprecationWarning: The truth value of an empty array is ambiguous. Returning False, but in future this will result in an error. Use `array.size > 0` to check that an array is not empty.\n",
      "  if self.state_error and params_variance == []:\n",
      "/home/evgenii/.local/lib/python3.6/site-packages/statsmodels/tools/numdiff.py:96: RuntimeWarning: invalid value encountered in maximum\n",
      "  h = EPS**(1. / s) * np.maximum(np.abs(x), 0.1)\n",
      "/home/evgenii/.local/lib/python3.6/site-packages/statsmodels/tsa/base/tsa_model.py:531: ValueWarning: No supported index is available. Prediction results will be given with an integer index beginning at `start`.\n",
      "  ValueWarning)\n",
      "\n",
      "\n",
      "\n",
      "\n",
      " 36%|███▋      | 109/300 [00:02<00:10, 18.86it/s]\u001b[A\u001b[A\u001b[A\u001b[A/home/evgenii/.local/lib/python3.6/site-packages/statsmodels/tsa/base/tsa_model.py:221: ValueWarning: An unsupported index was provided and will be ignored when e.g. forecasting.\n",
      "  ' ignored when e.g. forecasting.', ValueWarning)\n",
      "/home/evgenii/.local/lib/python3.6/site-packages/statsmodels/tsa/statespace/sarimax.py:937: RuntimeWarning: Mean of empty slice.\n",
      "  params_variance = (residuals[k_params_ma:]**2).mean()\n",
      "/home/evgenii/.local/lib/python3.6/site-packages/numpy/core/_methods.py:85: RuntimeWarning: invalid value encountered in double_scalars\n",
      "  ret = ret.dtype.type(ret / rcount)\n",
      "/home/evgenii/.local/lib/python3.6/site-packages/statsmodels/tsa/statespace/sarimax.py:1051: DeprecationWarning: The truth value of an empty array is ambiguous. Returning False, but in future this will result in an error. Use `array.size > 0` to check that an array is not empty.\n",
      "  if self.state_error and params_variance == []:\n"
     ]
    },
    {
     "name": "stdout",
     "output_type": "stream",
     "text": [
      "wrong parameters: (2, 2, 1, 0)\n",
      "wrong parameters: (2, 2, 1, 1)\n",
      "wrong parameters: (2, 2, 1, 2)\n",
      "wrong parameters: (2, 2, 2, 0)\n",
      "wrong parameters: (2, 2, 2, 1)\n",
      "wrong parameters: (2, 2, 2, 2)\n",
      "wrong parameters: (2, 2, 3, 0)\n",
      "wrong parameters: (2, 2, 3, 1)\n",
      "wrong parameters: (2, 2, 3, 2)\n",
      "wrong parameters: (2, 3, 0, 0)\n",
      "wrong parameters: (2, 3, 0, 1)\n",
      "wrong parameters: (2, 3, 0, 2)\n",
      "wrong parameters: (2, 3, 1, 0)\n",
      "wrong parameters: (2, 3, 1, 1)\n",
      "wrong parameters: (2, 3, 1, 2)\n",
      "wrong parameters: (2, 3, 2, 0)\n",
      "wrong parameters: (2, 3, 2, 1)\n",
      "wrong parameters: (2, 3, 2, 2)\n",
      "wrong parameters: (2, 3, 3, 0)\n",
      "wrong parameters: (2, 3, 3, 1)\n",
      "wrong parameters: (2, 3, 3, 2)\n",
      "wrong parameters: (2, 4, 0, 0)\n",
      "wrong parameters: (2, 4, 0, 1)\n",
      "wrong parameters: (2, 4, 0, 2)\n",
      "wrong parameters: (2, 4, 1, 0)\n",
      "wrong parameters: (2, 4, 1, 1)\n",
      "wrong parameters: (2, 4, 1, 2)\n",
      "wrong parameters: (2, 4, 2, 0)\n",
      "wrong parameters: (2, 4, 2, 1)\n",
      "wrong parameters: (2, 4, 2, 2)\n",
      "wrong parameters: (2, 4, 3, 0)\n",
      "wrong parameters: (2, 4, 3, 1)\n",
      "wrong parameters: (2, 4, 3, 2)\n",
      "wrong parameters: (2, 5, 0, 0)\n",
      "wrong parameters: (2, 5, 0, 1)\n",
      "wrong parameters: (2, 5, 0, 2)\n"
     ]
    },
    {
     "name": "stderr",
     "output_type": "stream",
     "text": [
      "/home/evgenii/.local/lib/python3.6/site-packages/statsmodels/tools/numdiff.py:96: RuntimeWarning: invalid value encountered in maximum\n",
      "  h = EPS**(1. / s) * np.maximum(np.abs(x), 0.1)\n",
      "/home/evgenii/.local/lib/python3.6/site-packages/statsmodels/tsa/base/tsa_model.py:531: ValueWarning: No supported index is available. Prediction results will be given with an integer index beginning at `start`.\n",
      "  ValueWarning)\n",
      "/home/evgenii/.local/lib/python3.6/site-packages/statsmodels/tsa/base/tsa_model.py:221: ValueWarning: An unsupported index was provided and will be ignored when e.g. forecasting.\n",
      "  ' ignored when e.g. forecasting.', ValueWarning)\n",
      "/home/evgenii/.local/lib/python3.6/site-packages/statsmodels/tsa/statespace/sarimax.py:937: RuntimeWarning: Mean of empty slice.\n",
      "  params_variance = (residuals[k_params_ma:]**2).mean()\n",
      "/home/evgenii/.local/lib/python3.6/site-packages/numpy/core/_methods.py:85: RuntimeWarning: invalid value encountered in double_scalars\n",
      "  ret = ret.dtype.type(ret / rcount)\n",
      "/home/evgenii/.local/lib/python3.6/site-packages/statsmodels/tsa/statespace/sarimax.py:1051: DeprecationWarning: The truth value of an empty array is ambiguous. Returning False, but in future this will result in an error. Use `array.size > 0` to check that an array is not empty.\n",
      "  if self.state_error and params_variance == []:\n",
      "/home/evgenii/.local/lib/python3.6/site-packages/statsmodels/tsa/base/tsa_model.py:531: ValueWarning: No supported index is available. Prediction results will be given with an integer index beginning at `start`.\n",
      "  ValueWarning)\n",
      "\n",
      "\n",
      "\n",
      "\n",
      " 40%|████      | 121/300 [00:03<00:08, 22.16it/s]\u001b[A\u001b[A\u001b[A\u001b[A"
     ]
    },
    {
     "name": "stdout",
     "output_type": "stream",
     "text": [
      "wrong parameters: (2, 5, 1, 0)\n",
      "wrong parameters: (2, 5, 1, 1)\n",
      "wrong parameters: (2, 5, 1, 2)\n",
      "wrong parameters: (2, 5, 2, 0)\n",
      "wrong parameters: (2, 5, 2, 1)\n",
      "wrong parameters: (2, 5, 2, 2)\n",
      "wrong parameters: (2, 5, 3, 0)\n",
      "wrong parameters: (2, 5, 3, 1)\n",
      "wrong parameters: (2, 5, 3, 2)\n",
      "wrong parameters: (3, 1, 0, 0)\n"
     ]
    },
    {
     "name": "stderr",
     "output_type": "stream",
     "text": [
      "/home/evgenii/.local/lib/python3.6/site-packages/statsmodels/tsa/base/tsa_model.py:221: ValueWarning: An unsupported index was provided and will be ignored when e.g. forecasting.\n",
      "  ' ignored when e.g. forecasting.', ValueWarning)\n",
      "/home/evgenii/.local/lib/python3.6/site-packages/statsmodels/tsa/statespace/sarimax.py:1051: DeprecationWarning: The truth value of an empty array is ambiguous. Returning False, but in future this will result in an error. Use `array.size > 0` to check that an array is not empty.\n",
      "  if self.state_error and params_variance == []:\n"
     ]
    },
    {
     "name": "stdout",
     "output_type": "stream",
     "text": [
      "wrong parameters: (3, 1, 0, 1)\n",
      "wrong parameters: (3, 1, 0, 2)\n"
     ]
    },
    {
     "name": "stderr",
     "output_type": "stream",
     "text": [
      "/home/evgenii/.local/lib/python3.6/site-packages/statsmodels/tsa/base/tsa_model.py:531: ValueWarning: No supported index is available. Prediction results will be given with an integer index beginning at `start`.\n",
      "  ValueWarning)\n",
      "/home/evgenii/.local/lib/python3.6/site-packages/statsmodels/tsa/base/tsa_model.py:221: ValueWarning: An unsupported index was provided and will be ignored when e.g. forecasting.\n",
      "  ' ignored when e.g. forecasting.', ValueWarning)\n",
      "\n",
      "\n",
      "\n",
      "\n",
      " 44%|████▎     | 131/300 [00:03<00:08, 20.36it/s]\u001b[A\u001b[A\u001b[A\u001b[A\n",
      "\n",
      "\n",
      "\n",
      " 54%|█████▎    | 161/300 [00:03<00:04, 28.26it/s]\u001b[A\u001b[A\u001b[A\u001b[A/home/evgenii/.local/lib/python3.6/site-packages/statsmodels/tsa/statespace/sarimax.py:937: RuntimeWarning: Mean of empty slice.\n",
      "  params_variance = (residuals[k_params_ma:]**2).mean()\n",
      "/home/evgenii/.local/lib/python3.6/site-packages/numpy/core/_methods.py:85: RuntimeWarning: invalid value encountered in double_scalars\n",
      "  ret = ret.dtype.type(ret / rcount)\n",
      "/home/evgenii/.local/lib/python3.6/site-packages/statsmodels/tsa/statespace/sarimax.py:1051: DeprecationWarning: The truth value of an empty array is ambiguous. Returning False, but in future this will result in an error. Use `array.size > 0` to check that an array is not empty.\n",
      "  if self.state_error and params_variance == []:\n",
      "/home/evgenii/.local/lib/python3.6/site-packages/statsmodels/tools/numdiff.py:96: RuntimeWarning: invalid value encountered in maximum\n",
      "  h = EPS**(1. / s) * np.maximum(np.abs(x), 0.1)\n"
     ]
    },
    {
     "name": "stdout",
     "output_type": "stream",
     "text": [
      "wrong parameters: (3, 1, 1, 0)\n",
      "wrong parameters: (3, 1, 1, 1)\n",
      "wrong parameters: (3, 1, 1, 2)\n",
      "wrong parameters: (3, 1, 2, 0)\n",
      "wrong parameters: (3, 1, 2, 1)\n",
      "wrong parameters: (3, 1, 2, 2)\n",
      "wrong parameters: (3, 1, 3, 0)\n",
      "wrong parameters: (3, 1, 3, 1)\n",
      "wrong parameters: (3, 1, 3, 2)\n",
      "wrong parameters: (3, 2, 0, 0)\n",
      "wrong parameters: (3, 2, 0, 1)\n",
      "wrong parameters: (3, 2, 0, 2)\n",
      "wrong parameters: (3, 2, 1, 0)\n",
      "wrong parameters: (3, 2, 1, 1)\n",
      "wrong parameters: (3, 2, 1, 2)\n",
      "wrong parameters: (3, 2, 2, 0)\n",
      "wrong parameters: (3, 2, 2, 1)\n",
      "wrong parameters: (3, 2, 2, 2)\n",
      "wrong parameters: (3, 2, 3, 0)\n",
      "wrong parameters: (3, 2, 3, 1)\n",
      "wrong parameters: (3, 2, 3, 2)\n",
      "wrong parameters: (3, 3, 0, 0)\n",
      "wrong parameters: (3, 3, 0, 1)\n",
      "wrong parameters: (3, 3, 0, 2)\n",
      "wrong parameters: (3, 3, 1, 0)\n",
      "wrong parameters: (3, 3, 1, 1)\n",
      "wrong parameters: (3, 3, 1, 2)\n",
      "wrong parameters: (3, 3, 2, 0)\n",
      "wrong parameters: (3, 3, 2, 1)\n",
      "wrong parameters: (3, 3, 2, 2)\n",
      "wrong parameters: (3, 3, 3, 0)\n",
      "wrong parameters: (3, 3, 3, 1)\n",
      "wrong parameters: (3, 3, 3, 2)\n",
      "wrong parameters: (3, 4, 0, 0)\n",
      "wrong parameters: (3, 4, 0, 1)\n",
      "wrong parameters: (3, 4, 0, 2)\n",
      "wrong parameters: (3, 4, 1, 0)\n",
      "wrong parameters: (3, 4, 1, 1)\n",
      "wrong parameters: (3, 4, 1, 2)\n",
      "wrong parameters: (3, 4, 2, 0)\n",
      "wrong parameters: (3, 4, 2, 1)\n",
      "wrong parameters: (3, 4, 2, 2)\n",
      "wrong parameters: (3, 4, 3, 0)\n",
      "wrong parameters: (3, 4, 3, 1)\n",
      "wrong parameters: (3, 4, 3, 2)\n"
     ]
    },
    {
     "name": "stderr",
     "output_type": "stream",
     "text": [
      "/home/evgenii/.local/lib/python3.6/site-packages/statsmodels/tsa/base/tsa_model.py:531: ValueWarning: No supported index is available. Prediction results will be given with an integer index beginning at `start`.\n",
      "  ValueWarning)\n",
      "/home/evgenii/.local/lib/python3.6/site-packages/statsmodels/tsa/base/tsa_model.py:221: ValueWarning: An unsupported index was provided and will be ignored when e.g. forecasting.\n",
      "  ' ignored when e.g. forecasting.', ValueWarning)\n",
      "/home/evgenii/.local/lib/python3.6/site-packages/statsmodels/tsa/statespace/sarimax.py:937: RuntimeWarning: Mean of empty slice.\n",
      "  params_variance = (residuals[k_params_ma:]**2).mean()\n",
      "/home/evgenii/.local/lib/python3.6/site-packages/numpy/core/_methods.py:85: RuntimeWarning: invalid value encountered in double_scalars\n",
      "  ret = ret.dtype.type(ret / rcount)\n",
      "/home/evgenii/.local/lib/python3.6/site-packages/statsmodels/tsa/statespace/sarimax.py:1051: DeprecationWarning: The truth value of an empty array is ambiguous. Returning False, but in future this will result in an error. Use `array.size > 0` to check that an array is not empty.\n",
      "  if self.state_error and params_variance == []:\n",
      "/home/evgenii/.local/lib/python3.6/site-packages/statsmodels/tools/numdiff.py:96: RuntimeWarning: invalid value encountered in maximum\n",
      "  h = EPS**(1. / s) * np.maximum(np.abs(x), 0.1)\n",
      "/home/evgenii/.local/lib/python3.6/site-packages/statsmodels/tsa/base/tsa_model.py:531: ValueWarning: No supported index is available. Prediction results will be given with an integer index beginning at `start`.\n",
      "  ValueWarning)\n",
      "/home/evgenii/.local/lib/python3.6/site-packages/statsmodels/tsa/base/tsa_model.py:221: ValueWarning: An unsupported index was provided and will be ignored when e.g. forecasting.\n",
      "  ' ignored when e.g. forecasting.', ValueWarning)\n",
      "/home/evgenii/.local/lib/python3.6/site-packages/statsmodels/tsa/statespace/sarimax.py:937: RuntimeWarning: Mean of empty slice.\n",
      "  params_variance = (residuals[k_params_ma:]**2).mean()\n",
      "/home/evgenii/.local/lib/python3.6/site-packages/numpy/core/_methods.py:85: RuntimeWarning: invalid value encountered in double_scalars\n",
      "  ret = ret.dtype.type(ret / rcount)\n",
      "\n",
      "\n",
      "\n",
      "\n",
      " 58%|█████▊    | 175/300 [00:04<00:03, 33.17it/s]\u001b[A\u001b[A\u001b[A\u001b[A/home/evgenii/.local/lib/python3.6/site-packages/statsmodels/tsa/statespace/sarimax.py:1051: DeprecationWarning: The truth value of an empty array is ambiguous. Returning False, but in future this will result in an error. Use `array.size > 0` to check that an array is not empty.\n",
      "  if self.state_error and params_variance == []:\n"
     ]
    },
    {
     "name": "stdout",
     "output_type": "stream",
     "text": [
      "wrong parameters: (3, 5, 0, 0)\n",
      "wrong parameters: (3, 5, 0, 1)\n",
      "wrong parameters: (3, 5, 0, 2)\n",
      "wrong parameters: (3, 5, 1, 0)\n",
      "wrong parameters: (3, 5, 1, 1)\n",
      "wrong parameters: (3, 5, 1, 2)\n",
      "wrong parameters: (3, 5, 2, 0)\n",
      "wrong parameters: (3, 5, 2, 1)\n",
      "wrong parameters: (3, 5, 2, 2)\n",
      "wrong parameters: (3, 5, 3, 0)\n",
      "wrong parameters: (3, 5, 3, 1)\n",
      "wrong parameters: (3, 5, 3, 2)\n"
     ]
    },
    {
     "name": "stderr",
     "output_type": "stream",
     "text": [
      "/home/evgenii/.local/lib/python3.6/site-packages/statsmodels/base/model.py:508: ConvergenceWarning: Maximum Likelihood optimization failed to converge. Check mle_retvals\n",
      "  \"Check mle_retvals\", ConvergenceWarning)\n",
      "/home/evgenii/.local/lib/python3.6/site-packages/statsmodels/tsa/base/tsa_model.py:531: ValueWarning: No supported index is available. Prediction results will be given with an integer index beginning at `start`.\n",
      "  ValueWarning)\n",
      "/home/evgenii/.local/lib/python3.6/site-packages/statsmodels/tsa/base/tsa_model.py:221: ValueWarning: An unsupported index was provided and will be ignored when e.g. forecasting.\n",
      "  ' ignored when e.g. forecasting.', ValueWarning)\n",
      "/home/evgenii/.local/lib/python3.6/site-packages/statsmodels/tsa/statespace/sarimax.py:1051: DeprecationWarning: The truth value of an empty array is ambiguous. Returning False, but in future this will result in an error. Use `array.size > 0` to check that an array is not empty.\n",
      "  if self.state_error and params_variance == []:\n"
     ]
    },
    {
     "name": "stdout",
     "output_type": "stream",
     "text": [
      "wrong parameters: (4, 1, 0, 0)\n",
      "wrong parameters: (4, 1, 0, 1)\n",
      "wrong parameters: (4, 1, 0, 2)\n"
     ]
    },
    {
     "name": "stderr",
     "output_type": "stream",
     "text": [
      "/home/evgenii/.local/lib/python3.6/site-packages/statsmodels/tsa/base/tsa_model.py:531: ValueWarning: No supported index is available. Prediction results will be given with an integer index beginning at `start`.\n",
      "  ValueWarning)\n",
      "/home/evgenii/.local/lib/python3.6/site-packages/statsmodels/tsa/base/tsa_model.py:221: ValueWarning: An unsupported index was provided and will be ignored when e.g. forecasting.\n",
      "  ' ignored when e.g. forecasting.', ValueWarning)\n",
      "\n",
      "\n",
      "\n",
      "\n",
      " 62%|██████▏   | 187/300 [00:05<00:05, 21.31it/s]\u001b[A\u001b[A\u001b[A\u001b[A\n",
      "\n",
      "\n",
      "\n",
      " 75%|███████▌  | 225/300 [00:05<00:02, 29.72it/s]\u001b[A\u001b[A\u001b[A\u001b[A/home/evgenii/.local/lib/python3.6/site-packages/statsmodels/tsa/statespace/sarimax.py:937: RuntimeWarning: Mean of empty slice.\n",
      "  params_variance = (residuals[k_params_ma:]**2).mean()\n",
      "/home/evgenii/.local/lib/python3.6/site-packages/numpy/core/_methods.py:85: RuntimeWarning: invalid value encountered in double_scalars\n",
      "  ret = ret.dtype.type(ret / rcount)\n",
      "/home/evgenii/.local/lib/python3.6/site-packages/statsmodels/tsa/statespace/sarimax.py:1051: DeprecationWarning: The truth value of an empty array is ambiguous. Returning False, but in future this will result in an error. Use `array.size > 0` to check that an array is not empty.\n",
      "  if self.state_error and params_variance == []:\n",
      "/home/evgenii/.local/lib/python3.6/site-packages/statsmodels/tools/numdiff.py:96: RuntimeWarning: invalid value encountered in maximum\n",
      "  h = EPS**(1. / s) * np.maximum(np.abs(x), 0.1)\n",
      "/home/evgenii/.local/lib/python3.6/site-packages/statsmodels/tsa/base/tsa_model.py:531: ValueWarning: No supported index is available. Prediction results will be given with an integer index beginning at `start`.\n",
      "  ValueWarning)\n"
     ]
    },
    {
     "name": "stdout",
     "output_type": "stream",
     "text": [
      "wrong parameters: (4, 1, 1, 0)\n",
      "wrong parameters: (4, 1, 1, 1)\n",
      "wrong parameters: (4, 1, 1, 2)\n",
      "wrong parameters: (4, 1, 2, 0)\n",
      "wrong parameters: (4, 1, 2, 1)\n",
      "wrong parameters: (4, 1, 2, 2)\n",
      "wrong parameters: (4, 1, 3, 0)\n",
      "wrong parameters: (4, 1, 3, 1)\n",
      "wrong parameters: (4, 1, 3, 2)\n",
      "wrong parameters: (4, 2, 0, 0)\n",
      "wrong parameters: (4, 2, 0, 1)\n",
      "wrong parameters: (4, 2, 0, 2)\n",
      "wrong parameters: (4, 2, 1, 0)\n",
      "wrong parameters: (4, 2, 1, 1)\n",
      "wrong parameters: (4, 2, 1, 2)\n",
      "wrong parameters: (4, 2, 2, 0)\n",
      "wrong parameters: (4, 2, 2, 1)\n",
      "wrong parameters: (4, 2, 2, 2)\n",
      "wrong parameters: (4, 2, 3, 0)\n",
      "wrong parameters: (4, 2, 3, 1)\n",
      "wrong parameters: (4, 2, 3, 2)\n",
      "wrong parameters: (4, 3, 0, 0)\n",
      "wrong parameters: (4, 3, 0, 1)\n",
      "wrong parameters: (4, 3, 0, 2)\n",
      "wrong parameters: (4, 3, 1, 0)\n",
      "wrong parameters: (4, 3, 1, 1)\n",
      "wrong parameters: (4, 3, 1, 2)\n",
      "wrong parameters: (4, 3, 2, 0)\n",
      "wrong parameters: (4, 3, 2, 1)\n",
      "wrong parameters: (4, 3, 2, 2)\n",
      "wrong parameters: (4, 3, 3, 0)\n",
      "wrong parameters: (4, 3, 3, 1)\n",
      "wrong parameters: (4, 3, 3, 2)\n",
      "wrong parameters: (4, 4, 0, 0)\n",
      "wrong parameters: (4, 4, 0, 1)\n",
      "wrong parameters: (4, 4, 0, 2)\n",
      "wrong parameters: (4, 4, 1, 0)\n",
      "wrong parameters: (4, 4, 1, 1)\n",
      "wrong parameters: (4, 4, 1, 2)\n",
      "wrong parameters: (4, 4, 2, 0)\n",
      "wrong parameters: (4, 4, 2, 1)\n",
      "wrong parameters: (4, 4, 2, 2)\n",
      "wrong parameters: (4, 4, 3, 0)\n",
      "wrong parameters: (4, 4, 3, 1)\n",
      "wrong parameters: (4, 4, 3, 2)\n",
      "wrong parameters: (4, 5, 0, 0)\n"
     ]
    },
    {
     "name": "stderr",
     "output_type": "stream",
     "text": [
      "/home/evgenii/.local/lib/python3.6/site-packages/statsmodels/tsa/base/tsa_model.py:221: ValueWarning: An unsupported index was provided and will be ignored when e.g. forecasting.\n",
      "  ' ignored when e.g. forecasting.', ValueWarning)\n",
      "/home/evgenii/.local/lib/python3.6/site-packages/statsmodels/tsa/statespace/sarimax.py:937: RuntimeWarning: Mean of empty slice.\n",
      "  params_variance = (residuals[k_params_ma:]**2).mean()\n",
      "/home/evgenii/.local/lib/python3.6/site-packages/numpy/core/_methods.py:85: RuntimeWarning: invalid value encountered in double_scalars\n",
      "  ret = ret.dtype.type(ret / rcount)\n",
      "/home/evgenii/.local/lib/python3.6/site-packages/statsmodels/tsa/statespace/sarimax.py:1051: DeprecationWarning: The truth value of an empty array is ambiguous. Returning False, but in future this will result in an error. Use `array.size > 0` to check that an array is not empty.\n",
      "  if self.state_error and params_variance == []:\n",
      "/home/evgenii/.local/lib/python3.6/site-packages/statsmodels/tools/numdiff.py:96: RuntimeWarning: invalid value encountered in maximum\n",
      "  h = EPS**(1. / s) * np.maximum(np.abs(x), 0.1)\n",
      "/home/evgenii/.local/lib/python3.6/site-packages/statsmodels/tsa/base/tsa_model.py:531: ValueWarning: No supported index is available. Prediction results will be given with an integer index beginning at `start`.\n",
      "  ValueWarning)\n",
      "/home/evgenii/.local/lib/python3.6/site-packages/statsmodels/tsa/base/tsa_model.py:221: ValueWarning: An unsupported index was provided and will be ignored when e.g. forecasting.\n",
      "  ' ignored when e.g. forecasting.', ValueWarning)\n",
      "/home/evgenii/.local/lib/python3.6/site-packages/statsmodels/tsa/statespace/sarimax.py:937: RuntimeWarning: Mean of empty slice.\n",
      "  params_variance = (residuals[k_params_ma:]**2).mean()\n",
      "/home/evgenii/.local/lib/python3.6/site-packages/numpy/core/_methods.py:85: RuntimeWarning: invalid value encountered in double_scalars\n",
      "  ret = ret.dtype.type(ret / rcount)\n"
     ]
    },
    {
     "name": "stdout",
     "output_type": "stream",
     "text": [
      "wrong parameters: (4, 5, 0, 1)\n",
      "wrong parameters: (4, 5, 0, 2)\n",
      "wrong parameters: (4, 5, 1, 0)\n",
      "wrong parameters: (4, 5, 1, 1)\n",
      "wrong parameters: (4, 5, 1, 2)\n",
      "wrong parameters: (4, 5, 2, 0)\n",
      "wrong parameters: (4, 5, 2, 1)\n",
      "wrong parameters: (4, 5, 2, 2)\n",
      "wrong parameters: (4, 5, 3, 0)\n",
      "wrong parameters: (4, 5, 3, 1)\n",
      "wrong parameters: (4, 5, 3, 2)\n"
     ]
    },
    {
     "name": "stderr",
     "output_type": "stream",
     "text": [
      "/home/evgenii/.local/lib/python3.6/site-packages/statsmodels/tsa/statespace/sarimax.py:1051: DeprecationWarning: The truth value of an empty array is ambiguous. Returning False, but in future this will result in an error. Use `array.size > 0` to check that an array is not empty.\n",
      "  if self.state_error and params_variance == []:\n",
      "/home/evgenii/.local/lib/python3.6/site-packages/statsmodels/base/model.py:508: ConvergenceWarning: Maximum Likelihood optimization failed to converge. Check mle_retvals\n",
      "  \"Check mle_retvals\", ConvergenceWarning)\n",
      "/home/evgenii/.local/lib/python3.6/site-packages/statsmodels/tsa/base/tsa_model.py:531: ValueWarning: No supported index is available. Prediction results will be given with an integer index beginning at `start`.\n",
      "  ValueWarning)\n",
      "/home/evgenii/.local/lib/python3.6/site-packages/statsmodels/tsa/base/tsa_model.py:221: ValueWarning: An unsupported index was provided and will be ignored when e.g. forecasting.\n",
      "  ' ignored when e.g. forecasting.', ValueWarning)\n",
      "\n",
      "\n",
      "\n",
      "\n",
      " 81%|████████  | 243/300 [00:06<00:02, 27.21it/s]\u001b[A\u001b[A\u001b[A\u001b[A/home/evgenii/.local/lib/python3.6/site-packages/statsmodels/tsa/statespace/sarimax.py:1051: DeprecationWarning: The truth value of an empty array is ambiguous. Returning False, but in future this will result in an error. Use `array.size > 0` to check that an array is not empty.\n",
      "  if self.state_error and params_variance == []:\n"
     ]
    },
    {
     "name": "stdout",
     "output_type": "stream",
     "text": [
      "wrong parameters: (5, 1, 0, 0)\n",
      "wrong parameters: (5, 1, 0, 1)\n",
      "wrong parameters: (5, 1, 0, 2)\n"
     ]
    },
    {
     "name": "stderr",
     "output_type": "stream",
     "text": [
      "/home/evgenii/.local/lib/python3.6/site-packages/statsmodels/tsa/base/tsa_model.py:531: ValueWarning: No supported index is available. Prediction results will be given with an integer index beginning at `start`.\n",
      "  ValueWarning)\n",
      "/home/evgenii/.local/lib/python3.6/site-packages/statsmodels/tsa/base/tsa_model.py:221: ValueWarning: An unsupported index was provided and will be ignored when e.g. forecasting.\n",
      "  ' ignored when e.g. forecasting.', ValueWarning)\n",
      "\n",
      "\n",
      "\n",
      "\n",
      " 85%|████████▌ | 256/300 [00:06<00:01, 22.70it/s]\u001b[A\u001b[A\u001b[A\u001b[A/home/evgenii/.local/lib/python3.6/site-packages/statsmodels/tsa/statespace/sarimax.py:937: RuntimeWarning: Mean of empty slice.\n",
      "  params_variance = (residuals[k_params_ma:]**2).mean()\n",
      "/home/evgenii/.local/lib/python3.6/site-packages/numpy/core/_methods.py:85: RuntimeWarning: invalid value encountered in double_scalars\n",
      "  ret = ret.dtype.type(ret / rcount)\n",
      "/home/evgenii/.local/lib/python3.6/site-packages/statsmodels/tsa/statespace/sarimax.py:1051: DeprecationWarning: The truth value of an empty array is ambiguous. Returning False, but in future this will result in an error. Use `array.size > 0` to check that an array is not empty.\n",
      "  if self.state_error and params_variance == []:\n",
      "/home/evgenii/.local/lib/python3.6/site-packages/statsmodels/tools/numdiff.py:96: RuntimeWarning: invalid value encountered in maximum\n",
      "  h = EPS**(1. / s) * np.maximum(np.abs(x), 0.1)\n",
      "/home/evgenii/.local/lib/python3.6/site-packages/statsmodels/tsa/base/tsa_model.py:531: ValueWarning: No supported index is available. Prediction results will be given with an integer index beginning at `start`.\n",
      "  ValueWarning)\n",
      "\n",
      "\n",
      "\n",
      "\n",
      " 96%|█████████▋| 289/300 [00:06<00:00, 31.09it/s]\u001b[A\u001b[A\u001b[A\u001b[A/home/evgenii/.local/lib/python3.6/site-packages/statsmodels/tsa/base/tsa_model.py:221: ValueWarning: An unsupported index was provided and will be ignored when e.g. forecasting.\n",
      "  ' ignored when e.g. forecasting.', ValueWarning)\n",
      "/home/evgenii/.local/lib/python3.6/site-packages/statsmodels/tsa/statespace/sarimax.py:937: RuntimeWarning: Mean of empty slice.\n",
      "  params_variance = (residuals[k_params_ma:]**2).mean()\n",
      "/home/evgenii/.local/lib/python3.6/site-packages/numpy/core/_methods.py:85: RuntimeWarning: invalid value encountered in double_scalars\n",
      "  ret = ret.dtype.type(ret / rcount)\n",
      "/home/evgenii/.local/lib/python3.6/site-packages/statsmodels/tsa/statespace/sarimax.py:1051: DeprecationWarning: The truth value of an empty array is ambiguous. Returning False, but in future this will result in an error. Use `array.size > 0` to check that an array is not empty.\n",
      "  if self.state_error and params_variance == []:\n"
     ]
    },
    {
     "name": "stdout",
     "output_type": "stream",
     "text": [
      "wrong parameters: (5, 1, 1, 0)\n",
      "wrong parameters: (5, 1, 1, 1)\n",
      "wrong parameters: (5, 1, 1, 2)\n",
      "wrong parameters: (5, 1, 2, 0)\n",
      "wrong parameters: (5, 1, 2, 1)\n",
      "wrong parameters: (5, 1, 2, 2)\n",
      "wrong parameters: (5, 1, 3, 0)\n",
      "wrong parameters: (5, 1, 3, 1)\n",
      "wrong parameters: (5, 1, 3, 2)\n",
      "wrong parameters: (5, 2, 0, 0)\n",
      "wrong parameters: (5, 2, 0, 1)\n",
      "wrong parameters: (5, 2, 0, 2)\n",
      "wrong parameters: (5, 2, 1, 0)\n",
      "wrong parameters: (5, 2, 1, 1)\n",
      "wrong parameters: (5, 2, 1, 2)\n",
      "wrong parameters: (5, 2, 2, 0)\n",
      "wrong parameters: (5, 2, 2, 1)\n",
      "wrong parameters: (5, 2, 2, 2)\n",
      "wrong parameters: (5, 2, 3, 0)\n",
      "wrong parameters: (5, 2, 3, 1)\n",
      "wrong parameters: (5, 2, 3, 2)\n",
      "wrong parameters: (5, 3, 0, 0)\n",
      "wrong parameters: (5, 3, 0, 1)\n",
      "wrong parameters: (5, 3, 0, 2)\n",
      "wrong parameters: (5, 3, 1, 0)\n",
      "wrong parameters: (5, 3, 1, 1)\n",
      "wrong parameters: (5, 3, 1, 2)\n",
      "wrong parameters: (5, 3, 2, 0)\n",
      "wrong parameters: (5, 3, 2, 1)\n",
      "wrong parameters: (5, 3, 2, 2)\n",
      "wrong parameters: (5, 3, 3, 0)\n",
      "wrong parameters: (5, 3, 3, 1)\n",
      "wrong parameters: (5, 3, 3, 2)\n",
      "wrong parameters: (5, 4, 0, 0)\n",
      "wrong parameters: (5, 4, 0, 1)\n",
      "wrong parameters: (5, 4, 0, 2)\n",
      "wrong parameters: (5, 4, 1, 0)\n",
      "wrong parameters: (5, 4, 1, 1)\n",
      "wrong parameters: (5, 4, 1, 2)\n",
      "wrong parameters: (5, 4, 2, 0)\n",
      "wrong parameters: (5, 4, 2, 1)\n",
      "wrong parameters: (5, 4, 2, 2)\n",
      "wrong parameters: (5, 4, 3, 0)\n",
      "wrong parameters: (5, 4, 3, 1)\n",
      "wrong parameters: (5, 4, 3, 2)\n",
      "wrong parameters: (5, 5, 0, 0)\n",
      "wrong parameters: (5, 5, 0, 1)\n",
      "wrong parameters: (5, 5, 0, 2)\n"
     ]
    },
    {
     "name": "stderr",
     "output_type": "stream",
     "text": [
      "/home/evgenii/.local/lib/python3.6/site-packages/statsmodels/tools/numdiff.py:96: RuntimeWarning: invalid value encountered in maximum\n",
      "  h = EPS**(1. / s) * np.maximum(np.abs(x), 0.1)\n",
      "/home/evgenii/.local/lib/python3.6/site-packages/statsmodels/tsa/base/tsa_model.py:531: ValueWarning: No supported index is available. Prediction results will be given with an integer index beginning at `start`.\n",
      "  ValueWarning)\n",
      "/home/evgenii/.local/lib/python3.6/site-packages/statsmodels/tsa/base/tsa_model.py:221: ValueWarning: An unsupported index was provided and will be ignored when e.g. forecasting.\n",
      "  ' ignored when e.g. forecasting.', ValueWarning)\n",
      "/home/evgenii/.local/lib/python3.6/site-packages/statsmodels/tsa/statespace/sarimax.py:937: RuntimeWarning: Mean of empty slice.\n",
      "  params_variance = (residuals[k_params_ma:]**2).mean()\n",
      "/home/evgenii/.local/lib/python3.6/site-packages/numpy/core/_methods.py:85: RuntimeWarning: invalid value encountered in double_scalars\n",
      "  ret = ret.dtype.type(ret / rcount)\n",
      "\n",
      "\n",
      "\n",
      "\n",
      "100%|██████████| 300/300 [00:07<00:00, 41.93it/s]\u001b[A\u001b[A\u001b[A\u001b[A"
     ]
    },
    {
     "name": "stdout",
     "output_type": "stream",
     "text": [
      "wrong parameters: (5, 5, 1, 0)\n",
      "wrong parameters: (5, 5, 1, 1)\n",
      "wrong parameters: (5, 5, 1, 2)\n",
      "wrong parameters: (5, 5, 2, 0)\n",
      "wrong parameters: (5, 5, 2, 1)\n",
      "wrong parameters: (5, 5, 2, 2)\n",
      "wrong parameters: (5, 5, 3, 0)\n",
      "wrong parameters: (5, 5, 3, 1)\n",
      "wrong parameters: (5, 5, 3, 2)\n",
      "CPU times: user 14min 29s, sys: 25min 12s, total: 39min 42s\n",
      "Wall time: 5min 8s\n"
     ]
    }
   ],
   "source": [
    "%%time\n",
    "results = []\n",
    "best_rms = float(\"inf\")\n",
    "for t in range(40,60,5):\n",
    "    train = restaurant_orders.sort_values('date', ascending = True).iloc[t:-18]\n",
    "\n",
    "    for param in tqdm(parameters_list):\n",
    "        #try except нужен, потому что на некоторых наборах параметров модель не обучается\n",
    "        try:\n",
    "            model=sm.tsa.statespace.SARIMAX(train.orders.squeeze(), order=(param[0], ds, param[1]), \n",
    "                                        seasonal_order=(param[2], Ds, param[3], 7)).fit(disp=-1)\n",
    "            \n",
    "            forecast = model.predict(start = train.shape[0], end = train.shape[0]+18)\n",
    "            y_hat['SARIMA'] = forecast\n",
    "            rms = sqrt(mean_squared_error(test.orders, y_hat.SARIMA))\n",
    "\n",
    "            #сохраняем лучшую модель, aic, параметры\n",
    "            if rms < best_rms:\n",
    "                best_model = model\n",
    "                best_rms = rms\n",
    "                best_param = param\n",
    "            results.append([t, param, rms])\n",
    "            #выводим параметры, на которых модель не обучается и переходим к следующему набору\n",
    "        except Exception:\n",
    "            print('wrong parameters:', param)\n",
    "            continue\n",
    "\n",
    "warnings.filterwarnings('default')"
   ]
  },
  {
   "cell_type": "code",
   "execution_count": 189,
   "metadata": {},
   "outputs": [
    {
     "ename": "ValueError",
     "evalue": "Length mismatch: Expected axis has 0 elements, new values have 3 elements",
     "output_type": "error",
     "traceback": [
      "\u001b[0;31m---------------------------------------------------------------------------\u001b[0m",
      "\u001b[0;31mValueError\u001b[0m                                Traceback (most recent call last)",
      "\u001b[0;32m<ipython-input-189-094e8dc481fd>\u001b[0m in \u001b[0;36m<module>\u001b[0;34m\u001b[0m\n\u001b[1;32m      1\u001b[0m \u001b[0mresult_table\u001b[0m \u001b[0;34m=\u001b[0m \u001b[0mpd\u001b[0m\u001b[0;34m.\u001b[0m\u001b[0mDataFrame\u001b[0m\u001b[0;34m(\u001b[0m\u001b[0mresults\u001b[0m\u001b[0;34m)\u001b[0m\u001b[0;34m\u001b[0m\u001b[0m\n\u001b[0;32m----> 2\u001b[0;31m \u001b[0mresult_table\u001b[0m\u001b[0;34m.\u001b[0m\u001b[0mcolumns\u001b[0m \u001b[0;34m=\u001b[0m \u001b[0;34m[\u001b[0m\u001b[0;34m't'\u001b[0m\u001b[0;34m,\u001b[0m\u001b[0;34m'parameters'\u001b[0m\u001b[0;34m,\u001b[0m \u001b[0;34m'rms'\u001b[0m\u001b[0;34m]\u001b[0m\u001b[0;34m\u001b[0m\u001b[0m\n\u001b[0m\u001b[1;32m      3\u001b[0m \u001b[0mprint\u001b[0m\u001b[0;34m(\u001b[0m\u001b[0mresult_table\u001b[0m\u001b[0;34m.\u001b[0m\u001b[0msort_values\u001b[0m\u001b[0;34m(\u001b[0m\u001b[0mby\u001b[0m \u001b[0;34m=\u001b[0m \u001b[0;34m'rms'\u001b[0m\u001b[0;34m,\u001b[0m \u001b[0mascending\u001b[0m\u001b[0;34m=\u001b[0m\u001b[0;32mTrue\u001b[0m\u001b[0;34m)\u001b[0m\u001b[0;34m.\u001b[0m\u001b[0mhead\u001b[0m\u001b[0;34m(\u001b[0m\u001b[0;36m60\u001b[0m\u001b[0;34m)\u001b[0m\u001b[0;34m)\u001b[0m\u001b[0;34m\u001b[0m\u001b[0m\n",
      "\u001b[0;32m~/.local/lib/python3.6/site-packages/pandas/core/generic.py\u001b[0m in \u001b[0;36m__setattr__\u001b[0;34m(self, name, value)\u001b[0m\n\u001b[1;32m   4387\u001b[0m         \u001b[0;32mtry\u001b[0m\u001b[0;34m:\u001b[0m\u001b[0;34m\u001b[0m\u001b[0m\n\u001b[1;32m   4388\u001b[0m             \u001b[0mobject\u001b[0m\u001b[0;34m.\u001b[0m\u001b[0m__getattribute__\u001b[0m\u001b[0;34m(\u001b[0m\u001b[0mself\u001b[0m\u001b[0;34m,\u001b[0m \u001b[0mname\u001b[0m\u001b[0;34m)\u001b[0m\u001b[0;34m\u001b[0m\u001b[0m\n\u001b[0;32m-> 4389\u001b[0;31m             \u001b[0;32mreturn\u001b[0m \u001b[0mobject\u001b[0m\u001b[0;34m.\u001b[0m\u001b[0m__setattr__\u001b[0m\u001b[0;34m(\u001b[0m\u001b[0mself\u001b[0m\u001b[0;34m,\u001b[0m \u001b[0mname\u001b[0m\u001b[0;34m,\u001b[0m \u001b[0mvalue\u001b[0m\u001b[0;34m)\u001b[0m\u001b[0;34m\u001b[0m\u001b[0m\n\u001b[0m\u001b[1;32m   4390\u001b[0m         \u001b[0;32mexcept\u001b[0m \u001b[0mAttributeError\u001b[0m\u001b[0;34m:\u001b[0m\u001b[0;34m\u001b[0m\u001b[0m\n\u001b[1;32m   4391\u001b[0m             \u001b[0;32mpass\u001b[0m\u001b[0;34m\u001b[0m\u001b[0m\n",
      "\u001b[0;32mpandas/_libs/properties.pyx\u001b[0m in \u001b[0;36mpandas._libs.properties.AxisProperty.__set__\u001b[0;34m()\u001b[0m\n",
      "\u001b[0;32m~/.local/lib/python3.6/site-packages/pandas/core/generic.py\u001b[0m in \u001b[0;36m_set_axis\u001b[0;34m(self, axis, labels)\u001b[0m\n\u001b[1;32m    644\u001b[0m \u001b[0;34m\u001b[0m\u001b[0m\n\u001b[1;32m    645\u001b[0m     \u001b[0;32mdef\u001b[0m \u001b[0m_set_axis\u001b[0m\u001b[0;34m(\u001b[0m\u001b[0mself\u001b[0m\u001b[0;34m,\u001b[0m \u001b[0maxis\u001b[0m\u001b[0;34m,\u001b[0m \u001b[0mlabels\u001b[0m\u001b[0;34m)\u001b[0m\u001b[0;34m:\u001b[0m\u001b[0;34m\u001b[0m\u001b[0m\n\u001b[0;32m--> 646\u001b[0;31m         \u001b[0mself\u001b[0m\u001b[0;34m.\u001b[0m\u001b[0m_data\u001b[0m\u001b[0;34m.\u001b[0m\u001b[0mset_axis\u001b[0m\u001b[0;34m(\u001b[0m\u001b[0maxis\u001b[0m\u001b[0;34m,\u001b[0m \u001b[0mlabels\u001b[0m\u001b[0;34m)\u001b[0m\u001b[0;34m\u001b[0m\u001b[0m\n\u001b[0m\u001b[1;32m    647\u001b[0m         \u001b[0mself\u001b[0m\u001b[0;34m.\u001b[0m\u001b[0m_clear_item_cache\u001b[0m\u001b[0;34m(\u001b[0m\u001b[0;34m)\u001b[0m\u001b[0;34m\u001b[0m\u001b[0m\n\u001b[1;32m    648\u001b[0m \u001b[0;34m\u001b[0m\u001b[0m\n",
      "\u001b[0;32m~/.local/lib/python3.6/site-packages/pandas/core/internals.py\u001b[0m in \u001b[0;36mset_axis\u001b[0;34m(self, axis, new_labels)\u001b[0m\n\u001b[1;32m   3321\u001b[0m             raise ValueError(\n\u001b[1;32m   3322\u001b[0m                 \u001b[0;34m'Length mismatch: Expected axis has {old} elements, new '\u001b[0m\u001b[0;34m\u001b[0m\u001b[0m\n\u001b[0;32m-> 3323\u001b[0;31m                 'values have {new} elements'.format(old=old_len, new=new_len))\n\u001b[0m\u001b[1;32m   3324\u001b[0m \u001b[0;34m\u001b[0m\u001b[0m\n\u001b[1;32m   3325\u001b[0m         \u001b[0mself\u001b[0m\u001b[0;34m.\u001b[0m\u001b[0maxes\u001b[0m\u001b[0;34m[\u001b[0m\u001b[0maxis\u001b[0m\u001b[0;34m]\u001b[0m \u001b[0;34m=\u001b[0m \u001b[0mnew_labels\u001b[0m\u001b[0;34m\u001b[0m\u001b[0m\n",
      "\u001b[0;31mValueError\u001b[0m: Length mismatch: Expected axis has 0 elements, new values have 3 elements"
     ]
    }
   ],
   "source": [
    "result_table = pd.DataFrame(results)\n",
    "result_table.columns = ['t','parameters', 'rms']\n",
    "print(result_table.sort_values(by = 'rms', ascending=True).head(60))"
   ]
  },
  {
   "cell_type": "code",
   "execution_count": null,
   "metadata": {},
   "outputs": [],
   "source": [
    "results"
   ]
  },
  {
   "cell_type": "code",
   "execution_count": null,
   "metadata": {},
   "outputs": [],
   "source": [
    "#349  25  (4, 2, 0, 1)  206.832839\n",
    "#223  35  (2, 4, 0, 1)  209.416705\n",
    "#223   5  (3, 6, 2, 1)  208.605662\n",
    "23  29  (9, 3, 0, 1)  204.540646\n",
    "18  29  (5, 2, 0, 1)  206.259353\n",
    "1   27  (5, 2, 0, 1)  209.363945"
   ]
  },
  {
   "cell_type": "code",
   "execution_count": 176,
   "metadata": {
    "scrolled": false
   },
   "outputs": [
    {
     "name": "stderr",
     "output_type": "stream",
     "text": [
      "/home/evgenii/.local/lib/python3.6/site-packages/statsmodels/tsa/base/tsa_model.py:221: ValueWarning: An unsupported index was provided and will be ignored when e.g. forecasting.\n",
      "  ' ignored when e.g. forecasting.', ValueWarning)\n",
      "/home/evgenii/.local/lib/python3.6/site-packages/statsmodels/tsa/base/tsa_model.py:531: ValueWarning: No supported index is available. Prediction results will be given with an integer index beginning at `start`.\n",
      "  ValueWarning)\n"
     ]
    },
    {
     "data": {
      "text/html": [
       "<div>\n",
       "<style scoped>\n",
       "    .dataframe tbody tr th:only-of-type {\n",
       "        vertical-align: middle;\n",
       "    }\n",
       "\n",
       "    .dataframe tbody tr th {\n",
       "        vertical-align: top;\n",
       "    }\n",
       "\n",
       "    .dataframe thead th {\n",
       "        text-align: right;\n",
       "    }\n",
       "</style>\n",
       "<table border=\"1\" class=\"dataframe\">\n",
       "  <thead>\n",
       "    <tr style=\"text-align: right;\">\n",
       "      <th></th>\n",
       "      <th>date_id</th>\n",
       "      <th>orders</th>\n",
       "    </tr>\n",
       "  </thead>\n",
       "  <tbody>\n",
       "    <tr>\n",
       "      <th>0</th>\n",
       "      <td>99</td>\n",
       "      <td>3421</td>\n",
       "    </tr>\n",
       "    <tr>\n",
       "      <th>1</th>\n",
       "      <td>100</td>\n",
       "      <td>2604</td>\n",
       "    </tr>\n",
       "    <tr>\n",
       "      <th>2</th>\n",
       "      <td>101</td>\n",
       "      <td>2698</td>\n",
       "    </tr>\n",
       "    <tr>\n",
       "      <th>3</th>\n",
       "      <td>102</td>\n",
       "      <td>2701</td>\n",
       "    </tr>\n",
       "    <tr>\n",
       "      <th>4</th>\n",
       "      <td>103</td>\n",
       "      <td>2809</td>\n",
       "    </tr>\n",
       "    <tr>\n",
       "      <th>5</th>\n",
       "      <td>104</td>\n",
       "      <td>3005</td>\n",
       "    </tr>\n",
       "    <tr>\n",
       "      <th>6</th>\n",
       "      <td>105</td>\n",
       "      <td>3268</td>\n",
       "    </tr>\n",
       "    <tr>\n",
       "      <th>7</th>\n",
       "      <td>106</td>\n",
       "      <td>3451</td>\n",
       "    </tr>\n",
       "    <tr>\n",
       "      <th>8</th>\n",
       "      <td>107</td>\n",
       "      <td>2744</td>\n",
       "    </tr>\n",
       "    <tr>\n",
       "      <th>9</th>\n",
       "      <td>108</td>\n",
       "      <td>2811</td>\n",
       "    </tr>\n",
       "    <tr>\n",
       "      <th>10</th>\n",
       "      <td>109</td>\n",
       "      <td>2762</td>\n",
       "    </tr>\n",
       "    <tr>\n",
       "      <th>11</th>\n",
       "      <td>110</td>\n",
       "      <td>2897</td>\n",
       "    </tr>\n",
       "    <tr>\n",
       "      <th>12</th>\n",
       "      <td>111</td>\n",
       "      <td>3140</td>\n",
       "    </tr>\n",
       "    <tr>\n",
       "      <th>13</th>\n",
       "      <td>112</td>\n",
       "      <td>3374</td>\n",
       "    </tr>\n",
       "    <tr>\n",
       "      <th>14</th>\n",
       "      <td>113</td>\n",
       "      <td>3516</td>\n",
       "    </tr>\n",
       "    <tr>\n",
       "      <th>15</th>\n",
       "      <td>114</td>\n",
       "      <td>2839</td>\n",
       "    </tr>\n",
       "    <tr>\n",
       "      <th>16</th>\n",
       "      <td>115</td>\n",
       "      <td>2941</td>\n",
       "    </tr>\n",
       "    <tr>\n",
       "      <th>17</th>\n",
       "      <td>116</td>\n",
       "      <td>2862</td>\n",
       "    </tr>\n",
       "  </tbody>\n",
       "</table>\n",
       "</div>"
      ],
      "text/plain": [
       "    date_id  orders\n",
       "0        99    3421\n",
       "1       100    2604\n",
       "2       101    2698\n",
       "3       102    2701\n",
       "4       103    2809\n",
       "5       104    3005\n",
       "6       105    3268\n",
       "7       106    3451\n",
       "8       107    2744\n",
       "9       108    2811\n",
       "10      109    2762\n",
       "11      110    2897\n",
       "12      111    3140\n",
       "13      112    3374\n",
       "14      113    3516\n",
       "15      114    2839\n",
       "16      115    2941\n",
       "17      116    2862"
      ]
     },
     "execution_count": 176,
     "metadata": {},
     "output_type": "execute_result"
    }
   ],
   "source": [
    "train = restaurant_orders.sort_values('date', ascending = True).iloc[35:]\n",
    "#ACF\n",
    "q = 4\n",
    "Q = 1\n",
    "\n",
    "#Q==7 -> Q=1\n",
    "#Q < 3 q <7\n",
    "\n",
    "#PACF\n",
    "p = 2\n",
    "P = 0\n",
    "\n",
    "\n",
    "d = 1\n",
    "D = 1\n",
    "\n",
    "s = 7\n",
    "\n",
    "best_model=sm.tsa.statespace.SARIMAX(train.orders.squeeze(), order=(p, d, q), \n",
    "                                        seasonal_order=(P, D, Q, s)).fit()\n",
    "forecast = best_model.predict(start = train.shape[0], end = train.shape[0]+17)\n",
    "data = pd.read_csv('files/lesson_7/sample_submission.csv', sep =',')\n",
    "data['orders'] = list(int(i) for i in forecast)\n",
    "data.to_csv('my.csv', sep =',', index = False)\n",
    "res = pd.read_csv('my.csv', sep =',')\n",
    "\n",
    "res"
   ]
  },
  {
   "cell_type": "code",
   "execution_count": null,
   "metadata": {},
   "outputs": [],
   "source": []
  }
 ],
 "metadata": {
  "kernelspec": {
   "display_name": "Python 3",
   "language": "python",
   "name": "python3"
  },
  "language_info": {
   "codemirror_mode": {
    "name": "ipython",
    "version": 3
   },
   "file_extension": ".py",
   "mimetype": "text/x-python",
   "name": "python",
   "nbconvert_exporter": "python",
   "pygments_lexer": "ipython3",
   "version": "3.6.6"
  }
 },
 "nbformat": 4,
 "nbformat_minor": 2
}

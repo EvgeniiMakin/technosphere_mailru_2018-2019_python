{
 "cells": [
  {
   "cell_type": "markdown",
   "metadata": {},
   "source": [
    "# Параллельное и многопоточное программирование в Python"
   ]
  },
  {
   "cell_type": "markdown",
   "metadata": {},
   "source": [
    "### Процесс"
   ]
  },
  {
   "cell_type": "markdown",
   "metadata": {},
   "source": [
    "**Процесс** - программа, которая запущена в оперативной памяти компьютера."
   ]
  },
  {
   "cell_type": "markdown",
   "metadata": {},
   "source": [
    "**Процесс** — экземпляр программы во время выполнения, независимый объект, которому выделены системные ресурсы (например, процессорное время и память). Каждый процесс выполняется в отдельном адресном пространстве: один процесс не может получить доступ к переменным и структурам данных другого."
   ]
  },
  {
   "cell_type": "markdown",
   "metadata": {},
   "source": [
    "Характеристики:\n",
    "- PID\n",
    "- Оперативная память\n",
    "- Стек\n",
    "- Список открытых файлов\n",
    "- Ввод и вывод"
   ]
  },
  {
   "cell_type": "code",
   "execution_count": 1,
   "metadata": {},
   "outputs": [
    {
     "name": "stdout",
     "output_type": "stream",
     "text": [
      "29632 1542122053.695168\n",
      "29632 1542122054.696621\n",
      "29632 1542122055.697806\n",
      "29632 1542122056.69992\n",
      "29632 1542122057.7013237\n"
     ]
    }
   ],
   "source": [
    "import os\n",
    "import time\n",
    "\n",
    "#Получить pid процесса\n",
    "pid = os.getpid()\n",
    "\n",
    "for i in range(8):\n",
    "    print(pid, time.time())\n",
    "    time.sleep(1)"
   ]
  },
  {
   "cell_type": "code",
   "execution_count": 3,
   "metadata": {},
   "outputs": [],
   "source": [
    "# Создание процесса\n",
    "from multiprocessing import Process\n",
    "from functions import say_hello\n",
    "\n",
    "#Как выглядит функция в самом файле:\n",
    "# def say_hello(name):\n",
    "#     print(os.getpid())\n",
    "#     print(\"hello\", name)\n",
    " \n",
    "p = Process(target = say_hello, args = ('Vladimir',)) \n",
    "\n",
    "p.start()\n",
    "# Завершает открытый процесс, необходимо контролировать ресуры машины \n",
    "p.join()\n"
   ]
  },
  {
   "cell_type": "code",
   "execution_count": 4,
   "metadata": {},
   "outputs": [],
   "source": [
    "# Создание процесса - альтернативный способ\n",
    "from functions import say_hello_class\n",
    "\n",
    "#Как выглядит  в самом файле:\n",
    "\n",
    "# class say_hello_class(Process):\n",
    "#     def __init__(self, name):\n",
    "\n",
    "# Явно вызываем родительский конструктор.\n",
    "# Его главная задача это возможность использования в классе потомке, методов класса-родителя.\n",
    "\n",
    "#         super().__init__()\n",
    "#         self.name = name\n",
    "        \n",
    "#     def run(self):\n",
    "#         print(os.getpid())\n",
    "#         print(\"hello\", self.name)\n",
    "        \n",
    "p =  say_hello_class('Vladimir')\n",
    "p.start()\n",
    "p.join()"
   ]
  },
  {
   "cell_type": "markdown",
   "metadata": {},
   "source": [
    "### Поток"
   ]
  },
  {
   "cell_type": "markdown",
   "metadata": {},
   "source": [
    "- все потоки выполняются в рамках одного процесса\n",
    "- потоки разделяют память и ресурсы процесса, в котором они работают"
   ]
  },
  {
   "cell_type": "markdown",
   "metadata": {},
   "source": [
    "Поток != Процесс:\n",
    "- у процесса своё адресное пространство\n",
    "- у потоков – разделяемое\n",
    "- у процесса есть хотя бы один поток (Main)\n",
    "- 1 процесс может содержать несколько\n",
    "потоков"
   ]
  },
  {
   "cell_type": "code",
   "execution_count": 5,
   "metadata": {},
   "outputs": [
    {
     "name": "stdout",
     "output_type": "stream",
     "text": [
      "22124\n",
      "hello Vladimir\n"
     ]
    }
   ],
   "source": [
    "# Создание потока\n",
    "from threading import Thread\n",
    " \n",
    "t = Thread(target = say_hello, args = ('Vladimir',)) \n",
    "\n",
    "t.start()\n",
    "t.join()"
   ]
  },
  {
   "cell_type": "code",
   "execution_count": 6,
   "metadata": {},
   "outputs": [
    {
     "name": "stdout",
     "output_type": "stream",
     "text": [
      "22124\n",
      "hello Vladimir\n"
     ]
    }
   ],
   "source": [
    "# Создание потока - альтернативный способ\n",
    "from functions import say_hello_class_T\n",
    "\n",
    "#Как выглядит  в самом файле:\n",
    "# class say_hello_class_T(Thread):\n",
    "#     def __init__(self, name):\n",
    "#         super().__init__()\n",
    "#         self.name = name\n",
    "        \n",
    "#     def run(self):\n",
    "#         print(os.getpid())\n",
    "#         print(\"hello\", self.name)\n",
    "        \n",
    "p =  say_hello_class_T('Vladimir')\n",
    "p.start()\n",
    "p.join()"
   ]
  },
  {
   "cell_type": "markdown",
   "metadata": {},
   "source": [
    "<img width = '700px' src=\"images/lesson_9/mini_magick20171116-124-1elj0oj.png\">"
   ]
  },
  {
   "cell_type": "markdown",
   "metadata": {},
   "source": [
    "- Конкуренция - совместная работа (процессор очень быстро переключается между задачами)\n",
    "- Параллелизм - параллельная работа (задача решается на нескольких ядрах)"
   ]
  },
  {
   "cell_type": "markdown",
   "metadata": {},
   "source": [
    "### Многопоточность"
   ]
  },
  {
   "cell_type": "markdown",
   "metadata": {},
   "source": [
    "Сравним две функции."
   ]
  },
  {
   "cell_type": "code",
   "execution_count": 7,
   "metadata": {},
   "outputs": [
    {
     "name": "stdout",
     "output_type": "stream",
     "text": [
      "Вызов 0 в 2018-11-13 11:20:49.195674\n",
      "Конец 0 в 2018-11-13 11:20:50.196017\n",
      "Вызов 1 в 2018-11-13 11:20:50.196017\n",
      "Конец 1 в 2018-11-13 11:20:51.196203\n",
      "Вызов 2 в 2018-11-13 11:20:51.196203\n",
      "Конец 2 в 2018-11-13 11:20:52.196546\n",
      "Вызов 3 в 2018-11-13 11:20:52.196546\n",
      "Конец 3 в 2018-11-13 11:20:53.196890\n",
      "Вызов 4 в 2018-11-13 11:20:53.196890\n",
      "Конец 4 в 2018-11-13 11:20:54.197034\n",
      "Wall time: 5 s\n"
     ]
    }
   ],
   "source": [
    "%%time\n",
    "import datetime\n",
    "from time import sleep\n",
    "\n",
    "def slow_print(s):\n",
    "    print('Вызов {} в {}'.format(s, datetime.datetime.now()))\n",
    "    sleep(1)\n",
    "    print('Конец {} в {}'.format(s, datetime.datetime.now()))\n",
    "\n",
    "for i in range(5):\n",
    "    slow_print(i) "
   ]
  },
  {
   "cell_type": "code",
   "execution_count": 8,
   "metadata": {},
   "outputs": [
    {
     "name": "stdout",
     "output_type": "stream",
     "text": [
      "Вызов 0 в 2018-11-13 11:20:54.211006\n",
      "Вызов 1 в 2018-11-13 11:20:54.239924Вызов 2 в 2018-11-13 11:20:54.268848\n",
      "Вызов 3 в 2018-11-13 11:20:54.291789\n",
      "\n",
      "Вызов 4 в 2018-11-13 11:20:54.308758\n",
      "Конец 0 в 2018-11-13 11:20:55.240413\n",
      "Конец 2 в 2018-11-13 11:20:55.292092\n",
      "Конец 1 в 2018-11-13 11:20:55.310108Конец 3 в 2018-11-13 11:20:55.310108\n",
      "\n",
      "Конец 4 в 2018-11-13 11:20:55.332049\n"
     ]
    }
   ],
   "source": [
    "from threading import Thread\n",
    "\n",
    "for i in range(5):\n",
    "    t = Thread(target=slow_print,args=(i,))\n",
    "    t.start()\n",
    "    \n",
    "#ждет, пока тред закончит выполняться    \n",
    "#здесь завершать не нужно, так как тред завершается сам\n",
    "#     t.join()"
   ]
  },
  {
   "cell_type": "markdown",
   "metadata": {},
   "source": [
    "<img width = '700px' src=\"images/lesson_9/multi.png\">"
   ]
  },
  {
   "cell_type": "markdown",
   "metadata": {},
   "source": [
    "Вычислительные задачи можно разделить на две категории:\n",
    "\n",
    "- I/O bound - требующие ввода/вывода\n",
    "- CPU bound - нагружающие процессор"
   ]
  },
  {
   "cell_type": "markdown",
   "metadata": {},
   "source": [
    "### GIL"
   ]
  },
  {
   "cell_type": "markdown",
   "metadata": {},
   "source": [
    "Глобальная блокировка интерпретатора ( global interpreter lock , **GIL** ) Python. Если два или более потока попытаются манипулировать одним и тем же объектом в одно и то же время, то неизбежно возникнут проблемы. Глобальная блокировка интерпретатора исправляет это. В любой момент времени действия может выполнять только один поток. Python автоматически переключается между потоками, когда в этом возникает необходимость.\n",
    "\n",
    "Сам интерпретатор CPython нe является потокобезопасным, поэтому в нем есть глобальная блокировка интерпретатора (Global Interpreter Lock - GIL), которая разрешает в каждый момент времени выполнятьбайт-код только одному потоку. Именно поэтому один процесс Python обычно не может задействовать несколько процессорных ядер одновременно.\n",
    "\n",
    "GIL в Python реализован как обычный lock."
   ]
  },
  {
   "cell_type": "markdown",
   "metadata": {},
   "source": [
    "<img width = '700px' src=\"images/lesson_9/thread.png\">"
   ]
  },
  {
   "cell_type": "markdown",
   "metadata": {},
   "source": [
    "### Упражнение"
   ]
  },
  {
   "cell_type": "markdown",
   "metadata": {},
   "source": [
    "Написать класс, который многопотчно скачивает документы из интернета и выполнить с помощью него многопоточную загрузку."
   ]
  },
  {
   "cell_type": "code",
   "execution_count": 9,
   "metadata": {},
   "outputs": [],
   "source": [
    "import urllib.request\n",
    "# Список документов, которые необходимо скачать.\n",
    "\n",
    "urls = [\"https://cs8.pikabu.ru/post_img/2017/12/22/11/1513967276125723598.jpg\",\n",
    "        \"https://cs7.pikabu.ru/post_img/2017/12/22/10/1513964378174980200.jpg\",\n",
    "        \"https://cs8.pikabu.ru/post_img/2017/12/22/10/151396556419317615.jpg\",\n",
    "        \"https://cs8.pikabu.ru/post_img/2017/12/22/11/1513967585163753346.jpg\",\n",
    "        \"https://cs8.pikabu.ru/post_img/2017/12/22/11/1513965971173110667.jpg\",\n",
    "        \"https://cs7.pikabu.ru/post_img/2017/12/22/11/1513966565120257829.jpg\",\n",
    "        \"https://cs8.pikabu.ru/post_img/2017/12/22/11/1513966490163375420.jpg\",\n",
    "        \"https://cs7.pikabu.ru/post_img/2017/12/22/11/1513966594199245649.jpg\",\n",
    "        \"https://cs7.pikabu.ru/post_img/2017/12/22/11/1513966683175659107.jpg\"]"
   ]
  },
  {
   "cell_type": "markdown",
   "metadata": {},
   "source": [
    "1. Создать класс с названием MultiThreadLoader, он должен быть потомком класса Thread."
   ]
  },
  {
   "cell_type": "markdown",
   "metadata": {},
   "source": [
    "2. Констурктор класса в качестве атрибутов должен принимать название загружаемого документа(url), а также имя загружамеого документа(name).\n",
    "\n",
    "Не забыть вызвать конструктор родительского класса, а также назначить имя и название загружаемого документа."
   ]
  },
  {
   "cell_type": "markdown",
   "metadata": {},
   "source": [
    "3. Переназначить функцию run родительского класса, в которой должна происходить загрузка."
   ]
  },
  {
   "cell_type": "code",
   "execution_count": 10,
   "metadata": {},
   "outputs": [
    {
     "ename": "TypeError",
     "evalue": "urlopen() missing 1 required positional argument: 'url'",
     "output_type": "error",
     "traceback": [
      "\u001b[1;31m---------------------------------------------------------------------------\u001b[0m",
      "\u001b[1;31mTypeError\u001b[0m                                 Traceback (most recent call last)",
      "\u001b[1;32m<ipython-input-10-4362007bdbf8>\u001b[0m in \u001b[0;36m<module>\u001b[1;34m()\u001b[0m\n\u001b[0;32m      2\u001b[0m \u001b[1;33m\u001b[0m\u001b[0m\n\u001b[0;32m      3\u001b[0m \u001b[1;31m# открыть url:\u001b[0m\u001b[1;33m\u001b[0m\u001b[1;33m\u001b[0m\u001b[0m\n\u001b[1;32m----> 4\u001b[1;33m \u001b[0mhandle\u001b[0m \u001b[1;33m=\u001b[0m \u001b[0murllib\u001b[0m\u001b[1;33m.\u001b[0m\u001b[0mrequest\u001b[0m\u001b[1;33m.\u001b[0m\u001b[0murlopen\u001b[0m\u001b[1;33m(\u001b[0m \u001b[1;33m)\u001b[0m\u001b[1;33m\u001b[0m\u001b[0m\n\u001b[0m\u001b[0;32m      5\u001b[0m \u001b[1;33m\u001b[0m\u001b[0m\n\u001b[0;32m      6\u001b[0m \u001b[1;31m# из url получить название файла:\u001b[0m\u001b[1;33m\u001b[0m\u001b[1;33m\u001b[0m\u001b[0m\n",
      "\u001b[1;31mTypeError\u001b[0m: urlopen() missing 1 required positional argument: 'url'"
     ]
    }
   ],
   "source": [
    "# Рекомендация по созданию функции загрузки:\n",
    "\n",
    "# открыть url:\n",
    "handle = urllib.request.urlopen( )\n",
    "\n",
    "# из url получить название файла:\n",
    "fname = os.path.basename( )\n",
    "        \n",
    "# осуществить чтение файла из интернета чанками:        \n",
    "with open(fname, \"wb\") as f_handler:\n",
    "    while True:\n",
    "        chunk = handle.read(1024)\n",
    "        if not chunk:\n",
    "            break\n",
    "        f_handler.write(chunk)\n",
    "        \n",
    "#добавить сообщение о том, что конкретный файл загружен        "
   ]
  },
  {
   "cell_type": "markdown",
   "metadata": {},
   "source": [
    "4. Создать цикл, в котором запускаются потоки с помщью метода start, тем самым осуществляется их параллельный запуск. Каждому потоку назначается загрузка отдельного файла картинки."
   ]
  },
  {
   "cell_type": "code",
   "execution_count": 11,
   "metadata": {},
   "outputs": [],
   "source": [
    "class MultiThreadLoader(Thread):\n",
    "    \n",
    "    def __init__(self, url, name):\n",
    "        super().__init__()\n",
    "        self.name = name\n",
    "        self.url = url\n",
    "        \n",
    "    def run(self):\n",
    "        handle = urllib.request.urlopen(self.url)\n",
    "        fname = os.path.basename(self.url)\n",
    "        \n",
    "        with open(fname, \"wb\") as f_handler:\n",
    "            while True:\n",
    "                chunk = handle.read(1024)\n",
    "                if not chunk:\n",
    "                    break\n",
    "                f_handler.write(chunk)\n",
    "                \n",
    "        msg = \"%s has finished downloading %s\" % (self.name,\n",
    "                                                   self.url)\n",
    "        print(msg)          "
   ]
  },
  {
   "cell_type": "code",
   "execution_count": 12,
   "metadata": {},
   "outputs": [
    {
     "name": "stdout",
     "output_type": "stream",
     "text": [
      "Thread 8 has finished downloading https://cs7.pikabu.ru/post_img/2017/12/22/11/1513966594199245649.jpg\n",
      "Thread 6 has finished downloading https://cs7.pikabu.ru/post_img/2017/12/22/11/1513966565120257829.jpg\n",
      "Thread 2 has finished downloading https://cs7.pikabu.ru/post_img/2017/12/22/10/1513964378174980200.jpg\n",
      "Thread 3 has finished downloading https://cs8.pikabu.ru/post_img/2017/12/22/10/151396556419317615.jpgThread 9 has finished downloading https://cs7.pikabu.ru/post_img/2017/12/22/11/1513966683175659107.jpg\n",
      "\n",
      "Thread 5 has finished downloading https://cs8.pikabu.ru/post_img/2017/12/22/11/1513965971173110667.jpg\n",
      "Thread 1 has finished downloading https://cs8.pikabu.ru/post_img/2017/12/22/11/1513967276125723598.jpgThread 7 has finished downloading https://cs8.pikabu.ru/post_img/2017/12/22/11/1513966490163375420.jpg\n",
      "\n",
      "Thread 4 has finished downloading https://cs8.pikabu.ru/post_img/2017/12/22/11/1513967585163753346.jpg\n"
     ]
    }
   ],
   "source": [
    "for item, url in enumerate(urls):\n",
    "    name = \"Thread %s\" % (item+1)\n",
    "    thread = MultiThreadLoader(url, name)\n",
    "    thread.start()    "
   ]
  },
  {
   "cell_type": "code",
   "execution_count": null,
   "metadata": {},
   "outputs": [],
   "source": []
  },
  {
   "cell_type": "code",
   "execution_count": null,
   "metadata": {},
   "outputs": [],
   "source": []
  },
  {
   "cell_type": "markdown",
   "metadata": {},
   "source": [
    "### Синхронизация доступа"
   ]
  },
  {
   "cell_type": "markdown",
   "metadata": {},
   "source": [
    "При использовании более чем одного треда может возникнуть проблема, когда треды обращаются к одному ресурсу. "
   ]
  },
  {
   "cell_type": "code",
   "execution_count": 13,
   "metadata": {},
   "outputs": [
    {
     "name": "stdout",
     "output_type": "stream",
     "text": [
      "3058716\n",
      "6000000\n"
     ]
    }
   ],
   "source": [
    "import threading \n",
    "\n",
    "def first_operation():\n",
    "    global x\n",
    "    while x < 3000000:\n",
    "        x += 1\n",
    "    print (x)    \n",
    "    \n",
    "def second_operation():\n",
    "    global x\n",
    "    while x < 6000000:\n",
    "        x += 1\n",
    "    print (x)        \n",
    "\n",
    "global x \n",
    "x = 0 \n",
    "\n",
    "thread_1 =   threading.Thread(target = first_operation)  \n",
    "thread_1.start()\n",
    "\n",
    "thread_2 =   threading.Thread(target = second_operation)  \n",
    "thread_2.start()"
   ]
  },
  {
   "cell_type": "markdown",
   "metadata": {},
   "source": [
    "Как такое могло произойти? - Оба треда имели доступ к глобальной переменной x."
   ]
  },
  {
   "cell_type": "markdown",
   "metadata": {},
   "source": [
    "### Таймер"
   ]
  },
  {
   "cell_type": "markdown",
   "metadata": {},
   "source": [
    "Начинает выполнение функции через определенный промежуток времени."
   ]
  },
  {
   "cell_type": "code",
   "execution_count": 14,
   "metadata": {},
   "outputs": [
    {
     "name": "stdout",
     "output_type": "stream",
     "text": [
      "3000000\n",
      "6000000\n"
     ]
    }
   ],
   "source": [
    "def first_operation():\n",
    "    global x\n",
    "    while x < 3000000:\n",
    "        x += 1\n",
    "    print (x)    \n",
    "    \n",
    "def second_operation():\n",
    "    global x\n",
    "    while x < 6000000:\n",
    "        x += 1\n",
    "    print (x)        \n",
    "\n",
    "global x \n",
    "x = 0 \n",
    "\n",
    "thread_1 =   threading.Thread(target = first_operation)  \n",
    "thread_1.start()\n",
    "\n",
    "thread_2 =   threading.Timer(1,function = second_operation)  \n",
    "thread_2.start()"
   ]
  },
  {
   "cell_type": "markdown",
   "metadata": {},
   "source": [
    "### Замки"
   ]
  },
  {
   "cell_type": "code",
   "execution_count": 15,
   "metadata": {},
   "outputs": [
    {
     "name": "stdout",
     "output_type": "stream",
     "text": [
      "3000000\n",
      "6000000\n"
     ]
    }
   ],
   "source": [
    "def first_operation():\n",
    "    global x,lock\n",
    "    lock.acquire()\n",
    "    try:\n",
    "        while x < 3000000:\n",
    "            x += 1\n",
    "        print (x)   \n",
    "    finally:\n",
    "        lock.release()\n",
    "    \n",
    "def second_operation():\n",
    "    global x,lock\n",
    "    lock.acquire()\n",
    "    try:\n",
    "        while x < 6000000:\n",
    "            x += 1\n",
    "        print (x)   \n",
    "    finally:\n",
    "        lock.release()      \n",
    "\n",
    "global x, lock \n",
    "x = 0 \n",
    "\n",
    "lock = threading.Lock()\n",
    "\n",
    "thread_1 =   threading.Thread(target = first_operation)  \n",
    "thread_1.start()\n",
    "\n",
    "thread_2 =   threading.Thread(target = second_operation)  \n",
    "thread_2.start()"
   ]
  },
  {
   "cell_type": "markdown",
   "metadata": {},
   "source": [
    "### Дедлоки"
   ]
  },
  {
   "cell_type": "code",
   "execution_count": 16,
   "metadata": {},
   "outputs": [],
   "source": [
    "a = threading.Lock()\n",
    "b = threading.Lock()\n",
    "\n",
    "#неправильный порядок освобождения лока может привести к дедлоку\n",
    "def foo():\n",
    "    try:\n",
    "        a.acquire()\n",
    "        b.acquire()\n",
    "    finally:\n",
    "        a.release()\n",
    "        b.release()"
   ]
  },
  {
   "cell_type": "markdown",
   "metadata": {},
   "source": [
    "### Семафоры"
   ]
  },
  {
   "cell_type": "markdown",
   "metadata": {},
   "source": [
    "Семафоры - более сложный и совершенный механизм блокировок. Внутри семафора - счетчик, в отличии от объекта блокировки, в которой просто флажок. Семафор блокирует поток только когда более заданного числа потоков пытаются захватить семафор."
   ]
  },
  {
   "cell_type": "code",
   "execution_count": 17,
   "metadata": {},
   "outputs": [
    {
     "name": "stdout",
     "output_type": "stream",
     "text": [
      "3010008\n",
      "6000000\n"
     ]
    }
   ],
   "source": [
    "def first_operation():\n",
    "    global x,semaphore\n",
    "    semaphore.acquire()\n",
    "    try:\n",
    "        while x < 3000000:\n",
    "            x += 1\n",
    "        print (x)   \n",
    "    finally:\n",
    "        semaphore.release()\n",
    "    \n",
    "def second_operation():\n",
    "    global x,semaphore\n",
    "    semaphore.acquire()\n",
    "    try:\n",
    "        while x < 6000000:\n",
    "            x += 1\n",
    "        print (x)   \n",
    "    finally:\n",
    "        semaphore.release()      \n",
    "\n",
    "global x, semaphore \n",
    "x = 0 \n",
    "\n",
    "semaphore = threading.BoundedSemaphore(10) \n",
    "# semaphore = threading.BoundedSemaphore(1) \n",
    "\n",
    "thread_1 =   threading.Thread(target = first_operation)  \n",
    "thread_1.start()\n",
    "\n",
    "thread_2 =   threading.Thread(target = second_operation)  \n",
    "thread_2.start()"
   ]
  },
  {
   "cell_type": "markdown",
   "metadata": {},
   "source": [
    "Прочие методы - RLock, Events, Conditions, Queue. Прочитать - http://www.quizful.net/post/thread-synchronization-in-python."
   ]
  },
  {
   "cell_type": "markdown",
   "metadata": {},
   "source": [
    "### multiprocessing"
   ]
  },
  {
   "cell_type": "code",
   "execution_count": 18,
   "metadata": {},
   "outputs": [],
   "source": [
    "from functions import count\n",
    "\n",
    "# def count(n):\n",
    "#     while n > 0:\n",
    "#         n -= 1"
   ]
  },
  {
   "cell_type": "code",
   "execution_count": 19,
   "metadata": {},
   "outputs": [
    {
     "name": "stdout",
     "output_type": "stream",
     "text": [
      "9.264362096786499\n",
      "12.15283489227295\n"
     ]
    }
   ],
   "source": [
    "# cpu bound задача\n",
    "t0 = time.time()\n",
    "count(100000000)\n",
    "count(100000000)\n",
    "print(time.time() - t0)\n",
    "\n",
    "# parallel run\n",
    "t0 = time.time()\n",
    "th1 = Thread(target=count, args=(100000000,))\n",
    "th2 = Thread(target=count, args=(100000000,))\n",
    "\n",
    "th1.start(); th2.start()\n",
    "th1.join(); th2.join()\n",
    "print(time.time() - t0)"
   ]
  },
  {
   "cell_type": "code",
   "execution_count": 20,
   "metadata": {},
   "outputs": [
    {
     "name": "stdout",
     "output_type": "stream",
     "text": [
      "5.312890291213989\n"
     ]
    }
   ],
   "source": [
    "# process parallel run\n",
    "#разобьем задачу на процессы\n",
    "t0 = time.time()\n",
    "th1 = Process(target=count, args=(100000000,))\n",
    "th2 = Process(target=count, args=(100000000,))\n",
    "\n",
    "th1.start(); th2.start()\n",
    "th1.join(); th2.join()\n",
    "print(time.time() - t0)"
   ]
  },
  {
   "cell_type": "markdown",
   "metadata": {},
   "source": [
    "### Замки"
   ]
  },
  {
   "cell_type": "markdown",
   "metadata": {},
   "source": [
    "Аналогично тредам. Процесс ждет открытия замка."
   ]
  },
  {
   "cell_type": "code",
   "execution_count": 21,
   "metadata": {},
   "outputs": [],
   "source": [
    "from functions import printer\n",
    "from multiprocessing import Lock\n",
    "\n",
    "# def printer(item, lock):\n",
    "#     proc = os.getpid()\n",
    "#     print('Вызов {} в {} процесс {}'.format(item, datetime.datetime.now(),proc))\n",
    "#     lock.acquire()\n",
    "#     try:\n",
    "#         print(item)\n",
    "#         sleep(1)\n",
    "#     finally:\n",
    "#         lock.release()\n",
    "#     print('Конец {} в {} процесс {}'.format(item, datetime.datetime.now(), proc))"
   ]
  },
  {
   "cell_type": "code",
   "execution_count": 22,
   "metadata": {},
   "outputs": [],
   "source": [
    "lock = Lock()\n",
    "items = ['tango', 'foxtrot', 10]\n",
    "for item in items:\n",
    "    p = Process(target=printer, args=(item, lock))\n",
    "    p.start()"
   ]
  },
  {
   "cell_type": "markdown",
   "metadata": {},
   "source": [
    "### Класс Pool"
   ]
  },
  {
   "cell_type": "markdown",
   "metadata": {},
   "source": [
    "С помощью данного класса можем назначать процессы на отдельные ядра."
   ]
  },
  {
   "cell_type": "code",
   "execution_count": 23,
   "metadata": {},
   "outputs": [
    {
     "data": {
      "text/plain": [
       "[None, None, None]"
      ]
     },
     "execution_count": 23,
     "metadata": {},
     "output_type": "execute_result"
    }
   ],
   "source": [
    "from multiprocessing import Pool\n",
    "from functions import slow_print\n",
    "\n",
    "numbers = [5, 10, 20]\n",
    "pool = Pool(processes=3)\n",
    "\n",
    "pool.map(slow_print, numbers)"
   ]
  },
  {
   "cell_type": "markdown",
   "metadata": {},
   "source": [
    "### Модуль concurrent.futures"
   ]
  },
  {
   "cell_type": "markdown",
   "metadata": {},
   "source": [
    "Абстракция над модулями мультипроцессинга и мультипоточности: можно работать с обоими модулями, но при этом не обладает большой гибкостью в управлении."
   ]
  },
  {
   "cell_type": "code",
   "execution_count": 24,
   "metadata": {},
   "outputs": [],
   "source": [
    "from concurrent.futures import ThreadPoolExecutor\n",
    "from concurrent.futures import ProcessPoolExecutor\n",
    "from concurrent.futures import as_completed\n",
    "import os"
   ]
  },
  {
   "cell_type": "code",
   "execution_count": 25,
   "metadata": {},
   "outputs": [],
   "source": [
    "def run(url):\n",
    "    handle = urllib.request.urlopen(url)    \n",
    "    fname = os.path.basename(url)\n",
    "    with open(fname, \"wb\") as f_handler:\n",
    "        while True:\n",
    "            chunk = handle.read(1024)\n",
    "            if not chunk:\n",
    "                break\n",
    "            f_handler.write(chunk)\n",
    "    msg = \"%s has finished downloading %s\" % (fname,url)\n",
    "    print(msg)"
   ]
  },
  {
   "cell_type": "code",
   "execution_count": 26,
   "metadata": {},
   "outputs": [
    {
     "name": "stdout",
     "output_type": "stream",
     "text": [
      "1513967276125723598.jpg has finished downloading https://cs8.pikabu.ru/post_img/2017/12/22/11/1513967276125723598.jpg\n",
      "1513965971173110667.jpg has finished downloading https://cs8.pikabu.ru/post_img/2017/12/22/11/1513965971173110667.jpg\n",
      "1513966490163375420.jpg has finished downloading https://cs8.pikabu.ru/post_img/2017/12/22/11/1513966490163375420.jpg\n",
      "1513967585163753346.jpg has finished downloading https://cs8.pikabu.ru/post_img/2017/12/22/11/1513967585163753346.jpg\n",
      "151396556419317615.jpg has finished downloading https://cs8.pikabu.ru/post_img/2017/12/22/10/151396556419317615.jpg\n",
      "1513966683175659107.jpg has finished downloading https://cs7.pikabu.ru/post_img/2017/12/22/11/1513966683175659107.jpg\n",
      "1513966594199245649.jpg has finished downloading https://cs7.pikabu.ru/post_img/2017/12/22/11/1513966594199245649.jpg1513964378174980200.jpg has finished downloading https://cs7.pikabu.ru/post_img/2017/12/22/10/1513964378174980200.jpg1513966565120257829.jpg has finished downloading https://cs7.pikabu.ru/post_img/2017/12/22/11/1513966565120257829.jpg\n",
      "\n",
      "\n"
     ]
    },
    {
     "data": {
      "text/plain": [
       "<generator object Executor.map.<locals>.result_iterator at 0x000002116A1A3888>"
      ]
     },
     "execution_count": 26,
     "metadata": {},
     "output_type": "execute_result"
    }
   ],
   "source": [
    "# from functions import run\n",
    "\n",
    "   \n",
    "def pool_mapper(urls):\n",
    "    with ThreadPoolExecutor(max_workers = 9) as executor:\n",
    "            return executor.map(run, urls)  \n",
    "        \n",
    "pool_mapper(urls)        "
   ]
  },
  {
   "cell_type": "markdown",
   "metadata": {},
   "source": [
    "### Упражнение"
   ]
  },
  {
   "cell_type": "markdown",
   "metadata": {},
   "source": [
    "Оценить качество алгоритмов с помощью коэффициента детерминации путем распараллеливания процессов. "
   ]
  },
  {
   "cell_type": "code",
   "execution_count": 27,
   "metadata": {},
   "outputs": [],
   "source": [
    "from sklearn.ensemble import RandomForestRegressor\n",
    "from sklearn.ensemble import GradientBoostingRegressor\n",
    "from sklearn.metrics import r2_score\n",
    "from multiprocessing import Pool"
   ]
  },
  {
   "cell_type": "markdown",
   "metadata": {},
   "source": [
    "1. Загрузить датасет из файла train.csv. Изучить датасет."
   ]
  },
  {
   "cell_type": "code",
   "execution_count": 29,
   "metadata": {},
   "outputs": [
    {
     "data": {
      "text/html": [
       "<div>\n",
       "<style scoped>\n",
       "    .dataframe tbody tr th:only-of-type {\n",
       "        vertical-align: middle;\n",
       "    }\n",
       "\n",
       "    .dataframe tbody tr th {\n",
       "        vertical-align: top;\n",
       "    }\n",
       "\n",
       "    .dataframe thead th {\n",
       "        text-align: right;\n",
       "    }\n",
       "</style>\n",
       "<table border=\"1\" class=\"dataframe\">\n",
       "  <thead>\n",
       "    <tr style=\"text-align: right;\">\n",
       "      <th></th>\n",
       "      <th>ID</th>\n",
       "      <th>target</th>\n",
       "      <th>48df886f9</th>\n",
       "      <th>0deb4b6a8</th>\n",
       "      <th>34b15f335</th>\n",
       "      <th>a8cb14b00</th>\n",
       "      <th>2f0771a37</th>\n",
       "      <th>30347e683</th>\n",
       "      <th>d08d1fbe3</th>\n",
       "      <th>6ee66e115</th>\n",
       "      <th>...</th>\n",
       "      <th>3ecc09859</th>\n",
       "      <th>9281abeea</th>\n",
       "      <th>8675bec0b</th>\n",
       "      <th>3a13ed79a</th>\n",
       "      <th>f677d4d13</th>\n",
       "      <th>71b203550</th>\n",
       "      <th>137efaa80</th>\n",
       "      <th>fb36b89d9</th>\n",
       "      <th>7e293fbaf</th>\n",
       "      <th>9fc776466</th>\n",
       "    </tr>\n",
       "  </thead>\n",
       "  <tbody>\n",
       "    <tr>\n",
       "      <th>0</th>\n",
       "      <td>000d6aaf2</td>\n",
       "      <td>38000000.0</td>\n",
       "      <td>0.0</td>\n",
       "      <td>0</td>\n",
       "      <td>0.0</td>\n",
       "      <td>0</td>\n",
       "      <td>0</td>\n",
       "      <td>0</td>\n",
       "      <td>0</td>\n",
       "      <td>0</td>\n",
       "      <td>...</td>\n",
       "      <td>0.0</td>\n",
       "      <td>0.0</td>\n",
       "      <td>0.0</td>\n",
       "      <td>0</td>\n",
       "      <td>0</td>\n",
       "      <td>0</td>\n",
       "      <td>0</td>\n",
       "      <td>0</td>\n",
       "      <td>0</td>\n",
       "      <td>0</td>\n",
       "    </tr>\n",
       "    <tr>\n",
       "      <th>1</th>\n",
       "      <td>000fbd867</td>\n",
       "      <td>600000.0</td>\n",
       "      <td>0.0</td>\n",
       "      <td>0</td>\n",
       "      <td>0.0</td>\n",
       "      <td>0</td>\n",
       "      <td>0</td>\n",
       "      <td>0</td>\n",
       "      <td>0</td>\n",
       "      <td>0</td>\n",
       "      <td>...</td>\n",
       "      <td>0.0</td>\n",
       "      <td>0.0</td>\n",
       "      <td>0.0</td>\n",
       "      <td>0</td>\n",
       "      <td>0</td>\n",
       "      <td>0</td>\n",
       "      <td>0</td>\n",
       "      <td>0</td>\n",
       "      <td>0</td>\n",
       "      <td>0</td>\n",
       "    </tr>\n",
       "    <tr>\n",
       "      <th>2</th>\n",
       "      <td>0027d6b71</td>\n",
       "      <td>10000000.0</td>\n",
       "      <td>0.0</td>\n",
       "      <td>0</td>\n",
       "      <td>0.0</td>\n",
       "      <td>0</td>\n",
       "      <td>0</td>\n",
       "      <td>0</td>\n",
       "      <td>0</td>\n",
       "      <td>0</td>\n",
       "      <td>...</td>\n",
       "      <td>0.0</td>\n",
       "      <td>0.0</td>\n",
       "      <td>0.0</td>\n",
       "      <td>0</td>\n",
       "      <td>0</td>\n",
       "      <td>0</td>\n",
       "      <td>0</td>\n",
       "      <td>0</td>\n",
       "      <td>0</td>\n",
       "      <td>0</td>\n",
       "    </tr>\n",
       "    <tr>\n",
       "      <th>3</th>\n",
       "      <td>0028cbf45</td>\n",
       "      <td>2000000.0</td>\n",
       "      <td>0.0</td>\n",
       "      <td>0</td>\n",
       "      <td>0.0</td>\n",
       "      <td>0</td>\n",
       "      <td>0</td>\n",
       "      <td>0</td>\n",
       "      <td>0</td>\n",
       "      <td>0</td>\n",
       "      <td>...</td>\n",
       "      <td>0.0</td>\n",
       "      <td>0.0</td>\n",
       "      <td>0.0</td>\n",
       "      <td>0</td>\n",
       "      <td>0</td>\n",
       "      <td>0</td>\n",
       "      <td>0</td>\n",
       "      <td>0</td>\n",
       "      <td>0</td>\n",
       "      <td>0</td>\n",
       "    </tr>\n",
       "    <tr>\n",
       "      <th>4</th>\n",
       "      <td>002a68644</td>\n",
       "      <td>14400000.0</td>\n",
       "      <td>0.0</td>\n",
       "      <td>0</td>\n",
       "      <td>0.0</td>\n",
       "      <td>0</td>\n",
       "      <td>0</td>\n",
       "      <td>0</td>\n",
       "      <td>0</td>\n",
       "      <td>0</td>\n",
       "      <td>...</td>\n",
       "      <td>0.0</td>\n",
       "      <td>0.0</td>\n",
       "      <td>0.0</td>\n",
       "      <td>0</td>\n",
       "      <td>0</td>\n",
       "      <td>0</td>\n",
       "      <td>0</td>\n",
       "      <td>0</td>\n",
       "      <td>0</td>\n",
       "      <td>0</td>\n",
       "    </tr>\n",
       "  </tbody>\n",
       "</table>\n",
       "<p>5 rows × 4993 columns</p>\n",
       "</div>"
      ],
      "text/plain": [
       "          ID      target  48df886f9  0deb4b6a8  34b15f335  a8cb14b00  \\\n",
       "0  000d6aaf2  38000000.0        0.0          0        0.0          0   \n",
       "1  000fbd867    600000.0        0.0          0        0.0          0   \n",
       "2  0027d6b71  10000000.0        0.0          0        0.0          0   \n",
       "3  0028cbf45   2000000.0        0.0          0        0.0          0   \n",
       "4  002a68644  14400000.0        0.0          0        0.0          0   \n",
       "\n",
       "   2f0771a37  30347e683  d08d1fbe3  6ee66e115    ...      3ecc09859  \\\n",
       "0          0          0          0          0    ...            0.0   \n",
       "1          0          0          0          0    ...            0.0   \n",
       "2          0          0          0          0    ...            0.0   \n",
       "3          0          0          0          0    ...            0.0   \n",
       "4          0          0          0          0    ...            0.0   \n",
       "\n",
       "   9281abeea  8675bec0b  3a13ed79a  f677d4d13  71b203550  137efaa80  \\\n",
       "0        0.0        0.0          0          0          0          0   \n",
       "1        0.0        0.0          0          0          0          0   \n",
       "2        0.0        0.0          0          0          0          0   \n",
       "3        0.0        0.0          0          0          0          0   \n",
       "4        0.0        0.0          0          0          0          0   \n",
       "\n",
       "   fb36b89d9  7e293fbaf  9fc776466  \n",
       "0          0          0          0  \n",
       "1          0          0          0  \n",
       "2          0          0          0  \n",
       "3          0          0          0  \n",
       "4          0          0          0  \n",
       "\n",
       "[5 rows x 4993 columns]"
      ]
     },
     "execution_count": 29,
     "metadata": {},
     "output_type": "execute_result"
    }
   ],
   "source": [
    "import pandas as pd\n",
    "data_ = pd.read_csv('files/lesson_9/train.csv')\n",
    "data_.head()"
   ]
  },
  {
   "cell_type": "markdown",
   "metadata": {},
   "source": [
    "2. Написать функцию calculate_quality, импортируемую из внешнего файла. В функции должны присутсовать следующие этапы:\n",
    "    - загрузка датасета из файла;\n",
    "    - разбивка датасета на обучающую и тестовую выборку с помощью фукции train_test_split, обратить внимание, какие столбцы должны использоваться для обучения, а какие для теста, размер тестовой выборки - 33%, random_state = 42; \n",
    "    - в качестве атрибута функция должна получать классификатор, который мы будем передавать извне\n",
    "    - функция должна print`ом выводить коэффициент детерминации, рассчитанный на тестовой выборке."
   ]
  },
  {
   "cell_type": "markdown",
   "metadata": {},
   "source": [
    "3. Оценить качество моделей, полученных с помощью алгоритмов RandomForestRegressor и GradientBoostingRegressor, рассчитав качество на 2 ядрах параллельно."
   ]
  },
  {
   "cell_type": "code",
   "execution_count": null,
   "metadata": {},
   "outputs": [],
   "source": []
  }
 ],
 "metadata": {
  "kernelspec": {
   "display_name": "Python 3",
   "language": "python",
   "name": "python3"
  },
  "language_info": {
   "codemirror_mode": {
    "name": "ipython",
    "version": 3
   },
   "file_extension": ".py",
   "mimetype": "text/x-python",
   "name": "python",
   "nbconvert_exporter": "python",
   "pygments_lexer": "ipython3",
   "version": "3.6.6"
  }
 },
 "nbformat": 4,
 "nbformat_minor": 2
}

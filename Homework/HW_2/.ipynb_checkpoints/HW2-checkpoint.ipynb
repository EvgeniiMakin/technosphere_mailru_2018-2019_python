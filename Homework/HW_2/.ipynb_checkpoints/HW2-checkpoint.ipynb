{
 "cells": [
  {
   "cell_type": "markdown",
   "metadata": {},
   "source": [
    "## 1 задание"
   ]
  },
  {
   "cell_type": "code",
   "execution_count": 26,
   "metadata": {},
   "outputs": [
    {
     "name": "stdout",
     "output_type": "stream",
     "text": [
      "57 1652\n",
      "253 42438\n",
      "509 172233\n"
     ]
    }
   ],
   "source": [
    "def ackermann(m,n):\n",
    "    setattr(ackermann, 'counter', 0)   \n",
    "    def acker(m,n):\n",
    "        ackermann.counter+=1\n",
    "        if m==0:\n",
    "            return n+1\n",
    "        elif (m>0) & (n==0):\n",
    "            return acker(m-1,1)\n",
    "        else:\n",
    "            return acker(m-1,acker(m,n-1))\n",
    "    return acker(m,n)    \n",
    "if __name__ == '__main__':\n",
    "    print(ackermann(2, 27), ackermann.counter)\n",
    "    print(ackermann(3, 5), ackermann.counter)\n",
    "    print(ackermann(3, 6), ackermann.counter)"
   ]
  },
  {
   "cell_type": "markdown",
   "metadata": {},
   "source": [
    "## 2 задание"
   ]
  },
  {
   "cell_type": "code",
   "execution_count": 27,
   "metadata": {},
   "outputs": [],
   "source": [
    "def solution1(arg):\n",
    "    return [4*ch for ch in arg]\n",
    "def solution2(arg):\n",
    "    return [(i+1)*ch for i, ch in enumerate(arg)]\n",
    "def solution3(arg):\n",
    "    return [i for i in arg if i%3==0 or i%5==0]\n",
    "def solution4(arg):\n",
    "    return [j for i in arg for j in i]           \n",
    "def solution5(arg):\n",
    "    return [(m,k,l) for m in range(1,arg+1) for k in range(m,arg+1) for l in range(k,arg+1) if m*m+k*k==l*l]\n",
    "def solution6(arg):\n",
    "    return [[j+i for j in arg[1]] for i in arg[0]]\n",
    "def solution7(arg):\n",
    "    return [[row[i] for row in arg] for i in range(len(arg[0]))]\n",
    "def solution8(arg):\n",
    "    return [[int(j) for j in ch.split(' ')] for ch in arg]\n",
    "def solution9(arg):\n",
    "    return {chr(k-min(arg)): (k-ord('a'))**2 for k in range(ord('a')+min(arg),1+ord('a')+max(arg))}\n",
    "def solution10(arg):\n",
    "    return {name.capitalize() for name in arg if len(name)>3}\n",
    "solutions = {\n",
    "    'solution1': solution1,\n",
    "    'solution2': solution2,\n",
    "    'solution3': solution3,\n",
    "    'solution4': solution4,\n",
    "    'solution5': solution5,\n",
    "    'solution6': solution6,\n",
    "    'solution7': solution7,\n",
    "    'solution8': solution8,\n",
    "    'solution9': solution9,\n",
    "    'solution10': solution10,\n",
    "}"
   ]
  },
  {
   "cell_type": "code",
   "execution_count": 28,
   "metadata": {},
   "outputs": [
    {
     "data": {
      "text/plain": [
       "['pppp', 'yyyy', 'tttt', 'hhhh', 'oooo', 'nnnn']"
      ]
     },
     "execution_count": 28,
     "metadata": {},
     "output_type": "execute_result"
    }
   ],
   "source": [
    "solution1('python')"
   ]
  },
  {
   "cell_type": "code",
   "execution_count": 29,
   "metadata": {},
   "outputs": [
    {
     "data": {
      "text/plain": [
       "['p', 'yy', 'ttt', 'hhhh', 'ooooo', 'nnnnnn']"
      ]
     },
     "execution_count": 29,
     "metadata": {},
     "output_type": "execute_result"
    }
   ],
   "source": [
    "solution2('python')"
   ]
  },
  {
   "cell_type": "code",
   "execution_count": 30,
   "metadata": {},
   "outputs": [
    {
     "data": {
      "text/plain": [
       "[0, 3, 5, 6, 9, 10, 12, 15]"
      ]
     },
     "execution_count": 30,
     "metadata": {},
     "output_type": "execute_result"
    }
   ],
   "source": [
    "solution3(range(16))"
   ]
  },
  {
   "cell_type": "code",
   "execution_count": 31,
   "metadata": {},
   "outputs": [
    {
     "data": {
      "text/plain": [
       "[1, 2, 3, 4, 5, 6, 7, 8, 9, 0]"
      ]
     },
     "execution_count": 31,
     "metadata": {},
     "output_type": "execute_result"
    }
   ],
   "source": [
    "solution4([[1, 2, 3], [4, 5, 6, 7], [8, 9], [0]])"
   ]
  },
  {
   "cell_type": "code",
   "execution_count": 32,
   "metadata": {},
   "outputs": [
    {
     "data": {
      "text/plain": [
       "[(3, 4, 5), (5, 12, 13), (6, 8, 10), (9, 12, 15)]"
      ]
     },
     "execution_count": 32,
     "metadata": {},
     "output_type": "execute_result"
    }
   ],
   "source": [
    "solution5(15)"
   ]
  },
  {
   "cell_type": "code",
   "execution_count": 33,
   "metadata": {},
   "outputs": [
    {
     "data": {
      "text/plain": [
       "[[0, 1, 2, 3, 4], [1, 2, 3, 4, 5], [2, 3, 4, 5, 6]]"
      ]
     },
     "execution_count": 33,
     "metadata": {},
     "output_type": "execute_result"
    }
   ],
   "source": [
    "solution6(([0, 1, 2], [0, 1, 2, 3, 4]))"
   ]
  },
  {
   "cell_type": "code",
   "execution_count": 34,
   "metadata": {},
   "outputs": [
    {
     "data": {
      "text/plain": [
       "[[1, 2], [3, 4], [5, 6]]"
      ]
     },
     "execution_count": 34,
     "metadata": {},
     "output_type": "execute_result"
    }
   ],
   "source": [
    "solution7([[1, 3, 5], [2, 4, 6]])"
   ]
  },
  {
   "cell_type": "code",
   "execution_count": 35,
   "metadata": {},
   "outputs": [
    {
     "data": {
      "text/plain": [
       "[[0], [1, 2, 3], [4, 5, 6, 7], [8, 9]]"
      ]
     },
     "execution_count": 35,
     "metadata": {},
     "output_type": "execute_result"
    }
   ],
   "source": [
    "solution8([\"0\", \"1 2 3\", \"4 5 6 7\", \"8 9\"])"
   ]
  },
  {
   "cell_type": "code",
   "execution_count": 36,
   "metadata": {},
   "outputs": [
    {
     "data": {
      "text/plain": [
       "{'a': 0, 'b': 1, 'c': 4, 'd': 9, 'e': 16, 'f': 25}"
      ]
     },
     "execution_count": 36,
     "metadata": {},
     "output_type": "execute_result"
    }
   ],
   "source": [
    "solution9(range(0, 6))"
   ]
  },
  {
   "cell_type": "code",
   "execution_count": 37,
   "metadata": {},
   "outputs": [
    {
     "data": {
      "text/plain": [
       "{'Alice', 'Anton', 'Kamila', 'Nastya', 'Vova'}"
      ]
     },
     "execution_count": 37,
     "metadata": {},
     "output_type": "execute_result"
    }
   ],
   "source": [
    "solution10(['Alice', 'vova', 'ANTON', 'Bob', 'kAMILA', 'CJ', 'ALICE', 'Nastya'])"
   ]
  },
  {
   "cell_type": "markdown",
   "metadata": {},
   "source": [
    "## 3 задание (5,6,7 - not)"
   ]
  },
  {
   "cell_type": "code",
   "execution_count": 1,
   "metadata": {},
   "outputs": [],
   "source": [
    "def solution1_my(arg):\n",
    "    b = []\n",
    "    for x in arg:\n",
    "        a = ''\n",
    "        for i in reversed(range(len(x))):\n",
    "            if x[i].isdigit():\n",
    "                a = a+x[i]\n",
    "        b.append(int(a))\n",
    "    return b\n",
    "def solution1(arg):\n",
    "    import re\n",
    "    return list(map(lambda x: int((re.sub('[^0-9]','', x))[::-1]), arg))\n",
    "def solution2(arg):\n",
    "    return list(map(lambda x: x[0]*x[1], arg))\n",
    "def solution3(arg):\n",
    "    return list(filter(lambda x: x%6 in {0,2,5}, arg))\n",
    "def solution4(arg):\n",
    "    return list(filter(None, arg))         \n",
    "def solution5(arg):\n",
    "    import operator\n",
    "    for a in arg:\n",
    "        operator.setitem(a,'square',a['width']*a['length'])\n",
    "    return arg\n",
    "def solution6(arg):\n",
    "    import operator\n",
    "    arg = arg.copy()\n",
    "    for a in arg:\n",
    "        operator.setitem(a,'square',a['width']*a['length'])\n",
    "    return arg\n",
    "def solution7(arg):\n",
    "    import operator\n",
    "    res = []\n",
    "    for a in arg:\n",
    "        new_a = a.copy()\n",
    "        operator.setitem(new_a,'square',a['width']*a['length'])\n",
    "        res.append(new_a)\n",
    "    return res\n",
    "def solution8(arg):\n",
    "    from functools import reduce\n",
    "    return (reduce(lambda x, y: x+y,[s['height'] for s in arg]), len(arg))\n",
    "def solution9(arg):\n",
    "    return list(map(lambda x: x['name'],[x for x in arg if x['gpa'] > 4.5]))\n",
    "def solution10(arg):\n",
    "    return list(filter(lambda x: sum(map(int,x[0::2]))==sum(map(int,x[1::2])),arg))\n",
    "solutions = {\n",
    "    'solution1': solution1,\n",
    "    'solution2': solution2,\n",
    "    'solution3': solution3,\n",
    "    'solution4': solution4,\n",
    "    'solution5': solution5,\n",
    "    'solution6': solution6,\n",
    "    'solution7': solution7,\n",
    "    'solution8': solution8,\n",
    "    'solution9': solution9,\n",
    "    'solution10': solution10,\n",
    "}"
   ]
  },
  {
   "cell_type": "markdown",
   "metadata": {},
   "source": [
    "#### 1"
   ]
  },
  {
   "cell_type": "code",
   "execution_count": 111,
   "metadata": {},
   "outputs": [
    {
     "data": {
      "text/plain": [
       "[21, 652, 2048, 1996]"
      ]
     },
     "execution_count": 111,
     "metadata": {},
     "output_type": "execute_result"
    }
   ],
   "source": [
    "#['12', '25.6', '84,02', '  69-91'] -> [21, 652, 2048, 1996]\n",
    "solution1(['12', '25.6', '84,02', '  69-91'])"
   ]
  },
  {
   "cell_type": "markdown",
   "metadata": {},
   "source": [
    "#### 2"
   ]
  },
  {
   "cell_type": "code",
   "execution_count": 112,
   "metadata": {},
   "outputs": [
    {
     "data": {
      "text/plain": [
       "[6, 15, 28]"
      ]
     },
     "execution_count": 112,
     "metadata": {},
     "output_type": "execute_result"
    }
   ],
   "source": [
    "#zip(range(2, 5), range(3, 9, 2)) -> [6, 15, 28]\n",
    "solution2(zip(range(2, 5), range(3, 9, 2)))"
   ]
  },
  {
   "cell_type": "markdown",
   "metadata": {},
   "source": [
    "#### 3"
   ]
  },
  {
   "cell_type": "code",
   "execution_count": 113,
   "metadata": {},
   "outputs": [
    {
     "data": {
      "text/plain": [
       "[0, 2, 5, 6, 8, 11, 12, 14, 17, 18]"
      ]
     },
     "execution_count": 113,
     "metadata": {},
     "output_type": "execute_result"
    }
   ],
   "source": [
    "#range(20) -> [0, 2, 5, 6, 8, 11, 12, 14, 17, 18]\n",
    "solution3(range(20))"
   ]
  },
  {
   "cell_type": "markdown",
   "metadata": {},
   "source": [
    "#### 4"
   ]
  },
  {
   "cell_type": "code",
   "execution_count": 114,
   "metadata": {},
   "outputs": [
    {
     "data": {
      "text/plain": [
       "[25, 'python', ('msu', '1755-01-25')]"
      ]
     },
     "execution_count": 114,
     "metadata": {},
     "output_type": "execute_result"
    }
   ],
   "source": [
    "#['', 25, None, 'python', 0.0, [], ('msu', '1755-01-25')] -> [25, 'python', ('msu', '1755-01-25')]\n",
    "solution4(['', 25, None, 'python', 0.0, [], ('msu', '1755-01-25')])"
   ]
  },
  {
   "cell_type": "markdown",
   "metadata": {},
   "source": [
    "#### 5"
   ]
  },
  {
   "cell_type": "code",
   "execution_count": 140,
   "metadata": {},
   "outputs": [
    {
     "data": {
      "text/plain": [
       "[{'name': 'комната1', 'width': 2, 'length': 4, 'square': 8},\n",
       " {'name': 'комната2', 'width': 2.5, 'length': 5.6, 'square': 14.0},\n",
       " {'name': 'кухня', 'width': 3.5, 'length': 4, 'square': 14.0},\n",
       " {'name': 'туалет', 'width': 1.5, 'length': 1.5, 'square': 2.25}]"
      ]
     },
     "execution_count": 140,
     "metadata": {},
     "output_type": "execute_result"
    }
   ],
   "source": [
    "rooms = [\n",
    "    {\"name\": \"комната1\", \"width\": 2, \"length\": 4},\n",
    "    {\"name\": \"комната2\", \"width\": 2.5, \"length\": 5.6},\n",
    "    {\"name\": \"кухня\", \"width\": 3.5, \"length\": 4},\n",
    "    {\"name\": \"туалет\", \"width\": 1.5, \"length\": 1.5},\n",
    "]\n",
    "solution5(rooms)"
   ]
  },
  {
   "cell_type": "code",
   "execution_count": 87,
   "metadata": {},
   "outputs": [
    {
     "data": {
      "text/plain": [
       "[None,\n",
       " None,\n",
       " None,\n",
       " None,\n",
       " None,\n",
       " None,\n",
       " None,\n",
       " None,\n",
       " None,\n",
       " None,\n",
       " None,\n",
       " None,\n",
       " None,\n",
       " None,\n",
       " None,\n",
       " None,\n",
       " None,\n",
       " None,\n",
       " None,\n",
       " None,\n",
       " None,\n",
       " None,\n",
       " None,\n",
       " None,\n",
       " None,\n",
       " None,\n",
       " None,\n",
       " None,\n",
       " None,\n",
       " None,\n",
       " None,\n",
       " None,\n",
       " None,\n",
       " None,\n",
       " None,\n",
       " None,\n",
       " None,\n",
       " None,\n",
       " None,\n",
       " None,\n",
       " None,\n",
       " None,\n",
       " None,\n",
       " None,\n",
       " None,\n",
       " None,\n",
       " None,\n",
       " None,\n",
       " None,\n",
       " None,\n",
       " None,\n",
       " None,\n",
       " None,\n",
       " None,\n",
       " None,\n",
       " None,\n",
       " None,\n",
       " None,\n",
       " None,\n",
       " None,\n",
       " None,\n",
       " None,\n",
       " None,\n",
       " None,\n",
       " None,\n",
       " None,\n",
       " None,\n",
       " None,\n",
       " None,\n",
       " None,\n",
       " None,\n",
       " None,\n",
       " None,\n",
       " None,\n",
       " None,\n",
       " None,\n",
       " None,\n",
       " None,\n",
       " None,\n",
       " None,\n",
       " None,\n",
       " None,\n",
       " None,\n",
       " None,\n",
       " None,\n",
       " None,\n",
       " None,\n",
       " None,\n",
       " None,\n",
       " None,\n",
       " None,\n",
       " None,\n",
       " None,\n",
       " None,\n",
       " None,\n",
       " None,\n",
       " None,\n",
       " None,\n",
       " None,\n",
       " None,\n",
       " None,\n",
       " None,\n",
       " None,\n",
       " None,\n",
       " None,\n",
       " None,\n",
       " None,\n",
       " None,\n",
       " None,\n",
       " None,\n",
       " None,\n",
       " None,\n",
       " None,\n",
       " None,\n",
       " None,\n",
       " None,\n",
       " None,\n",
       " None,\n",
       " None,\n",
       " None,\n",
       " None,\n",
       " None,\n",
       " None,\n",
       " None,\n",
       " None,\n",
       " None,\n",
       " None,\n",
       " None,\n",
       " None,\n",
       " None,\n",
       " None,\n",
       " None,\n",
       " None,\n",
       " None,\n",
       " None,\n",
       " None,\n",
       " None,\n",
       " None,\n",
       " None,\n",
       " None,\n",
       " None,\n",
       " None,\n",
       " None,\n",
       " None,\n",
       " None,\n",
       " None,\n",
       " None,\n",
       " None,\n",
       " None,\n",
       " None,\n",
       " None,\n",
       " None,\n",
       " None,\n",
       " None,\n",
       " None,\n",
       " None,\n",
       " None,\n",
       " None,\n",
       " None,\n",
       " None,\n",
       " None,\n",
       " None,\n",
       " None,\n",
       " None,\n",
       " None,\n",
       " None,\n",
       " None,\n",
       " None,\n",
       " None,\n",
       " None,\n",
       " None,\n",
       " None,\n",
       " None,\n",
       " None,\n",
       " None,\n",
       " None,\n",
       " None,\n",
       " None,\n",
       " None,\n",
       " None,\n",
       " None,\n",
       " None,\n",
       " None,\n",
       " None,\n",
       " None,\n",
       " None,\n",
       " None,\n",
       " None,\n",
       " None,\n",
       " None,\n",
       " None,\n",
       " None,\n",
       " None,\n",
       " None,\n",
       " None,\n",
       " None,\n",
       " None,\n",
       " None,\n",
       " None,\n",
       " None,\n",
       " None,\n",
       " None,\n",
       " None,\n",
       " None,\n",
       " None,\n",
       " None,\n",
       " None,\n",
       " None,\n",
       " None,\n",
       " None,\n",
       " None,\n",
       " None,\n",
       " None,\n",
       " None,\n",
       " None,\n",
       " None,\n",
       " None,\n",
       " None,\n",
       " None,\n",
       " None,\n",
       " None,\n",
       " None,\n",
       " None,\n",
       " None,\n",
       " None,\n",
       " None,\n",
       " None,\n",
       " None,\n",
       " None,\n",
       " None,\n",
       " None,\n",
       " None,\n",
       " None,\n",
       " None,\n",
       " None,\n",
       " None,\n",
       " None,\n",
       " None,\n",
       " None,\n",
       " None,\n",
       " None,\n",
       " None,\n",
       " None,\n",
       " None,\n",
       " None,\n",
       " None,\n",
       " None,\n",
       " None,\n",
       " None,\n",
       " None,\n",
       " None,\n",
       " None,\n",
       " None,\n",
       " None,\n",
       " None,\n",
       " None]"
      ]
     },
     "execution_count": 87,
     "metadata": {},
     "output_type": "execute_result"
    }
   ],
   "source": [
    "d = {}\n",
    "keys = range(256)\n",
    "vals = map(chr, keys)\n",
    "list(map(operator.setitem, [d]*len(keys), keys, vals))\n"
   ]
  },
  {
   "cell_type": "code",
   "execution_count": 97,
   "metadata": {},
   "outputs": [
    {
     "data": {
      "text/plain": [
       "{'fred': 1, 'sam': 2, 'jane': 3, 'betty': 4}"
      ]
     },
     "execution_count": 97,
     "metadata": {},
     "output_type": "execute_result"
    }
   ],
   "source": [
    "people = (('fred','sam','jane','betty'), (1,2,3,4))\n",
    "p_dict = dict(zip(*people))\n",
    "p_dict"
   ]
  },
  {
   "cell_type": "markdown",
   "metadata": {},
   "source": [
    "#### 6"
   ]
  },
  {
   "cell_type": "code",
   "execution_count": null,
   "metadata": {},
   "outputs": [],
   "source": []
  },
  {
   "cell_type": "markdown",
   "metadata": {},
   "source": [
    "#### 7"
   ]
  },
  {
   "cell_type": "code",
   "execution_count": null,
   "metadata": {},
   "outputs": [],
   "source": []
  },
  {
   "cell_type": "markdown",
   "metadata": {},
   "source": [
    "#### 8"
   ]
  },
  {
   "cell_type": "code",
   "execution_count": 44,
   "metadata": {},
   "outputs": [
    {
     "data": {
      "text/plain": [
       "(679, 4)"
      ]
     },
     "execution_count": 44,
     "metadata": {},
     "output_type": "execute_result"
    }
   ],
   "source": [
    "people = [\n",
    "    {'name': 'Vova', 'height': 168},\n",
    "    {'name': 'Michael', 'height': 172},\n",
    "    {'name': 'Diana', 'height': 175},\n",
    "    {'name': 'Nastya', 'height': 164},\n",
    "]\n",
    "solution8(people)"
   ]
  },
  {
   "cell_type": "markdown",
   "metadata": {},
   "source": [
    "#### 9"
   ]
  },
  {
   "cell_type": "code",
   "execution_count": 45,
   "metadata": {},
   "outputs": [
    {
     "data": {
      "text/plain": [
       "['Alina', 'Sergey', 'Valya']"
      ]
     },
     "execution_count": 45,
     "metadata": {},
     "output_type": "execute_result"
    }
   ],
   "source": [
    "students = [\n",
    "    {'name': 'Alina', 'gpa': 4.57},\n",
    "    {'name': 'Sergey', 'gpa': 5.0},\n",
    "    {'name': 'Nastya', 'gpa': 4.21},\n",
    "    {'name': 'Valya', 'gpa': 4.72},\n",
    "    {'name': 'Anton', 'gpa': 4.32},\n",
    "]\n",
    "\n",
    "solution9(students)"
   ]
  },
  {
   "cell_type": "markdown",
   "metadata": {},
   "source": [
    "#### 10"
   ]
  },
  {
   "cell_type": "code",
   "execution_count": 46,
   "metadata": {},
   "outputs": [
    {
     "data": {
      "text/plain": [
       "['165033', '475145', '238018']"
      ]
     },
     "execution_count": 46,
     "metadata": {},
     "output_type": "execute_result"
    }
   ],
   "source": [
    "# ['165033', '477329', '631811', '478117', '475145', '238018', \n",
    "# '917764', '394286'] -> ['165033', '475145', '238018']\n",
    "solution10(['165033', '477329', '631811', '478117', '475145', \n",
    "            '238018', '917764', '394286']) \n"
   ]
  },
  {
   "cell_type": "markdown",
   "metadata": {},
   "source": [
    "## 4 задание"
   ]
  },
  {
   "cell_type": "code",
   "execution_count": 98,
   "metadata": {},
   "outputs": [
    {
     "name": "stdout",
     "output_type": "stream",
     "text": [
      "`func` started\n",
      "`func` finished in 0.01s\n"
     ]
    }
   ],
   "source": [
    "import functools\n",
    "import time\n",
    "\n",
    "def stopwatch(func):\n",
    "    @functools.wraps(func)\n",
    "    def wrapped(*args, **argv):\n",
    "        print('`'+str(func.__name__)+'` started')\n",
    "        time_start = time.perf_counter()\n",
    "        result = func(*args, **argv)\n",
    "        time_finish = time.perf_counter()\n",
    "        time_watch = time_finish - time_start\n",
    "        print('`'+str(func.__name__)+'` finished in '+str(round(time_watch,2))+'s')\n",
    "        return result\n",
    "    return wrapped\n",
    "@stopwatch\n",
    "def func():\n",
    "    time.sleep(0.01)\n",
    "\n",
    "if __name__ == '__main__':\n",
    "    func()\n"
   ]
  },
  {
   "cell_type": "markdown",
   "metadata": {},
   "source": [
    "## 5 задание"
   ]
  },
  {
   "cell_type": "code",
   "execution_count": 278,
   "metadata": {},
   "outputs": [],
   "source": [
    "import functools\n",
    "def once(func):\n",
    "    cache = dict()\n",
    "    @functools.wraps(func)\n",
    "    def wrapper(*args):\n",
    "        key = (func, args)\n",
    "        if key not in cache:\n",
    "            cache[key] = func(*args)\n",
    "        return cache[key]\n",
    "    return wrapper"
   ]
  },
  {
   "cell_type": "code",
   "execution_count": 279,
   "metadata": {},
   "outputs": [
    {
     "name": "stdout",
     "output_type": "stream",
     "text": [
      "Settings are successfully set.\n",
      "1\n",
      "1\n"
     ]
    }
   ],
   "source": [
    "@once\n",
    "def init():\n",
    "    print(\"Settings are successfully set.\")\n",
    "    return 1\n",
    "\n",
    "if __name__ == \"__main__\":\n",
    "    print(init())\n",
    "    print(init())"
   ]
  },
  {
   "cell_type": "code",
   "execution_count": 280,
   "metadata": {},
   "outputs": [
    {
     "name": "stdout",
     "output_type": "stream",
     "text": [
      "Bonjour le monde!\n"
     ]
    }
   ],
   "source": [
    "@once\n",
    "def bonjour():\n",
    "    print(\"Bonjour le monde!\")\n",
    "\n",
    "if __name__ == \"__main__\":\n",
    "    bonjour()\n",
    "    bonjour()\n",
    "    bonjour()"
   ]
  },
  {
   "cell_type": "markdown",
   "metadata": {},
   "source": [
    "## 6 задание (генератор)  - понять логику"
   ]
  },
  {
   "cell_type": "code",
   "execution_count": 9,
   "metadata": {},
   "outputs": [
    {
     "name": "stdout",
     "output_type": "stream",
     "text": [
      "5\n",
      "1 5 10 10 5 1\n"
     ]
    }
   ],
   "source": [
    "def binomial(n):\n",
    "    for i in range(0,n+1):\n",
    "        C = C*(n+1-i)//i if i>0 else 1\n",
    "        yield str(C)\n",
    "if __name__ == '__main__':\n",
    "    for num in map(int, input().split()):\n",
    "        print(' '.join(binomial(num)))"
   ]
  },
  {
   "cell_type": "code",
   "execution_count": 4,
   "metadata": {},
   "outputs": [
    {
     "data": {
      "text/plain": [
       "1"
      ]
     },
     "execution_count": 4,
     "metadata": {},
     "output_type": "execute_result"
    }
   ],
   "source": [
    "binomial(1,1)"
   ]
  },
  {
   "cell_type": "code",
   "execution_count": 14,
   "metadata": {},
   "outputs": [
    {
     "name": "stdout",
     "output_type": "stream",
     "text": [
      "5\n",
      "1 5 10 10 5 1 \n"
     ]
    }
   ],
   "source": [
    "# при вызове функции заполняем все, что выше/левее\n",
    "# в списке биномиальных коэффициентов bcs храним значения, начиная с n=4 и k=2\n",
    "def Binc(bcs,n,k):\n",
    "    if (k>n):   return 0\n",
    "    if k>n//2:  k=n-k # страшую часть строки не храним - она симметрична\n",
    "    if k==0:    return 1\n",
    "    if k==1:    return n\n",
    "    while len(bcs)<n-3:\n",
    "        # заполняем выше\n",
    "        for i in range(len(bcs),n-3):\n",
    "            r=[]\n",
    "            for j in range(2,i//2+3):\n",
    "                r.append(Binc(bcs,i+3,j-1)+Binc(bcs,i+3,j))\n",
    "            bcs.append(r)\n",
    "    r=bcs[n-4]\n",
    "    if len(r)<k-1:\n",
    "        # заполняем левее\n",
    "        for i in range(len(r),k-1):\n",
    "            r.append(Binc(bcs,n-1,k-1)+Binc(bcs,n-1,k))\n",
    "    return bcs[n-4][k-2]\n",
    "# конец функции\n",
    "\n",
    "bcs=[] # пустой список биномиальных коэффициентов\n",
    "# а это вывод таблички из начала статьи\n",
    "seq = list(map(int, input().split(' ')))\n",
    "for n in seq:\n",
    "    for k in range(0,n+1):\n",
    "        print(Binc(bcs,n,k),end=\" \")\n",
    "    print()"
   ]
  },
  {
   "cell_type": "markdown",
   "metadata": {},
   "source": [
    "## 7 задание - понять логику"
   ]
  },
  {
   "cell_type": "code",
   "execution_count": 160,
   "metadata": {},
   "outputs": [
    {
     "name": "stdout",
     "output_type": "stream",
     "text": [
      "3\n",
      "((()))\n",
      "(()())\n",
      "(())()\n",
      "()(())\n",
      "()()()\n"
     ]
    }
   ],
   "source": [
    "def brackets(n):\n",
    "    open_bracket = 0\n",
    "    close_bracket = 0\n",
    "    answer = ''\n",
    "    def process_brackets(n,open_bracket, close_bracket, answer):\n",
    "        if open_bracket + close_bracket == 2 * n:\n",
    "            yield answer        \n",
    "        if open_bracket < n:\n",
    "            yield from process_brackets(n, open_bracket + 1, close_bracket, answer + '(')\n",
    "        if open_bracket > close_bracket:\n",
    "            yield from process_brackets(n, open_bracket, close_bracket + 1, answer + ')')\n",
    "    yield from process_brackets(n,open_bracket, close_bracket, answer)\n",
    "if __name__ == '__main__':\n",
    "    for seq in brackets(int(input())):\n",
    "        print(seq)"
   ]
  },
  {
   "cell_type": "markdown",
   "metadata": {},
   "source": [
    "## 8 задание"
   ]
  },
  {
   "cell_type": "raw",
   "metadata": {},
   "source": [
    "Магическое двоичное дерево поиска\n",
    "В этом задании требуется реализовать двоичное дерево поиска. Ваш класс BinarySearchTree должен поддерживать следующий интерфейс:\n",
    "\n",
    "1. Конструктор, который опционально может принимать значение, которое будет находиться в корне дерева.\n",
    "\n",
    "2. append(value) добавляет в дерево новый элемент со значением value.\n",
    "\n",
    "3. Класс должен поддерживать конструкцию value in tree, где value — число, а tree — экземпляр класса дерева.\n",
    "\n",
    "4. Класс должен поддерживать механизм итерации. Итерирование соответствует обходу дерева в ширину."
   ]
  },
  {
   "cell_type": "raw",
   "metadata": {},
   "source": [
    "Примеры\n",
    "Входные данные"
   ]
  },
  {
   "cell_type": "code",
   "execution_count": 202,
   "metadata": {},
   "outputs": [],
   "source": [
    "class BinarySearchTree:\n",
    "    pass\n",
    "\n",
    "\n",
    "if __name__ == '__main__':\n",
    "    tree = BinarySearchTree()\n",
    "#    for v in [8, 3, 10, 1, 6, 4, 14, 13, 7]:\n",
    "#        tree.append(v)\n",
    "\n",
    "#    for v in [8, 12, 13]:\n",
    "#        print(v in tree)\n",
    "\n",
    "#    print(*tree)"
   ]
  },
  {
   "cell_type": "raw",
   "metadata": {},
   "source": [
    "Результат работы\n",
    "True\n",
    "False\n",
    "True\n",
    "8 3 10 1 6 14 4 7 13\n",
    "Примечания\n",
    "В реализации обхода в ширину вам может пригодиться класс deque из модуля collections."
   ]
  },
  {
   "cell_type": "markdown",
   "metadata": {},
   "source": [
    "Напомним, что $__contains__$ перегружает оператор in и позволяет писать код наподобие"
   ]
  },
  {
   "cell_type": "raw",
   "metadata": {},
   "source": [
    "if 'Northfield' in myZipTree:\n",
    "    print(\"oom ya ya\")"
   ]
  },
  {
   "cell_type": "code",
   "execution_count": 198,
   "metadata": {},
   "outputs": [],
   "source": [
    "def __contains__(self,key):\n",
    "    if self._get(key,self.root):\n",
    "        return True\n",
    "    else:\n",
    "        return False"
   ]
  },
  {
   "cell_type": "markdown",
   "metadata": {},
   "source": [
    "http://aliev.me/runestone/Trees/SearchTreeImplementation.html"
   ]
  },
  {
   "cell_type": "markdown",
   "metadata": {},
   "source": [
    "https://github.com/mpgiii/binarysearchtree/blob/master/binarytreevis.py"
   ]
  },
  {
   "cell_type": "code",
   "execution_count": 3,
   "metadata": {},
   "outputs": [],
   "source": [
    "from collections import deque\n",
    "\n",
    "class BinarySearchTree:\n",
    "    class TreeNode:\n",
    "    \n",
    "        def __init__(self,val,left=None,right=None,parent=None):\n",
    "            self.val = val\n",
    "            self.leftChild = left\n",
    "            self.rightChild = right\n",
    "            self.parent = parent\n",
    "        \n",
    "        \n",
    "        def setLeftChild(self, newleft):\n",
    "            self.leftChild = newleft\n",
    "            \n",
    "        def setRightChild(self, newright):\n",
    "            self.rightChild = newright   \n",
    "        \n",
    "        def hasLeftChild(self):\n",
    "            return self.leftChild\n",
    "\n",
    "        def hasRightChild(self):\n",
    "            return self.rightChild\n",
    "\n",
    "                        \n",
    "        def iterLayers(self):\n",
    "            q = deque()\n",
    "            q.append(self)\n",
    "            def layerIterator(layerSize):\n",
    "                for i in range(layerSize):\n",
    "                    n = q.popleft()\n",
    "                    if n.leftChild: q.append(n.leftChild)\n",
    "                    if n.rightChild: q.append(n.rightChild)\n",
    "                    yield n.val\n",
    "            while (q):\n",
    "                yield from layerIterator(len(q))\n",
    "       \n",
    "        def __iter__(self):\n",
    "            for elem in self.iterLayers():\n",
    "                yield elem\n",
    "                \n",
    "\n",
    "    #the BinarySearchTree class\n",
    "    \n",
    "        \n",
    "    def __init__(self, root=None):\n",
    "        if root == None:\n",
    "            self.root = None\n",
    "        else:\n",
    "            self.root = BinarySearchTree.TreeNode(root)\n",
    "\n",
    "    def __iter__(self):\n",
    "        if self.root == None:\n",
    "            return self\n",
    "        else:\n",
    "            return self.root.__iter__()\n",
    "    def __next__(self):\n",
    "        if self.root == None:\n",
    "            raise StopIteration()\n",
    "    def append(self,val):\n",
    "        if self.root:\n",
    "            self.__append(val, self.root)\n",
    "        else:\n",
    "            self.root = BinarySearchTree.TreeNode(val)\n",
    "\n",
    "    \n",
    "    def __append(self,val,currentNode):\n",
    "        if val is not None:\n",
    "            if val < currentNode.val:\n",
    "                if currentNode.hasLeftChild():\n",
    "                    self.__append(val,currentNode.leftChild)\n",
    "                else:\n",
    "                    currentNode.leftChild = BinarySearchTree.TreeNode(val,parent=currentNode)\n",
    "            \n",
    "            else:\n",
    "                if currentNode.hasRightChild():\n",
    "                    self.__append(val,currentNode.rightChild)\n",
    "                else:\n",
    "                    currentNode.rightChild = BinarySearchTree.TreeNode(val,parent=currentNode)\n",
    "\n",
    "    def __get(self,val,currentNode):\n",
    "        if not currentNode:\n",
    "            return None\n",
    "        elif currentNode.val == val:\n",
    "            return currentNode\n",
    "        elif val < currentNode.val:\n",
    "            return self.__get(val,currentNode.leftChild)\n",
    "        else:\n",
    "            return self.__get(val,currentNode.rightChild)\n",
    "        \n",
    "\n",
    "    def __contains__(self,val):\n",
    "        if self.__get(val,self.root):\n",
    "            return True\n",
    "        else:\n",
    "            return False    "
   ]
  },
  {
   "cell_type": "code",
   "execution_count": 5,
   "metadata": {},
   "outputs": [
    {
     "name": "stdout",
     "output_type": "stream",
     "text": [
      "\n"
     ]
    }
   ],
   "source": [
    "if __name__ == '__main__':\n",
    "    tree = BinarySearchTree()\n",
    "    \n",
    "print(*tree)"
   ]
  },
  {
   "cell_type": "markdown",
   "metadata": {},
   "source": [
    "## 9 задание"
   ]
  },
  {
   "cell_type": "code",
   "execution_count": 435,
   "metadata": {},
   "outputs": [],
   "source": [
    "import copy\n",
    "class FragileDict:\n",
    "    def __init__(self, f_dict = None):\n",
    "        self._lock = True\n",
    "        if dict is None:\n",
    "            self._data = copy.deepcopy({})\n",
    "        else:\n",
    "            self._data = {}\n",
    "            for key,value in f_dict.items():\n",
    "                self.__setitem__(key, value)\n",
    "            self._data = copy.deepcopy(self._data)\n",
    "        self._lock = False\n",
    "            \n",
    "    def __getitem__(self,key):\n",
    "        if key in self._data.keys():\n",
    "            return self._data[key]\n",
    "        else:\n",
    "            raise KeyError(key)\n",
    "        \n",
    "    def __setitem__(self,key,value):\n",
    "        if self._lock == True:\n",
    "            self._data[key]=value\n",
    "        else:\n",
    "            raise RuntimeError(\"Protected state\")\n",
    "\n",
    "        \n",
    "    def __contains__(self, key):\n",
    "        return key in self._data.keys()\n",
    "    \n",
    "    def __enter__(self):\n",
    "        self._lock = True\n",
    "        self.cash = copy.deepcopy(self._data)\n",
    "        return self\n",
    "    \n",
    "    def __exit__(self, exc_type, exc_value, traceback):\n",
    "        if exc_type is not None:\n",
    "            self._data = copy.deepcopy(self.cash)\n",
    "            print(\"Exception has been suppressed.\")\n",
    "        else:\n",
    "            self._data  = copy.deepcopy(self._data)\n",
    "        del self.cash\n",
    "        self._lock = False    \n",
    "        return True  # Так подавляем исключение."
   ]
  },
  {
   "cell_type": "code",
   "execution_count": 437,
   "metadata": {},
   "outputs": [
    {
     "name": "stdout",
     "output_type": "stream",
     "text": [
      "7\n"
     ]
    },
    {
     "data": {
      "text/plain": [
       "['__class__',\n",
       " '__contains__',\n",
       " '__delattr__',\n",
       " '__dict__',\n",
       " '__dir__',\n",
       " '__doc__',\n",
       " '__enter__',\n",
       " '__eq__',\n",
       " '__exit__',\n",
       " '__format__',\n",
       " '__ge__',\n",
       " '__getattribute__',\n",
       " '__getitem__',\n",
       " '__gt__',\n",
       " '__hash__',\n",
       " '__init__',\n",
       " '__init_subclass__',\n",
       " '__le__',\n",
       " '__lt__',\n",
       " '__module__',\n",
       " '__ne__',\n",
       " '__new__',\n",
       " '__reduce__',\n",
       " '__reduce_ex__',\n",
       " '__repr__',\n",
       " '__setattr__',\n",
       " '__setitem__',\n",
       " '__sizeof__',\n",
       " '__str__',\n",
       " '__subclasshook__',\n",
       " '__weakref__',\n",
       " '_data',\n",
       " '_lock']"
      ]
     },
     "execution_count": 437,
     "metadata": {},
     "output_type": "execute_result"
    }
   ],
   "source": [
    "d = FragileDict({'key': 5})\n",
    "\n",
    "with d:\n",
    "    d['key'] = 6\n",
    "    d['ord'] = 7\n",
    "print(d['ord'])\n",
    "dir(d)"
   ]
  },
  {
   "cell_type": "code",
   "execution_count": 431,
   "metadata": {},
   "outputs": [
    {
     "name": "stdout",
     "output_type": "stream",
     "text": [
      "Protected state\n",
      "Protected state\n",
      "True\n",
      "True\n"
     ]
    }
   ],
   "source": [
    "d = FragileDict({'key': 5})\n",
    "try:\n",
    "    d['key'] = 6\n",
    "except RuntimeError as e:\n",
    "    print(e)\n",
    "\n",
    "try:\n",
    "    d['ord'] = 7\n",
    "except RuntimeError as e:\n",
    "    print(e)\n",
    "\n",
    "print(d['key'] == 5)\n",
    "print('ord' not in d)"
   ]
  },
  {
   "cell_type": "code",
   "execution_count": 432,
   "metadata": {},
   "outputs": [
    {
     "name": "stdout",
     "output_type": "stream",
     "text": [
      "6\n",
      "True\n",
      "Exception has been suppressed.\n",
      "5\n",
      "True\n"
     ]
    },
    {
     "data": {
      "text/plain": [
       "['__class__',\n",
       " '__contains__',\n",
       " '__delattr__',\n",
       " '__dict__',\n",
       " '__dir__',\n",
       " '__doc__',\n",
       " '__enter__',\n",
       " '__eq__',\n",
       " '__exit__',\n",
       " '__format__',\n",
       " '__ge__',\n",
       " '__getattribute__',\n",
       " '__getitem__',\n",
       " '__gt__',\n",
       " '__hash__',\n",
       " '__init__',\n",
       " '__init_subclass__',\n",
       " '__le__',\n",
       " '__lt__',\n",
       " '__module__',\n",
       " '__ne__',\n",
       " '__new__',\n",
       " '__reduce__',\n",
       " '__reduce_ex__',\n",
       " '__repr__',\n",
       " '__setattr__',\n",
       " '__setitem__',\n",
       " '__sizeof__',\n",
       " '__str__',\n",
       " '__subclasshook__',\n",
       " '__weakref__',\n",
       " '_data',\n",
       " '_lock']"
      ]
     },
     "execution_count": 432,
     "metadata": {},
     "output_type": "execute_result"
    }
   ],
   "source": [
    "d = FragileDict({'key': 5})\n",
    "\n",
    "with d:\n",
    "    d['key'] = 6\n",
    "    print(d['key'])\n",
    "    d['ord'] = 7\n",
    "    print('ord' in d and d['ord'] == 7)\n",
    "    raise Exception()\n",
    "\n",
    "print(d['key'])\n",
    "print('ord' not in d)\n",
    "dir(d)"
   ]
  },
  {
   "cell_type": "code",
   "execution_count": 433,
   "metadata": {},
   "outputs": [
    {
     "name": "stdout",
     "output_type": "stream",
     "text": [
      "[[12, 13], 10, 10, [1, 33], 10, 10]\n",
      "[[12, 13], 10, 10, [1, 33], 10]\n"
     ]
    }
   ],
   "source": [
    "d = FragileDict({'key': [[12,13]]})\n",
    "\n",
    "with d:\n",
    "    a = d['key']\n",
    "    d['key'].append(10)\n",
    "    a.append(10)\n",
    "with d:\n",
    "    a = d['key']\n",
    "    d['key'].append([1,33])\n",
    "    a.append(10)    \n",
    "a.append(10)\n",
    "print(a)\n",
    "print(d['key'])"
   ]
  },
  {
   "cell_type": "code",
   "execution_count": 434,
   "metadata": {},
   "outputs": [
    {
     "data": {
      "text/plain": [
       "['__class__',\n",
       " '__contains__',\n",
       " '__delattr__',\n",
       " '__dict__',\n",
       " '__dir__',\n",
       " '__doc__',\n",
       " '__enter__',\n",
       " '__eq__',\n",
       " '__exit__',\n",
       " '__format__',\n",
       " '__ge__',\n",
       " '__getattribute__',\n",
       " '__getitem__',\n",
       " '__gt__',\n",
       " '__hash__',\n",
       " '__init__',\n",
       " '__init_subclass__',\n",
       " '__le__',\n",
       " '__lt__',\n",
       " '__module__',\n",
       " '__ne__',\n",
       " '__new__',\n",
       " '__reduce__',\n",
       " '__reduce_ex__',\n",
       " '__repr__',\n",
       " '__setattr__',\n",
       " '__setitem__',\n",
       " '__sizeof__',\n",
       " '__str__',\n",
       " '__subclasshook__',\n",
       " '__weakref__',\n",
       " '_data',\n",
       " '_lock']"
      ]
     },
     "execution_count": 434,
     "metadata": {},
     "output_type": "execute_result"
    }
   ],
   "source": [
    "dir(d)"
   ]
  },
  {
   "cell_type": "code",
   "execution_count": null,
   "metadata": {},
   "outputs": [],
   "source": []
  },
  {
   "cell_type": "code",
   "execution_count": null,
   "metadata": {},
   "outputs": [],
   "source": []
  }
 ],
 "metadata": {
  "kernelspec": {
   "display_name": "Python 3",
   "language": "python",
   "name": "python3"
  },
  "language_info": {
   "codemirror_mode": {
    "name": "ipython",
    "version": 3
   },
   "file_extension": ".py",
   "mimetype": "text/x-python",
   "name": "python",
   "nbconvert_exporter": "python",
   "pygments_lexer": "ipython3",
   "version": "3.6.6"
  }
 },
 "nbformat": 4,
 "nbformat_minor": 2
}

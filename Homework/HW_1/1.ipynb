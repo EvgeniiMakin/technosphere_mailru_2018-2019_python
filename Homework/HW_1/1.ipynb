{
 "cells": [
  {
   "cell_type": "code",
   "execution_count": 3,
   "metadata": {},
   "outputs": [
    {
     "name": "stdout",
     "output_type": "stream",
     "text": [
      "5\n",
      "120\n"
     ]
    }
   ],
   "source": [
    "a = int(input())\n",
    "def fact(x):\n",
    "    if x == 0:\n",
    "        return 1\n",
    "    else:\n",
    "        return fact(x-1)*x\n",
    "print(fact(a))"
   ]
  },
  {
   "cell_type": "code",
   "execution_count": 14,
   "metadata": {},
   "outputs": [
    {
     "name": "stdout",
     "output_type": "stream",
     "text": [
      "2000\n",
      "1\n"
     ]
    }
   ],
   "source": [
    "y = int(input())\n",
    "if y % 4 != 0 or (y % 100 == 0 and y % 400 != 0):\n",
    "    print(0)\n",
    "else:\n",
    "    print(1)"
   ]
  },
  {
   "cell_type": "code",
   "execution_count": 10,
   "metadata": {},
   "outputs": [
    {
     "name": "stdout",
     "output_type": "stream",
     "text": [
      "8\n",
      "[2. 0. 0. 0. 0. 0. 0. 0. 0. 3. 0. 0. 0. 0. 0. 0. 0. 0. 4. 0. 0. 0. 0. 0.\n",
      " 0. 0. 0. 1. 0. 0. 0. 0. 0. 0. 0. 0. 0.]\n"
     ]
    }
   ],
   "source": [
    "import numpy as np\n",
    "k = np.array([2, 3, 4, 1, 0])\n",
    "n = int(input())\n",
    "def zeros_insert(k,n):\n",
    "    new = list()\n",
    "    for i in k:\n",
    "        new.append(float(i))\n",
    "        for i in range(n):\n",
    "            new.append(0.)\n",
    "    for i in range(n):\n",
    "        new.pop()\n",
    "    new = np.array(new)    \n",
    "    return new        \n",
    "r = zeros_insert(k, n)\n",
    "print(r)"
   ]
  },
  {
   "cell_type": "code",
   "execution_count": 11,
   "metadata": {},
   "outputs": [
    {
     "name": "stdout",
     "output_type": "stream",
     "text": [
      "[1]\n"
     ]
    }
   ],
   "source": [
    "import pandas as pd\n",
    "s = pd.Series([1,3,2])\n",
    "def peak_finder(s):\n",
    "    result = []\n",
    "    for i in s.index:\n",
    "        if i>0 and i<max(s.index):\n",
    "            if s[i]>s[i-1] and s[i]>s[i+1]:\n",
    "                result.append(i) \n",
    "    result = np.array(result)            \n",
    "    return result            \n",
    "r = peak_finder(s)\n",
    "print(r)"
   ]
  },
  {
   "cell_type": "code",
   "execution_count": 59,
   "metadata": {},
   "outputs": [
    {
     "name": "stdout",
     "output_type": "stream",
     "text": [
      "[[ 1  5 23  4  1]\n",
      " [24  1 15  1  9]\n",
      " [15 11  1  8  7]\n",
      " [ 5  1  8  1  1]\n",
      " [ 1 24  7 20  1]]\n"
     ]
    }
   ],
   "source": [
    "import pandas as pd\n",
    "df = [[16,  5, 23,  4, 20],\n",
    "      [24,  8, 15, 24,  9],\n",
    "      [15, 11,  9,  8,  7],\n",
    "      [ 5, 17,  8, 13,  1],\n",
    "      [12, 24,  7, 20, 13]]\n",
    "df = pd.DataFrame(df)\n",
    "def df_diag_ones(data):\n",
    "    N,M = data.shape\n",
    "    for i in range(N):\n",
    "        for j in range(M):\n",
    "            if i == j or (i+j)==N-1:\n",
    "                data[i][j]=1\n",
    "    return data        \n",
    "df = df_diag_ones(df)\n",
    "print(df.values)"
   ]
  },
  {
   "cell_type": "code",
   "execution_count": null,
   "metadata": {},
   "outputs": [],
   "source": []
  }
 ],
 "metadata": {
  "kernelspec": {
   "display_name": "Python 3",
   "language": "python",
   "name": "python3"
  },
  "language_info": {
   "codemirror_mode": {
    "name": "ipython",
    "version": 3
   },
   "file_extension": ".py",
   "mimetype": "text/x-python",
   "name": "python",
   "nbconvert_exporter": "python",
   "pygments_lexer": "ipython3",
   "version": "3.6.6"
  }
 },
 "nbformat": 4,
 "nbformat_minor": 2
}
